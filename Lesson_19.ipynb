{
  "nbformat": 4,
  "nbformat_minor": 0,
  "metadata": {
    "colab": {
      "name": "Lesson_19.ipynb",
      "provenance": []
    },
    "kernelspec": {
      "name": "python3",
      "display_name": "Python 3"
    },
    "language_info": {
      "name": "python"
    },
    "accelerator": "GPU",
    "gpuClass": "standard"
  },
  "cells": [
    {
      "cell_type": "markdown",
      "source": [
        "## Package"
      ],
      "metadata": {
        "id": "La9z43H8pzPb"
      }
    },
    {
      "cell_type": "code",
      "source": [
        "!pip install fastai -Uqq"
      ],
      "metadata": {
        "colab": {
          "base_uri": "https://localhost:8080/"
        },
        "id": "s5qshUyGp0su",
        "outputId": "1dc19727-f767-4994-b86f-756d1736a742"
      },
      "execution_count": 2,
      "outputs": [
        {
          "output_type": "stream",
          "name": "stdout",
          "text": [
            "\u001b[K     |████████████████████████████████| 213 kB 5.0 MB/s \n",
            "\u001b[K     |████████████████████████████████| 61 kB 9.4 MB/s \n",
            "\u001b[?25h"
          ]
        }
      ]
    },
    {
      "cell_type": "code",
      "source": [
        "from fastai.vision.all import *"
      ],
      "metadata": {
        "id": "16Rm_3xyp2mH"
      },
      "execution_count": 3,
      "outputs": []
    },
    {
      "cell_type": "markdown",
      "source": [
        "## Fastai Learner from Scratch"
      ],
      "metadata": {
        "id": "_20SbARypHCh"
      }
    },
    {
      "cell_type": "markdown",
      "source": [
        "### Data"
      ],
      "metadata": {
        "id": "zizcEQZfpweq"
      }
    },
    {
      "cell_type": "code",
      "execution_count": 4,
      "metadata": {
        "colab": {
          "base_uri": "https://localhost:8080/",
          "height": 37
        },
        "id": "P7XxRpWCohDj",
        "outputId": "0833aba7-bad7-4623-e56e-b639c9d2624b"
      },
      "outputs": [
        {
          "output_type": "display_data",
          "data": {
            "text/plain": [
              "<IPython.core.display.HTML object>"
            ],
            "text/html": [
              "\n",
              "<style>\n",
              "    /* Turns off some styling */\n",
              "    progress {\n",
              "        /* gets rid of default border in Firefox and Opera. */\n",
              "        border: none;\n",
              "        /* Needs to be in here for Safari polyfill so background images work as expected. */\n",
              "        background-size: auto;\n",
              "    }\n",
              "    .progress-bar-interrupted, .progress-bar-interrupted::-webkit-progress-bar {\n",
              "        background: #F44336;\n",
              "    }\n",
              "</style>\n"
            ]
          },
          "metadata": {}
        },
        {
          "output_type": "display_data",
          "data": {
            "text/plain": [
              "<IPython.core.display.HTML object>"
            ],
            "text/html": [
              "\n",
              "    <div>\n",
              "      <progress value='99008512' class='' max='99003388' style='width:300px; height:20px; vertical-align: middle;'></progress>\n",
              "      100.01% [99008512/99003388 00:02<00:00]\n",
              "    </div>\n",
              "    "
            ]
          },
          "metadata": {}
        }
      ],
      "source": [
        "path = untar_data(URLs.IMAGENETTE_160)"
      ]
    },
    {
      "cell_type": "code",
      "source": [
        "t = get_image_files(path)\n",
        "t[0]"
      ],
      "metadata": {
        "colab": {
          "base_uri": "https://localhost:8080/"
        },
        "id": "ZxLvfZEZqC6o",
        "outputId": "9fa3345b-dc5a-44e7-be66-26f62995337a"
      },
      "execution_count": 5,
      "outputs": [
        {
          "output_type": "execute_result",
          "data": {
            "text/plain": [
              "Path('/root/.fastai/data/imagenette2-160/train/n03888257/n03888257_20624.JPEG')"
            ]
          },
          "metadata": {},
          "execution_count": 5
        }
      ]
    },
    {
      "cell_type": "code",
      "source": [
        "from glob import glob\n",
        "\n",
        "files = L(glob(f'{path}/**/*.JPEG', recursive=True)).map(Path)"
      ],
      "metadata": {
        "id": "iB4rNnItqWV0"
      },
      "execution_count": 6,
      "outputs": []
    },
    {
      "cell_type": "code",
      "source": [
        "files[0]"
      ],
      "metadata": {
        "colab": {
          "base_uri": "https://localhost:8080/"
        },
        "id": "Yo2twi79qhfb",
        "outputId": "3a128572-5ca6-4cc9-c72d-57672b4a4313"
      },
      "execution_count": 7,
      "outputs": [
        {
          "output_type": "execute_result",
          "data": {
            "text/plain": [
              "Path('/root/.fastai/data/imagenette2-160/train/n03888257/n03888257_20624.JPEG')"
            ]
          },
          "metadata": {},
          "execution_count": 7
        }
      ]
    },
    {
      "cell_type": "code",
      "source": [
        ""
      ],
      "metadata": {
        "id": "hxZI1RK-qqsb"
      },
      "execution_count": 7,
      "outputs": []
    },
    {
      "cell_type": "code",
      "source": [
        "im = Image.open(files[0])\n",
        "im"
      ],
      "metadata": {
        "colab": {
          "base_uri": "https://localhost:8080/",
          "height": 177
        },
        "id": "UYGwq2WaquX_",
        "outputId": "dd6d0c8f-6663-4adb-a728-77cecffbfc96"
      },
      "execution_count": 8,
      "outputs": [
        {
          "output_type": "execute_result",
          "data": {
            "text/plain": [
              "<PIL.JpegImagePlugin.JpegImageFile image mode=RGB size=213x160 at 0x7F0CE268C110>"
            ],
            "image/png": "[encoded data removed]"
          },
          "metadata": {},
          "execution_count": 8
        }
      ]
    },
    {
      "cell_type": "code",
      "source": [
        "im_t = tensor(im)\n",
        "\n",
        "im_t.shape"
      ],
      "metadata": {
        "colab": {
          "base_uri": "https://localhost:8080/"
        },
        "id": "MvfwmtiTq097",
        "outputId": "c4882885-a529-4970-f51c-754e78773c57"
      },
      "execution_count": 9,
      "outputs": [
        {
          "output_type": "execute_result",
          "data": {
            "text/plain": [
              "torch.Size([160, 213, 3])"
            ]
          },
          "metadata": {},
          "execution_count": 9
        }
      ]
    },
    {
      "cell_type": "code",
      "source": [
        "lbls = files.map(Self.parent.name()).unique() \n",
        "lbls"
      ],
      "metadata": {
        "colab": {
          "base_uri": "https://localhost:8080/"
        },
        "id": "Rs1iLptzq3_J",
        "outputId": "e2ee1297-3860-4b40-d2dc-1e367dab79ee"
      },
      "execution_count": 10,
      "outputs": [
        {
          "output_type": "execute_result",
          "data": {
            "text/plain": [
              "(#10) ['n03888257','n03394916','n01440764','n03000684','n03028079','n02979186','n03417042','n03445777','n03425413','n02102040']"
            ]
          },
          "metadata": {},
          "execution_count": 10
        }
      ]
    },
    {
      "cell_type": "code",
      "source": [
        "v2i = lbls.val2idx()\n",
        "v2i"
      ],
      "metadata": {
        "colab": {
          "base_uri": "https://localhost:8080/"
        },
        "id": "HdEOV-D2rBAt",
        "outputId": "24623d2f-cdad-4531-b817-33e70b0330ef"
      },
      "execution_count": 11,
      "outputs": [
        {
          "output_type": "execute_result",
          "data": {
            "text/plain": [
              "{'n01440764': 2,\n",
              " 'n02102040': 9,\n",
              " 'n02979186': 5,\n",
              " 'n03000684': 3,\n",
              " 'n03028079': 4,\n",
              " 'n03394916': 1,\n",
              " 'n03417042': 6,\n",
              " 'n03425413': 8,\n",
              " 'n03445777': 7,\n",
              " 'n03888257': 0}"
            ]
          },
          "metadata": {},
          "execution_count": 11
        }
      ]
    },
    {
      "cell_type": "code",
      "source": [
        ""
      ],
      "metadata": {
        "id": "YK6UkC1VrBjV"
      },
      "execution_count": 11,
      "outputs": []
    },
    {
      "cell_type": "markdown",
      "source": [
        "#### Dataset"
      ],
      "metadata": {
        "id": "WDOIK0-SraDY"
      }
    },
    {
      "cell_type": "code",
      "source": [
        "class Dataset:\n",
        "\n",
        "  def __init__(self, fns):\n",
        "    self.fns = fns\n",
        "  \n",
        "  def __len__(self):\n",
        "    return len(self.fns)\n",
        "\n",
        "  def __getitem__(self, i):\n",
        "    im = Image.open(self.fns[i]).resize((64, 65)).convert(\"RGB\")\n",
        "    y = v2i[self.fns[i].parent.name]\n",
        "    return tensor(im).float()/255, tensor(y)"
      ],
      "metadata": {
        "id": "Y3o6iEX2ra0_"
      },
      "execution_count": 12,
      "outputs": []
    },
    {
      "cell_type": "code",
      "source": [
        "train_filt = L(o.parent.parent.name=='train' for o in files)\n",
        "train,valid = files[train_filt],files[~train_filt]\n",
        "len(train),len(valid)"
      ],
      "metadata": {
        "colab": {
          "base_uri": "https://localhost:8080/"
        },
        "id": "NGqhLiy1r-Nq",
        "outputId": "0cf784d3-e89c-4f83-dddd-34a6df2daf4c"
      },
      "execution_count": 13,
      "outputs": [
        {
          "output_type": "execute_result",
          "data": {
            "text/plain": [
              "(9469, 3925)"
            ]
          },
          "metadata": {},
          "execution_count": 13
        }
      ]
    },
    {
      "cell_type": "code",
      "source": [
        "train_ds, valid_ds = Dataset(train), Dataset(valid)\n",
        "x,y = train_ds[0]\n",
        "x.shape, y"
      ],
      "metadata": {
        "colab": {
          "base_uri": "https://localhost:8080/"
        },
        "id": "9JAHD_K2sDCT",
        "outputId": "00674a22-92c7-4a65-8226-70825048ddb5"
      },
      "execution_count": 14,
      "outputs": [
        {
          "output_type": "execute_result",
          "data": {
            "text/plain": [
              "(torch.Size([65, 64, 3]), tensor(0))"
            ]
          },
          "metadata": {},
          "execution_count": 14
        }
      ]
    },
    {
      "cell_type": "code",
      "source": [
        "show_image(x, title=lbls[y]);"
      ],
      "metadata": {
        "colab": {
          "base_uri": "https://localhost:8080/",
          "height": 156
        },
        "id": "xvNJGtQMsJQd",
        "outputId": "36066eef-ada2-443a-c5d3-a6182021a400"
      },
      "execution_count": 15,
      "outputs": [
        {
          "output_type": "display_data",
          "data": {
            "text/plain": [
              "<Figure size 144x144 with 1 Axes>"
            ],
            "image/png": "[encoded data removed]"
          },
          "metadata": {
            "needs_background": "light"
          }
        }
      ]
    },
    {
      "cell_type": "code",
      "source": [
        ""
      ],
      "metadata": {
        "id": "6nrGHD1ysSUe"
      },
      "execution_count": 15,
      "outputs": []
    },
    {
      "cell_type": "code",
      "source": [
        "def collate(idxs, ds):\n",
        "  xb, yb = zip(*[ds[i] for i in idxs])\n",
        "  return torch.stack(xb), torch.stack(yb)"
      ],
      "metadata": {
        "id": "YAvy9xEUsUUa"
      },
      "execution_count": 16,
      "outputs": []
    },
    {
      "cell_type": "code",
      "source": [
        "x, y = collate([1,2], train_ds)\n",
        "x.shape, y"
      ],
      "metadata": {
        "colab": {
          "base_uri": "https://localhost:8080/"
        },
        "id": "LHsB-OwTswLA",
        "outputId": "3fd472f2-b2c7-4222-dd5c-25186313067b"
      },
      "execution_count": 17,
      "outputs": [
        {
          "output_type": "execute_result",
          "data": {
            "text/plain": [
              "(torch.Size([2, 65, 64, 3]), tensor([0, 0]))"
            ]
          },
          "metadata": {},
          "execution_count": 17
        }
      ]
    },
    {
      "cell_type": "code",
      "source": [
        ""
      ],
      "metadata": {
        "id": "bYNKHUNQtvtU"
      },
      "execution_count": 17,
      "outputs": []
    },
    {
      "cell_type": "code",
      "source": [
        "class DataLoader:\n",
        "  def __init__(self, ds, bs = 128, shuffle = False, n_workers = 1):\n",
        "    self.ds,self.bs,self.shuffle,self.n_workers = ds,bs,shuffle,n_workers\n",
        "  \n",
        "  def __len__(self): \n",
        "    return (len(self.ds)-1)//self.bs+1\n",
        "\n",
        "  def __iter__(self):\n",
        "    idxs = L.range(self.ds)\n",
        "    if self.shuffle: \n",
        "      idxs = idxs.shuffle()\n",
        "    \n",
        "    chunks = [idxs[n: n+self.bs] for n in range(0, len(self.ds), self.bs)]\n",
        "\n",
        "    with ProcessPoolExecutor(self.n_workers) as ex:\n",
        "            yield from ex.map(collate, chunks, ds=self.ds)"
      ],
      "metadata": {
        "id": "teaOCj5qt3rN"
      },
      "execution_count": 18,
      "outputs": []
    },
    {
      "cell_type": "code",
      "source": [
        "n_workers = min(16, defaults.cpus)\n",
        "train_dl = DataLoader(train_ds, bs=128, shuffle=True, n_workers=n_workers)\n",
        "valid_dl = DataLoader(valid_ds, bs=256, shuffle=False, n_workers=n_workers)\n",
        "xb,yb = first(train_dl)\n",
        "xb.shape,yb.shape,len(train_dl)"
      ],
      "metadata": {
        "colab": {
          "base_uri": "https://localhost:8080/"
        },
        "id": "o6zhHUL-t3oO",
        "outputId": "c2f76b98-79f6-4546-d98d-3d8ee18cac7c"
      },
      "execution_count": 19,
      "outputs": [
        {
          "output_type": "execute_result",
          "data": {
            "text/plain": [
              "(torch.Size([128, 65, 64, 3]), torch.Size([128]), 74)"
            ]
          },
          "metadata": {},
          "execution_count": 19
        }
      ]
    },
    {
      "cell_type": "code",
      "source": [
        "stats = [xb.mean((0,1,2)),xb.std((0,1,2))]\n",
        "stats"
      ],
      "metadata": {
        "colab": {
          "base_uri": "https://localhost:8080/"
        },
        "id": "w4JRQaYDvAlX",
        "outputId": "2c88b5f2-c677-421a-9798-eb1f99136db0"
      },
      "execution_count": 20,
      "outputs": [
        {
          "output_type": "execute_result",
          "data": {
            "text/plain": [
              "[tensor([0.4653, 0.4636, 0.4268]), tensor([0.2764, 0.2742, 0.2985])]"
            ]
          },
          "metadata": {},
          "execution_count": 20
        }
      ]
    },
    {
      "cell_type": "code",
      "source": [
        ""
      ],
      "metadata": {
        "id": "FIOoHy6avQF2"
      },
      "execution_count": 20,
      "outputs": []
    },
    {
      "cell_type": "code",
      "source": [
        "class Normalize:\n",
        "    def __init__(self, stats): self.stats=stats\n",
        "    def __call__(self, x):\n",
        "        if x.device != self.stats[0].device:\n",
        "            self.stats = to_device(self.stats, x.device)\n",
        "        return (x-self.stats[0])/self.stats[1]"
      ],
      "metadata": {
        "id": "vtGfw5icvX7i"
      },
      "execution_count": 21,
      "outputs": []
    },
    {
      "cell_type": "code",
      "source": [
        "norm = Normalize(stats)\n",
        "def tfm_x(x): return norm(x).permute((0,3,1,2))"
      ],
      "metadata": {
        "id": "08uHQ5NovrEq"
      },
      "execution_count": 22,
      "outputs": []
    },
    {
      "cell_type": "code",
      "source": [
        "t = tfm_x(x)\n",
        "t.mean((0,2,3)),t.std((0,2,3))"
      ],
      "metadata": {
        "colab": {
          "base_uri": "https://localhost:8080/"
        },
        "id": "YeDzG7YVvs1Y",
        "outputId": "0749a533-0d57-4c33-969d-b77f4557af62"
      },
      "execution_count": 23,
      "outputs": [
        {
          "output_type": "execute_result",
          "data": {
            "text/plain": [
              "(tensor([0.7462, 0.6475, 0.6818]), tensor([0.7935, 0.8622, 0.8804]))"
            ]
          },
          "metadata": {},
          "execution_count": 23
        }
      ]
    },
    {
      "cell_type": "code",
      "source": [
        ""
      ],
      "metadata": {
        "id": "2ayxiFr5vuT3"
      },
      "execution_count": 23,
      "outputs": []
    },
    {
      "cell_type": "markdown",
      "source": [
        "### Module and Parameter"
      ],
      "metadata": {
        "id": "ijOX__L9v4Tp"
      }
    },
    {
      "cell_type": "code",
      "source": [
        "class Parameter(Tensor):\n",
        "    def __new__(self, x): return Tensor._make_subclass(Parameter, x, True)\n",
        "    def __init__(self, *args, **kwargs): self.requires_grad_()"
      ],
      "metadata": {
        "id": "pzqPqEA_v58W"
      },
      "execution_count": 24,
      "outputs": []
    },
    {
      "cell_type": "code",
      "source": [
        "Parameter(tensor(3.))"
      ],
      "metadata": {
        "colab": {
          "base_uri": "https://localhost:8080/"
        },
        "id": "4AUV4mFAwVuW",
        "outputId": "b26fe3f6-78a8-4ac3-d302-6b7ad1e4e9ff"
      },
      "execution_count": 25,
      "outputs": [
        {
          "output_type": "execute_result",
          "data": {
            "text/plain": [
              "tensor(3., requires_grad=True)"
            ]
          },
          "metadata": {},
          "execution_count": 25
        }
      ]
    },
    {
      "cell_type": "code",
      "source": [
        "class Module:\n",
        "    def __init__(self):\n",
        "        self.hook,self.params,self.children,self._training = None,[],[],False\n",
        "        \n",
        "    def register_parameters(self, *ps): self.params += ps\n",
        "    def register_modules   (self, *ms): self.children += ms\n",
        "        \n",
        "    @property\n",
        "    def training(self): return self._training\n",
        "    @training.setter\n",
        "    def training(self,v):\n",
        "        self._training = v\n",
        "        for m in self.children: m.training=v\n",
        "            \n",
        "    def parameters(self):\n",
        "        return self.params + sum([m.parameters() for m in self.children], [])\n",
        "\n",
        "    def __setattr__(self,k,v):\n",
        "        super().__setattr__(k,v)\n",
        "        if isinstance(v,Parameter): self.register_parameters(v)\n",
        "        if isinstance(v,Module):    self.register_modules(v)\n",
        "        \n",
        "    def __call__(self, *args, **kwargs):\n",
        "        res = self.forward(*args, **kwargs)\n",
        "        if self.hook is not None: self.hook(res, args)\n",
        "        return res\n",
        "    \n",
        "    def cuda(self):\n",
        "        for p in self.parameters(): p.data = p.data.cuda()"
      ],
      "metadata": {
        "id": "JzSRB2-twcIp"
      },
      "execution_count": 26,
      "outputs": []
    },
    {
      "cell_type": "code",
      "source": [
        "class ConvLayer(Module):\n",
        "    def __init__(self, ni, nf, stride=1, bias=True, act=True):\n",
        "        super().__init__()\n",
        "        self.w = Parameter(torch.zeros(nf,ni,3,3))\n",
        "        self.b = Parameter(torch.zeros(nf)) if bias else None\n",
        "        self.act,self.stride = act,stride\n",
        "        init = nn.init.kaiming_normal_ if act else nn.init.xavier_normal_\n",
        "        init(self.w)\n",
        "    \n",
        "    def forward(self, x):\n",
        "        x = F.conv2d(x, self.w, self.b, stride=self.stride, padding=1)\n",
        "        if self.act: x = F.relu(x)\n",
        "        return x"
      ],
      "metadata": {
        "id": "m17eR7eUw2h3"
      },
      "execution_count": 27,
      "outputs": []
    },
    {
      "cell_type": "code",
      "source": [
        "l = ConvLayer(3, 4)\n",
        "len(l.parameters())"
      ],
      "metadata": {
        "colab": {
          "base_uri": "https://localhost:8080/"
        },
        "id": "K9H_qBNwxQDC",
        "outputId": "1e0dcb29-bc57-43ca-d7fd-a8c727502a39"
      },
      "execution_count": 28,
      "outputs": [
        {
          "output_type": "execute_result",
          "data": {
            "text/plain": [
              "2"
            ]
          },
          "metadata": {},
          "execution_count": 28
        }
      ]
    },
    {
      "cell_type": "code",
      "source": [
        "xbt = tfm_x(xb)\n",
        "r = l(xbt)\n",
        "r.shape"
      ],
      "metadata": {
        "colab": {
          "base_uri": "https://localhost:8080/"
        },
        "id": "ZRdW2ulCxciC",
        "outputId": "9f3c99da-012c-4b7a-b301-e9dbef9d3a84"
      },
      "execution_count": 29,
      "outputs": [
        {
          "output_type": "execute_result",
          "data": {
            "text/plain": [
              "torch.Size([128, 4, 65, 64])"
            ]
          },
          "metadata": {},
          "execution_count": 29
        }
      ]
    },
    {
      "cell_type": "code",
      "source": [
        "class Linear(Module):\n",
        "    def __init__(self, ni, nf):\n",
        "        super().__init__()\n",
        "        self.w = Parameter(torch.zeros(nf,ni))\n",
        "        self.b = Parameter(torch.zeros(nf))\n",
        "        nn.init.xavier_normal_(self.w)\n",
        "    \n",
        "    def forward(self, x): return x@self.w.t() + self.b"
      ],
      "metadata": {
        "id": "b9-G2MPtxiDi"
      },
      "execution_count": 30,
      "outputs": []
    },
    {
      "cell_type": "code",
      "source": [
        "l = Linear(4,2)\n",
        "r = l(torch.ones(3,4))\n",
        "r.shape"
      ],
      "metadata": {
        "colab": {
          "base_uri": "https://localhost:8080/"
        },
        "id": "M-3yAIJIxj9L",
        "outputId": "65520cef-095e-4525-ade2-72c66735321e"
      },
      "execution_count": 31,
      "outputs": [
        {
          "output_type": "execute_result",
          "data": {
            "text/plain": [
              "torch.Size([3, 2])"
            ]
          },
          "metadata": {},
          "execution_count": 31
        }
      ]
    },
    {
      "cell_type": "code",
      "source": [
        "class T(Module):\n",
        "    def __init__(self):\n",
        "        super().__init__()\n",
        "        self.c,self.l = ConvLayer(3,4),Linear(4,2)"
      ],
      "metadata": {
        "id": "Ikhw3DMYxqCx"
      },
      "execution_count": 32,
      "outputs": []
    },
    {
      "cell_type": "code",
      "source": [
        "t = T()\n",
        "len(t.parameters())"
      ],
      "metadata": {
        "colab": {
          "base_uri": "https://localhost:8080/"
        },
        "id": "0ewRRlWqx5cv",
        "outputId": "20fdbda2-c1e5-4f64-f823-f34537c2ac65"
      },
      "execution_count": 33,
      "outputs": [
        {
          "output_type": "execute_result",
          "data": {
            "text/plain": [
              "4"
            ]
          },
          "metadata": {},
          "execution_count": 33
        }
      ]
    },
    {
      "cell_type": "code",
      "source": [
        "t.cuda()\n",
        "t.l.w.device"
      ],
      "metadata": {
        "colab": {
          "base_uri": "https://localhost:8080/"
        },
        "id": "q9xeauj9x6fO",
        "outputId": "5ce76eaf-0701-4b6a-f866-9249ce5a4517"
      },
      "execution_count": 34,
      "outputs": [
        {
          "output_type": "execute_result",
          "data": {
            "text/plain": [
              "device(type='cuda', index=0)"
            ]
          },
          "metadata": {},
          "execution_count": 34
        }
      ]
    },
    {
      "cell_type": "code",
      "source": [
        ""
      ],
      "metadata": {
        "id": "H-fmTixxx7eF"
      },
      "execution_count": 34,
      "outputs": []
    },
    {
      "cell_type": "markdown",
      "source": [
        "### Simple CNN"
      ],
      "metadata": {
        "id": "W02C6Xvjx9gO"
      }
    },
    {
      "cell_type": "code",
      "source": [
        "class Sequential(Module):\n",
        "    def __init__(self, *layers):\n",
        "        super().__init__()\n",
        "        self.layers = layers\n",
        "        self.register_modules(*layers)\n",
        "\n",
        "    def forward(self, x):\n",
        "        for l in self.layers: x = l(x)\n",
        "        return x"
      ],
      "metadata": {
        "id": "YrF3k2Gox-rU"
      },
      "execution_count": 35,
      "outputs": []
    },
    {
      "cell_type": "code",
      "source": [
        "class AdaptivePool(Module):\n",
        "    def forward(self, x): return x.mean((2,3))"
      ],
      "metadata": {
        "id": "nmuuIsodyN-s"
      },
      "execution_count": 36,
      "outputs": []
    },
    {
      "cell_type": "code",
      "source": [
        "def simple_cnn():\n",
        "    return Sequential(\n",
        "        ConvLayer(3 ,16 ,stride=2), #32\n",
        "        ConvLayer(16,32 ,stride=2), #16\n",
        "        ConvLayer(32,64 ,stride=2), # 8\n",
        "        ConvLayer(64,128,stride=2), # 4\n",
        "        AdaptivePool(),\n",
        "        Linear(128, 10)\n",
        "    )"
      ],
      "metadata": {
        "id": "dhKW_aL9yUnF"
      },
      "execution_count": 37,
      "outputs": []
    },
    {
      "cell_type": "code",
      "source": [
        "m = simple_cnn()\n",
        "len(m.parameters())"
      ],
      "metadata": {
        "colab": {
          "base_uri": "https://localhost:8080/"
        },
        "id": "wvkpJBFmyW9P",
        "outputId": "5630b0b9-a634-43e2-8d7c-ef1191ff9a19"
      },
      "execution_count": 38,
      "outputs": [
        {
          "output_type": "execute_result",
          "data": {
            "text/plain": [
              "10"
            ]
          },
          "metadata": {},
          "execution_count": 38
        }
      ]
    },
    {
      "cell_type": "code",
      "source": [
        "def print_stats(outp, inp): print (outp.mean().item(),outp.std().item())\n",
        "for i in range(4): m.layers[i].hook = print_stats\n",
        "\n",
        "r = m(xbt)\n",
        "r.shape"
      ],
      "metadata": {
        "colab": {
          "base_uri": "https://localhost:8080/"
        },
        "id": "sThTV6NXyZPg",
        "outputId": "36c2fa71-3b2e-4f10-9f29-9c5eeb57baa2"
      },
      "execution_count": 39,
      "outputs": [
        {
          "output_type": "stream",
          "name": "stdout",
          "text": [
            "0.4921799898147583 0.733376681804657\n",
            "0.40948614478111267 0.7211884260177612\n",
            "0.36077043414115906 0.6135347485542297\n",
            "0.271162748336792 0.4825935363769531\n"
          ]
        },
        {
          "output_type": "execute_result",
          "data": {
            "text/plain": [
              "torch.Size([128, 10])"
            ]
          },
          "metadata": {},
          "execution_count": 39
        }
      ]
    },
    {
      "cell_type": "code",
      "source": [
        ""
      ],
      "metadata": {
        "id": "ivfRTejqytpK"
      },
      "execution_count": 39,
      "outputs": []
    },
    {
      "cell_type": "markdown",
      "source": [
        "### Loss"
      ],
      "metadata": {
        "id": "a23VXVKXy-YL"
      }
    },
    {
      "cell_type": "code",
      "source": [
        "def nll(input, target): \n",
        "  return -input[range(target.shape[0]), target].mean()"
      ],
      "metadata": {
        "id": "2aYm1RIwy_aL"
      },
      "execution_count": 40,
      "outputs": []
    },
    {
      "cell_type": "code",
      "source": [
        "def log_softmax(x): \n",
        "  return (x.exp()/(x.exp().sum(-1,keepdim=True))).log()\n",
        "\n",
        "sm = log_softmax(r); sm[0][0]"
      ],
      "metadata": {
        "colab": {
          "base_uri": "https://localhost:8080/"
        },
        "id": "I8HfbcANzKXr",
        "outputId": "0ceb7ef4-034f-474a-f635-03241f64459f"
      },
      "execution_count": 41,
      "outputs": [
        {
          "output_type": "execute_result",
          "data": {
            "text/plain": [
              "tensor(-3.7084, grad_fn=<AliasBackward0>)"
            ]
          },
          "metadata": {},
          "execution_count": 41
        }
      ]
    },
    {
      "cell_type": "code",
      "source": [
        "loss = nll(sm, yb)\n",
        "loss"
      ],
      "metadata": {
        "colab": {
          "base_uri": "https://localhost:8080/"
        },
        "id": "9ZL6fUWhzx01",
        "outputId": "d13f7a6f-28a6-432f-8f6f-8b45acc1fc88"
      },
      "execution_count": 42,
      "outputs": [
        {
          "output_type": "execute_result",
          "data": {
            "text/plain": [
              "tensor(2.4400, grad_fn=<AliasBackward0>)"
            ]
          },
          "metadata": {},
          "execution_count": 42
        }
      ]
    },
    {
      "cell_type": "code",
      "source": [
        "def log_softmax(x): return x - x.exp().sum(-1,keepdim=True).log()\n",
        "sm = log_softmax(r); sm[0][0]"
      ],
      "metadata": {
        "colab": {
          "base_uri": "https://localhost:8080/"
        },
        "id": "68JmV2w3z66y",
        "outputId": "ec0bae81-a282-44ec-dd24-60780304a029"
      },
      "execution_count": 43,
      "outputs": [
        {
          "output_type": "execute_result",
          "data": {
            "text/plain": [
              "tensor(-3.7084, grad_fn=<AliasBackward0>)"
            ]
          },
          "metadata": {},
          "execution_count": 43
        }
      ]
    },
    {
      "cell_type": "code",
      "source": [
        "x = torch.rand(5)\n",
        "a = x.max()\n",
        "x.exp().sum().log() == a + (x-a).exp().sum().log()"
      ],
      "metadata": {
        "colab": {
          "base_uri": "https://localhost:8080/"
        },
        "id": "N51GO4UY0HWW",
        "outputId": "d986ea6d-98c5-41b5-b594-74a7e219b46a"
      },
      "execution_count": 44,
      "outputs": [
        {
          "output_type": "execute_result",
          "data": {
            "text/plain": [
              "tensor(True)"
            ]
          },
          "metadata": {},
          "execution_count": 44
        }
      ]
    },
    {
      "cell_type": "code",
      "source": [
        "def logsumexp(x):\n",
        "    m = x.max(-1)[0]\n",
        "    return m + (x-m[:,None]).exp().sum(-1).log()\n",
        "\n",
        "logsumexp(r)[0]"
      ],
      "metadata": {
        "colab": {
          "base_uri": "https://localhost:8080/"
        },
        "id": "Nk3QoQ3x0Kzj",
        "outputId": "85c25ee1-d3b1-4de3-8da9-0ecc1ed7c9cb"
      },
      "execution_count": 45,
      "outputs": [
        {
          "output_type": "execute_result",
          "data": {
            "text/plain": [
              "tensor(2.3323, grad_fn=<AliasBackward0>)"
            ]
          },
          "metadata": {},
          "execution_count": 45
        }
      ]
    },
    {
      "cell_type": "code",
      "source": [
        "def log_softmax(x): return x - x.logsumexp(-1,keepdim=True)"
      ],
      "metadata": {
        "id": "hZE5TA4r0L3g"
      },
      "execution_count": 46,
      "outputs": []
    },
    {
      "cell_type": "code",
      "source": [
        "sm = log_softmax(r); sm[0][0]"
      ],
      "metadata": {
        "colab": {
          "base_uri": "https://localhost:8080/"
        },
        "id": "WM664GTM0N6V",
        "outputId": "c4374693-f0ec-4cac-8287-6480145026aa"
      },
      "execution_count": 47,
      "outputs": [
        {
          "output_type": "execute_result",
          "data": {
            "text/plain": [
              "tensor(-3.7084, grad_fn=<AliasBackward0>)"
            ]
          },
          "metadata": {},
          "execution_count": 47
        }
      ]
    },
    {
      "cell_type": "code",
      "source": [
        "def cross_entropy(preds, yb): return nll(log_softmax(preds), yb).mean()"
      ],
      "metadata": {
        "id": "YZUl6GGm0O8v"
      },
      "execution_count": 48,
      "outputs": []
    },
    {
      "cell_type": "code",
      "source": [
        ""
      ],
      "metadata": {
        "id": "0tH1uFnP0RDg"
      },
      "execution_count": 48,
      "outputs": []
    },
    {
      "cell_type": "markdown",
      "source": [
        "### Learner"
      ],
      "metadata": {
        "id": "xE_vAL890Riw"
      }
    },
    {
      "cell_type": "code",
      "source": [
        "class SGD:\n",
        "    def __init__(self, params, lr, wd=0.): store_attr()\n",
        "    def step(self):\n",
        "        for p in self.params:\n",
        "            p.data -= (p.grad.data + p.data*self.wd) * self.lr\n",
        "            p.grad.data.zero_()"
      ],
      "metadata": {
        "id": "gw3xuywR0SQc"
      },
      "execution_count": 55,
      "outputs": []
    },
    {
      "cell_type": "code",
      "source": [
        "class DataLoaders:\n",
        "    def __init__(self, *dls): self.train,self.valid = dls\n",
        "\n",
        "dls = DataLoaders(train_dl,valid_dl)"
      ],
      "metadata": {
        "id": "pmzz764L0UnR"
      },
      "execution_count": 56,
      "outputs": []
    },
    {
      "cell_type": "code",
      "source": [
        "class Learner:\n",
        "    def __init__(self, model, dls, loss_func, lr, cbs, opt_func=SGD):\n",
        "        store_attr()\n",
        "        for cb in cbs: cb.learner = self\n",
        "\n",
        "    def one_batch(self):\n",
        "        self('before_batch')\n",
        "        xb,yb = self.batch\n",
        "        self.preds = self.model(xb)\n",
        "        self.loss = self.loss_func(self.preds, yb)\n",
        "        if self.model.training:\n",
        "            self.loss.backward()\n",
        "            self.opt.step()\n",
        "        self('after_batch')\n",
        "\n",
        "    def one_epoch(self, train):\n",
        "        self.model.training = train\n",
        "        self('before_epoch')\n",
        "        dl = self.dls.train if train else self.dls.valid\n",
        "        for self.num,self.batch in enumerate(progress_bar(dl, leave=False)):\n",
        "            self.one_batch()\n",
        "        self('after_epoch')\n",
        "    \n",
        "    def fit(self, n_epochs):\n",
        "        self('before_fit')\n",
        "        self.opt = self.opt_func(self.model.parameters(), self.lr)\n",
        "        self.n_epochs = n_epochs\n",
        "        try:\n",
        "            for self.epoch in range(n_epochs):\n",
        "                self.one_epoch(True)\n",
        "                self.one_epoch(False)\n",
        "        except CancelFitException: pass\n",
        "        self('after_fit')\n",
        "        \n",
        "    def __call__(self,name):\n",
        "        for cb in self.cbs: getattr(cb,name,noop)()"
      ],
      "metadata": {
        "id": "Ia8eWySI0ZGz"
      },
      "execution_count": 57,
      "outputs": []
    },
    {
      "cell_type": "markdown",
      "source": [
        "### Callbacks"
      ],
      "metadata": {
        "id": "7znIAiStyFwR"
      }
    },
    {
      "cell_type": "code",
      "source": [
        "class Callback(GetAttr): _default='learner'"
      ],
      "metadata": {
        "id": "h5MYJLMhyG7X"
      },
      "execution_count": 58,
      "outputs": []
    },
    {
      "cell_type": "code",
      "source": [
        "class SetupLearnerCB(Callback):\n",
        "    def before_batch(self):\n",
        "        xb,yb = to_device(self.batch)\n",
        "        self.learner.batch = tfm_x(xb),yb\n",
        "\n",
        "    def before_fit(self): self.model.cuda()"
      ],
      "metadata": {
        "id": "kNpvIfT-yspa"
      },
      "execution_count": 59,
      "outputs": []
    },
    {
      "cell_type": "code",
      "source": [
        "class TrackResults(Callback):\n",
        "    def before_epoch(self): self.accs,self.losses,self.ns = [],[],[]\n",
        "        \n",
        "    def after_epoch(self):\n",
        "        n = sum(self.ns)\n",
        "        print(self.epoch, self.model.training,\n",
        "              sum(self.losses).item()/n, sum(self.accs).item()/n)\n",
        "        \n",
        "    def after_batch(self):\n",
        "        xb,yb = self.batch\n",
        "        acc = (self.preds.argmax(dim=1)==yb).float().sum()\n",
        "        self.accs.append(acc)\n",
        "        n = len(xb)\n",
        "        self.losses.append(self.loss*n)\n",
        "        self.ns.append(n)"
      ],
      "metadata": {
        "id": "K5Zc8U61zEi_"
      },
      "execution_count": 60,
      "outputs": []
    },
    {
      "cell_type": "code",
      "source": [
        "cbs = [SetupLearnerCB(),TrackResults()]\n",
        "learn = Learner(simple_cnn(), dls, cross_entropy, lr=0.1, cbs=cbs)\n",
        "learn.fit(1)"
      ],
      "metadata": {
        "colab": {
          "base_uri": "https://localhost:8080/",
          "height": 53
        },
        "id": "8Ro3XO3Wzbj0",
        "outputId": "64712650-bd57-4001-9378-d0769fc06f17"
      },
      "execution_count": 62,
      "outputs": [
        {
          "output_type": "display_data",
          "data": {
            "text/plain": [
              "<IPython.core.display.HTML object>"
            ],
            "text/html": [
              "\n",
              "<style>\n",
              "    /* Turns off some styling */\n",
              "    progress {\n",
              "        /* gets rid of default border in Firefox and Opera. */\n",
              "        border: none;\n",
              "        /* Needs to be in here for Safari polyfill so background images work as expected. */\n",
              "        background-size: auto;\n",
              "    }\n",
              "    .progress-bar-interrupted, .progress-bar-interrupted::-webkit-progress-bar {\n",
              "        background: #F44336;\n",
              "    }\n",
              "</style>\n"
            ]
          },
          "metadata": {}
        },
        {
          "output_type": "display_data",
          "data": {
            "text/plain": [
              "<IPython.core.display.HTML object>"
            ],
            "text/html": [
              ""
            ]
          },
          "metadata": {}
        },
        {
          "output_type": "stream",
          "name": "stdout",
          "text": [
            "0 True 2.1425863756072445 0.22547259478297602\n"
          ]
        },
        {
          "output_type": "display_data",
          "data": {
            "text/plain": [
              "<IPython.core.display.HTML object>"
            ],
            "text/html": [
              "\n",
              "<style>\n",
              "    /* Turns off some styling */\n",
              "    progress {\n",
              "        /* gets rid of default border in Firefox and Opera. */\n",
              "        border: none;\n",
              "        /* Needs to be in here for Safari polyfill so background images work as expected. */\n",
              "        background-size: auto;\n",
              "    }\n",
              "    .progress-bar-interrupted, .progress-bar-interrupted::-webkit-progress-bar {\n",
              "        background: #F44336;\n",
              "    }\n",
              "</style>\n"
            ]
          },
          "metadata": {}
        },
        {
          "output_type": "display_data",
          "data": {
            "text/plain": [
              "<IPython.core.display.HTML object>"
            ],
            "text/html": [
              ""
            ]
          },
          "metadata": {}
        },
        {
          "output_type": "stream",
          "name": "stdout",
          "text": [
            "0 False 2.0733057573646496 0.24254777070063693\n"
          ]
        }
      ]
    },
    {
      "cell_type": "code",
      "source": [
        "class LRFinder(Callback):\n",
        "    def before_fit(self):\n",
        "        self.losses,self.lrs = [],[]\n",
        "        self.learner.lr = 1e-6\n",
        "        \n",
        "    def before_batch(self):\n",
        "        if not self.model.training: return\n",
        "        self.opt.lr *= 1.2\n",
        "\n",
        "    def after_batch(self):\n",
        "        if not self.model.training: return\n",
        "        if self.opt.lr>10 or torch.isnan(self.loss): raise CancelFitException\n",
        "        self.losses.append(self.loss.item())\n",
        "        self.lrs.append(self.opt.lr)"
      ],
      "metadata": {
        "id": "dxjUcKbOzcsK"
      },
      "execution_count": 63,
      "outputs": []
    },
    {
      "cell_type": "code",
      "source": [
        "lrfind = LRFinder()\n",
        "learn = Learner(simple_cnn(), dls, cross_entropy, lr=0.1, cbs=cbs+[lrfind])\n",
        "learn.fit(2)"
      ],
      "metadata": {
        "colab": {
          "base_uri": "https://localhost:8080/",
          "height": 73
        },
        "id": "Il3XFb7_0OVf",
        "outputId": "d6110d29-0b40-436d-bd23-6e9fbcaa7401"
      },
      "execution_count": 64,
      "outputs": [
        {
          "output_type": "display_data",
          "data": {
            "text/plain": [
              "<IPython.core.display.HTML object>"
            ],
            "text/html": [
              "\n",
              "<style>\n",
              "    /* Turns off some styling */\n",
              "    progress {\n",
              "        /* gets rid of default border in Firefox and Opera. */\n",
              "        border: none;\n",
              "        /* Needs to be in here for Safari polyfill so background images work as expected. */\n",
              "        background-size: auto;\n",
              "    }\n",
              "    .progress-bar-interrupted, .progress-bar-interrupted::-webkit-progress-bar {\n",
              "        background: #F44336;\n",
              "    }\n",
              "</style>\n"
            ]
          },
          "metadata": {}
        },
        {
          "output_type": "display_data",
          "data": {
            "text/plain": [
              "<IPython.core.display.HTML object>"
            ],
            "text/html": [
              ""
            ]
          },
          "metadata": {}
        },
        {
          "output_type": "stream",
          "name": "stdout",
          "text": [
            "0 True 2.5238265161315874 0.12218819305100856\n"
          ]
        },
        {
          "output_type": "display_data",
          "data": {
            "text/plain": [
              "<IPython.core.display.HTML object>"
            ],
            "text/html": [
              "\n",
              "<style>\n",
              "    /* Turns off some styling */\n",
              "    progress {\n",
              "        /* gets rid of default border in Firefox and Opera. */\n",
              "        border: none;\n",
              "        /* Needs to be in here for Safari polyfill so background images work as expected. */\n",
              "        background-size: auto;\n",
              "    }\n",
              "    .progress-bar-interrupted, .progress-bar-interrupted::-webkit-progress-bar {\n",
              "        background: #F44336;\n",
              "    }\n",
              "</style>\n"
            ]
          },
          "metadata": {}
        },
        {
          "output_type": "display_data",
          "data": {
            "text/plain": [
              "<IPython.core.display.HTML object>"
            ],
            "text/html": [
              ""
            ]
          },
          "metadata": {}
        },
        {
          "output_type": "stream",
          "name": "stdout",
          "text": [
            "0 False 2.286599820859873 0.13936305732484078\n"
          ]
        },
        {
          "output_type": "display_data",
          "data": {
            "text/plain": [
              "<IPython.core.display.HTML object>"
            ],
            "text/html": [
              "\n",
              "<style>\n",
              "    /* Turns off some styling */\n",
              "    progress {\n",
              "        /* gets rid of default border in Firefox and Opera. */\n",
              "        border: none;\n",
              "        /* Needs to be in here for Safari polyfill so background images work as expected. */\n",
              "        background-size: auto;\n",
              "    }\n",
              "    .progress-bar-interrupted, .progress-bar-interrupted::-webkit-progress-bar {\n",
              "        background: #F44336;\n",
              "    }\n",
              "</style>\n"
            ]
          },
          "metadata": {}
        },
        {
          "output_type": "display_data",
          "data": {
            "text/plain": [
              "<IPython.core.display.HTML object>"
            ],
            "text/html": [
              "\n",
              "    <div>\n",
              "      <progress value='14' class='' max='74' style='width:300px; height:20px; vertical-align: middle;'></progress>\n",
              "      18.92% [14/74 00:04<00:17]\n",
              "    </div>\n",
              "    "
            ]
          },
          "metadata": {}
        }
      ]
    },
    {
      "cell_type": "code",
      "source": [
        "plt.plot(lrfind.lrs[:-2],lrfind.losses[:-2])\n",
        "plt.xscale('log')"
      ],
      "metadata": {
        "colab": {
          "base_uri": "https://localhost:8080/",
          "height": 269
        },
        "id": "Cxt7_BZF0Pr3",
        "outputId": "c7e9604d-5591-414f-f5cd-4058f3c156b0"
      },
      "execution_count": 65,
      "outputs": [
        {
          "output_type": "display_data",
          "data": {
            "text/plain": [
              "<Figure size 432x288 with 1 Axes>"
            ],
            "image/png": "[encoded data removed]"
          },
          "metadata": {
            "needs_background": "light"
          }
        }
      ]
    },
    {
      "cell_type": "code",
      "source": [
        "class OneCycle(Callback):\n",
        "    def __init__(self, base_lr): self.base_lr = base_lr\n",
        "    def before_fit(self): self.lrs = []\n",
        "\n",
        "    def before_batch(self):\n",
        "        if not self.model.training: return\n",
        "        n = len(self.dls.train)\n",
        "        bn = self.epoch*n + self.num\n",
        "        mn = self.n_epochs*n\n",
        "        pct = bn/mn\n",
        "        pct_start,div_start = 0.25,10\n",
        "        if pct<pct_start:\n",
        "            pct /= pct_start\n",
        "            lr = (1-pct)*self.base_lr/div_start + pct*self.base_lr\n",
        "        else:\n",
        "            pct = (pct-pct_start)/(1-pct_start)\n",
        "            lr = (1-pct)*self.base_lr\n",
        "        self.opt.lr = lr\n",
        "        self.lrs.append(lr)"
      ],
      "metadata": {
        "id": "WfkaoX0m0Y_i"
      },
      "execution_count": 66,
      "outputs": []
    },
    {
      "cell_type": "code",
      "source": [
        "onecyc = OneCycle(0.1)\n",
        "learn = Learner(simple_cnn(), dls, cross_entropy, lr=0.1, cbs=cbs+[onecyc])"
      ],
      "metadata": {
        "id": "ZG892EPk0c4R"
      },
      "execution_count": 67,
      "outputs": []
    },
    {
      "cell_type": "code",
      "source": [
        "#hide_output\n",
        "learn.fit(8)"
      ],
      "metadata": {
        "colab": {
          "base_uri": "https://localhost:8080/",
          "height": 307
        },
        "id": "aCcc3pNC0fHS",
        "outputId": "721150f7-1ecb-477f-d9cd-b08dbe6a5906"
      },
      "execution_count": 68,
      "outputs": [
        {
          "output_type": "display_data",
          "data": {
            "text/plain": [
              "<IPython.core.display.HTML object>"
            ],
            "text/html": [
              "\n",
              "<style>\n",
              "    /* Turns off some styling */\n",
              "    progress {\n",
              "        /* gets rid of default border in Firefox and Opera. */\n",
              "        border: none;\n",
              "        /* Needs to be in here for Safari polyfill so background images work as expected. */\n",
              "        background-size: auto;\n",
              "    }\n",
              "    .progress-bar-interrupted, .progress-bar-interrupted::-webkit-progress-bar {\n",
              "        background: #F44336;\n",
              "    }\n",
              "</style>\n"
            ]
          },
          "metadata": {}
        },
        {
          "output_type": "display_data",
          "data": {
            "text/plain": [
              "<IPython.core.display.HTML object>"
            ],
            "text/html": [
              ""
            ]
          },
          "metadata": {}
        },
        {
          "output_type": "stream",
          "name": "stdout",
          "text": [
            "0 True 2.2213031504118703 0.17953321364452424\n"
          ]
        },
        {
          "output_type": "display_data",
          "data": {
            "text/plain": [
              "<IPython.core.display.HTML object>"
            ],
            "text/html": [
              "\n",
              "<style>\n",
              "    /* Turns off some styling */\n",
              "    progress {\n",
              "        /* gets rid of default border in Firefox and Opera. */\n",
              "        border: none;\n",
              "        /* Needs to be in here for Safari polyfill so background images work as expected. */\n",
              "        background-size: auto;\n",
              "    }\n",
              "    .progress-bar-interrupted, .progress-bar-interrupted::-webkit-progress-bar {\n",
              "        background: #F44336;\n",
              "    }\n",
              "</style>\n"
            ]
          },
          "metadata": {}
        },
        {
          "output_type": "display_data",
          "data": {
            "text/plain": [
              "<IPython.core.display.HTML object>"
            ],
            "text/html": [
              ""
            ]
          },
          "metadata": {}
        },
        {
          "output_type": "stream",
          "name": "stdout",
          "text": [
            "0 False 2.1172079020700636 0.2129936305732484\n"
          ]
        },
        {
          "output_type": "display_data",
          "data": {
            "text/plain": [
              "<IPython.core.display.HTML object>"
            ],
            "text/html": [
              "\n",
              "<style>\n",
              "    /* Turns off some styling */\n",
              "    progress {\n",
              "        /* gets rid of default border in Firefox and Opera. */\n",
              "        border: none;\n",
              "        /* Needs to be in here for Safari polyfill so background images work as expected. */\n",
              "        background-size: auto;\n",
              "    }\n",
              "    .progress-bar-interrupted, .progress-bar-interrupted::-webkit-progress-bar {\n",
              "        background: #F44336;\n",
              "    }\n",
              "</style>\n"
            ]
          },
          "metadata": {}
        },
        {
          "output_type": "display_data",
          "data": {
            "text/plain": [
              "<IPython.core.display.HTML object>"
            ],
            "text/html": [
              ""
            ]
          },
          "metadata": {}
        },
        {
          "output_type": "stream",
          "name": "stdout",
          "text": [
            "1 True 2.0596791173830393 0.25409230119336784\n"
          ]
        },
        {
          "output_type": "display_data",
          "data": {
            "text/plain": [
              "<IPython.core.display.HTML object>"
            ],
            "text/html": [
              "\n",
              "<style>\n",
              "    /* Turns off some styling */\n",
              "    progress {\n",
              "        /* gets rid of default border in Firefox and Opera. */\n",
              "        border: none;\n",
              "        /* Needs to be in here for Safari polyfill so background images work as expected. */\n",
              "        background-size: auto;\n",
              "    }\n",
              "    .progress-bar-interrupted, .progress-bar-interrupted::-webkit-progress-bar {\n",
              "        background: #F44336;\n",
              "    }\n",
              "</style>\n"
            ]
          },
          "metadata": {}
        },
        {
          "output_type": "display_data",
          "data": {
            "text/plain": [
              "<IPython.core.display.HTML object>"
            ],
            "text/html": [
              ""
            ]
          },
          "metadata": {}
        },
        {
          "output_type": "stream",
          "name": "stdout",
          "text": [
            "1 False 1.980354050557325 0.3057324840764331\n"
          ]
        },
        {
          "output_type": "display_data",
          "data": {
            "text/plain": [
              "<IPython.core.display.HTML object>"
            ],
            "text/html": [
              "\n",
              "<style>\n",
              "    /* Turns off some styling */\n",
              "    progress {\n",
              "        /* gets rid of default border in Firefox and Opera. */\n",
              "        border: none;\n",
              "        /* Needs to be in here for Safari polyfill so background images work as expected. */\n",
              "        background-size: auto;\n",
              "    }\n",
              "    .progress-bar-interrupted, .progress-bar-interrupted::-webkit-progress-bar {\n",
              "        background: #F44336;\n",
              "    }\n",
              "</style>\n"
            ]
          },
          "metadata": {}
        },
        {
          "output_type": "display_data",
          "data": {
            "text/plain": [
              "<IPython.core.display.HTML object>"
            ],
            "text/html": [
              ""
            ]
          },
          "metadata": {}
        },
        {
          "output_type": "stream",
          "name": "stdout",
          "text": [
            "2 True 1.9469124990099271 0.3146055549688457\n"
          ]
        },
        {
          "output_type": "display_data",
          "data": {
            "text/plain": [
              "<IPython.core.display.HTML object>"
            ],
            "text/html": [
              "\n",
              "<style>\n",
              "    /* Turns off some styling */\n",
              "    progress {\n",
              "        /* gets rid of default border in Firefox and Opera. */\n",
              "        border: none;\n",
              "        /* Needs to be in here for Safari polyfill so background images work as expected. */\n",
              "        background-size: auto;\n",
              "    }\n",
              "    .progress-bar-interrupted, .progress-bar-interrupted::-webkit-progress-bar {\n",
              "        background: #F44336;\n",
              "    }\n",
              "</style>\n"
            ]
          },
          "metadata": {}
        },
        {
          "output_type": "display_data",
          "data": {
            "text/plain": [
              "<IPython.core.display.HTML object>"
            ],
            "text/html": [
              ""
            ]
          },
          "metadata": {}
        },
        {
          "output_type": "stream",
          "name": "stdout",
          "text": [
            "2 False 1.9024489948248409 0.3240764331210191\n"
          ]
        },
        {
          "output_type": "display_data",
          "data": {
            "text/plain": [
              "<IPython.core.display.HTML object>"
            ],
            "text/html": [
              "\n",
              "<style>\n",
              "    /* Turns off some styling */\n",
              "    progress {\n",
              "        /* gets rid of default border in Firefox and Opera. */\n",
              "        border: none;\n",
              "        /* Needs to be in here for Safari polyfill so background images work as expected. */\n",
              "        background-size: auto;\n",
              "    }\n",
              "    .progress-bar-interrupted, .progress-bar-interrupted::-webkit-progress-bar {\n",
              "        background: #F44336;\n",
              "    }\n",
              "</style>\n"
            ]
          },
          "metadata": {}
        },
        {
          "output_type": "display_data",
          "data": {
            "text/plain": [
              "<IPython.core.display.HTML object>"
            ],
            "text/html": [
              ""
            ]
          },
          "metadata": {}
        },
        {
          "output_type": "stream",
          "name": "stdout",
          "text": [
            "3 True 1.848172944278699 0.3507234132432147\n"
          ]
        },
        {
          "output_type": "display_data",
          "data": {
            "text/plain": [
              "<IPython.core.display.HTML object>"
            ],
            "text/html": [
              "\n",
              "<style>\n",
              "    /* Turns off some styling */\n",
              "    progress {\n",
              "        /* gets rid of default border in Firefox and Opera. */\n",
              "        border: none;\n",
              "        /* Needs to be in here for Safari polyfill so background images work as expected. */\n",
              "        background-size: auto;\n",
              "    }\n",
              "    .progress-bar-interrupted, .progress-bar-interrupted::-webkit-progress-bar {\n",
              "        background: #F44336;\n",
              "    }\n",
              "</style>\n"
            ]
          },
          "metadata": {}
        },
        {
          "output_type": "display_data",
          "data": {
            "text/plain": [
              "<IPython.core.display.HTML object>"
            ],
            "text/html": [
              ""
            ]
          },
          "metadata": {}
        },
        {
          "output_type": "stream",
          "name": "stdout",
          "text": [
            "3 False 1.8155935260748408 0.37528662420382164\n"
          ]
        },
        {
          "output_type": "display_data",
          "data": {
            "text/plain": [
              "<IPython.core.display.HTML object>"
            ],
            "text/html": [
              "\n",
              "<style>\n",
              "    /* Turns off some styling */\n",
              "    progress {\n",
              "        /* gets rid of default border in Firefox and Opera. */\n",
              "        border: none;\n",
              "        /* Needs to be in here for Safari polyfill so background images work as expected. */\n",
              "        background-size: auto;\n",
              "    }\n",
              "    .progress-bar-interrupted, .progress-bar-interrupted::-webkit-progress-bar {\n",
              "        background: #F44336;\n",
              "    }\n",
              "</style>\n"
            ]
          },
          "metadata": {}
        },
        {
          "output_type": "display_data",
          "data": {
            "text/plain": [
              "<IPython.core.display.HTML object>"
            ],
            "text/html": [
              ""
            ]
          },
          "metadata": {}
        },
        {
          "output_type": "stream",
          "name": "stdout",
          "text": [
            "4 True 1.7754168206780019 0.3871580948357799\n"
          ]
        },
        {
          "output_type": "display_data",
          "data": {
            "text/plain": [
              "<IPython.core.display.HTML object>"
            ],
            "text/html": [
              "\n",
              "<style>\n",
              "    /* Turns off some styling */\n",
              "    progress {\n",
              "        /* gets rid of default border in Firefox and Opera. */\n",
              "        border: none;\n",
              "        /* Needs to be in here for Safari polyfill so background images work as expected. */\n",
              "        background-size: auto;\n",
              "    }\n",
              "    .progress-bar-interrupted, .progress-bar-interrupted::-webkit-progress-bar {\n",
              "        background: #F44336;\n",
              "    }\n",
              "</style>\n"
            ]
          },
          "metadata": {}
        },
        {
          "output_type": "display_data",
          "data": {
            "text/plain": [
              "<IPython.core.display.HTML object>"
            ],
            "text/html": [
              ""
            ]
          },
          "metadata": {}
        },
        {
          "output_type": "stream",
          "name": "stdout",
          "text": [
            "4 False 1.7737722681130572 0.3785987261146497\n"
          ]
        },
        {
          "output_type": "display_data",
          "data": {
            "text/plain": [
              "<IPython.core.display.HTML object>"
            ],
            "text/html": [
              "\n",
              "<style>\n",
              "    /* Turns off some styling */\n",
              "    progress {\n",
              "        /* gets rid of default border in Firefox and Opera. */\n",
              "        border: none;\n",
              "        /* Needs to be in here for Safari polyfill so background images work as expected. */\n",
              "        background-size: auto;\n",
              "    }\n",
              "    .progress-bar-interrupted, .progress-bar-interrupted::-webkit-progress-bar {\n",
              "        background: #F44336;\n",
              "    }\n",
              "</style>\n"
            ]
          },
          "metadata": {}
        },
        {
          "output_type": "display_data",
          "data": {
            "text/plain": [
              "<IPython.core.display.HTML object>"
            ],
            "text/html": [
              ""
            ]
          },
          "metadata": {}
        },
        {
          "output_type": "stream",
          "name": "stdout",
          "text": [
            "5 True 1.7028856292573133 0.41419368465519063\n"
          ]
        },
        {
          "output_type": "display_data",
          "data": {
            "text/plain": [
              "<IPython.core.display.HTML object>"
            ],
            "text/html": [
              "\n",
              "<style>\n",
              "    /* Turns off some styling */\n",
              "    progress {\n",
              "        /* gets rid of default border in Firefox and Opera. */\n",
              "        border: none;\n",
              "        /* Needs to be in here for Safari polyfill so background images work as expected. */\n",
              "        background-size: auto;\n",
              "    }\n",
              "    .progress-bar-interrupted, .progress-bar-interrupted::-webkit-progress-bar {\n",
              "        background: #F44336;\n",
              "    }\n",
              "</style>\n"
            ]
          },
          "metadata": {}
        },
        {
          "output_type": "display_data",
          "data": {
            "text/plain": [
              "<IPython.core.display.HTML object>"
            ],
            "text/html": [
              ""
            ]
          },
          "metadata": {}
        },
        {
          "output_type": "stream",
          "name": "stdout",
          "text": [
            "5 False 1.726393934116242 0.40738853503184713\n"
          ]
        },
        {
          "output_type": "display_data",
          "data": {
            "text/plain": [
              "<IPython.core.display.HTML object>"
            ],
            "text/html": [
              "\n",
              "<style>\n",
              "    /* Turns off some styling */\n",
              "    progress {\n",
              "        /* gets rid of default border in Firefox and Opera. */\n",
              "        border: none;\n",
              "        /* Needs to be in here for Safari polyfill so background images work as expected. */\n",
              "        background-size: auto;\n",
              "    }\n",
              "    .progress-bar-interrupted, .progress-bar-interrupted::-webkit-progress-bar {\n",
              "        background: #F44336;\n",
              "    }\n",
              "</style>\n"
            ]
          },
          "metadata": {}
        },
        {
          "output_type": "display_data",
          "data": {
            "text/plain": [
              "<IPython.core.display.HTML object>"
            ],
            "text/html": [
              ""
            ]
          },
          "metadata": {}
        },
        {
          "output_type": "stream",
          "name": "stdout",
          "text": [
            "6 True 1.6552310500052805 0.4310909282923223\n"
          ]
        },
        {
          "output_type": "display_data",
          "data": {
            "text/plain": [
              "<IPython.core.display.HTML object>"
            ],
            "text/html": [
              "\n",
              "<style>\n",
              "    /* Turns off some styling */\n",
              "    progress {\n",
              "        /* gets rid of default border in Firefox and Opera. */\n",
              "        border: none;\n",
              "        /* Needs to be in here for Safari polyfill so background images work as expected. */\n",
              "        background-size: auto;\n",
              "    }\n",
              "    .progress-bar-interrupted, .progress-bar-interrupted::-webkit-progress-bar {\n",
              "        background: #F44336;\n",
              "    }\n",
              "</style>\n"
            ]
          },
          "metadata": {}
        },
        {
          "output_type": "display_data",
          "data": {
            "text/plain": [
              "<IPython.core.display.HTML object>"
            ],
            "text/html": [
              ""
            ]
          },
          "metadata": {}
        },
        {
          "output_type": "stream",
          "name": "stdout",
          "text": [
            "6 False 1.688621989450637 0.4264968152866242\n"
          ]
        },
        {
          "output_type": "display_data",
          "data": {
            "text/plain": [
              "<IPython.core.display.HTML object>"
            ],
            "text/html": [
              "\n",
              "<style>\n",
              "    /* Turns off some styling */\n",
              "    progress {\n",
              "        /* gets rid of default border in Firefox and Opera. */\n",
              "        border: none;\n",
              "        /* Needs to be in here for Safari polyfill so background images work as expected. */\n",
              "        background-size: auto;\n",
              "    }\n",
              "    .progress-bar-interrupted, .progress-bar-interrupted::-webkit-progress-bar {\n",
              "        background: #F44336;\n",
              "    }\n",
              "</style>\n"
            ]
          },
          "metadata": {}
        },
        {
          "output_type": "display_data",
          "data": {
            "text/plain": [
              "<IPython.core.display.HTML object>"
            ],
            "text/html": [
              ""
            ]
          },
          "metadata": {}
        },
        {
          "output_type": "stream",
          "name": "stdout",
          "text": [
            "7 True 1.6101168327238884 0.4526349139296652\n"
          ]
        },
        {
          "output_type": "display_data",
          "data": {
            "text/plain": [
              "<IPython.core.display.HTML object>"
            ],
            "text/html": [
              "\n",
              "<style>\n",
              "    /* Turns off some styling */\n",
              "    progress {\n",
              "        /* gets rid of default border in Firefox and Opera. */\n",
              "        border: none;\n",
              "        /* Needs to be in here for Safari polyfill so background images work as expected. */\n",
              "        background-size: auto;\n",
              "    }\n",
              "    .progress-bar-interrupted, .progress-bar-interrupted::-webkit-progress-bar {\n",
              "        background: #F44336;\n",
              "    }\n",
              "</style>\n"
            ]
          },
          "metadata": {}
        },
        {
          "output_type": "display_data",
          "data": {
            "text/plain": [
              "<IPython.core.display.HTML object>"
            ],
            "text/html": [
              ""
            ]
          },
          "metadata": {}
        },
        {
          "output_type": "stream",
          "name": "stdout",
          "text": [
            "7 False 1.653681205214968 0.43872611464968153\n"
          ]
        }
      ]
    },
    {
      "cell_type": "code",
      "source": [
        "plt.plot(onecyc.lrs);"
      ],
      "metadata": {
        "colab": {
          "base_uri": "https://localhost:8080/",
          "height": 265
        },
        "id": "Fn38CD6b0iQ5",
        "outputId": "0277fec4-0800-42eb-89e2-af00e306a054"
      },
      "execution_count": 69,
      "outputs": [
        {
          "output_type": "display_data",
          "data": {
            "text/plain": [
              "<Figure size 432x288 with 1 Axes>"
            ],
            "image/png": "[encoded data removed]"
          },
          "metadata": {
            "needs_background": "light"
          }
        }
      ]
    },
    {
      "cell_type": "code",
      "source": [
        ""
      ],
      "metadata": {
        "id": "jGvs79R_1Dy7"
      },
      "execution_count": null,
      "outputs": []
    }
  ]
}