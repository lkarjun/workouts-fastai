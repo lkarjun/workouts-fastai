{
  "nbformat": 4,
  "nbformat_minor": 0,
  "metadata": {
    "colab": {
      "name": "Lesson_16.ipynb",
      "provenance": [],
      "collapsed_sections": [
        "igQAv3ad3k9k",
        "-NrGaAps6HX-"
      ]
    },
    "kernelspec": {
      "name": "python3",
      "display_name": "Python 3"
    },
    "language_info": {
      "name": "python"
    },
    "accelerator": "GPU",
    "gpuClass": "standard"
  },
  "cells": [
    {
      "cell_type": "markdown",
      "source": [
        "# Package"
      ],
      "metadata": {
        "id": "D-kt0ehouS9Y"
      }
    },
    {
      "cell_type": "code",
      "source": [
        "!pip install fastai -Uqq\n",
        "!pip install Pillow==9.1.1"
      ],
      "metadata": {
        "colab": {
          "base_uri": "https://localhost:8080/"
        },
        "id": "WWx4mVfNuWDm",
        "outputId": "b70d4fa2-e1f3-4e78-af53-a29182da263f"
      },
      "execution_count": 12,
      "outputs": [
        {
          "output_type": "stream",
          "name": "stdout",
          "text": [
            "Looking in indexes: https://pypi.org/simple, https://us-python.pkg.dev/colab-wheels/public/simple/\n",
            "Requirement already satisfied: Pillow==9.1.1 in /usr/local/lib/python3.7/dist-packages (9.1.1)\n"
          ]
        }
      ]
    },
    {
      "cell_type": "code",
      "source": [
        "from fastai.vision.all import *"
      ],
      "metadata": {
        "id": "iSMHopRVuYRa"
      },
      "execution_count": 13,
      "outputs": []
    },
    {
      "cell_type": "code",
      "source": [
        ""
      ],
      "metadata": {
        "id": "dSL1sS0Xu18-"
      },
      "execution_count": 5,
      "outputs": []
    },
    {
      "cell_type": "markdown",
      "source": [
        "# The Traning Process"
      ],
      "metadata": {
        "id": "IJMC9tN9Yh2a"
      }
    },
    {
      "cell_type": "markdown",
      "source": [
        "### Establishing a Baseline"
      ],
      "metadata": {
        "id": "igQAv3ad3k9k"
      }
    },
    {
      "cell_type": "code",
      "execution_count": 14,
      "metadata": {
        "id": "zAIXqKnMYWRw"
      },
      "outputs": [],
      "source": [
        "def get_data(url, presize, resize):\n",
        "  path = untar_data(url)\n",
        "  return DataBlock(\n",
        "      blocks = (ImageBlock, CategoryBlock),\n",
        "      get_items = get_image_files,\n",
        "      splitter = GrandparentSplitter(valid_name = 'val'),\n",
        "      get_y = parent_label,\n",
        "      item_tfms=Resize(presize),\n",
        "      batch_tfms=[*aug_transforms(min_scale=0.5, size=resize),\n",
        "                    Normalize.from_stats(*imagenet_stats)]\n",
        "  ).dataloaders(path, bs=128)"
      ]
    },
    {
      "cell_type": "code",
      "source": [
        "dls = get_data(URLs.IMAGENETTE_160, 160, 128)"
      ],
      "metadata": {
        "colab": {
          "base_uri": "https://localhost:8080/",
          "height": 0
        },
        "id": "xrAo_vlw3svW",
        "outputId": "dd24ef7f-afa1-4f48-842a-fcf970887eb5"
      },
      "execution_count": 15,
      "outputs": [
        {
          "output_type": "stream",
          "name": "stdout",
          "text": [
            "Downloading a new version of this dataset...\n"
          ]
        },
        {
          "output_type": "display_data",
          "data": {
            "text/plain": [
              "<IPython.core.display.HTML object>"
            ],
            "text/html": [
              "\n",
              "<style>\n",
              "    /* Turns off some styling */\n",
              "    progress {\n",
              "        /* gets rid of default border in Firefox and Opera. */\n",
              "        border: none;\n",
              "        /* Needs to be in here for Safari polyfill so background images work as expected. */\n",
              "        background-size: auto;\n",
              "    }\n",
              "    .progress-bar-interrupted, .progress-bar-interrupted::-webkit-progress-bar {\n",
              "        background: #F44336;\n",
              "    }\n",
              "</style>\n"
            ]
          },
          "metadata": {}
        },
        {
          "output_type": "display_data",
          "data": {
            "text/plain": [
              "<IPython.core.display.HTML object>"
            ],
            "text/html": [
              "\n",
              "    <div>\n",
              "      <progress value='99008512' class='' max='99003388' style='width:300px; height:20px; vertical-align: middle;'></progress>\n",
              "      100.01% [99008512/99003388 00:01<00:00]\n",
              "    </div>\n",
              "    "
            ]
          },
          "metadata": {}
        }
      ]
    },
    {
      "cell_type": "code",
      "source": [
        "def get_learner(**kwargs):\n",
        "    return vision_learner(dls, resnet34, pretrained=False,\n",
        "                    metrics=accuracy, **kwargs).to_fp16()"
      ],
      "metadata": {
        "id": "RswQIPVW3tLj"
      },
      "execution_count": 16,
      "outputs": []
    },
    {
      "cell_type": "code",
      "source": [
        "learn = get_learner()\n",
        "learn.fit_one_cycle(3, 0.003)"
      ],
      "metadata": {
        "colab": {
          "base_uri": "https://localhost:8080/",
          "height": 0
        },
        "id": "gBUbNDc44YnP",
        "outputId": "bb6e9e60-7d3e-4fab-b207-ef85de974d26"
      },
      "execution_count": 17,
      "outputs": [
        {
          "output_type": "display_data",
          "data": {
            "text/plain": [
              "<IPython.core.display.HTML object>"
            ],
            "text/html": [
              "\n",
              "<style>\n",
              "    /* Turns off some styling */\n",
              "    progress {\n",
              "        /* gets rid of default border in Firefox and Opera. */\n",
              "        border: none;\n",
              "        /* Needs to be in here for Safari polyfill so background images work as expected. */\n",
              "        background-size: auto;\n",
              "    }\n",
              "    .progress-bar-interrupted, .progress-bar-interrupted::-webkit-progress-bar {\n",
              "        background: #F44336;\n",
              "    }\n",
              "</style>\n"
            ]
          },
          "metadata": {}
        },
        {
          "output_type": "display_data",
          "data": {
            "text/plain": [
              "<IPython.core.display.HTML object>"
            ],
            "text/html": [
              "<table border=\"1\" class=\"dataframe\">\n",
              "  <thead>\n",
              "    <tr style=\"text-align: left;\">\n",
              "      <th>epoch</th>\n",
              "      <th>train_loss</th>\n",
              "      <th>valid_loss</th>\n",
              "      <th>accuracy</th>\n",
              "      <th>time</th>\n",
              "    </tr>\n",
              "  </thead>\n",
              "  <tbody>\n",
              "    <tr>\n",
              "      <td>0</td>\n",
              "      <td>2.575655</td>\n",
              "      <td>1.939530</td>\n",
              "      <td>0.335032</td>\n",
              "      <td>00:27</td>\n",
              "    </tr>\n",
              "    <tr>\n",
              "      <td>1</td>\n",
              "      <td>1.995165</td>\n",
              "      <td>1.559690</td>\n",
              "      <td>0.458599</td>\n",
              "      <td>00:27</td>\n",
              "    </tr>\n",
              "    <tr>\n",
              "      <td>2</td>\n",
              "      <td>1.621506</td>\n",
              "      <td>1.302536</td>\n",
              "      <td>0.574268</td>\n",
              "      <td>00:28</td>\n",
              "    </tr>\n",
              "  </tbody>\n",
              "</table>"
            ]
          },
          "metadata": {}
        }
      ]
    },
    {
      "cell_type": "code",
      "source": [
        ""
      ],
      "metadata": {
        "id": "1j7S22tG4bdc"
      },
      "execution_count": 17,
      "outputs": []
    },
    {
      "cell_type": "code",
      "source": [
        "# using sgd\n",
        "\n",
        "learn = get_learner(opt_func = SGD)"
      ],
      "metadata": {
        "id": "58XJOLHX5GLo"
      },
      "execution_count": 18,
      "outputs": []
    },
    {
      "cell_type": "code",
      "source": [
        "learn.lr_find()"
      ],
      "metadata": {
        "colab": {
          "base_uri": "https://localhost:8080/",
          "height": 0
        },
        "id": "pF6PlkbK5H-z",
        "outputId": "b80c336c-a18d-444e-94d1-bd5de0ec0446"
      },
      "execution_count": 19,
      "outputs": [
        {
          "output_type": "display_data",
          "data": {
            "text/plain": [
              "<IPython.core.display.HTML object>"
            ],
            "text/html": [
              "\n",
              "<style>\n",
              "    /* Turns off some styling */\n",
              "    progress {\n",
              "        /* gets rid of default border in Firefox and Opera. */\n",
              "        border: none;\n",
              "        /* Needs to be in here for Safari polyfill so background images work as expected. */\n",
              "        background-size: auto;\n",
              "    }\n",
              "    .progress-bar-interrupted, .progress-bar-interrupted::-webkit-progress-bar {\n",
              "        background: #F44336;\n",
              "    }\n",
              "</style>\n"
            ]
          },
          "metadata": {}
        },
        {
          "output_type": "display_data",
          "data": {
            "text/plain": [
              "<IPython.core.display.HTML object>"
            ],
            "text/html": [
              ""
            ]
          },
          "metadata": {}
        },
        {
          "output_type": "execute_result",
          "data": {
            "text/plain": [
              "SuggestedLRs(valley=0.013182567432522774)"
            ]
          },
          "metadata": {},
          "execution_count": 19
        },
        {
          "output_type": "display_data",
          "data": {
            "text/plain": [
              "<Figure size 432x288 with 1 Axes>"
            ],
            "image/png": "[encoded data removed]"
          },
          "metadata": {
            "needs_background": "light"
          }
        }
      ]
    },
    {
      "cell_type": "code",
      "source": [
        "learn.fit_one_cycle(3, 0.03, moms=(0, 0, 0))"
      ],
      "metadata": {
        "colab": {
          "base_uri": "https://localhost:8080/",
          "height": 0
        },
        "id": "JQ7AhF-05ttX",
        "outputId": "544c3bae-be64-40d1-e1b7-95d03740284a"
      },
      "execution_count": 20,
      "outputs": [
        {
          "output_type": "display_data",
          "data": {
            "text/plain": [
              "<IPython.core.display.HTML object>"
            ],
            "text/html": [
              "\n",
              "<style>\n",
              "    /* Turns off some styling */\n",
              "    progress {\n",
              "        /* gets rid of default border in Firefox and Opera. */\n",
              "        border: none;\n",
              "        /* Needs to be in here for Safari polyfill so background images work as expected. */\n",
              "        background-size: auto;\n",
              "    }\n",
              "    .progress-bar-interrupted, .progress-bar-interrupted::-webkit-progress-bar {\n",
              "        background: #F44336;\n",
              "    }\n",
              "</style>\n"
            ]
          },
          "metadata": {}
        },
        {
          "output_type": "display_data",
          "data": {
            "text/plain": [
              "<IPython.core.display.HTML object>"
            ],
            "text/html": [
              "<table border=\"1\" class=\"dataframe\">\n",
              "  <thead>\n",
              "    <tr style=\"text-align: left;\">\n",
              "      <th>epoch</th>\n",
              "      <th>train_loss</th>\n",
              "      <th>valid_loss</th>\n",
              "      <th>accuracy</th>\n",
              "      <th>time</th>\n",
              "    </tr>\n",
              "  </thead>\n",
              "  <tbody>\n",
              "    <tr>\n",
              "      <td>0</td>\n",
              "      <td>2.992437</td>\n",
              "      <td>2.148580</td>\n",
              "      <td>0.280764</td>\n",
              "      <td>00:27</td>\n",
              "    </tr>\n",
              "    <tr>\n",
              "      <td>1</td>\n",
              "      <td>2.430845</td>\n",
              "      <td>1.809284</td>\n",
              "      <td>0.394650</td>\n",
              "      <td>00:26</td>\n",
              "    </tr>\n",
              "    <tr>\n",
              "      <td>2</td>\n",
              "      <td>2.176307</td>\n",
              "      <td>1.744284</td>\n",
              "      <td>0.419108</td>\n",
              "      <td>00:26</td>\n",
              "    </tr>\n",
              "  </tbody>\n",
              "</table>"
            ]
          },
          "metadata": {}
        }
      ]
    },
    {
      "cell_type": "code",
      "source": [
        ""
      ],
      "metadata": {
        "id": "VXpgnoVK6A7i"
      },
      "execution_count": 20,
      "outputs": []
    },
    {
      "cell_type": "markdown",
      "source": [
        "### A Generic Optimizer"
      ],
      "metadata": {
        "id": "-NrGaAps6HX-"
      }
    },
    {
      "cell_type": "code",
      "source": [
        "def sgd_cb(p, lr, **kwargs): p.data.add_(-lr, p.grad.data)"
      ],
      "metadata": {
        "id": "EzrHKYoY7GhC"
      },
      "execution_count": 21,
      "outputs": []
    },
    {
      "cell_type": "code",
      "source": [
        "opt_func = partial(Optimizer, cbs=[sgd_cb])"
      ],
      "metadata": {
        "id": "ZetbETiR8HLs"
      },
      "execution_count": 22,
      "outputs": []
    },
    {
      "cell_type": "code",
      "source": [
        "learn = get_learner(opt_func=opt_func)\n",
        "learn.fit(3, 0.03)"
      ],
      "metadata": {
        "colab": {
          "base_uri": "https://localhost:8080/",
          "height": 0
        },
        "id": "WC6bQw_W8QFJ",
        "outputId": "1ab78e35-41db-49db-8576-7c9c8f6384dd"
      },
      "execution_count": 23,
      "outputs": [
        {
          "output_type": "display_data",
          "data": {
            "text/plain": [
              "<IPython.core.display.HTML object>"
            ],
            "text/html": [
              "\n",
              "<style>\n",
              "    /* Turns off some styling */\n",
              "    progress {\n",
              "        /* gets rid of default border in Firefox and Opera. */\n",
              "        border: none;\n",
              "        /* Needs to be in here for Safari polyfill so background images work as expected. */\n",
              "        background-size: auto;\n",
              "    }\n",
              "    .progress-bar-interrupted, .progress-bar-interrupted::-webkit-progress-bar {\n",
              "        background: #F44336;\n",
              "    }\n",
              "</style>\n"
            ]
          },
          "metadata": {}
        },
        {
          "output_type": "display_data",
          "data": {
            "text/plain": [
              "<IPython.core.display.HTML object>"
            ],
            "text/html": [
              "<table border=\"1\" class=\"dataframe\">\n",
              "  <thead>\n",
              "    <tr style=\"text-align: left;\">\n",
              "      <th>epoch</th>\n",
              "      <th>train_loss</th>\n",
              "      <th>valid_loss</th>\n",
              "      <th>accuracy</th>\n",
              "      <th>time</th>\n",
              "    </tr>\n",
              "  </thead>\n",
              "  <tbody>\n",
              "    <tr>\n",
              "      <td>0</td>\n",
              "      <td>2.672354</td>\n",
              "      <td>2.027927</td>\n",
              "      <td>0.319490</td>\n",
              "      <td>00:26</td>\n",
              "    </tr>\n",
              "    <tr>\n",
              "      <td>1</td>\n",
              "      <td>2.300995</td>\n",
              "      <td>1.755036</td>\n",
              "      <td>0.390064</td>\n",
              "      <td>00:26</td>\n",
              "    </tr>\n",
              "    <tr>\n",
              "      <td>2</td>\n",
              "      <td>1.960471</td>\n",
              "      <td>1.563121</td>\n",
              "      <td>0.468280</td>\n",
              "      <td>00:26</td>\n",
              "    </tr>\n",
              "  </tbody>\n",
              "</table>"
            ]
          },
          "metadata": {}
        },
        {
          "output_type": "stream",
          "name": "stderr",
          "text": [
            "/usr/local/lib/python3.7/dist-packages/ipykernel_launcher.py:1: UserWarning: This overload of add_ is deprecated:\n",
            "\tadd_(Number alpha, Tensor other)\n",
            "Consider using one of the following signatures instead:\n",
            "\tadd_(Tensor other, *, Number alpha) (Triggered internally at  ../torch/csrc/utils/python_arg_parser.cpp:1055.)\n",
            "  \"\"\"Entry point for launching an IPython kernel.\n"
          ]
        }
      ]
    },
    {
      "cell_type": "code",
      "source": [
        ""
      ],
      "metadata": {
        "id": "kQKjhePl8RT5"
      },
      "execution_count": 23,
      "outputs": []
    },
    {
      "cell_type": "code",
      "source": [
        ""
      ],
      "metadata": {
        "id": "YXWYRYgQ8_MP"
      },
      "execution_count": 23,
      "outputs": []
    },
    {
      "cell_type": "markdown",
      "source": [
        "### Momentum"
      ],
      "metadata": {
        "id": "IgXKJDat9JAg"
      }
    },
    {
      "cell_type": "code",
      "source": [
        "x = np.linspace(-4, 4, 100)"
      ],
      "metadata": {
        "id": "IypLJ0HW9LJC"
      },
      "execution_count": 24,
      "outputs": []
    },
    {
      "cell_type": "code",
      "source": [
        "y = 1 - (x / 3) ** 2"
      ],
      "metadata": {
        "id": "ZN1Q_yBlBm4h"
      },
      "execution_count": 25,
      "outputs": []
    },
    {
      "cell_type": "code",
      "source": [
        "x1 = x + np.random.randn(100) * 0.1\n",
        "y1 = y + np.random.randn(100) * 0.1"
      ],
      "metadata": {
        "id": "Q3kra-THBnFh"
      },
      "execution_count": 26,
      "outputs": []
    },
    {
      "cell_type": "code",
      "source": [
        "plt.scatter(x1, y1)\n",
        "idx = x1.argsort()\n",
        "beta, avg, res = .7, 0, []\n",
        "\n",
        "for i in idx:\n",
        "  avg = beta * avg + (1-beta) * y1[i]\n",
        "  res.append(avg/(1-beta**(i+1)))\n",
        "\n",
        "plt.plot(x1[idx], np.array(res), color='red');"
      ],
      "metadata": {
        "colab": {
          "base_uri": "https://localhost:8080/",
          "height": 0
        },
        "id": "4qqtpNeDB8ah",
        "outputId": "4eaf330f-b3b7-4a2f-e94d-f3803384e339"
      },
      "execution_count": 27,
      "outputs": [
        {
          "output_type": "display_data",
          "data": {
            "text/plain": [
              "<Figure size 432x288 with 1 Axes>"
            ],
            "image/png": "[encoded data removed]"
          },
          "metadata": {
            "needs_background": "light"
          }
        }
      ]
    },
    {
      "cell_type": "code",
      "source": [
        "x = np.linspace(-4, 4, 100)\n",
        "y = 1 - (x/3) ** 2\n",
        "x1 = x + np.random.randn(100) * 0.1\n",
        "y1 = y + np.random.randn(100) * 0.1\n",
        "_,axs = plt.subplots(2,2, figsize=(12,8))\n",
        "betas = [0.5,0.7,0.9,0.99]\n",
        "idx = x1.argsort()\n",
        "for beta,ax in zip(betas, axs.flatten()):\n",
        "    ax.scatter(x1,y1)\n",
        "    avg,res = 0,[]\n",
        "    for i in idx:\n",
        "        avg = beta * avg + (1-beta) * y1[i]\n",
        "        res.append(avg)#/(1-beta**(i+1)))\n",
        "    ax.plot(x1[idx],np.array(res), color='red');\n",
        "    ax.set_title(f'beta={beta}')"
      ],
      "metadata": {
        "colab": {
          "base_uri": "https://localhost:8080/",
          "height": 0
        },
        "id": "fOVAyIeYCIkC",
        "outputId": "01f1b1e8-25d8-4d02-8734-2307817361b5"
      },
      "execution_count": 28,
      "outputs": [
        {
          "output_type": "display_data",
          "data": {
            "text/plain": [
              "<Figure size 864x576 with 4 Axes>"
            ],
            "image/png": "[encoded data removed]"
          },
          "metadata": {
            "needs_background": "light"
          }
        }
      ]
    },
    {
      "cell_type": "code",
      "source": [
        ""
      ],
      "metadata": {
        "id": "MgJQ2OS_EiwD"
      },
      "execution_count": 28,
      "outputs": []
    },
    {
      "cell_type": "markdown",
      "source": [
        "\n",
        "```\n",
        "weight.avg = beta * weight.avg + (1-beta) * weight.grad\n",
        "new_weight = weight - lr * weight.avg\n",
        "```\n",
        "\n"
      ],
      "metadata": {
        "id": "Ws5fP8qRFku_"
      }
    },
    {
      "cell_type": "markdown",
      "source": [
        "When an optimizer callback returns a dict, it is used to update the state of the optimizer and is passed back to the optimizer on the next step. So this callback will keep track of the gradient averages in a parameter called grad_avg:\n",
        "\n"
      ],
      "metadata": {
        "id": "7ELirg_XGIuR"
      }
    },
    {
      "cell_type": "code",
      "source": [
        "def average_grad(p, mom, grad_avg=None, **kwargs):\n",
        "  if grad_avg is None: grad_avg = torch.zeros_like(p.grad.data)\n",
        "  return {'grad_avg': grad_avg * mom + p.grad.data}"
      ],
      "metadata": {
        "id": "s4ObkV7SFNbR"
      },
      "execution_count": 29,
      "outputs": []
    },
    {
      "cell_type": "code",
      "source": [
        "def momentum_step(p, lr, grad_avg, **kwargs): \n",
        "  p.data.add_(-lr, grad_avg)"
      ],
      "metadata": {
        "id": "DANTNijcFx7q"
      },
      "execution_count": 30,
      "outputs": []
    },
    {
      "cell_type": "code",
      "source": [
        "opt_func = partial(Optimizer, cbs=[average_grad,momentum_step], mom=0.9)"
      ],
      "metadata": {
        "id": "YRgV-QSKGc3P"
      },
      "execution_count": 31,
      "outputs": []
    },
    {
      "cell_type": "code",
      "source": [
        ""
      ],
      "metadata": {
        "id": "RmTEFSpxGiL1"
      },
      "execution_count": 31,
      "outputs": []
    },
    {
      "cell_type": "code",
      "source": [
        "learn = get_learner(opt_func=opt_func)\n",
        "learn.fit_one_cycle(3, 0.03)"
      ],
      "metadata": {
        "colab": {
          "base_uri": "https://localhost:8080/",
          "height": 0
        },
        "id": "_GvnLBsUGq-6",
        "outputId": "fde4d3d6-6d22-4eff-8ae2-b724fc0dffa8"
      },
      "execution_count": 32,
      "outputs": [
        {
          "output_type": "display_data",
          "data": {
            "text/plain": [
              "<IPython.core.display.HTML object>"
            ],
            "text/html": [
              "\n",
              "<style>\n",
              "    /* Turns off some styling */\n",
              "    progress {\n",
              "        /* gets rid of default border in Firefox and Opera. */\n",
              "        border: none;\n",
              "        /* Needs to be in here for Safari polyfill so background images work as expected. */\n",
              "        background-size: auto;\n",
              "    }\n",
              "    .progress-bar-interrupted, .progress-bar-interrupted::-webkit-progress-bar {\n",
              "        background: #F44336;\n",
              "    }\n",
              "</style>\n"
            ]
          },
          "metadata": {}
        },
        {
          "output_type": "display_data",
          "data": {
            "text/plain": [
              "<IPython.core.display.HTML object>"
            ],
            "text/html": [
              "<table border=\"1\" class=\"dataframe\">\n",
              "  <thead>\n",
              "    <tr style=\"text-align: left;\">\n",
              "      <th>epoch</th>\n",
              "      <th>train_loss</th>\n",
              "      <th>valid_loss</th>\n",
              "      <th>accuracy</th>\n",
              "      <th>time</th>\n",
              "    </tr>\n",
              "  </thead>\n",
              "  <tbody>\n",
              "    <tr>\n",
              "      <td>0</td>\n",
              "      <td>2.731452</td>\n",
              "      <td>2.057279</td>\n",
              "      <td>0.302930</td>\n",
              "      <td>00:26</td>\n",
              "    </tr>\n",
              "    <tr>\n",
              "      <td>1</td>\n",
              "      <td>2.448334</td>\n",
              "      <td>1.833015</td>\n",
              "      <td>0.368408</td>\n",
              "      <td>00:26</td>\n",
              "    </tr>\n",
              "    <tr>\n",
              "      <td>2</td>\n",
              "      <td>2.134692</td>\n",
              "      <td>1.721987</td>\n",
              "      <td>0.422675</td>\n",
              "      <td>00:27</td>\n",
              "    </tr>\n",
              "  </tbody>\n",
              "</table>"
            ]
          },
          "metadata": {}
        }
      ]
    },
    {
      "cell_type": "code",
      "source": [
        "learn.recorder.plot_sched()"
      ],
      "metadata": {
        "colab": {
          "base_uri": "https://localhost:8080/",
          "height": 0
        },
        "id": "wdH6OhlaGrYM",
        "outputId": "5449337c-5066-4b30-9dd9-c59f45abd909"
      },
      "execution_count": 33,
      "outputs": [
        {
          "output_type": "display_data",
          "data": {
            "text/plain": [
              "<Figure size 864x288 with 2 Axes>"
            ],
            "image/png": "[encoded data removed]"
          },
          "metadata": {
            "needs_background": "light"
          }
        }
      ]
    },
    {
      "cell_type": "code",
      "source": [
        ""
      ],
      "metadata": {
        "id": "kHrz5wRTHSLI"
      },
      "execution_count": 33,
      "outputs": []
    },
    {
      "cell_type": "markdown",
      "source": [
        "### RMSProp"
      ],
      "metadata": {
        "id": "V4XQ5bERHb0A"
      }
    },
    {
      "cell_type": "markdown",
      "source": [
        "* RMSProp is another variant of SGD\n",
        "* The main difference from SGD is that it uses an adaptive learning rate: \n",
        "* each parameter gets its own specific learning rate controlled by a global learning rate\n",
        "\n",
        "\n",
        "```That way we can speed up training by giving a higher learning rate to the weights that need to change a lot while the ones that are good enough get a lower learning rate.```"
      ],
      "metadata": {
        "id": "QkOynNAuHnBx"
      }
    },
    {
      "cell_type": "markdown",
      "source": [
        "##### How we decide\n",
        "* We can look at the gradients to get an idea. If a parameter's gradients have been close to zero for a while, that parameter will need a higher learning rate because the loss is flat. \n",
        "\n",
        "* On the other hand, if the gradients are all over the place, we should probably be careful and pick a low learning rate to avoid divergence\n",
        "\n",
        "* Once again, to determine the general tendency behind the noise, we will use a moving average—specifically the moving average of the gradients squared. Then we will update the corresponding weight by using the current gradient (for the direction) divided by the square root of this moving average (that way if it's low, the effective learning rate will be higher, and if it's high, the effective learning rate will be lower\n",
        "\n",
        "```\n",
        "w.square_avg = alpha * w.square_avg + (1-alpha) * (w.grad ** 2)\n",
        "new_w = w - lr * w.grad / math.sqrt(w.square_avg + eps)\n",
        "```"
      ],
      "metadata": {
        "id": "IkyR-D_sJj0b"
      }
    },
    {
      "cell_type": "code",
      "source": [
        "def average_sqr_grad(p, sqr_mom, sqr_avg = None, **kwargs):\n",
        "  if sqr_avg is None:\n",
        "    sqr_avg = torch.zeros_like(p.grad.data)\n",
        "  return {'sqr_avg': sqr_mom*sqr_avg + (1-sqr_mom) * p.grad.data**2}"
      ],
      "metadata": {
        "id": "x8zbOT2_Kth0"
      },
      "execution_count": 34,
      "outputs": []
    },
    {
      "cell_type": "code",
      "source": [
        "def rms_prop_step(p, lr, sqr_avg, eps, grad_avg=None, **kwargs):\n",
        "    denom = sqr_avg.sqrt().add_(eps)\n",
        "    p.data.addcdiv_(-lr, p.grad, denom)\n",
        "\n",
        "opt_func = partial(Optimizer, cbs=[average_sqr_grad,rms_prop_step],\n",
        "                   sqr_mom=0.99, eps=1e-7)"
      ],
      "metadata": {
        "id": "lCASFnUHHc29"
      },
      "execution_count": 35,
      "outputs": []
    },
    {
      "cell_type": "code",
      "source": [
        "learn = get_learner(opt_func=opt_func)\n",
        "learn.fit_one_cycle(3, 0.003)"
      ],
      "metadata": {
        "colab": {
          "base_uri": "https://localhost:8080/",
          "height": 0
        },
        "id": "B1Qkhhf2L5yY",
        "outputId": "e09a720e-023e-462e-b623-62c2b7bbf13f"
      },
      "execution_count": 36,
      "outputs": [
        {
          "output_type": "display_data",
          "data": {
            "text/plain": [
              "<IPython.core.display.HTML object>"
            ],
            "text/html": [
              "\n",
              "<style>\n",
              "    /* Turns off some styling */\n",
              "    progress {\n",
              "        /* gets rid of default border in Firefox and Opera. */\n",
              "        border: none;\n",
              "        /* Needs to be in here for Safari polyfill so background images work as expected. */\n",
              "        background-size: auto;\n",
              "    }\n",
              "    .progress-bar-interrupted, .progress-bar-interrupted::-webkit-progress-bar {\n",
              "        background: #F44336;\n",
              "    }\n",
              "</style>\n"
            ]
          },
          "metadata": {}
        },
        {
          "output_type": "display_data",
          "data": {
            "text/plain": [
              "<IPython.core.display.HTML object>"
            ],
            "text/html": [
              "<table border=\"1\" class=\"dataframe\">\n",
              "  <thead>\n",
              "    <tr style=\"text-align: left;\">\n",
              "      <th>epoch</th>\n",
              "      <th>train_loss</th>\n",
              "      <th>valid_loss</th>\n",
              "      <th>accuracy</th>\n",
              "      <th>time</th>\n",
              "    </tr>\n",
              "  </thead>\n",
              "  <tbody>\n",
              "    <tr>\n",
              "      <td>0</td>\n",
              "      <td>2.730512</td>\n",
              "      <td>2.444288</td>\n",
              "      <td>0.268280</td>\n",
              "      <td>00:27</td>\n",
              "    </tr>\n",
              "    <tr>\n",
              "      <td>1</td>\n",
              "      <td>2.003846</td>\n",
              "      <td>1.747413</td>\n",
              "      <td>0.411465</td>\n",
              "      <td>00:27</td>\n",
              "    </tr>\n",
              "    <tr>\n",
              "      <td>2</td>\n",
              "      <td>1.529015</td>\n",
              "      <td>1.227446</td>\n",
              "      <td>0.596433</td>\n",
              "      <td>00:27</td>\n",
              "    </tr>\n",
              "  </tbody>\n",
              "</table>"
            ]
          },
          "metadata": {}
        }
      ]
    },
    {
      "cell_type": "code",
      "source": [
        ""
      ],
      "metadata": {
        "id": "g-2s5VxWL7h7"
      },
      "execution_count": 36,
      "outputs": []
    },
    {
      "cell_type": "markdown",
      "source": [
        "### Adam"
      ],
      "metadata": {
        "id": "Atg3pJecMj_7"
      }
    },
    {
      "cell_type": "markdown",
      "source": [
        "```\n",
        "w.avg = beta * w.avg + (1-beta) * w.grad\n",
        "unbias_avg = w.avg / (1 - (beta**(i+1)))\n",
        "```"
      ],
      "metadata": {
        "id": "-KJ1Fj3WOkRp"
      }
    },
    {
      "cell_type": "markdown",
      "source": [
        "```\n",
        "w.avg = beta1 * w.avg + (1-beta1) * w.grad\n",
        "unbias_avg = w.avg / (1 - (beta1**(i+1)))\n",
        "w.sqr_avg = beta2 * w.sqr_avg + (1-beta2) * (w.grad ** 2)\n",
        "new_w = w - lr * unbias_avg / sqrt(w.sqr_avg + eps)\n",
        "```"
      ],
      "metadata": {
        "id": "rkNQD6zOOkOt"
      }
    },
    {
      "cell_type": "markdown",
      "source": [
        "### Callbacks"
      ],
      "metadata": {
        "id": "iaxXHr22O-Lo"
      }
    },
    {
      "cell_type": "markdown",
      "source": [
        "#### Creating a Callback"
      ],
      "metadata": {
        "id": "HH2vb3VM95b0"
      }
    },
    {
      "cell_type": "code",
      "source": [
        "class ModelResetter(Callback):\n",
        "  def before_train(self):\n",
        "    self.model.reset()\n",
        "  def before_validate(self):\n",
        "    self.model.reset()"
      ],
      "metadata": {
        "id": "Lcq36O1sMk5s"
      },
      "execution_count": 38,
      "outputs": []
    },
    {
      "cell_type": "code",
      "source": [
        "class RNNRegularizer(Callback):\n",
        "    def __init__(self, alpha=0., beta=0.): self.alpha,self.beta = alpha,beta\n",
        "\n",
        "    def after_pred(self):\n",
        "        self.raw_out,self.out = self.pred[1],self.pred[2]\n",
        "        self.learn.pred = self.pred[0]\n",
        "\n",
        "    def after_loss(self):\n",
        "        if not self.training: return\n",
        "        if self.alpha != 0.:\n",
        "            self.learn.loss += self.alpha * self.out[-1].float().pow(2).mean()\n",
        "        if self.beta != 0.:\n",
        "            h = self.raw_out[-1]\n",
        "            if len(h)>1:\n",
        "                self.learn.loss += self.beta * (h[:,1:] - h[:,:-1]\n",
        "                                               ).float().pow(2).mean()"
      ],
      "metadata": {
        "id": "SOCafuZkOwQZ"
      },
      "execution_count": 39,
      "outputs": []
    },
    {
      "cell_type": "code",
      "source": [
        "class TerminateOnNaNCallback(Callback):\n",
        "    run_before=Recorder\n",
        "    def after_batch(self):\n",
        "        if torch.isinf(self.loss) or torch.isnan(self.loss):\n",
        "            raise CancelFitException"
      ],
      "metadata": {
        "id": "Cz2WZRUc_Amq"
      },
      "execution_count": 40,
      "outputs": []
    },
    {
      "cell_type": "code",
      "source": [
        ""
      ],
      "metadata": {
        "id": "UaoeLssVAjWX"
      },
      "execution_count": null,
      "outputs": []
    }
  ]
}