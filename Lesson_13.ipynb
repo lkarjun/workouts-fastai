{
  "nbformat": 4,
  "nbformat_minor": 0,
  "metadata": {
    "colab": {
      "name": "Lesson-12.ipynb",
      "provenance": [],
      "collapsed_sections": [
        "Hyn74nQpih2I",
        "CEVyuS0filOY",
        "xz40S8MZkZlS",
        "o3bsrbHKpFku",
        "UQooidZ-D9Mk",
        "-5q4PXD3U5aq"
      ],
      "authorship_tag": "ABX9TyO4/vk5+2ptAks3k5TQEyIu",
      "include_colab_link": true
    },
    "kernelspec": {
      "name": "python3",
      "display_name": "Python 3"
    },
    "language_info": {
      "name": "python"
    },
    "accelerator": "GPU"
  },
  "cells": [
    {
      "cell_type": "markdown",
      "metadata": {
        "id": "view-in-github",
        "colab_type": "text"
      },
      "source": [
        "<a href=\"https://colab.research.google.com/github/lkarjun/fastai-workouts/blob/master/Lesson_13.ipynb\" target=\"_parent\"><img src=\"https://colab.research.google.com/assets/colab-badge.svg\" alt=\"Open In Colab\"/></a>"
      ]
    },
    {
      "cell_type": "markdown",
      "metadata": {
        "id": "Hyn74nQpih2I"
      },
      "source": [
        "# Package"
      ]
    },
    {
      "cell_type": "code",
      "metadata": {
        "colab": {
          "base_uri": "https://localhost:8080/"
        },
        "id": "-vOV4F8shYht",
        "outputId": "1bac921f-a0cc-4a58-b09b-b1c4cfb3b09b"
      },
      "source": [
        "!pip install fastai==2.5.3"
      ],
      "execution_count": 2,
      "outputs": [
        {
          "output_type": "stream",
          "name": "stdout",
          "text": [
            "Collecting fastai==2.5.3\n",
            "  Downloading fastai-2.5.3-py3-none-any.whl (189 kB)\n",
            "\u001b[?25l\r\u001b[K     |█▊                              | 10 kB 24.7 MB/s eta 0:00:01\r\u001b[K     |███▌                            | 20 kB 12.4 MB/s eta 0:00:01\r\u001b[K     |█████▏                          | 30 kB 11.7 MB/s eta 0:00:01\r\u001b[K     |███████                         | 40 kB 9.2 MB/s eta 0:00:01\r\u001b[K     |████████▋                       | 51 kB 4.5 MB/s eta 0:00:01\r\u001b[K     |██████████▍                     | 61 kB 4.9 MB/s eta 0:00:01\r\u001b[K     |████████████                    | 71 kB 4.4 MB/s eta 0:00:01\r\u001b[K     |█████████████▉                  | 81 kB 5.0 MB/s eta 0:00:01\r\u001b[K     |███████████████▋                | 92 kB 5.0 MB/s eta 0:00:01\r\u001b[K     |█████████████████▎              | 102 kB 4.3 MB/s eta 0:00:01\r\u001b[K     |███████████████████             | 112 kB 4.3 MB/s eta 0:00:01\r\u001b[K     |████████████████████▊           | 122 kB 4.3 MB/s eta 0:00:01\r\u001b[K     |██████████████████████▌         | 133 kB 4.3 MB/s eta 0:00:01\r\u001b[K     |████████████████████████▏       | 143 kB 4.3 MB/s eta 0:00:01\r\u001b[K     |██████████████████████████      | 153 kB 4.3 MB/s eta 0:00:01\r\u001b[K     |███████████████████████████▊    | 163 kB 4.3 MB/s eta 0:00:01\r\u001b[K     |█████████████████████████████▍  | 174 kB 4.3 MB/s eta 0:00:01\r\u001b[K     |███████████████████████████████▏| 184 kB 4.3 MB/s eta 0:00:01\r\u001b[K     |████████████████████████████████| 189 kB 4.3 MB/s \n",
            "\u001b[?25hCollecting fastdownload<2,>=0.0.5\n",
            "  Downloading fastdownload-0.0.5-py3-none-any.whl (13 kB)\n",
            "Requirement already satisfied: pip in /usr/local/lib/python3.7/dist-packages (from fastai==2.5.3) (21.1.3)\n",
            "Requirement already satisfied: packaging in /usr/local/lib/python3.7/dist-packages (from fastai==2.5.3) (21.3)\n",
            "Collecting fastcore<1.4,>=1.3.22\n",
            "  Downloading fastcore-1.3.27-py3-none-any.whl (56 kB)\n",
            "\u001b[K     |████████████████████████████████| 56 kB 4.4 MB/s \n",
            "\u001b[?25hRequirement already satisfied: fastprogress>=0.2.4 in /usr/local/lib/python3.7/dist-packages (from fastai==2.5.3) (1.0.0)\n",
            "Requirement already satisfied: pillow>6.0.0 in /usr/local/lib/python3.7/dist-packages (from fastai==2.5.3) (7.1.2)\n",
            "Requirement already satisfied: matplotlib in /usr/local/lib/python3.7/dist-packages (from fastai==2.5.3) (3.2.2)\n",
            "Requirement already satisfied: pyyaml in /usr/local/lib/python3.7/dist-packages (from fastai==2.5.3) (3.13)\n",
            "Requirement already satisfied: scipy in /usr/local/lib/python3.7/dist-packages (from fastai==2.5.3) (1.4.1)\n",
            "Requirement already satisfied: torchvision>=0.8.2 in /usr/local/lib/python3.7/dist-packages (from fastai==2.5.3) (0.11.1+cu111)\n",
            "Requirement already satisfied: pandas in /usr/local/lib/python3.7/dist-packages (from fastai==2.5.3) (1.1.5)\n",
            "Requirement already satisfied: requests in /usr/local/lib/python3.7/dist-packages (from fastai==2.5.3) (2.23.0)\n",
            "Requirement already satisfied: spacy<4 in /usr/local/lib/python3.7/dist-packages (from fastai==2.5.3) (2.2.4)\n",
            "Requirement already satisfied: scikit-learn in /usr/local/lib/python3.7/dist-packages (from fastai==2.5.3) (1.0.2)\n",
            "Requirement already satisfied: torch<1.11,>=1.7.0 in /usr/local/lib/python3.7/dist-packages (from fastai==2.5.3) (1.10.0+cu111)\n",
            "Requirement already satisfied: numpy in /usr/local/lib/python3.7/dist-packages (from fastprogress>=0.2.4->fastai==2.5.3) (1.19.5)\n",
            "Requirement already satisfied: thinc==7.4.0 in /usr/local/lib/python3.7/dist-packages (from spacy<4->fastai==2.5.3) (7.4.0)\n",
            "Requirement already satisfied: preshed<3.1.0,>=3.0.2 in /usr/local/lib/python3.7/dist-packages (from spacy<4->fastai==2.5.3) (3.0.6)\n",
            "Requirement already satisfied: murmurhash<1.1.0,>=0.28.0 in /usr/local/lib/python3.7/dist-packages (from spacy<4->fastai==2.5.3) (1.0.6)\n",
            "Requirement already satisfied: srsly<1.1.0,>=1.0.2 in /usr/local/lib/python3.7/dist-packages (from spacy<4->fastai==2.5.3) (1.0.5)\n",
            "Requirement already satisfied: cymem<2.1.0,>=2.0.2 in /usr/local/lib/python3.7/dist-packages (from spacy<4->fastai==2.5.3) (2.0.6)\n",
            "Requirement already satisfied: catalogue<1.1.0,>=0.0.7 in /usr/local/lib/python3.7/dist-packages (from spacy<4->fastai==2.5.3) (1.0.0)\n",
            "Requirement already satisfied: plac<1.2.0,>=0.9.6 in /usr/local/lib/python3.7/dist-packages (from spacy<4->fastai==2.5.3) (1.1.3)\n",
            "Requirement already satisfied: blis<0.5.0,>=0.4.0 in /usr/local/lib/python3.7/dist-packages (from spacy<4->fastai==2.5.3) (0.4.1)\n",
            "Requirement already satisfied: setuptools in /usr/local/lib/python3.7/dist-packages (from spacy<4->fastai==2.5.3) (57.4.0)\n",
            "Requirement already satisfied: wasabi<1.1.0,>=0.4.0 in /usr/local/lib/python3.7/dist-packages (from spacy<4->fastai==2.5.3) (0.9.0)\n",
            "Requirement already satisfied: tqdm<5.0.0,>=4.38.0 in /usr/local/lib/python3.7/dist-packages (from spacy<4->fastai==2.5.3) (4.62.3)\n",
            "Requirement already satisfied: importlib-metadata>=0.20 in /usr/local/lib/python3.7/dist-packages (from catalogue<1.1.0,>=0.0.7->spacy<4->fastai==2.5.3) (4.10.0)\n",
            "Requirement already satisfied: typing-extensions>=3.6.4 in /usr/local/lib/python3.7/dist-packages (from importlib-metadata>=0.20->catalogue<1.1.0,>=0.0.7->spacy<4->fastai==2.5.3) (3.10.0.2)\n",
            "Requirement already satisfied: zipp>=0.5 in /usr/local/lib/python3.7/dist-packages (from importlib-metadata>=0.20->catalogue<1.1.0,>=0.0.7->spacy<4->fastai==2.5.3) (3.7.0)\n",
            "Requirement already satisfied: urllib3!=1.25.0,!=1.25.1,<1.26,>=1.21.1 in /usr/local/lib/python3.7/dist-packages (from requests->fastai==2.5.3) (1.24.3)\n",
            "Requirement already satisfied: idna<3,>=2.5 in /usr/local/lib/python3.7/dist-packages (from requests->fastai==2.5.3) (2.10)\n",
            "Requirement already satisfied: certifi>=2017.4.17 in /usr/local/lib/python3.7/dist-packages (from requests->fastai==2.5.3) (2021.10.8)\n",
            "Requirement already satisfied: chardet<4,>=3.0.2 in /usr/local/lib/python3.7/dist-packages (from requests->fastai==2.5.3) (3.0.4)\n",
            "Requirement already satisfied: python-dateutil>=2.1 in /usr/local/lib/python3.7/dist-packages (from matplotlib->fastai==2.5.3) (2.8.2)\n",
            "Requirement already satisfied: pyparsing!=2.0.4,!=2.1.2,!=2.1.6,>=2.0.1 in /usr/local/lib/python3.7/dist-packages (from matplotlib->fastai==2.5.3) (3.0.6)\n",
            "Requirement already satisfied: kiwisolver>=1.0.1 in /usr/local/lib/python3.7/dist-packages (from matplotlib->fastai==2.5.3) (1.3.2)\n",
            "Requirement already satisfied: cycler>=0.10 in /usr/local/lib/python3.7/dist-packages (from matplotlib->fastai==2.5.3) (0.11.0)\n",
            "Requirement already satisfied: six>=1.5 in /usr/local/lib/python3.7/dist-packages (from python-dateutil>=2.1->matplotlib->fastai==2.5.3) (1.15.0)\n",
            "Requirement already satisfied: pytz>=2017.2 in /usr/local/lib/python3.7/dist-packages (from pandas->fastai==2.5.3) (2018.9)\n",
            "Requirement already satisfied: threadpoolctl>=2.0.0 in /usr/local/lib/python3.7/dist-packages (from scikit-learn->fastai==2.5.3) (3.0.0)\n",
            "Requirement already satisfied: joblib>=0.11 in /usr/local/lib/python3.7/dist-packages (from scikit-learn->fastai==2.5.3) (1.1.0)\n",
            "Installing collected packages: fastcore, fastdownload, fastai\n",
            "  Attempting uninstall: fastai\n",
            "    Found existing installation: fastai 1.0.61\n",
            "    Uninstalling fastai-1.0.61:\n",
            "      Successfully uninstalled fastai-1.0.61\n",
            "Successfully installed fastai-2.5.3 fastcore-1.3.27 fastdownload-0.0.5\n"
          ]
        }
      ]
    },
    {
      "cell_type": "code",
      "metadata": {
        "id": "MULTGpvdhvrt",
        "colab": {
          "base_uri": "https://localhost:8080/",
          "height": 0
        },
        "outputId": "dbedd653-43f6-463c-adb7-92943f6488b8"
      },
      "source": [
        "from fastai.vision.all import *\n",
        "\n",
        "import fastai\n",
        "fastai.__version__"
      ],
      "execution_count": 3,
      "outputs": [
        {
          "output_type": "execute_result",
          "data": {
            "application/vnd.google.colaboratory.intrinsic+json": {
              "type": "string"
            },
            "text/plain": [
              "'2.5.3'"
            ]
          },
          "metadata": {},
          "execution_count": 3
        }
      ]
    },
    {
      "cell_type": "code",
      "source": [
        ""
      ],
      "metadata": {
        "id": "YvL1pRGNgA75"
      },
      "execution_count": 3,
      "outputs": []
    },
    {
      "cell_type": "markdown",
      "source": [
        "# Convolutions"
      ],
      "metadata": {
        "id": "xA21ziAg18MB"
      }
    },
    {
      "cell_type": "code",
      "source": [
        "top_edge = tensor([[-1, -1, -1],\n",
        "                   [0, 0, 0],\n",
        "                   [1, 1, 1]]).float()"
      ],
      "metadata": {
        "id": "XgytjxBX18-y"
      },
      "execution_count": 4,
      "outputs": []
    },
    {
      "cell_type": "code",
      "source": [
        "path = untar_data(URLs.MNIST_SAMPLE)"
      ],
      "metadata": {
        "id": "cW-FJoJp3LJa",
        "outputId": "8500a947-2c40-442a-ca2b-54836108d958",
        "colab": {
          "base_uri": "https://localhost:8080/",
          "height": 0
        }
      },
      "execution_count": 5,
      "outputs": [
        {
          "output_type": "display_data",
          "data": {
            "text/html": [
              "\n",
              "    <div>\n",
              "        <style>\n",
              "            /* Turns off some styling */\n",
              "            progress {\n",
              "                /* gets rid of default border in Firefox and Opera. */\n",
              "                border: none;\n",
              "                /* Needs to be in here for Safari polyfill so background images work as expected. */\n",
              "                background-size: auto;\n",
              "            }\n",
              "            .progress-bar-interrupted, .progress-bar-interrupted::-webkit-progress-bar {\n",
              "                background: #F44336;\n",
              "            }\n",
              "        </style>\n",
              "      <progress value='3219456' class='' max='3214948' style='width:300px; height:20px; vertical-align: middle;'></progress>\n",
              "      100.14% [3219456/3214948 00:01<00:00]\n",
              "    </div>\n",
              "    "
            ],
            "text/plain": [
              "<IPython.core.display.HTML object>"
            ]
          },
          "metadata": {}
        }
      ]
    },
    {
      "cell_type": "code",
      "source": [
        ""
      ],
      "metadata": {
        "id": "CK8BcuS93b3e"
      },
      "execution_count": 5,
      "outputs": []
    },
    {
      "cell_type": "code",
      "source": [
        "im3 = Image.open(path/'train/3/12.png')\n",
        "\n",
        "show_image(im3);"
      ],
      "metadata": {
        "id": "zRYLmUHe3hc_",
        "outputId": "8c6ee39f-88cd-4f6e-f446-56163cac683f",
        "colab": {
          "base_uri": "https://localhost:8080/",
          "height": 0
        }
      },
      "execution_count": 6,
      "outputs": [
        {
          "output_type": "display_data",
          "data": {
            "image/png": "[encoded data removed]",
            "text/plain": [
              "<Figure size 72x72 with 1 Axes>"
            ]
          },
          "metadata": {
            "needs_background": "light"
          }
        }
      ]
    },
    {
      "cell_type": "code",
      "source": [
        "im3_t = tensor(im3)\n",
        "\n",
        "im3_t[0:3, 0:3] * top_edge"
      ],
      "metadata": {
        "id": "sH8XgEfT3nr-",
        "outputId": "9db9f968-46ff-4a9b-813f-5cc9d6074fff",
        "colab": {
          "base_uri": "https://localhost:8080/"
        }
      },
      "execution_count": 7,
      "outputs": [
        {
          "output_type": "execute_result",
          "data": {
            "text/plain": [
              "tensor([[-0., -0., -0.],\n",
              "        [0., 0., 0.],\n",
              "        [0., 0., 0.]])"
            ]
          },
          "metadata": {},
          "execution_count": 7
        }
      ]
    },
    {
      "cell_type": "code",
      "source": [
        ""
      ],
      "metadata": {
        "id": "OP6ap_pc4WwL"
      },
      "execution_count": 7,
      "outputs": []
    },
    {
      "cell_type": "code",
      "source": [
        "(im3_t[0:3,0:3] * top_edge).sum()"
      ],
      "metadata": {
        "id": "1VOnV-q25Os7",
        "outputId": "75eb021c-727b-446e-d56b-4a1e7ec0c14a",
        "colab": {
          "base_uri": "https://localhost:8080/"
        }
      },
      "execution_count": 8,
      "outputs": [
        {
          "output_type": "execute_result",
          "data": {
            "text/plain": [
              "tensor(0.)"
            ]
          },
          "metadata": {},
          "execution_count": 8
        }
      ]
    },
    {
      "cell_type": "code",
      "source": [
        ""
      ],
      "metadata": {
        "id": "nlNquMEr5Wuq"
      },
      "execution_count": 8,
      "outputs": []
    },
    {
      "cell_type": "code",
      "source": [
        "df = pd.DataFrame(im3_t[3:10, :20])\n",
        "\n",
        "df.style.set_properties(**{'font-size': '6pt'}).background_gradient('Greys')"
      ],
      "metadata": {
        "id": "57M3kg_t5Wo3",
        "outputId": "3f16c1be-9f73-4743-8cf5-260389f1cfa5",
        "colab": {
          "base_uri": "https://localhost:8080/",
          "height": 0
        }
      },
      "execution_count": 9,
      "outputs": [
        {
          "output_type": "execute_result",
          "data": {
            "text/html": [
              "<style  type=\"text/css\" >\n",
              "#T_a8c7183c_7483_11ec_915f_0242ac1c0002row0_col0,#T_a8c7183c_7483_11ec_915f_0242ac1c0002row0_col1,#T_a8c7183c_7483_11ec_915f_0242ac1c0002row0_col2,#T_a8c7183c_7483_11ec_915f_0242ac1c0002row0_col3,#T_a8c7183c_7483_11ec_915f_0242ac1c0002row0_col4,#T_a8c7183c_7483_11ec_915f_0242ac1c0002row0_col5,#T_a8c7183c_7483_11ec_915f_0242ac1c0002row0_col6,#T_a8c7183c_7483_11ec_915f_0242ac1c0002row0_col7,#T_a8c7183c_7483_11ec_915f_0242ac1c0002row0_col8,#T_a8c7183c_7483_11ec_915f_0242ac1c0002row0_col9,#T_a8c7183c_7483_11ec_915f_0242ac1c0002row0_col10,#T_a8c7183c_7483_11ec_915f_0242ac1c0002row0_col11,#T_a8c7183c_7483_11ec_915f_0242ac1c0002row0_col12,#T_a8c7183c_7483_11ec_915f_0242ac1c0002row0_col13,#T_a8c7183c_7483_11ec_915f_0242ac1c0002row0_col14,#T_a8c7183c_7483_11ec_915f_0242ac1c0002row0_col15,#T_a8c7183c_7483_11ec_915f_0242ac1c0002row0_col16,#T_a8c7183c_7483_11ec_915f_0242ac1c0002row0_col17,#T_a8c7183c_7483_11ec_915f_0242ac1c0002row0_col18,#T_a8c7183c_7483_11ec_915f_0242ac1c0002row0_col19,#T_a8c7183c_7483_11ec_915f_0242ac1c0002row1_col0,#T_a8c7183c_7483_11ec_915f_0242ac1c0002row1_col1,#T_a8c7183c_7483_11ec_915f_0242ac1c0002row1_col2,#T_a8c7183c_7483_11ec_915f_0242ac1c0002row1_col3,#T_a8c7183c_7483_11ec_915f_0242ac1c0002row1_col4,#T_a8c7183c_7483_11ec_915f_0242ac1c0002row1_col5,#T_a8c7183c_7483_11ec_915f_0242ac1c0002row1_col6,#T_a8c7183c_7483_11ec_915f_0242ac1c0002row1_col7,#T_a8c7183c_7483_11ec_915f_0242ac1c0002row1_col8,#T_a8c7183c_7483_11ec_915f_0242ac1c0002row1_col9,#T_a8c7183c_7483_11ec_915f_0242ac1c0002row1_col10,#T_a8c7183c_7483_11ec_915f_0242ac1c0002row1_col11,#T_a8c7183c_7483_11ec_915f_0242ac1c0002row1_col12,#T_a8c7183c_7483_11ec_915f_0242ac1c0002row1_col13,#T_a8c7183c_7483_11ec_915f_0242ac1c0002row1_col14,#T_a8c7183c_7483_11ec_915f_0242ac1c0002row1_col15,#T_a8c7183c_7483_11ec_915f_0242ac1c0002row1_col16,#T_a8c7183c_7483_11ec_915f_0242ac1c0002row1_col17,#T_a8c7183c_7483_11ec_915f_0242ac1c0002row1_col18,#T_a8c7183c_7483_11ec_915f_0242ac1c0002row1_col19,#T_a8c7183c_7483_11ec_915f_0242ac1c0002row2_col0,#T_a8c7183c_7483_11ec_915f_0242ac1c0002row2_col1,#T_a8c7183c_7483_11ec_915f_0242ac1c0002row2_col2,#T_a8c7183c_7483_11ec_915f_0242ac1c0002row2_col16,#T_a8c7183c_7483_11ec_915f_0242ac1c0002row2_col17,#T_a8c7183c_7483_11ec_915f_0242ac1c0002row2_col18,#T_a8c7183c_7483_11ec_915f_0242ac1c0002row2_col19,#T_a8c7183c_7483_11ec_915f_0242ac1c0002row3_col0,#T_a8c7183c_7483_11ec_915f_0242ac1c0002row3_col1,#T_a8c7183c_7483_11ec_915f_0242ac1c0002row3_col2,#T_a8c7183c_7483_11ec_915f_0242ac1c0002row3_col19,#T_a8c7183c_7483_11ec_915f_0242ac1c0002row4_col0,#T_a8c7183c_7483_11ec_915f_0242ac1c0002row4_col1,#T_a8c7183c_7483_11ec_915f_0242ac1c0002row4_col2,#T_a8c7183c_7483_11ec_915f_0242ac1c0002row4_col19,#T_a8c7183c_7483_11ec_915f_0242ac1c0002row5_col0,#T_a8c7183c_7483_11ec_915f_0242ac1c0002row5_col1,#T_a8c7183c_7483_11ec_915f_0242ac1c0002row5_col2,#T_a8c7183c_7483_11ec_915f_0242ac1c0002row5_col8,#T_a8c7183c_7483_11ec_915f_0242ac1c0002row5_col9,#T_a8c7183c_7483_11ec_915f_0242ac1c0002row5_col10,#T_a8c7183c_7483_11ec_915f_0242ac1c0002row5_col11,#T_a8c7183c_7483_11ec_915f_0242ac1c0002row5_col12,#T_a8c7183c_7483_11ec_915f_0242ac1c0002row5_col13,#T_a8c7183c_7483_11ec_915f_0242ac1c0002row5_col19,#T_a8c7183c_7483_11ec_915f_0242ac1c0002row6_col0,#T_a8c7183c_7483_11ec_915f_0242ac1c0002row6_col1,#T_a8c7183c_7483_11ec_915f_0242ac1c0002row6_col2,#T_a8c7183c_7483_11ec_915f_0242ac1c0002row6_col3,#T_a8c7183c_7483_11ec_915f_0242ac1c0002row6_col4,#T_a8c7183c_7483_11ec_915f_0242ac1c0002row6_col5,#T_a8c7183c_7483_11ec_915f_0242ac1c0002row6_col6,#T_a8c7183c_7483_11ec_915f_0242ac1c0002row6_col7,#T_a8c7183c_7483_11ec_915f_0242ac1c0002row6_col8,#T_a8c7183c_7483_11ec_915f_0242ac1c0002row6_col9,#T_a8c7183c_7483_11ec_915f_0242ac1c0002row6_col10,#T_a8c7183c_7483_11ec_915f_0242ac1c0002row6_col11,#T_a8c7183c_7483_11ec_915f_0242ac1c0002row6_col12,#T_a8c7183c_7483_11ec_915f_0242ac1c0002row6_col13,#T_a8c7183c_7483_11ec_915f_0242ac1c0002row6_col19{\n",
              "            font-size:  6pt;\n",
              "            background-color:  #ffffff;\n",
              "            color:  #000000;\n",
              "        }#T_a8c7183c_7483_11ec_915f_0242ac1c0002row2_col3,#T_a8c7183c_7483_11ec_915f_0242ac1c0002row5_col14{\n",
              "            font-size:  6pt;\n",
              "            background-color:  #f9f9f9;\n",
              "            color:  #000000;\n",
              "        }#T_a8c7183c_7483_11ec_915f_0242ac1c0002row2_col4{\n",
              "            font-size:  6pt;\n",
              "            background-color:  #b9b9b9;\n",
              "            color:  #000000;\n",
              "        }#T_a8c7183c_7483_11ec_915f_0242ac1c0002row2_col5{\n",
              "            font-size:  6pt;\n",
              "            background-color:  #c1c1c1;\n",
              "            color:  #000000;\n",
              "        }#T_a8c7183c_7483_11ec_915f_0242ac1c0002row2_col6{\n",
              "            font-size:  6pt;\n",
              "            background-color:  #858585;\n",
              "            color:  #000000;\n",
              "        }#T_a8c7183c_7483_11ec_915f_0242ac1c0002row2_col7,#T_a8c7183c_7483_11ec_915f_0242ac1c0002row2_col10,#T_a8c7183c_7483_11ec_915f_0242ac1c0002row2_col11,#T_a8c7183c_7483_11ec_915f_0242ac1c0002row2_col12,#T_a8c7183c_7483_11ec_915f_0242ac1c0002row2_col13{\n",
              "            font-size:  6pt;\n",
              "            background-color:  #777777;\n",
              "            color:  #000000;\n",
              "        }#T_a8c7183c_7483_11ec_915f_0242ac1c0002row2_col8{\n",
              "            font-size:  6pt;\n",
              "            background-color:  #090909;\n",
              "            color:  #f1f1f1;\n",
              "        }#T_a8c7183c_7483_11ec_915f_0242ac1c0002row2_col9{\n",
              "            font-size:  6pt;\n",
              "            background-color:  #5b5b5b;\n",
              "            color:  #f1f1f1;\n",
              "        }#T_a8c7183c_7483_11ec_915f_0242ac1c0002row2_col14{\n",
              "            font-size:  6pt;\n",
              "            background-color:  #919191;\n",
              "            color:  #000000;\n",
              "        }#T_a8c7183c_7483_11ec_915f_0242ac1c0002row2_col15{\n",
              "            font-size:  6pt;\n",
              "            background-color:  #e1e1e1;\n",
              "            color:  #000000;\n",
              "        }#T_a8c7183c_7483_11ec_915f_0242ac1c0002row3_col3{\n",
              "            font-size:  6pt;\n",
              "            background-color:  #727272;\n",
              "            color:  #000000;\n",
              "        }#T_a8c7183c_7483_11ec_915f_0242ac1c0002row3_col4,#T_a8c7183c_7483_11ec_915f_0242ac1c0002row3_col5,#T_a8c7183c_7483_11ec_915f_0242ac1c0002row3_col6,#T_a8c7183c_7483_11ec_915f_0242ac1c0002row3_col7,#T_a8c7183c_7483_11ec_915f_0242ac1c0002row3_col8,#T_a8c7183c_7483_11ec_915f_0242ac1c0002row3_col9,#T_a8c7183c_7483_11ec_915f_0242ac1c0002row3_col10,#T_a8c7183c_7483_11ec_915f_0242ac1c0002row3_col11,#T_a8c7183c_7483_11ec_915f_0242ac1c0002row3_col12,#T_a8c7183c_7483_11ec_915f_0242ac1c0002row3_col13,#T_a8c7183c_7483_11ec_915f_0242ac1c0002row3_col14,#T_a8c7183c_7483_11ec_915f_0242ac1c0002row4_col3,#T_a8c7183c_7483_11ec_915f_0242ac1c0002row4_col4,#T_a8c7183c_7483_11ec_915f_0242ac1c0002row4_col5,#T_a8c7183c_7483_11ec_915f_0242ac1c0002row4_col6,#T_a8c7183c_7483_11ec_915f_0242ac1c0002row4_col15,#T_a8c7183c_7483_11ec_915f_0242ac1c0002row4_col16,#T_a8c7183c_7483_11ec_915f_0242ac1c0002row4_col17,#T_a8c7183c_7483_11ec_915f_0242ac1c0002row5_col16,#T_a8c7183c_7483_11ec_915f_0242ac1c0002row5_col17,#T_a8c7183c_7483_11ec_915f_0242ac1c0002row5_col18,#T_a8c7183c_7483_11ec_915f_0242ac1c0002row6_col15,#T_a8c7183c_7483_11ec_915f_0242ac1c0002row6_col16{\n",
              "            font-size:  6pt;\n",
              "            background-color:  #000000;\n",
              "            color:  #f1f1f1;\n",
              "        }#T_a8c7183c_7483_11ec_915f_0242ac1c0002row3_col15{\n",
              "            font-size:  6pt;\n",
              "            background-color:  #020202;\n",
              "            color:  #f1f1f1;\n",
              "        }#T_a8c7183c_7483_11ec_915f_0242ac1c0002row3_col16{\n",
              "            font-size:  6pt;\n",
              "            background-color:  #363636;\n",
              "            color:  #f1f1f1;\n",
              "        }#T_a8c7183c_7483_11ec_915f_0242ac1c0002row3_col17{\n",
              "            font-size:  6pt;\n",
              "            background-color:  #9d9d9d;\n",
              "            color:  #000000;\n",
              "        }#T_a8c7183c_7483_11ec_915f_0242ac1c0002row3_col18{\n",
              "            font-size:  6pt;\n",
              "            background-color:  #dfdfdf;\n",
              "            color:  #000000;\n",
              "        }#T_a8c7183c_7483_11ec_915f_0242ac1c0002row4_col7{\n",
              "            font-size:  6pt;\n",
              "            background-color:  #161616;\n",
              "            color:  #f1f1f1;\n",
              "        }#T_a8c7183c_7483_11ec_915f_0242ac1c0002row4_col8,#T_a8c7183c_7483_11ec_915f_0242ac1c0002row4_col9,#T_a8c7183c_7483_11ec_915f_0242ac1c0002row4_col10,#T_a8c7183c_7483_11ec_915f_0242ac1c0002row4_col11,#T_a8c7183c_7483_11ec_915f_0242ac1c0002row4_col13{\n",
              "            font-size:  6pt;\n",
              "            background-color:  #535353;\n",
              "            color:  #f1f1f1;\n",
              "        }#T_a8c7183c_7483_11ec_915f_0242ac1c0002row4_col12{\n",
              "            font-size:  6pt;\n",
              "            background-color:  #7c7c7c;\n",
              "            color:  #000000;\n",
              "        }#T_a8c7183c_7483_11ec_915f_0242ac1c0002row4_col14{\n",
              "            font-size:  6pt;\n",
              "            background-color:  #3d3d3d;\n",
              "            color:  #f1f1f1;\n",
              "        }#T_a8c7183c_7483_11ec_915f_0242ac1c0002row4_col18{\n",
              "            font-size:  6pt;\n",
              "            background-color:  #999999;\n",
              "            color:  #000000;\n",
              "        }#T_a8c7183c_7483_11ec_915f_0242ac1c0002row5_col3{\n",
              "            font-size:  6pt;\n",
              "            background-color:  #eaeaea;\n",
              "            color:  #000000;\n",
              "        }#T_a8c7183c_7483_11ec_915f_0242ac1c0002row5_col4{\n",
              "            font-size:  6pt;\n",
              "            background-color:  #d0d0d0;\n",
              "            color:  #000000;\n",
              "        }#T_a8c7183c_7483_11ec_915f_0242ac1c0002row5_col5,#T_a8c7183c_7483_11ec_915f_0242ac1c0002row5_col6{\n",
              "            font-size:  6pt;\n",
              "            background-color:  #eeeeee;\n",
              "            color:  #000000;\n",
              "        }#T_a8c7183c_7483_11ec_915f_0242ac1c0002row5_col7{\n",
              "            font-size:  6pt;\n",
              "            background-color:  #f3f3f3;\n",
              "            color:  #000000;\n",
              "        }#T_a8c7183c_7483_11ec_915f_0242ac1c0002row5_col15{\n",
              "            font-size:  6pt;\n",
              "            background-color:  #232323;\n",
              "            color:  #f1f1f1;\n",
              "        }#T_a8c7183c_7483_11ec_915f_0242ac1c0002row6_col14{\n",
              "            font-size:  6pt;\n",
              "            background-color:  #c2c2c2;\n",
              "            color:  #000000;\n",
              "        }#T_a8c7183c_7483_11ec_915f_0242ac1c0002row6_col17{\n",
              "            font-size:  6pt;\n",
              "            background-color:  #080808;\n",
              "            color:  #f1f1f1;\n",
              "        }#T_a8c7183c_7483_11ec_915f_0242ac1c0002row6_col18{\n",
              "            font-size:  6pt;\n",
              "            background-color:  #c4c4c4;\n",
              "            color:  #000000;\n",
              "        }</style><table id=\"T_a8c7183c_7483_11ec_915f_0242ac1c0002\" class=\"dataframe\"><thead>    <tr>        <th class=\"blank level0\" ></th>        <th class=\"col_heading level0 col0\" >0</th>        <th class=\"col_heading level0 col1\" >1</th>        <th class=\"col_heading level0 col2\" >2</th>        <th class=\"col_heading level0 col3\" >3</th>        <th class=\"col_heading level0 col4\" >4</th>        <th class=\"col_heading level0 col5\" >5</th>        <th class=\"col_heading level0 col6\" >6</th>        <th class=\"col_heading level0 col7\" >7</th>        <th class=\"col_heading level0 col8\" >8</th>        <th class=\"col_heading level0 col9\" >9</th>        <th class=\"col_heading level0 col10\" >10</th>        <th class=\"col_heading level0 col11\" >11</th>        <th class=\"col_heading level0 col12\" >12</th>        <th class=\"col_heading level0 col13\" >13</th>        <th class=\"col_heading level0 col14\" >14</th>        <th class=\"col_heading level0 col15\" >15</th>        <th class=\"col_heading level0 col16\" >16</th>        <th class=\"col_heading level0 col17\" >17</th>        <th class=\"col_heading level0 col18\" >18</th>        <th class=\"col_heading level0 col19\" >19</th>    </tr></thead><tbody>\n",
              "                <tr>\n",
              "                        <th id=\"T_a8c7183c_7483_11ec_915f_0242ac1c0002level0_row0\" class=\"row_heading level0 row0\" >0</th>\n",
              "                        <td id=\"T_a8c7183c_7483_11ec_915f_0242ac1c0002row0_col0\" class=\"data row0 col0\" >0</td>\n",
              "                        <td id=\"T_a8c7183c_7483_11ec_915f_0242ac1c0002row0_col1\" class=\"data row0 col1\" >0</td>\n",
              "                        <td id=\"T_a8c7183c_7483_11ec_915f_0242ac1c0002row0_col2\" class=\"data row0 col2\" >0</td>\n",
              "                        <td id=\"T_a8c7183c_7483_11ec_915f_0242ac1c0002row0_col3\" class=\"data row0 col3\" >0</td>\n",
              "                        <td id=\"T_a8c7183c_7483_11ec_915f_0242ac1c0002row0_col4\" class=\"data row0 col4\" >0</td>\n",
              "                        <td id=\"T_a8c7183c_7483_11ec_915f_0242ac1c0002row0_col5\" class=\"data row0 col5\" >0</td>\n",
              "                        <td id=\"T_a8c7183c_7483_11ec_915f_0242ac1c0002row0_col6\" class=\"data row0 col6\" >0</td>\n",
              "                        <td id=\"T_a8c7183c_7483_11ec_915f_0242ac1c0002row0_col7\" class=\"data row0 col7\" >0</td>\n",
              "                        <td id=\"T_a8c7183c_7483_11ec_915f_0242ac1c0002row0_col8\" class=\"data row0 col8\" >0</td>\n",
              "                        <td id=\"T_a8c7183c_7483_11ec_915f_0242ac1c0002row0_col9\" class=\"data row0 col9\" >0</td>\n",
              "                        <td id=\"T_a8c7183c_7483_11ec_915f_0242ac1c0002row0_col10\" class=\"data row0 col10\" >0</td>\n",
              "                        <td id=\"T_a8c7183c_7483_11ec_915f_0242ac1c0002row0_col11\" class=\"data row0 col11\" >0</td>\n",
              "                        <td id=\"T_a8c7183c_7483_11ec_915f_0242ac1c0002row0_col12\" class=\"data row0 col12\" >0</td>\n",
              "                        <td id=\"T_a8c7183c_7483_11ec_915f_0242ac1c0002row0_col13\" class=\"data row0 col13\" >0</td>\n",
              "                        <td id=\"T_a8c7183c_7483_11ec_915f_0242ac1c0002row0_col14\" class=\"data row0 col14\" >0</td>\n",
              "                        <td id=\"T_a8c7183c_7483_11ec_915f_0242ac1c0002row0_col15\" class=\"data row0 col15\" >0</td>\n",
              "                        <td id=\"T_a8c7183c_7483_11ec_915f_0242ac1c0002row0_col16\" class=\"data row0 col16\" >0</td>\n",
              "                        <td id=\"T_a8c7183c_7483_11ec_915f_0242ac1c0002row0_col17\" class=\"data row0 col17\" >0</td>\n",
              "                        <td id=\"T_a8c7183c_7483_11ec_915f_0242ac1c0002row0_col18\" class=\"data row0 col18\" >0</td>\n",
              "                        <td id=\"T_a8c7183c_7483_11ec_915f_0242ac1c0002row0_col19\" class=\"data row0 col19\" >0</td>\n",
              "            </tr>\n",
              "            <tr>\n",
              "                        <th id=\"T_a8c7183c_7483_11ec_915f_0242ac1c0002level0_row1\" class=\"row_heading level0 row1\" >1</th>\n",
              "                        <td id=\"T_a8c7183c_7483_11ec_915f_0242ac1c0002row1_col0\" class=\"data row1 col0\" >0</td>\n",
              "                        <td id=\"T_a8c7183c_7483_11ec_915f_0242ac1c0002row1_col1\" class=\"data row1 col1\" >0</td>\n",
              "                        <td id=\"T_a8c7183c_7483_11ec_915f_0242ac1c0002row1_col2\" class=\"data row1 col2\" >0</td>\n",
              "                        <td id=\"T_a8c7183c_7483_11ec_915f_0242ac1c0002row1_col3\" class=\"data row1 col3\" >0</td>\n",
              "                        <td id=\"T_a8c7183c_7483_11ec_915f_0242ac1c0002row1_col4\" class=\"data row1 col4\" >0</td>\n",
              "                        <td id=\"T_a8c7183c_7483_11ec_915f_0242ac1c0002row1_col5\" class=\"data row1 col5\" >0</td>\n",
              "                        <td id=\"T_a8c7183c_7483_11ec_915f_0242ac1c0002row1_col6\" class=\"data row1 col6\" >0</td>\n",
              "                        <td id=\"T_a8c7183c_7483_11ec_915f_0242ac1c0002row1_col7\" class=\"data row1 col7\" >0</td>\n",
              "                        <td id=\"T_a8c7183c_7483_11ec_915f_0242ac1c0002row1_col8\" class=\"data row1 col8\" >0</td>\n",
              "                        <td id=\"T_a8c7183c_7483_11ec_915f_0242ac1c0002row1_col9\" class=\"data row1 col9\" >0</td>\n",
              "                        <td id=\"T_a8c7183c_7483_11ec_915f_0242ac1c0002row1_col10\" class=\"data row1 col10\" >0</td>\n",
              "                        <td id=\"T_a8c7183c_7483_11ec_915f_0242ac1c0002row1_col11\" class=\"data row1 col11\" >0</td>\n",
              "                        <td id=\"T_a8c7183c_7483_11ec_915f_0242ac1c0002row1_col12\" class=\"data row1 col12\" >0</td>\n",
              "                        <td id=\"T_a8c7183c_7483_11ec_915f_0242ac1c0002row1_col13\" class=\"data row1 col13\" >0</td>\n",
              "                        <td id=\"T_a8c7183c_7483_11ec_915f_0242ac1c0002row1_col14\" class=\"data row1 col14\" >0</td>\n",
              "                        <td id=\"T_a8c7183c_7483_11ec_915f_0242ac1c0002row1_col15\" class=\"data row1 col15\" >0</td>\n",
              "                        <td id=\"T_a8c7183c_7483_11ec_915f_0242ac1c0002row1_col16\" class=\"data row1 col16\" >0</td>\n",
              "                        <td id=\"T_a8c7183c_7483_11ec_915f_0242ac1c0002row1_col17\" class=\"data row1 col17\" >0</td>\n",
              "                        <td id=\"T_a8c7183c_7483_11ec_915f_0242ac1c0002row1_col18\" class=\"data row1 col18\" >0</td>\n",
              "                        <td id=\"T_a8c7183c_7483_11ec_915f_0242ac1c0002row1_col19\" class=\"data row1 col19\" >0</td>\n",
              "            </tr>\n",
              "            <tr>\n",
              "                        <th id=\"T_a8c7183c_7483_11ec_915f_0242ac1c0002level0_row2\" class=\"row_heading level0 row2\" >2</th>\n",
              "                        <td id=\"T_a8c7183c_7483_11ec_915f_0242ac1c0002row2_col0\" class=\"data row2 col0\" >0</td>\n",
              "                        <td id=\"T_a8c7183c_7483_11ec_915f_0242ac1c0002row2_col1\" class=\"data row2 col1\" >0</td>\n",
              "                        <td id=\"T_a8c7183c_7483_11ec_915f_0242ac1c0002row2_col2\" class=\"data row2 col2\" >0</td>\n",
              "                        <td id=\"T_a8c7183c_7483_11ec_915f_0242ac1c0002row2_col3\" class=\"data row2 col3\" >12</td>\n",
              "                        <td id=\"T_a8c7183c_7483_11ec_915f_0242ac1c0002row2_col4\" class=\"data row2 col4\" >99</td>\n",
              "                        <td id=\"T_a8c7183c_7483_11ec_915f_0242ac1c0002row2_col5\" class=\"data row2 col5\" >91</td>\n",
              "                        <td id=\"T_a8c7183c_7483_11ec_915f_0242ac1c0002row2_col6\" class=\"data row2 col6\" >142</td>\n",
              "                        <td id=\"T_a8c7183c_7483_11ec_915f_0242ac1c0002row2_col7\" class=\"data row2 col7\" >155</td>\n",
              "                        <td id=\"T_a8c7183c_7483_11ec_915f_0242ac1c0002row2_col8\" class=\"data row2 col8\" >246</td>\n",
              "                        <td id=\"T_a8c7183c_7483_11ec_915f_0242ac1c0002row2_col9\" class=\"data row2 col9\" >182</td>\n",
              "                        <td id=\"T_a8c7183c_7483_11ec_915f_0242ac1c0002row2_col10\" class=\"data row2 col10\" >155</td>\n",
              "                        <td id=\"T_a8c7183c_7483_11ec_915f_0242ac1c0002row2_col11\" class=\"data row2 col11\" >155</td>\n",
              "                        <td id=\"T_a8c7183c_7483_11ec_915f_0242ac1c0002row2_col12\" class=\"data row2 col12\" >155</td>\n",
              "                        <td id=\"T_a8c7183c_7483_11ec_915f_0242ac1c0002row2_col13\" class=\"data row2 col13\" >155</td>\n",
              "                        <td id=\"T_a8c7183c_7483_11ec_915f_0242ac1c0002row2_col14\" class=\"data row2 col14\" >131</td>\n",
              "                        <td id=\"T_a8c7183c_7483_11ec_915f_0242ac1c0002row2_col15\" class=\"data row2 col15\" >52</td>\n",
              "                        <td id=\"T_a8c7183c_7483_11ec_915f_0242ac1c0002row2_col16\" class=\"data row2 col16\" >0</td>\n",
              "                        <td id=\"T_a8c7183c_7483_11ec_915f_0242ac1c0002row2_col17\" class=\"data row2 col17\" >0</td>\n",
              "                        <td id=\"T_a8c7183c_7483_11ec_915f_0242ac1c0002row2_col18\" class=\"data row2 col18\" >0</td>\n",
              "                        <td id=\"T_a8c7183c_7483_11ec_915f_0242ac1c0002row2_col19\" class=\"data row2 col19\" >0</td>\n",
              "            </tr>\n",
              "            <tr>\n",
              "                        <th id=\"T_a8c7183c_7483_11ec_915f_0242ac1c0002level0_row3\" class=\"row_heading level0 row3\" >3</th>\n",
              "                        <td id=\"T_a8c7183c_7483_11ec_915f_0242ac1c0002row3_col0\" class=\"data row3 col0\" >0</td>\n",
              "                        <td id=\"T_a8c7183c_7483_11ec_915f_0242ac1c0002row3_col1\" class=\"data row3 col1\" >0</td>\n",
              "                        <td id=\"T_a8c7183c_7483_11ec_915f_0242ac1c0002row3_col2\" class=\"data row3 col2\" >0</td>\n",
              "                        <td id=\"T_a8c7183c_7483_11ec_915f_0242ac1c0002row3_col3\" class=\"data row3 col3\" >138</td>\n",
              "                        <td id=\"T_a8c7183c_7483_11ec_915f_0242ac1c0002row3_col4\" class=\"data row3 col4\" >254</td>\n",
              "                        <td id=\"T_a8c7183c_7483_11ec_915f_0242ac1c0002row3_col5\" class=\"data row3 col5\" >254</td>\n",
              "                        <td id=\"T_a8c7183c_7483_11ec_915f_0242ac1c0002row3_col6\" class=\"data row3 col6\" >254</td>\n",
              "                        <td id=\"T_a8c7183c_7483_11ec_915f_0242ac1c0002row3_col7\" class=\"data row3 col7\" >254</td>\n",
              "                        <td id=\"T_a8c7183c_7483_11ec_915f_0242ac1c0002row3_col8\" class=\"data row3 col8\" >254</td>\n",
              "                        <td id=\"T_a8c7183c_7483_11ec_915f_0242ac1c0002row3_col9\" class=\"data row3 col9\" >254</td>\n",
              "                        <td id=\"T_a8c7183c_7483_11ec_915f_0242ac1c0002row3_col10\" class=\"data row3 col10\" >254</td>\n",
              "                        <td id=\"T_a8c7183c_7483_11ec_915f_0242ac1c0002row3_col11\" class=\"data row3 col11\" >254</td>\n",
              "                        <td id=\"T_a8c7183c_7483_11ec_915f_0242ac1c0002row3_col12\" class=\"data row3 col12\" >254</td>\n",
              "                        <td id=\"T_a8c7183c_7483_11ec_915f_0242ac1c0002row3_col13\" class=\"data row3 col13\" >254</td>\n",
              "                        <td id=\"T_a8c7183c_7483_11ec_915f_0242ac1c0002row3_col14\" class=\"data row3 col14\" >254</td>\n",
              "                        <td id=\"T_a8c7183c_7483_11ec_915f_0242ac1c0002row3_col15\" class=\"data row3 col15\" >252</td>\n",
              "                        <td id=\"T_a8c7183c_7483_11ec_915f_0242ac1c0002row3_col16\" class=\"data row3 col16\" >210</td>\n",
              "                        <td id=\"T_a8c7183c_7483_11ec_915f_0242ac1c0002row3_col17\" class=\"data row3 col17\" >122</td>\n",
              "                        <td id=\"T_a8c7183c_7483_11ec_915f_0242ac1c0002row3_col18\" class=\"data row3 col18\" >33</td>\n",
              "                        <td id=\"T_a8c7183c_7483_11ec_915f_0242ac1c0002row3_col19\" class=\"data row3 col19\" >0</td>\n",
              "            </tr>\n",
              "            <tr>\n",
              "                        <th id=\"T_a8c7183c_7483_11ec_915f_0242ac1c0002level0_row4\" class=\"row_heading level0 row4\" >4</th>\n",
              "                        <td id=\"T_a8c7183c_7483_11ec_915f_0242ac1c0002row4_col0\" class=\"data row4 col0\" >0</td>\n",
              "                        <td id=\"T_a8c7183c_7483_11ec_915f_0242ac1c0002row4_col1\" class=\"data row4 col1\" >0</td>\n",
              "                        <td id=\"T_a8c7183c_7483_11ec_915f_0242ac1c0002row4_col2\" class=\"data row4 col2\" >0</td>\n",
              "                        <td id=\"T_a8c7183c_7483_11ec_915f_0242ac1c0002row4_col3\" class=\"data row4 col3\" >220</td>\n",
              "                        <td id=\"T_a8c7183c_7483_11ec_915f_0242ac1c0002row4_col4\" class=\"data row4 col4\" >254</td>\n",
              "                        <td id=\"T_a8c7183c_7483_11ec_915f_0242ac1c0002row4_col5\" class=\"data row4 col5\" >254</td>\n",
              "                        <td id=\"T_a8c7183c_7483_11ec_915f_0242ac1c0002row4_col6\" class=\"data row4 col6\" >254</td>\n",
              "                        <td id=\"T_a8c7183c_7483_11ec_915f_0242ac1c0002row4_col7\" class=\"data row4 col7\" >235</td>\n",
              "                        <td id=\"T_a8c7183c_7483_11ec_915f_0242ac1c0002row4_col8\" class=\"data row4 col8\" >189</td>\n",
              "                        <td id=\"T_a8c7183c_7483_11ec_915f_0242ac1c0002row4_col9\" class=\"data row4 col9\" >189</td>\n",
              "                        <td id=\"T_a8c7183c_7483_11ec_915f_0242ac1c0002row4_col10\" class=\"data row4 col10\" >189</td>\n",
              "                        <td id=\"T_a8c7183c_7483_11ec_915f_0242ac1c0002row4_col11\" class=\"data row4 col11\" >189</td>\n",
              "                        <td id=\"T_a8c7183c_7483_11ec_915f_0242ac1c0002row4_col12\" class=\"data row4 col12\" >150</td>\n",
              "                        <td id=\"T_a8c7183c_7483_11ec_915f_0242ac1c0002row4_col13\" class=\"data row4 col13\" >189</td>\n",
              "                        <td id=\"T_a8c7183c_7483_11ec_915f_0242ac1c0002row4_col14\" class=\"data row4 col14\" >205</td>\n",
              "                        <td id=\"T_a8c7183c_7483_11ec_915f_0242ac1c0002row4_col15\" class=\"data row4 col15\" >254</td>\n",
              "                        <td id=\"T_a8c7183c_7483_11ec_915f_0242ac1c0002row4_col16\" class=\"data row4 col16\" >254</td>\n",
              "                        <td id=\"T_a8c7183c_7483_11ec_915f_0242ac1c0002row4_col17\" class=\"data row4 col17\" >254</td>\n",
              "                        <td id=\"T_a8c7183c_7483_11ec_915f_0242ac1c0002row4_col18\" class=\"data row4 col18\" >75</td>\n",
              "                        <td id=\"T_a8c7183c_7483_11ec_915f_0242ac1c0002row4_col19\" class=\"data row4 col19\" >0</td>\n",
              "            </tr>\n",
              "            <tr>\n",
              "                        <th id=\"T_a8c7183c_7483_11ec_915f_0242ac1c0002level0_row5\" class=\"row_heading level0 row5\" >5</th>\n",
              "                        <td id=\"T_a8c7183c_7483_11ec_915f_0242ac1c0002row5_col0\" class=\"data row5 col0\" >0</td>\n",
              "                        <td id=\"T_a8c7183c_7483_11ec_915f_0242ac1c0002row5_col1\" class=\"data row5 col1\" >0</td>\n",
              "                        <td id=\"T_a8c7183c_7483_11ec_915f_0242ac1c0002row5_col2\" class=\"data row5 col2\" >0</td>\n",
              "                        <td id=\"T_a8c7183c_7483_11ec_915f_0242ac1c0002row5_col3\" class=\"data row5 col3\" >35</td>\n",
              "                        <td id=\"T_a8c7183c_7483_11ec_915f_0242ac1c0002row5_col4\" class=\"data row5 col4\" >74</td>\n",
              "                        <td id=\"T_a8c7183c_7483_11ec_915f_0242ac1c0002row5_col5\" class=\"data row5 col5\" >35</td>\n",
              "                        <td id=\"T_a8c7183c_7483_11ec_915f_0242ac1c0002row5_col6\" class=\"data row5 col6\" >35</td>\n",
              "                        <td id=\"T_a8c7183c_7483_11ec_915f_0242ac1c0002row5_col7\" class=\"data row5 col7\" >25</td>\n",
              "                        <td id=\"T_a8c7183c_7483_11ec_915f_0242ac1c0002row5_col8\" class=\"data row5 col8\" >0</td>\n",
              "                        <td id=\"T_a8c7183c_7483_11ec_915f_0242ac1c0002row5_col9\" class=\"data row5 col9\" >0</td>\n",
              "                        <td id=\"T_a8c7183c_7483_11ec_915f_0242ac1c0002row5_col10\" class=\"data row5 col10\" >0</td>\n",
              "                        <td id=\"T_a8c7183c_7483_11ec_915f_0242ac1c0002row5_col11\" class=\"data row5 col11\" >0</td>\n",
              "                        <td id=\"T_a8c7183c_7483_11ec_915f_0242ac1c0002row5_col12\" class=\"data row5 col12\" >0</td>\n",
              "                        <td id=\"T_a8c7183c_7483_11ec_915f_0242ac1c0002row5_col13\" class=\"data row5 col13\" >0</td>\n",
              "                        <td id=\"T_a8c7183c_7483_11ec_915f_0242ac1c0002row5_col14\" class=\"data row5 col14\" >13</td>\n",
              "                        <td id=\"T_a8c7183c_7483_11ec_915f_0242ac1c0002row5_col15\" class=\"data row5 col15\" >224</td>\n",
              "                        <td id=\"T_a8c7183c_7483_11ec_915f_0242ac1c0002row5_col16\" class=\"data row5 col16\" >254</td>\n",
              "                        <td id=\"T_a8c7183c_7483_11ec_915f_0242ac1c0002row5_col17\" class=\"data row5 col17\" >254</td>\n",
              "                        <td id=\"T_a8c7183c_7483_11ec_915f_0242ac1c0002row5_col18\" class=\"data row5 col18\" >153</td>\n",
              "                        <td id=\"T_a8c7183c_7483_11ec_915f_0242ac1c0002row5_col19\" class=\"data row5 col19\" >0</td>\n",
              "            </tr>\n",
              "            <tr>\n",
              "                        <th id=\"T_a8c7183c_7483_11ec_915f_0242ac1c0002level0_row6\" class=\"row_heading level0 row6\" >6</th>\n",
              "                        <td id=\"T_a8c7183c_7483_11ec_915f_0242ac1c0002row6_col0\" class=\"data row6 col0\" >0</td>\n",
              "                        <td id=\"T_a8c7183c_7483_11ec_915f_0242ac1c0002row6_col1\" class=\"data row6 col1\" >0</td>\n",
              "                        <td id=\"T_a8c7183c_7483_11ec_915f_0242ac1c0002row6_col2\" class=\"data row6 col2\" >0</td>\n",
              "                        <td id=\"T_a8c7183c_7483_11ec_915f_0242ac1c0002row6_col3\" class=\"data row6 col3\" >0</td>\n",
              "                        <td id=\"T_a8c7183c_7483_11ec_915f_0242ac1c0002row6_col4\" class=\"data row6 col4\" >0</td>\n",
              "                        <td id=\"T_a8c7183c_7483_11ec_915f_0242ac1c0002row6_col5\" class=\"data row6 col5\" >0</td>\n",
              "                        <td id=\"T_a8c7183c_7483_11ec_915f_0242ac1c0002row6_col6\" class=\"data row6 col6\" >0</td>\n",
              "                        <td id=\"T_a8c7183c_7483_11ec_915f_0242ac1c0002row6_col7\" class=\"data row6 col7\" >0</td>\n",
              "                        <td id=\"T_a8c7183c_7483_11ec_915f_0242ac1c0002row6_col8\" class=\"data row6 col8\" >0</td>\n",
              "                        <td id=\"T_a8c7183c_7483_11ec_915f_0242ac1c0002row6_col9\" class=\"data row6 col9\" >0</td>\n",
              "                        <td id=\"T_a8c7183c_7483_11ec_915f_0242ac1c0002row6_col10\" class=\"data row6 col10\" >0</td>\n",
              "                        <td id=\"T_a8c7183c_7483_11ec_915f_0242ac1c0002row6_col11\" class=\"data row6 col11\" >0</td>\n",
              "                        <td id=\"T_a8c7183c_7483_11ec_915f_0242ac1c0002row6_col12\" class=\"data row6 col12\" >0</td>\n",
              "                        <td id=\"T_a8c7183c_7483_11ec_915f_0242ac1c0002row6_col13\" class=\"data row6 col13\" >0</td>\n",
              "                        <td id=\"T_a8c7183c_7483_11ec_915f_0242ac1c0002row6_col14\" class=\"data row6 col14\" >90</td>\n",
              "                        <td id=\"T_a8c7183c_7483_11ec_915f_0242ac1c0002row6_col15\" class=\"data row6 col15\" >254</td>\n",
              "                        <td id=\"T_a8c7183c_7483_11ec_915f_0242ac1c0002row6_col16\" class=\"data row6 col16\" >254</td>\n",
              "                        <td id=\"T_a8c7183c_7483_11ec_915f_0242ac1c0002row6_col17\" class=\"data row6 col17\" >247</td>\n",
              "                        <td id=\"T_a8c7183c_7483_11ec_915f_0242ac1c0002row6_col18\" class=\"data row6 col18\" >53</td>\n",
              "                        <td id=\"T_a8c7183c_7483_11ec_915f_0242ac1c0002row6_col19\" class=\"data row6 col19\" >0</td>\n",
              "            </tr>\n",
              "    </tbody></table>"
            ],
            "text/plain": [
              "<pandas.io.formats.style.Styler at 0x7fd469a7f610>"
            ]
          },
          "metadata": {},
          "execution_count": 9
        }
      ]
    },
    {
      "cell_type": "code",
      "source": [
        "(im3_t[4:7,6:9] * top_edge).sum()"
      ],
      "metadata": {
        "id": "KRy6BVL75WOO",
        "outputId": "36114e0a-b4cd-45bc-ef53-66f2b5b04551",
        "colab": {
          "base_uri": "https://localhost:8080/"
        }
      },
      "execution_count": 10,
      "outputs": [
        {
          "output_type": "execute_result",
          "data": {
            "text/plain": [
              "tensor(762.)"
            ]
          },
          "metadata": {},
          "execution_count": 10
        }
      ]
    },
    {
      "cell_type": "code",
      "source": [
        "(im3_t[7:10,17:20] * top_edge).sum()"
      ],
      "metadata": {
        "id": "cDbqskEL5WLM",
        "outputId": "88463b55-b820-4c45-8fe5-75d79303a169",
        "colab": {
          "base_uri": "https://localhost:8080/"
        }
      },
      "execution_count": 11,
      "outputs": [
        {
          "output_type": "execute_result",
          "data": {
            "text/plain": [
              "tensor(-29.)"
            ]
          },
          "metadata": {},
          "execution_count": 11
        }
      ]
    },
    {
      "cell_type": "code",
      "source": [
        ""
      ],
      "metadata": {
        "id": "XzV32Lr26J59"
      },
      "execution_count": 11,
      "outputs": []
    },
    {
      "cell_type": "code",
      "source": [
        "def apply_kernel(row, col, kernel):\n",
        "  transform = (im3_t[row-1: row+2, col-1:col+2]*kernel).sum()\n",
        "  return transform"
      ],
      "metadata": {
        "id": "a54xgKhA79sl"
      },
      "execution_count": 12,
      "outputs": []
    },
    {
      "cell_type": "code",
      "source": [
        "apply_kernel(5,7,top_edge)"
      ],
      "metadata": {
        "id": "4tfIPw667-Zm",
        "outputId": "7f0705b4-4687-4ca4-8919-73fb0ec2a9a9",
        "colab": {
          "base_uri": "https://localhost:8080/"
        }
      },
      "execution_count": 13,
      "outputs": [
        {
          "output_type": "execute_result",
          "data": {
            "text/plain": [
              "tensor(762.)"
            ]
          },
          "metadata": {},
          "execution_count": 13
        }
      ]
    },
    {
      "cell_type": "code",
      "source": [
        ""
      ],
      "metadata": {
        "id": "hpBd4gc7-KOo"
      },
      "execution_count": 13,
      "outputs": []
    },
    {
      "cell_type": "code",
      "source": [
        "# to get a grid of coordinates we can use a nested list comprehension"
      ],
      "metadata": {
        "id": "x3DvPpew-jyK"
      },
      "execution_count": 14,
      "outputs": []
    },
    {
      "cell_type": "code",
      "source": [
        "[[(i, j) for j in range(1, 5)] for i in range(1, 5)]"
      ],
      "metadata": {
        "id": "6hlDR1fe_tkk",
        "outputId": "4cc86f52-657f-4e38-f3b9-07df0bcab6d0",
        "colab": {
          "base_uri": "https://localhost:8080/"
        }
      },
      "execution_count": 15,
      "outputs": [
        {
          "output_type": "execute_result",
          "data": {
            "text/plain": [
              "[[(1, 1), (1, 2), (1, 3), (1, 4)],\n",
              " [(2, 1), (2, 2), (2, 3), (2, 4)],\n",
              " [(3, 1), (3, 2), (3, 3), (3, 4)],\n",
              " [(4, 1), (4, 2), (4, 3), (4, 4)]]"
            ]
          },
          "metadata": {},
          "execution_count": 15
        }
      ]
    },
    {
      "cell_type": "code",
      "source": [
        ""
      ],
      "metadata": {
        "id": "zO1v46GY_ybT"
      },
      "execution_count": 15,
      "outputs": []
    },
    {
      "cell_type": "code",
      "source": [
        "rng = range(1, 27)\n",
        "\n",
        "top_edge3 = tensor([[apply_kernel(i, j, top_edge) for j in rng] for i in rng])"
      ],
      "metadata": {
        "id": "ngUEf3FS_8om"
      },
      "execution_count": 16,
      "outputs": []
    },
    {
      "cell_type": "code",
      "source": [
        "show_image(top_edge3);"
      ],
      "metadata": {
        "id": "nCXRozsJAGZX",
        "outputId": "a88e7c92-cbe0-4442-f5a3-b309a3ba41bf",
        "colab": {
          "base_uri": "https://localhost:8080/",
          "height": 0
        }
      },
      "execution_count": 17,
      "outputs": [
        {
          "output_type": "display_data",
          "data": {
            "image/png": "[encoded data removed]",
            "text/plain": [
              "<Figure size 72x72 with 1 Axes>"
            ]
          },
          "metadata": {
            "needs_background": "light"
          }
        }
      ]
    },
    {
      "cell_type": "code",
      "source": [
        ""
      ],
      "metadata": {
        "id": "izKHYJiMAItZ"
      },
      "execution_count": 17,
      "outputs": []
    },
    {
      "cell_type": "code",
      "source": [
        "left_edge = tensor([[-1,1,0],\n",
        "                    [-1,1,0],\n",
        "                    [-1,1,0]]).float()\n",
        "\n",
        "\n",
        "left_edge3 = tensor([[apply_kernel(i,j,left_edge) for j in rng] for i in rng])\n",
        "\n",
        "show_image(left_edge3);"
      ],
      "metadata": {
        "id": "H_1rW-yqBUSH",
        "outputId": "fbec0506-bf2f-475d-9a70-73dd77643669",
        "colab": {
          "base_uri": "https://localhost:8080/",
          "height": 0
        }
      },
      "execution_count": 18,
      "outputs": [
        {
          "output_type": "display_data",
          "data": {
            "image/png": "[encoded data removed]",
            "text/plain": [
              "<Figure size 72x72 with 1 Axes>"
            ]
          },
          "metadata": {
            "needs_background": "light"
          }
        }
      ]
    },
    {
      "cell_type": "code",
      "source": [
        ""
      ],
      "metadata": {
        "id": "lubQQHwLBdkC"
      },
      "execution_count": 18,
      "outputs": []
    },
    {
      "cell_type": "markdown",
      "source": [
        "# Convolution in PyTorch"
      ],
      "metadata": {
        "id": "c5gEqoHiBxUT"
      }
    },
    {
      "cell_type": "markdown",
      "source": [
        "The reason for these extra axes is that PyTorch has a few tricks up its sleeve. The first trick is that PyTorch can apply a convolution to multiple images at the same time. That means we can call it on every item in a batch at once!\n",
        "\n",
        "The second trick is that PyTorch can apply multiple kernels at the same time. So let's create the diagonal-edge kernels too, and then stack all four of our edge kernels into a single tensor:"
      ],
      "metadata": {
        "id": "so4GgsfgYp3q"
      }
    },
    {
      "cell_type": "code",
      "source": [
        "diag1_edge = tensor([[ 0,-1, 1],\n",
        "                     [-1, 1, 0],\n",
        "                     [ 1, 0, 0]]).float()\n",
        "diag2_edge = tensor([[ 1,-1, 0],\n",
        "                     [ 0, 1,-1],\n",
        "                     [ 0, 0, 1]]).float()\n"
      ],
      "metadata": {
        "id": "C-NX1f91BzQ1"
      },
      "execution_count": 19,
      "outputs": []
    },
    {
      "cell_type": "code",
      "source": [
        "edge_kernels = torch.stack([left_edge, top_edge, diag1_edge, diag2_edge])\n",
        "edge_kernels.shape"
      ],
      "metadata": {
        "id": "8jXzj-JDY03n",
        "outputId": "db7eb148-1189-45c5-9312-7a653413ddff",
        "colab": {
          "base_uri": "https://localhost:8080/"
        }
      },
      "execution_count": 20,
      "outputs": [
        {
          "output_type": "execute_result",
          "data": {
            "text/plain": [
              "torch.Size([4, 3, 3])"
            ]
          },
          "metadata": {},
          "execution_count": 20
        }
      ]
    },
    {
      "cell_type": "code",
      "source": [
        "mnist = DataBlock(\n",
        "            (ImageBlock(cls=PILImageBW), CategoryBlock),\n",
        "            get_items = get_image_files,\n",
        "            splitter = GrandparentSplitter(),\n",
        "            get_y = parent_label      \n",
        "          )"
      ],
      "metadata": {
        "id": "wN2V4SqKY2qV"
      },
      "execution_count": 21,
      "outputs": []
    },
    {
      "cell_type": "code",
      "source": [
        "dls = mnist.dataloaders(path)"
      ],
      "metadata": {
        "id": "_fIsfotZZ2Fs"
      },
      "execution_count": 22,
      "outputs": []
    },
    {
      "cell_type": "code",
      "source": [
        "xb, yb = first(dls.valid)\n",
        "\n",
        "xb.shape, yb.shape"
      ],
      "metadata": {
        "id": "a0ewnq_XZ4kN",
        "outputId": "fbd601a6-7bb7-4a9a-a774-fcf89f8fac68",
        "colab": {
          "base_uri": "https://localhost:8080/"
        }
      },
      "execution_count": 23,
      "outputs": [
        {
          "output_type": "execute_result",
          "data": {
            "text/plain": [
              "(torch.Size([64, 1, 28, 28]), torch.Size([64]))"
            ]
          },
          "metadata": {},
          "execution_count": 23
        }
      ]
    },
    {
      "cell_type": "code",
      "source": [
        "xb, yb = to_cpu(xb), to_cpu(yb)"
      ],
      "metadata": {
        "id": "8JoblLZTbNey"
      },
      "execution_count": 24,
      "outputs": []
    },
    {
      "cell_type": "code",
      "source": [
        ""
      ],
      "metadata": {
        "id": "duQgfUp_beKg"
      },
      "execution_count": 24,
      "outputs": []
    },
    {
      "cell_type": "markdown",
      "source": [
        "We'll see how to handle more than one channel later in this chapter. Kernels passed to F.conv2d need to be rank-4 tensors: [channels_in, features_out, rows, columns]. edge_kernels is currently missing one of these. We need to tell PyTorch that the number of input channels in the kernel is one, which we can do by inserting an axis of size one (this is known as a unit axis) in the first location, where the PyTorch docs show in_channels is expected. To insert a unit axis into a tensor, we use the unsqueeze method:\n",
        "\n"
      ],
      "metadata": {
        "id": "ccdAW-rneCFJ"
      }
    },
    {
      "cell_type": "code",
      "source": [
        "edge_kernels.shape,edge_kernels.unsqueeze(1).shape"
      ],
      "metadata": {
        "id": "faSK_DWKcDrs",
        "outputId": "09a86f12-c0a3-47bf-8e74-456b2feaf6bc",
        "colab": {
          "base_uri": "https://localhost:8080/"
        }
      },
      "execution_count": 25,
      "outputs": [
        {
          "output_type": "execute_result",
          "data": {
            "text/plain": [
              "(torch.Size([4, 3, 3]), torch.Size([4, 1, 3, 3]))"
            ]
          },
          "metadata": {},
          "execution_count": 25
        }
      ]
    },
    {
      "cell_type": "code",
      "source": [
        ""
      ],
      "metadata": {
        "id": "2O-W9_2JcDot"
      },
      "execution_count": 25,
      "outputs": []
    },
    {
      "cell_type": "code",
      "source": [
        "edge_kernels = edge_kernels.unsqueeze(1)"
      ],
      "metadata": {
        "id": "3lWR5wjWeHc0"
      },
      "execution_count": 26,
      "outputs": []
    },
    {
      "cell_type": "code",
      "source": [
        ""
      ],
      "metadata": {
        "id": "uhlGAOqFeHZW"
      },
      "execution_count": 26,
      "outputs": []
    },
    {
      "cell_type": "code",
      "source": [
        ""
      ],
      "metadata": {
        "id": "fgwZ28VQee1X"
      },
      "execution_count": 26,
      "outputs": []
    },
    {
      "cell_type": "code",
      "source": [
        "batch_features = F.conv2d(xb, edge_kernels)\n",
        "batch_features.shape"
      ],
      "metadata": {
        "id": "PAsjijM6e3Rn",
        "outputId": "71e4fb09-60aa-4f96-f9ab-1a8278f2474d",
        "colab": {
          "base_uri": "https://localhost:8080/"
        }
      },
      "execution_count": 27,
      "outputs": [
        {
          "output_type": "execute_result",
          "data": {
            "text/plain": [
              "torch.Size([64, 4, 26, 26])"
            ]
          },
          "metadata": {},
          "execution_count": 27
        }
      ]
    },
    {
      "cell_type": "code",
      "source": [
        "show_image(batch_features[0,0]);"
      ],
      "metadata": {
        "id": "t19A0Gnxe-Nk",
        "outputId": "d8902254-5f25-4e3d-e9cb-bbc5cc9753b9",
        "colab": {
          "base_uri": "https://localhost:8080/",
          "height": 85
        }
      },
      "execution_count": 28,
      "outputs": [
        {
          "output_type": "display_data",
          "data": {
            "image/png": "[encoded data removed]",
            "text/plain": [
              "<Figure size 72x72 with 1 Axes>"
            ]
          },
          "metadata": {
            "needs_background": "light"
          }
        }
      ]
    },
    {
      "cell_type": "code",
      "source": [
        ""
      ],
      "metadata": {
        "id": "XN80yThIf_GS"
      },
      "execution_count": 28,
      "outputs": []
    },
    {
      "cell_type": "code",
      "source": [
        ""
      ],
      "metadata": {
        "id": "ieojWu7bgpKa"
      },
      "execution_count": 28,
      "outputs": []
    },
    {
      "cell_type": "markdown",
      "source": [
        "## Strides and Padding"
      ],
      "metadata": {
        "id": "Qj2gwbNug2DM"
      }
    },
    {
      "cell_type": "markdown",
      "source": [
        "In an image of size h by w, using a padding of 1 and a stride of 2 will give us a result of size (h+1)//2 by (w+1)//2. The general formula for each dimension is (n + 2*pad - ks)//stride + 1, where pad is the padding, ks, the size of our kernel, and stride is the stride"
      ],
      "metadata": {
        "id": "qg8mrSL3_5h0"
      }
    },
    {
      "cell_type": "code",
      "source": [
        ""
      ],
      "metadata": {
        "id": "nVknQo2og5Dl"
      },
      "execution_count": 28,
      "outputs": []
    },
    {
      "cell_type": "code",
      "source": [
        "simple_net = nn.Sequential(\n",
        "    nn.Linear(28*28,30),\n",
        "    nn.ReLU(),\n",
        "    nn.Linear(30,1)\n",
        ")"
      ],
      "metadata": {
        "id": "aiokyKdziHt1"
      },
      "execution_count": 29,
      "outputs": []
    },
    {
      "cell_type": "code",
      "source": [
        "simple_net"
      ],
      "metadata": {
        "id": "zyIR94vgiJfU",
        "outputId": "01f36965-3cfa-4eed-f641-a235ee8627c0",
        "colab": {
          "base_uri": "https://localhost:8080/"
        }
      },
      "execution_count": 30,
      "outputs": [
        {
          "output_type": "execute_result",
          "data": {
            "text/plain": [
              "Sequential(\n",
              "  (0): Linear(in_features=784, out_features=30, bias=True)\n",
              "  (1): ReLU()\n",
              "  (2): Linear(in_features=30, out_features=1, bias=True)\n",
              ")"
            ]
          },
          "metadata": {},
          "execution_count": 30
        }
      ]
    },
    {
      "cell_type": "code",
      "source": [
        ""
      ],
      "metadata": {
        "id": "Cu2pb7CmiHdt"
      },
      "execution_count": 29,
      "outputs": []
    },
    {
      "cell_type": "code",
      "source": [
        "broken_cnn = sequential(\n",
        "    nn.Conv2d(1,30, kernel_size=3, padding=1),\n",
        "    nn.ReLU(),\n",
        "    nn.Conv2d(30,1, kernel_size=3, padding=1)\n",
        ")"
      ],
      "metadata": {
        "id": "w7nwSQvBiHa1"
      },
      "execution_count": 31,
      "outputs": []
    },
    {
      "cell_type": "code",
      "source": [
        "broken_cnn(xb).shape"
      ],
      "metadata": {
        "id": "TJrPT3m0ArSp",
        "outputId": "2fc70266-ee12-4021-bdf1-390954407ba4",
        "colab": {
          "base_uri": "https://localhost:8080/"
        }
      },
      "execution_count": 32,
      "outputs": [
        {
          "output_type": "execute_result",
          "data": {
            "text/plain": [
              "torch.Size([64, 1, 28, 28])"
            ]
          },
          "metadata": {},
          "execution_count": 32
        }
      ]
    },
    {
      "cell_type": "code",
      "source": [
        ""
      ],
      "metadata": {
        "id": "LNQ6wg6qAs7O"
      },
      "execution_count": null,
      "outputs": []
    },
    {
      "cell_type": "code",
      "source": [
        "def conv(ni, nf, ks = 3, act = True):\n",
        "  res = nn.Conv2d(ni, nf, stride = 2, kernel_size = ks, padding = ks//2)\n",
        "  if act: res = nn.Sequential(res, nn.ReLU())\n",
        "  return res"
      ],
      "metadata": {
        "id": "3kbu5k8GBQNU"
      },
      "execution_count": 33,
      "outputs": []
    },
    {
      "cell_type": "code",
      "source": [
        ""
      ],
      "metadata": {
        "id": "_VfyrSGjBfbH"
      },
      "execution_count": null,
      "outputs": []
    },
    {
      "cell_type": "code",
      "source": [
        "simple_cnn = sequential(\n",
        "    conv(1 ,4),            #14x14\n",
        "    conv(4 ,8),            #7x7\n",
        "    conv(8 ,16),           #4x4\n",
        "    conv(16,32),           #2x2\n",
        "    conv(32,2, act=False), #1x1\n",
        "    Flatten(),\n",
        ")"
      ],
      "metadata": {
        "id": "AhGo-zDRCBcR"
      },
      "execution_count": 34,
      "outputs": []
    },
    {
      "cell_type": "code",
      "source": [
        "simple_cnn(xb).shape"
      ],
      "metadata": {
        "id": "yMsUIHVgCBoB",
        "outputId": "aa7de817-f38b-47a1-8018-f787f4517ca2",
        "colab": {
          "base_uri": "https://localhost:8080/"
        }
      },
      "execution_count": 35,
      "outputs": [
        {
          "output_type": "execute_result",
          "data": {
            "text/plain": [
              "torch.Size([64, 2])"
            ]
          },
          "metadata": {},
          "execution_count": 35
        }
      ]
    },
    {
      "cell_type": "code",
      "source": [
        ""
      ],
      "metadata": {
        "id": "3DwgbXjfC2jT"
      },
      "execution_count": null,
      "outputs": []
    },
    {
      "cell_type": "code",
      "source": [
        "learn = Learner(dls, simple_cnn, loss_func=F.cross_entropy, metrics=accuracy)"
      ],
      "metadata": {
        "id": "gAihOoutCKbk"
      },
      "execution_count": 36,
      "outputs": []
    },
    {
      "cell_type": "code",
      "source": [
        "learn.summary()"
      ],
      "metadata": {
        "id": "154fNgODC28P",
        "outputId": "bd516bed-5bda-46c8-e81f-5494252c303a",
        "colab": {
          "base_uri": "https://localhost:8080/",
          "height": 677
        }
      },
      "execution_count": 37,
      "outputs": [
        {
          "output_type": "display_data",
          "data": {
            "text/html": [
              ""
            ],
            "text/plain": [
              "<IPython.core.display.HTML object>"
            ]
          },
          "metadata": {}
        },
        {
          "output_type": "execute_result",
          "data": {
            "application/vnd.google.colaboratory.intrinsic+json": {
              "type": "string"
            },
            "text/plain": [
              "Sequential (Input shape: 64 x 1 x 28 x 28)\n",
              "============================================================================\n",
              "Layer (type)         Output Shape         Param #    Trainable \n",
              "============================================================================\n",
              "                     64 x 4 x 14 x 14    \n",
              "Conv2d                                    40         True      \n",
              "ReLU                                                           \n",
              "____________________________________________________________________________\n",
              "                     64 x 8 x 7 x 7      \n",
              "Conv2d                                    296        True      \n",
              "ReLU                                                           \n",
              "____________________________________________________________________________\n",
              "                     64 x 16 x 4 x 4     \n",
              "Conv2d                                    1168       True      \n",
              "ReLU                                                           \n",
              "____________________________________________________________________________\n",
              "                     64 x 32 x 2 x 2     \n",
              "Conv2d                                    4640       True      \n",
              "ReLU                                                           \n",
              "____________________________________________________________________________\n",
              "                     64 x 2 x 1 x 1      \n",
              "Conv2d                                    578        True      \n",
              "____________________________________________________________________________\n",
              "                     64 x 2              \n",
              "Flatten                                                        \n",
              "____________________________________________________________________________\n",
              "\n",
              "Total params: 6,722\n",
              "Total trainable params: 6,722\n",
              "Total non-trainable params: 0\n",
              "\n",
              "Optimizer used: <function Adam at 0x7fd46acf5d40>\n",
              "Loss function: <function cross_entropy at 0x7fd49121ea70>\n",
              "\n",
              "Callbacks:\n",
              "  - TrainEvalCallback\n",
              "  - Recorder\n",
              "  - ProgressCallback"
            ]
          },
          "metadata": {},
          "execution_count": 37
        }
      ]
    },
    {
      "cell_type": "code",
      "source": [
        "learn.fit_one_cycle(2, 0.01)"
      ],
      "metadata": {
        "id": "9FR5rl6lC48a",
        "outputId": "4caa50b0-51a7-4a92-9e17-ec4247fc3240",
        "colab": {
          "base_uri": "https://localhost:8080/",
          "height": 112
        }
      },
      "execution_count": 38,
      "outputs": [
        {
          "output_type": "display_data",
          "data": {
            "text/html": [
              "<table border=\"1\" class=\"dataframe\">\n",
              "  <thead>\n",
              "    <tr style=\"text-align: left;\">\n",
              "      <th>epoch</th>\n",
              "      <th>train_loss</th>\n",
              "      <th>valid_loss</th>\n",
              "      <th>accuracy</th>\n",
              "      <th>time</th>\n",
              "    </tr>\n",
              "  </thead>\n",
              "  <tbody>\n",
              "    <tr>\n",
              "      <td>0</td>\n",
              "      <td>0.064771</td>\n",
              "      <td>0.027524</td>\n",
              "      <td>0.990186</td>\n",
              "      <td>00:17</td>\n",
              "    </tr>\n",
              "    <tr>\n",
              "      <td>1</td>\n",
              "      <td>0.018874</td>\n",
              "      <td>0.015670</td>\n",
              "      <td>0.995093</td>\n",
              "      <td>00:16</td>\n",
              "    </tr>\n",
              "  </tbody>\n",
              "</table>"
            ],
            "text/plain": [
              "<IPython.core.display.HTML object>"
            ]
          },
          "metadata": {}
        }
      ]
    },
    {
      "cell_type": "code",
      "source": [
        "xb[0].shape"
      ],
      "metadata": {
        "id": "JEcrF-0-DcPR",
        "outputId": "e463850d-5db3-4683-a456-58d0178318f8",
        "colab": {
          "base_uri": "https://localhost:8080/"
        }
      },
      "execution_count": 41,
      "outputs": [
        {
          "output_type": "execute_result",
          "data": {
            "text/plain": [
              "torch.Size([1, 28, 28])"
            ]
          },
          "metadata": {},
          "execution_count": 41
        }
      ]
    },
    {
      "cell_type": "code",
      "source": [
        ""
      ],
      "metadata": {
        "id": "r4KfCu1yDexD"
      },
      "execution_count": null,
      "outputs": []
    }
  ]
}