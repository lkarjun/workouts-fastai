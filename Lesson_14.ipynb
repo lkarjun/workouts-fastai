{
  "nbformat": 4,
  "nbformat_minor": 0,
  "metadata": {
    "colab": {
      "name": "Lesson_14.ipynb",
      "provenance": [],
      "collapsed_sections": []
    },
    "kernelspec": {
      "name": "python3",
      "display_name": "Python 3"
    },
    "language_info": {
      "name": "python"
    },
    "accelerator": "GPU",
    "gpuClass": "standard"
  },
  "cells": [
    {
      "cell_type": "markdown",
      "source": [
        "## Package"
      ],
      "metadata": {
        "id": "oIwvw05NfNyt"
      }
    },
    {
      "cell_type": "code",
      "execution_count": 1,
      "metadata": {
        "colab": {
          "base_uri": "https://localhost:8080/"
        },
        "id": "JxRzw-w5fDKd",
        "outputId": "fe4337f7-2c17-437e-d315-5ca15ff1c6e5"
      },
      "outputs": [
        {
          "output_type": "stream",
          "name": "stdout",
          "text": [
            "\u001b[K     |████████████████████████████████| 197 kB 30.5 MB/s \n",
            "\u001b[K     |████████████████████████████████| 60 kB 9.4 MB/s \n",
            "\u001b[?25h"
          ]
        }
      ],
      "source": [
        "!pip install fastai -Uqq"
      ]
    },
    {
      "cell_type": "code",
      "source": [
        ""
      ],
      "metadata": {
        "id": "uaTKOcnrfSXy"
      },
      "execution_count": 1,
      "outputs": []
    },
    {
      "cell_type": "code",
      "source": [
        "from fastai.vision.all import *"
      ],
      "metadata": {
        "id": "gB6ybznQgvnd"
      },
      "execution_count": 2,
      "outputs": []
    },
    {
      "cell_type": "markdown",
      "source": [
        "# ResNets"
      ],
      "metadata": {
        "id": "I3ebiK5AfUAl"
      }
    },
    {
      "cell_type": "code",
      "source": [
        "url = URLs.IMAGENETTE_160\n",
        "path = untar_data(url)"
      ],
      "metadata": {
        "colab": {
          "base_uri": "https://localhost:8080/",
          "height": 37
        },
        "id": "2ARftpp-nWJ0",
        "outputId": "01b84369-64af-4919-861c-3a2dee36eaf4"
      },
      "execution_count": 3,
      "outputs": [
        {
          "output_type": "display_data",
          "data": {
            "text/plain": [
              "<IPython.core.display.HTML object>"
            ],
            "text/html": [
              "\n",
              "<style>\n",
              "    /* Turns off some styling */\n",
              "    progress {\n",
              "        /* gets rid of default border in Firefox and Opera. */\n",
              "        border: none;\n",
              "        /* Needs to be in here for Safari polyfill so background images work as expected. */\n",
              "        background-size: auto;\n",
              "    }\n",
              "    .progress-bar-interrupted, .progress-bar-interrupted::-webkit-progress-bar {\n",
              "        background: #F44336;\n",
              "    }\n",
              "</style>\n"
            ]
          },
          "metadata": {}
        },
        {
          "output_type": "display_data",
          "data": {
            "text/plain": [
              "<IPython.core.display.HTML object>"
            ],
            "text/html": [
              "\n",
              "    <div>\n",
              "      <progress value='99008512' class='' max='99003388' style='width:300px; height:20px; vertical-align: middle;'></progress>\n",
              "      100.01% [99008512/99003388 00:02<00:00]\n",
              "    </div>\n",
              "    "
            ]
          },
          "metadata": {}
        }
      ]
    },
    {
      "cell_type": "code",
      "source": [
        ""
      ],
      "metadata": {
        "id": "_QL4rEoKncWS"
      },
      "execution_count": 3,
      "outputs": []
    },
    {
      "cell_type": "code",
      "source": [
        "def get_data(path, presize, resize):\n",
        "  return DataBlock(\n",
        "      blocks = (ImageBlock, CategoryBlock),\n",
        "      get_items = get_image_files,\n",
        "      splitter = GrandparentSplitter(valid_name = 'val'),\n",
        "      get_y = parent_label,\n",
        "      item_tfms = Resize(presize),\n",
        "      batch_tfms = [*aug_transforms(min_scale=.5, size = resize),\n",
        "                    Normalize.from_stats(*imagenet_stats)],\n",
        "    ).dataloaders(path, bs = 128)"
      ],
      "metadata": {
        "id": "CmW0OhMIfVaf"
      },
      "execution_count": 4,
      "outputs": []
    },
    {
      "cell_type": "code",
      "source": [
        "dls = get_data(path, 160, 128)"
      ],
      "metadata": {
        "id": "EzNFECM7gy9t"
      },
      "execution_count": 5,
      "outputs": []
    },
    {
      "cell_type": "code",
      "source": [
        "dls.show_batch(max_n = 4)"
      ],
      "metadata": {
        "colab": {
          "base_uri": "https://localhost:8080/",
          "height": 373
        },
        "id": "CiCToPWahImx",
        "outputId": "5badb6ea-0fb3-4826-8fd4-bfce804e2f93"
      },
      "execution_count": 6,
      "outputs": [
        {
          "output_type": "display_data",
          "data": {
            "text/plain": [
              "<Figure size 432x432 with 4 Axes>"
            ],
            "image/png": "[encoded data removed]"
          },
          "metadata": {
            "needs_background": "light"
          }
        }
      ]
    },
    {
      "cell_type": "code",
      "source": [
        ""
      ],
      "metadata": {
        "id": "MxHvrldChcVM"
      },
      "execution_count": 6,
      "outputs": []
    },
    {
      "cell_type": "code",
      "source": [
        ""
      ],
      "metadata": {
        "id": "LEWFgqBHjUBg"
      },
      "execution_count": 6,
      "outputs": []
    },
    {
      "cell_type": "code",
      "source": [
        "def block(ni, nf): \n",
        "  return ConvLayer(ni, nf, stride=2)\n",
        "\n",
        "def get_model():\n",
        "    return nn.Sequential(\n",
        "        block(3, 16),\n",
        "        block(16, 32),\n",
        "        block(32, 64),\n",
        "        block(64, 128),\n",
        "        block(128, 256),\n",
        "        nn.AdaptiveAvgPool2d(1),\n",
        "        Flatten(),\n",
        "        nn.Linear(256, dls.c))"
      ],
      "metadata": {
        "id": "U7FaLBEIjdln"
      },
      "execution_count": 7,
      "outputs": []
    },
    {
      "cell_type": "code",
      "source": [
        "def get_learner(m):\n",
        "  return Learner(dls, m, \n",
        "                 loss_func = nn.CrossEntropyLoss(), \n",
        "                 metrics = accuracy).to_fp16()"
      ],
      "metadata": {
        "id": "jaHAWl1Rju3o"
      },
      "execution_count": 8,
      "outputs": []
    },
    {
      "cell_type": "code",
      "source": [
        "learn = get_learner(get_model())"
      ],
      "metadata": {
        "id": "MWUy9qRljxDu"
      },
      "execution_count": 9,
      "outputs": []
    },
    {
      "cell_type": "code",
      "source": [
        "learn.lr_find()"
      ],
      "metadata": {
        "colab": {
          "base_uri": "https://localhost:8080/",
          "height": 301
        },
        "id": "EpRX_09Ok402",
        "outputId": "3a07015a-ab59-433c-b157-22441f93d1a8"
      },
      "execution_count": 10,
      "outputs": [
        {
          "output_type": "display_data",
          "data": {
            "text/plain": [
              "<IPython.core.display.HTML object>"
            ],
            "text/html": [
              "\n",
              "<style>\n",
              "    /* Turns off some styling */\n",
              "    progress {\n",
              "        /* gets rid of default border in Firefox and Opera. */\n",
              "        border: none;\n",
              "        /* Needs to be in here for Safari polyfill so background images work as expected. */\n",
              "        background-size: auto;\n",
              "    }\n",
              "    .progress-bar-interrupted, .progress-bar-interrupted::-webkit-progress-bar {\n",
              "        background: #F44336;\n",
              "    }\n",
              "</style>\n"
            ]
          },
          "metadata": {}
        },
        {
          "output_type": "display_data",
          "data": {
            "text/plain": [
              "<IPython.core.display.HTML object>"
            ],
            "text/html": [
              ""
            ]
          },
          "metadata": {}
        },
        {
          "output_type": "execute_result",
          "data": {
            "text/plain": [
              "SuggestedLRs(valley=0.0004786300996784121)"
            ]
          },
          "metadata": {},
          "execution_count": 10
        },
        {
          "output_type": "display_data",
          "data": {
            "text/plain": [
              "<Figure size 432x288 with 1 Axes>"
            ],
            "image/png": "[encoded data removed]"
          },
          "metadata": {
            "needs_background": "light"
          }
        }
      ]
    },
    {
      "cell_type": "code",
      "source": [
        "learn.fit_one_cycle(5, 4e-3)"
      ],
      "metadata": {
        "colab": {
          "base_uri": "https://localhost:8080/",
          "height": 206
        },
        "id": "iQ8MqJkZmFNW",
        "outputId": "f297aa68-ca14-459f-d086-1c7a946a86cd"
      },
      "execution_count": 11,
      "outputs": [
        {
          "output_type": "display_data",
          "data": {
            "text/plain": [
              "<IPython.core.display.HTML object>"
            ],
            "text/html": [
              "\n",
              "<style>\n",
              "    /* Turns off some styling */\n",
              "    progress {\n",
              "        /* gets rid of default border in Firefox and Opera. */\n",
              "        border: none;\n",
              "        /* Needs to be in here for Safari polyfill so background images work as expected. */\n",
              "        background-size: auto;\n",
              "    }\n",
              "    .progress-bar-interrupted, .progress-bar-interrupted::-webkit-progress-bar {\n",
              "        background: #F44336;\n",
              "    }\n",
              "</style>\n"
            ]
          },
          "metadata": {}
        },
        {
          "output_type": "display_data",
          "data": {
            "text/plain": [
              "<IPython.core.display.HTML object>"
            ],
            "text/html": [
              "<table border=\"1\" class=\"dataframe\">\n",
              "  <thead>\n",
              "    <tr style=\"text-align: left;\">\n",
              "      <th>epoch</th>\n",
              "      <th>train_loss</th>\n",
              "      <th>valid_loss</th>\n",
              "      <th>accuracy</th>\n",
              "      <th>time</th>\n",
              "    </tr>\n",
              "  </thead>\n",
              "  <tbody>\n",
              "    <tr>\n",
              "      <td>0</td>\n",
              "      <td>1.850930</td>\n",
              "      <td>2.021389</td>\n",
              "      <td>0.330446</td>\n",
              "      <td>00:27</td>\n",
              "    </tr>\n",
              "    <tr>\n",
              "      <td>1</td>\n",
              "      <td>1.509452</td>\n",
              "      <td>1.405761</td>\n",
              "      <td>0.554395</td>\n",
              "      <td>00:25</td>\n",
              "    </tr>\n",
              "    <tr>\n",
              "      <td>2</td>\n",
              "      <td>1.293746</td>\n",
              "      <td>1.188797</td>\n",
              "      <td>0.622675</td>\n",
              "      <td>00:26</td>\n",
              "    </tr>\n",
              "    <tr>\n",
              "      <td>3</td>\n",
              "      <td>1.120525</td>\n",
              "      <td>1.042138</td>\n",
              "      <td>0.669809</td>\n",
              "      <td>00:26</td>\n",
              "    </tr>\n",
              "    <tr>\n",
              "      <td>4</td>\n",
              "      <td>1.010590</td>\n",
              "      <td>1.028319</td>\n",
              "      <td>0.676943</td>\n",
              "      <td>00:26</td>\n",
              "    </tr>\n",
              "  </tbody>\n",
              "</table>"
            ]
          },
          "metadata": {}
        }
      ]
    },
    {
      "cell_type": "code",
      "source": [
        ""
      ],
      "metadata": {
        "id": "fAuhN6oGmXwb"
      },
      "execution_count": 11,
      "outputs": []
    },
    {
      "cell_type": "markdown",
      "source": [
        "## Building a Modern CNN: ResNet"
      ],
      "metadata": {
        "id": "L9rmFQi8nQYT"
      }
    },
    {
      "cell_type": "markdown",
      "source": [
        "### Skip connections"
      ],
      "metadata": {
        "id": "twkznsvxngud"
      }
    },
    {
      "cell_type": "code",
      "source": [
        "class ResBlock(Module):\n",
        "  def __init__(self, ni, nf):\n",
        "    self.convs = nn.Sequential(\n",
        "        ConvLayer(ni, nf),\n",
        "        ConvLayer(nf, nf, norm_type=NormType.BatchZero)\n",
        "    )\n",
        "\n",
        "  def forward(self, x):\n",
        "    return x + self.convs(x)"
      ],
      "metadata": {
        "id": "dgIh-Ve5nUdC"
      },
      "execution_count": 10,
      "outputs": []
    },
    {
      "cell_type": "code",
      "source": [
        ""
      ],
      "metadata": {
        "id": "QV0JKnCsr1Ua"
      },
      "execution_count": 12,
      "outputs": []
    },
    {
      "cell_type": "code",
      "source": [
        "def _conv_block(ni, nf, stride):\n",
        "  seq = nn.Sequential(\n",
        "      ConvLayer(ni, nf, stride = stride),\n",
        "      ConvLayer(nf, nf, act_cls = None, norm_type = NormType.BatchZero)\n",
        "  )\n",
        "  return seq"
      ],
      "metadata": {
        "id": "ogNsV5LL4hG1"
      },
      "execution_count": 11,
      "outputs": []
    },
    {
      "cell_type": "code",
      "source": [
        "class ResBlock(Module):\n",
        "  def __init__(self, ni, nf, stride = 1):\n",
        "    self.convs = _conv_block(ni, nf, stride)\n",
        "    self.idconv = noop if ni == nf else ConvLayer(ni, nf, 1, act_cls = None)\n",
        "    self.pool = noop if stride==1 else nn.AvgPool2d(2, ceil_mode=True)\n",
        "\n",
        "  def forward(self, x):\n",
        "    return F.relu(self.convs(x) + self.idconv(self.pool(x)))"
      ],
      "metadata": {
        "id": "uJ13iWoS45Bh"
      },
      "execution_count": 12,
      "outputs": []
    },
    {
      "cell_type": "code",
      "source": [
        "def block(ni, nf):\n",
        "  return ResBlock(ni, nf, stride = 2)"
      ],
      "metadata": {
        "id": "G97nV_VQ5vDA"
      },
      "execution_count": 13,
      "outputs": []
    },
    {
      "cell_type": "code",
      "source": [
        "learn = get_learner(get_model())"
      ],
      "metadata": {
        "id": "WPiELrlR7SFh"
      },
      "execution_count": 16,
      "outputs": []
    },
    {
      "cell_type": "code",
      "source": [
        "learn.fit_one_cycle(5, 3e-3)"
      ],
      "metadata": {
        "colab": {
          "base_uri": "https://localhost:8080/",
          "height": 206
        },
        "id": "dD_XWk0Y7Vkx",
        "outputId": "5602e90e-1e82-44ae-c690-b45253751881"
      },
      "execution_count": 17,
      "outputs": [
        {
          "output_type": "display_data",
          "data": {
            "text/plain": [
              "<IPython.core.display.HTML object>"
            ],
            "text/html": [
              "\n",
              "<style>\n",
              "    /* Turns off some styling */\n",
              "    progress {\n",
              "        /* gets rid of default border in Firefox and Opera. */\n",
              "        border: none;\n",
              "        /* Needs to be in here for Safari polyfill so background images work as expected. */\n",
              "        background-size: auto;\n",
              "    }\n",
              "    .progress-bar-interrupted, .progress-bar-interrupted::-webkit-progress-bar {\n",
              "        background: #F44336;\n",
              "    }\n",
              "</style>\n"
            ]
          },
          "metadata": {}
        },
        {
          "output_type": "display_data",
          "data": {
            "text/plain": [
              "<IPython.core.display.HTML object>"
            ],
            "text/html": [
              "<table border=\"1\" class=\"dataframe\">\n",
              "  <thead>\n",
              "    <tr style=\"text-align: left;\">\n",
              "      <th>epoch</th>\n",
              "      <th>train_loss</th>\n",
              "      <th>valid_loss</th>\n",
              "      <th>accuracy</th>\n",
              "      <th>time</th>\n",
              "    </tr>\n",
              "  </thead>\n",
              "  <tbody>\n",
              "    <tr>\n",
              "      <td>0</td>\n",
              "      <td>1.959062</td>\n",
              "      <td>2.051467</td>\n",
              "      <td>0.309554</td>\n",
              "      <td>00:28</td>\n",
              "    </tr>\n",
              "    <tr>\n",
              "      <td>1</td>\n",
              "      <td>1.675067</td>\n",
              "      <td>1.452789</td>\n",
              "      <td>0.530701</td>\n",
              "      <td>00:30</td>\n",
              "    </tr>\n",
              "    <tr>\n",
              "      <td>2</td>\n",
              "      <td>1.374194</td>\n",
              "      <td>1.208507</td>\n",
              "      <td>0.619108</td>\n",
              "      <td>00:27</td>\n",
              "    </tr>\n",
              "    <tr>\n",
              "      <td>3</td>\n",
              "      <td>1.146261</td>\n",
              "      <td>1.042419</td>\n",
              "      <td>0.670064</td>\n",
              "      <td>00:27</td>\n",
              "    </tr>\n",
              "    <tr>\n",
              "      <td>4</td>\n",
              "      <td>1.017944</td>\n",
              "      <td>0.991786</td>\n",
              "      <td>0.687643</td>\n",
              "      <td>00:27</td>\n",
              "    </tr>\n",
              "  </tbody>\n",
              "</table>"
            ]
          },
          "metadata": {}
        }
      ]
    },
    {
      "cell_type": "code",
      "source": [
        ""
      ],
      "metadata": {
        "id": "lfR6UXdb76b4"
      },
      "execution_count": 17,
      "outputs": []
    },
    {
      "cell_type": "code",
      "source": [
        "def block(ni, nf):\n",
        "  return nn.Sequential(ResBlock(ni, nf, stride=2), ResBlock(nf, nf))"
      ],
      "metadata": {
        "id": "L5Q66Ig-8wnE"
      },
      "execution_count": 14,
      "outputs": []
    },
    {
      "cell_type": "code",
      "source": [
        "learn = get_learner(get_model())\n",
        "learn.fit_one_cycle(5, 3e-3)"
      ],
      "metadata": {
        "colab": {
          "base_uri": "https://localhost:8080/",
          "height": 206
        },
        "id": "12I8oMKA88RA",
        "outputId": "781bc450-efe2-4fb8-f0d6-e2a6b855f829"
      },
      "execution_count": 19,
      "outputs": [
        {
          "output_type": "display_data",
          "data": {
            "text/plain": [
              "<IPython.core.display.HTML object>"
            ],
            "text/html": [
              "\n",
              "<style>\n",
              "    /* Turns off some styling */\n",
              "    progress {\n",
              "        /* gets rid of default border in Firefox and Opera. */\n",
              "        border: none;\n",
              "        /* Needs to be in here for Safari polyfill so background images work as expected. */\n",
              "        background-size: auto;\n",
              "    }\n",
              "    .progress-bar-interrupted, .progress-bar-interrupted::-webkit-progress-bar {\n",
              "        background: #F44336;\n",
              "    }\n",
              "</style>\n"
            ]
          },
          "metadata": {}
        },
        {
          "output_type": "display_data",
          "data": {
            "text/plain": [
              "<IPython.core.display.HTML object>"
            ],
            "text/html": [
              "<table border=\"1\" class=\"dataframe\">\n",
              "  <thead>\n",
              "    <tr style=\"text-align: left;\">\n",
              "      <th>epoch</th>\n",
              "      <th>train_loss</th>\n",
              "      <th>valid_loss</th>\n",
              "      <th>accuracy</th>\n",
              "      <th>time</th>\n",
              "    </tr>\n",
              "  </thead>\n",
              "  <tbody>\n",
              "    <tr>\n",
              "      <td>0</td>\n",
              "      <td>1.952376</td>\n",
              "      <td>1.931908</td>\n",
              "      <td>0.321783</td>\n",
              "      <td>00:28</td>\n",
              "    </tr>\n",
              "    <tr>\n",
              "      <td>1</td>\n",
              "      <td>1.619059</td>\n",
              "      <td>1.539428</td>\n",
              "      <td>0.491975</td>\n",
              "      <td>00:28</td>\n",
              "    </tr>\n",
              "    <tr>\n",
              "      <td>2</td>\n",
              "      <td>1.327625</td>\n",
              "      <td>1.331919</td>\n",
              "      <td>0.572994</td>\n",
              "      <td>00:27</td>\n",
              "    </tr>\n",
              "    <tr>\n",
              "      <td>3</td>\n",
              "      <td>1.097483</td>\n",
              "      <td>1.072326</td>\n",
              "      <td>0.657834</td>\n",
              "      <td>00:27</td>\n",
              "    </tr>\n",
              "    <tr>\n",
              "      <td>4</td>\n",
              "      <td>0.948385</td>\n",
              "      <td>0.940756</td>\n",
              "      <td>0.700637</td>\n",
              "      <td>00:27</td>\n",
              "    </tr>\n",
              "  </tbody>\n",
              "</table>"
            ]
          },
          "metadata": {}
        }
      ]
    },
    {
      "cell_type": "code",
      "source": [
        ""
      ],
      "metadata": {
        "id": "rUJtKuU-89dN"
      },
      "execution_count": 19,
      "outputs": []
    },
    {
      "cell_type": "markdown",
      "source": [
        "### A state of the Art ResNet"
      ],
      "metadata": {
        "id": "pynEYNtO9he-"
      }
    },
    {
      "cell_type": "code",
      "source": [
        "def _resnet_stem(*sizes):\n",
        "  stem = [\n",
        "          ConvLayer(sizes[i], sizes[i+1], stride = 2 if i == 0 else 1)\n",
        "          for i in range(len(sizes) - 1)\n",
        "  ] + [nn.MaxPool2d(kernel_size=3, stride = 2, padding = 1)]\n",
        "\n",
        "  return stem"
      ],
      "metadata": {
        "id": "kQP6c1AN9rwU"
      },
      "execution_count": 15,
      "outputs": []
    },
    {
      "cell_type": "code",
      "source": [
        "_resnet_stem(3,32,32,64)"
      ],
      "metadata": {
        "colab": {
          "base_uri": "https://localhost:8080/"
        },
        "id": "9wT8wm6IDOld",
        "outputId": "b3f693d3-40ad-46e0-90ca-f5a83ec39333"
      },
      "execution_count": 21,
      "outputs": [
        {
          "output_type": "execute_result",
          "data": {
            "text/plain": [
              "[ConvLayer(\n",
              "   (0): Conv2d(3, 32, kernel_size=(3, 3), stride=(2, 2), padding=(1, 1), bias=False)\n",
              "   (1): BatchNorm2d(32, eps=1e-05, momentum=0.1, affine=True, track_running_stats=True)\n",
              "   (2): ReLU()\n",
              " ), ConvLayer(\n",
              "   (0): Conv2d(32, 32, kernel_size=(3, 3), stride=(1, 1), padding=(1, 1), bias=False)\n",
              "   (1): BatchNorm2d(32, eps=1e-05, momentum=0.1, affine=True, track_running_stats=True)\n",
              "   (2): ReLU()\n",
              " ), ConvLayer(\n",
              "   (0): Conv2d(32, 64, kernel_size=(3, 3), stride=(1, 1), padding=(1, 1), bias=False)\n",
              "   (1): BatchNorm2d(64, eps=1e-05, momentum=0.1, affine=True, track_running_stats=True)\n",
              "   (2): ReLU()\n",
              " ), MaxPool2d(kernel_size=3, stride=2, padding=1, dilation=1, ceil_mode=False)]"
            ]
          },
          "metadata": {},
          "execution_count": 21
        }
      ]
    },
    {
      "cell_type": "code",
      "source": [
        ""
      ],
      "metadata": {
        "id": "U2WpGWOkDPuu"
      },
      "execution_count": 21,
      "outputs": []
    },
    {
      "cell_type": "code",
      "source": [
        "class ResNet(nn.Sequential):\n",
        "  def __init__(self, n_out, layers, expansion = 1):\n",
        "    stem = _resnet_stem(3, 32, 32, 64)\n",
        "    self.block_szs = [64, 64, 128, 256, 512]\n",
        "    for i in range(1, 5): self.block_szs[i] *= expansion\n",
        "    blocks = [self._make_layer(*o) for o in enumerate(layers)]\n",
        "    super().__init__(*stem, *blocks,\n",
        "                     nn.AdaptiveAvgPool2d(1), Flatten(),\n",
        "                     nn.Linear(self.block_szs[-1], n_out))\n",
        "\n",
        "  def _make_layer(self, idx, n_layers):\n",
        "    stride = 1 if idx == 0 else 2\n",
        "    ch_in, ch_out = self.block_szs[idx:idx+2]\n",
        "    seq = nn.Sequential(*[\n",
        "            ResBlock(ch_in if i==0 else ch_out, ch_out, stride if i==0 else 1)\n",
        "            for i in range(n_layers)                  \n",
        "    ])\n",
        "    return seq"
      ],
      "metadata": {
        "id": "1ie_1ZzEFjxd"
      },
      "execution_count": 16,
      "outputs": []
    },
    {
      "cell_type": "code",
      "source": [
        "rn = ResNet(dls.c, [2,2,2,2])"
      ],
      "metadata": {
        "id": "U21Ao_SYGoZG"
      },
      "execution_count": 23,
      "outputs": []
    },
    {
      "cell_type": "code",
      "source": [
        "learn = get_learner(rn)\n",
        "learn.fit_one_cycle(5, 3e-3)"
      ],
      "metadata": {
        "colab": {
          "base_uri": "https://localhost:8080/",
          "height": 206
        },
        "id": "f4bhakxaGrAU",
        "outputId": "a22d50c2-cff6-40d3-b615-9398f7cf0685"
      },
      "execution_count": 24,
      "outputs": [
        {
          "output_type": "display_data",
          "data": {
            "text/plain": [
              "<IPython.core.display.HTML object>"
            ],
            "text/html": [
              "\n",
              "<style>\n",
              "    /* Turns off some styling */\n",
              "    progress {\n",
              "        /* gets rid of default border in Firefox and Opera. */\n",
              "        border: none;\n",
              "        /* Needs to be in here for Safari polyfill so background images work as expected. */\n",
              "        background-size: auto;\n",
              "    }\n",
              "    .progress-bar-interrupted, .progress-bar-interrupted::-webkit-progress-bar {\n",
              "        background: #F44336;\n",
              "    }\n",
              "</style>\n"
            ]
          },
          "metadata": {}
        },
        {
          "output_type": "display_data",
          "data": {
            "text/plain": [
              "<IPython.core.display.HTML object>"
            ],
            "text/html": [
              "<table border=\"1\" class=\"dataframe\">\n",
              "  <thead>\n",
              "    <tr style=\"text-align: left;\">\n",
              "      <th>epoch</th>\n",
              "      <th>train_loss</th>\n",
              "      <th>valid_loss</th>\n",
              "      <th>accuracy</th>\n",
              "      <th>time</th>\n",
              "    </tr>\n",
              "  </thead>\n",
              "  <tbody>\n",
              "    <tr>\n",
              "      <td>0</td>\n",
              "      <td>1.631329</td>\n",
              "      <td>1.647418</td>\n",
              "      <td>0.505732</td>\n",
              "      <td>00:29</td>\n",
              "    </tr>\n",
              "    <tr>\n",
              "      <td>1</td>\n",
              "      <td>1.311443</td>\n",
              "      <td>1.107503</td>\n",
              "      <td>0.644586</td>\n",
              "      <td>00:27</td>\n",
              "    </tr>\n",
              "    <tr>\n",
              "      <td>2</td>\n",
              "      <td>1.075784</td>\n",
              "      <td>0.978221</td>\n",
              "      <td>0.695287</td>\n",
              "      <td>00:33</td>\n",
              "    </tr>\n",
              "    <tr>\n",
              "      <td>3</td>\n",
              "      <td>0.873548</td>\n",
              "      <td>0.851378</td>\n",
              "      <td>0.730955</td>\n",
              "      <td>00:30</td>\n",
              "    </tr>\n",
              "    <tr>\n",
              "      <td>4</td>\n",
              "      <td>0.752735</td>\n",
              "      <td>0.764819</td>\n",
              "      <td>0.757962</td>\n",
              "      <td>00:30</td>\n",
              "    </tr>\n",
              "  </tbody>\n",
              "</table>"
            ]
          },
          "metadata": {}
        }
      ]
    },
    {
      "cell_type": "code",
      "source": [
        ""
      ],
      "metadata": {
        "id": "pYlXU8HFPgHK"
      },
      "execution_count": 24,
      "outputs": []
    },
    {
      "cell_type": "markdown",
      "source": [
        "### Bottle neck"
      ],
      "metadata": {
        "id": "rvAmgShp5aYz"
      }
    },
    {
      "cell_type": "code",
      "source": [
        "def _conv_block(ni, nf, stride):\n",
        "  seq = nn.Sequential(\n",
        "      ConvLayer(ni, nf//4, 1),\n",
        "      ConvLayer(nf//4, nf//4, stride = stride),\n",
        "      ConvLayer(nf//4, nf, 1, act_cls = None, norm_type=NormType.BatchZero)\n",
        "      )\n",
        "  return seq"
      ],
      "metadata": {
        "id": "8-8rTlk65b52"
      },
      "execution_count": 17,
      "outputs": []
    },
    {
      "cell_type": "code",
      "source": [
        "dls = get_data(path, presize = 320, resize = 224)"
      ],
      "metadata": {
        "id": "YBzehB577gci"
      },
      "execution_count": 22,
      "outputs": []
    },
    {
      "cell_type": "code",
      "source": [
        "rn = ResNet(dls.c, [3,4,6,3], 4)"
      ],
      "metadata": {
        "id": "8yiwk-jy7iGp"
      },
      "execution_count": 23,
      "outputs": []
    },
    {
      "cell_type": "code",
      "source": [
        "learn = get_learner(rn)"
      ],
      "metadata": {
        "id": "gBPJ3nb_-NX1"
      },
      "execution_count": 24,
      "outputs": []
    },
    {
      "cell_type": "code",
      "source": [
        "learn.fit_one_cycle(20, 3e-2)"
      ],
      "metadata": {
        "colab": {
          "base_uri": "https://localhost:8080/",
          "height": 676
        },
        "id": "PZqkRabN-PwI",
        "outputId": "a9e65ddd-7b16-4f2a-a539-eefa229fab88"
      },
      "execution_count": 25,
      "outputs": [
        {
          "output_type": "display_data",
          "data": {
            "text/plain": [
              "<IPython.core.display.HTML object>"
            ],
            "text/html": [
              "\n",
              "<style>\n",
              "    /* Turns off some styling */\n",
              "    progress {\n",
              "        /* gets rid of default border in Firefox and Opera. */\n",
              "        border: none;\n",
              "        /* Needs to be in here for Safari polyfill so background images work as expected. */\n",
              "        background-size: auto;\n",
              "    }\n",
              "    .progress-bar-interrupted, .progress-bar-interrupted::-webkit-progress-bar {\n",
              "        background: #F44336;\n",
              "    }\n",
              "</style>\n"
            ]
          },
          "metadata": {}
        },
        {
          "output_type": "display_data",
          "data": {
            "text/plain": [
              "<IPython.core.display.HTML object>"
            ],
            "text/html": [
              "<table border=\"1\" class=\"dataframe\">\n",
              "  <thead>\n",
              "    <tr style=\"text-align: left;\">\n",
              "      <th>epoch</th>\n",
              "      <th>train_loss</th>\n",
              "      <th>valid_loss</th>\n",
              "      <th>accuracy</th>\n",
              "      <th>time</th>\n",
              "    </tr>\n",
              "  </thead>\n",
              "  <tbody>\n",
              "    <tr>\n",
              "      <td>0</td>\n",
              "      <td>1.617586</td>\n",
              "      <td>5.191542</td>\n",
              "      <td>0.285860</td>\n",
              "      <td>01:07</td>\n",
              "    </tr>\n",
              "    <tr>\n",
              "      <td>1</td>\n",
              "      <td>1.487626</td>\n",
              "      <td>1.929228</td>\n",
              "      <td>0.460892</td>\n",
              "      <td>01:05</td>\n",
              "    </tr>\n",
              "    <tr>\n",
              "      <td>2</td>\n",
              "      <td>1.380187</td>\n",
              "      <td>6.490437</td>\n",
              "      <td>0.245350</td>\n",
              "      <td>01:06</td>\n",
              "    </tr>\n",
              "    <tr>\n",
              "      <td>3</td>\n",
              "      <td>1.297663</td>\n",
              "      <td>2.987581</td>\n",
              "      <td>0.360000</td>\n",
              "      <td>01:05</td>\n",
              "    </tr>\n",
              "    <tr>\n",
              "      <td>4</td>\n",
              "      <td>1.181837</td>\n",
              "      <td>1.404142</td>\n",
              "      <td>0.524586</td>\n",
              "      <td>01:06</td>\n",
              "    </tr>\n",
              "    <tr>\n",
              "      <td>5</td>\n",
              "      <td>1.057061</td>\n",
              "      <td>1.574467</td>\n",
              "      <td>0.554904</td>\n",
              "      <td>01:05</td>\n",
              "    </tr>\n",
              "    <tr>\n",
              "      <td>6</td>\n",
              "      <td>0.958040</td>\n",
              "      <td>1.381953</td>\n",
              "      <td>0.574013</td>\n",
              "      <td>01:05</td>\n",
              "    </tr>\n",
              "    <tr>\n",
              "      <td>7</td>\n",
              "      <td>0.899973</td>\n",
              "      <td>2.042299</td>\n",
              "      <td>0.502930</td>\n",
              "      <td>01:05</td>\n",
              "    </tr>\n",
              "    <tr>\n",
              "      <td>8</td>\n",
              "      <td>0.830995</td>\n",
              "      <td>0.924552</td>\n",
              "      <td>0.712102</td>\n",
              "      <td>01:05</td>\n",
              "    </tr>\n",
              "    <tr>\n",
              "      <td>9</td>\n",
              "      <td>0.766539</td>\n",
              "      <td>1.163032</td>\n",
              "      <td>0.673885</td>\n",
              "      <td>01:05</td>\n",
              "    </tr>\n",
              "    <tr>\n",
              "      <td>10</td>\n",
              "      <td>0.695844</td>\n",
              "      <td>1.242048</td>\n",
              "      <td>0.620127</td>\n",
              "      <td>01:05</td>\n",
              "    </tr>\n",
              "    <tr>\n",
              "      <td>11</td>\n",
              "      <td>0.658157</td>\n",
              "      <td>0.699555</td>\n",
              "      <td>0.773248</td>\n",
              "      <td>01:05</td>\n",
              "    </tr>\n",
              "    <tr>\n",
              "      <td>12</td>\n",
              "      <td>0.609263</td>\n",
              "      <td>0.892869</td>\n",
              "      <td>0.716178</td>\n",
              "      <td>01:05</td>\n",
              "    </tr>\n",
              "    <tr>\n",
              "      <td>13</td>\n",
              "      <td>0.550332</td>\n",
              "      <td>0.743912</td>\n",
              "      <td>0.772229</td>\n",
              "      <td>01:05</td>\n",
              "    </tr>\n",
              "    <tr>\n",
              "      <td>14</td>\n",
              "      <td>0.503013</td>\n",
              "      <td>0.535493</td>\n",
              "      <td>0.824968</td>\n",
              "      <td>01:05</td>\n",
              "    </tr>\n",
              "    <tr>\n",
              "      <td>15</td>\n",
              "      <td>0.447800</td>\n",
              "      <td>0.551430</td>\n",
              "      <td>0.829809</td>\n",
              "      <td>01:05</td>\n",
              "    </tr>\n",
              "    <tr>\n",
              "      <td>16</td>\n",
              "      <td>0.405445</td>\n",
              "      <td>0.471082</td>\n",
              "      <td>0.848408</td>\n",
              "      <td>01:05</td>\n",
              "    </tr>\n",
              "    <tr>\n",
              "      <td>17</td>\n",
              "      <td>0.364886</td>\n",
              "      <td>0.455639</td>\n",
              "      <td>0.859108</td>\n",
              "      <td>01:05</td>\n",
              "    </tr>\n",
              "    <tr>\n",
              "      <td>18</td>\n",
              "      <td>0.338277</td>\n",
              "      <td>0.444114</td>\n",
              "      <td>0.861911</td>\n",
              "      <td>01:06</td>\n",
              "    </tr>\n",
              "    <tr>\n",
              "      <td>19</td>\n",
              "      <td>0.316949</td>\n",
              "      <td>0.430389</td>\n",
              "      <td>0.868025</td>\n",
              "      <td>01:05</td>\n",
              "    </tr>\n",
              "  </tbody>\n",
              "</table>"
            ]
          },
          "metadata": {}
        }
      ]
    },
    {
      "cell_type": "code",
      "source": [
        ""
      ],
      "metadata": {
        "id": "vs5o7CL4-SA9"
      },
      "execution_count": null,
      "outputs": []
    },
    {
      "cell_type": "markdown",
      "source": [
        "## Important Points"
      ],
      "metadata": {
        "id": "CbgGdOoXIVUi"
      }
    },
    {
      "cell_type": "markdown",
      "source": [
        "* Fully convolutional networks are only really a good choice for objects that don't have a single correct orientation or size (e.g., like most natural photos).\n",
        "\n",
        "* Identity mapping: Returning the input without changing it at all. This process is performed by an identity function.\n",
        "\n",
        "\n",
        "* If the outcome of a given layer is x, when using a ResNet block that returns y = x+block(x) we're not asking the block to predict y, we are asking it to predict the difference between y and x. So the job of those blocks isn't to predict certain features, but to minimize the error between x and the desired y.\n",
        "\n",
        "* 1x1 convolution: A convolution with a kernel size of 1\n",
        "\n",
        "* Why is that useful? 1×1 convolutions are much faster\n",
        "\n",
        "**Resnet Stem**\n",
        "* Instead of just starting with ResNet blocks, it begins with a few convolutional layers followed by a max pooling layer. This is what the first layers, called the stem of the network, look like:\n",
        "\n",
        "* The reason that we have a stem of plain convolutional layers, instead of ResNet blocks, is based on a very important insight about all deep convolutional neural networks: the vast majority of the computation occurs in the early layers\n"
      ],
      "metadata": {
        "id": "0B61e8JMIZ-c"
      }
    },
    {
      "cell_type": "code",
      "source": [
        ""
      ],
      "metadata": {
        "id": "q1GDVEdpIWn5"
      },
      "execution_count": null,
      "outputs": []
    }
  ]
}