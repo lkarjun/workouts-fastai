{
  "nbformat": 4,
  "nbformat_minor": 0,
  "metadata": {
    "colab": {
      "name": "Lesson-12.ipynb",
      "provenance": [],
      "collapsed_sections": [
        "Hyn74nQpih2I",
        "CEVyuS0filOY",
        "xz40S8MZkZlS",
        "o3bsrbHKpFku",
        "UQooidZ-D9Mk",
        "-5q4PXD3U5aq"
      ],
      "authorship_tag": "ABX9TyORv+hxoxYW9gE8AdzWSM8G",
      "include_colab_link": true
    },
    "kernelspec": {
      "name": "python3",
      "display_name": "Python 3"
    },
    "language_info": {
      "name": "python"
    },
    "accelerator": "GPU"
  },
  "cells": [
    {
      "cell_type": "markdown",
      "metadata": {
        "id": "view-in-github",
        "colab_type": "text"
      },
      "source": [
        "<a href=\"https://colab.research.google.com/github/lkarjun/fastai-workouts/blob/master/Lesson_12.ipynb\" target=\"_parent\"><img src=\"https://colab.research.google.com/assets/colab-badge.svg\" alt=\"Open In Colab\"/></a>"
      ]
    },
    {
      "cell_type": "markdown",
      "metadata": {
        "id": "Hyn74nQpih2I"
      },
      "source": [
        "# Package"
      ]
    },
    {
      "cell_type": "code",
      "metadata": {
        "colab": {
          "base_uri": "https://localhost:8080/"
        },
        "id": "-vOV4F8shYht",
        "outputId": "d5514f45-d005-49a5-bb70-85bec9f644b2"
      },
      "source": [
        "!pip install fastai==2.5.3"
      ],
      "execution_count": 2,
      "outputs": [
        {
          "output_type": "stream",
          "name": "stdout",
          "text": [
            "Requirement already satisfied: fastai==2.5.3 in /usr/local/lib/python3.7/dist-packages (2.5.3)\n",
            "Requirement already satisfied: pip in /usr/local/lib/python3.7/dist-packages (from fastai==2.5.3) (21.1.3)\n",
            "Requirement already satisfied: requests in /usr/local/lib/python3.7/dist-packages (from fastai==2.5.3) (2.23.0)\n",
            "Requirement already satisfied: pyyaml in /usr/local/lib/python3.7/dist-packages (from fastai==2.5.3) (3.13)\n",
            "Requirement already satisfied: fastprogress>=0.2.4 in /usr/local/lib/python3.7/dist-packages (from fastai==2.5.3) (1.0.0)\n",
            "Requirement already satisfied: fastcore<1.4,>=1.3.22 in /usr/local/lib/python3.7/dist-packages (from fastai==2.5.3) (1.3.27)\n",
            "Requirement already satisfied: scikit-learn in /usr/local/lib/python3.7/dist-packages (from fastai==2.5.3) (1.0.1)\n",
            "Requirement already satisfied: scipy in /usr/local/lib/python3.7/dist-packages (from fastai==2.5.3) (1.4.1)\n",
            "Requirement already satisfied: pillow>6.0.0 in /usr/local/lib/python3.7/dist-packages (from fastai==2.5.3) (7.1.2)\n",
            "Requirement already satisfied: fastdownload<2,>=0.0.5 in /usr/local/lib/python3.7/dist-packages (from fastai==2.5.3) (0.0.5)\n",
            "Requirement already satisfied: matplotlib in /usr/local/lib/python3.7/dist-packages (from fastai==2.5.3) (3.2.2)\n",
            "Requirement already satisfied: spacy<4 in /usr/local/lib/python3.7/dist-packages (from fastai==2.5.3) (2.2.4)\n",
            "Requirement already satisfied: torchvision>=0.8.2 in /usr/local/lib/python3.7/dist-packages (from fastai==2.5.3) (0.11.1+cu111)\n",
            "Requirement already satisfied: packaging in /usr/local/lib/python3.7/dist-packages (from fastai==2.5.3) (21.3)\n",
            "Requirement already satisfied: pandas in /usr/local/lib/python3.7/dist-packages (from fastai==2.5.3) (1.1.5)\n",
            "Requirement already satisfied: torch<1.11,>=1.7.0 in /usr/local/lib/python3.7/dist-packages (from fastai==2.5.3) (1.10.0+cu111)\n",
            "Requirement already satisfied: numpy in /usr/local/lib/python3.7/dist-packages (from fastprogress>=0.2.4->fastai==2.5.3) (1.19.5)\n",
            "Requirement already satisfied: blis<0.5.0,>=0.4.0 in /usr/local/lib/python3.7/dist-packages (from spacy<4->fastai==2.5.3) (0.4.1)\n",
            "Requirement already satisfied: murmurhash<1.1.0,>=0.28.0 in /usr/local/lib/python3.7/dist-packages (from spacy<4->fastai==2.5.3) (1.0.6)\n",
            "Requirement already satisfied: plac<1.2.0,>=0.9.6 in /usr/local/lib/python3.7/dist-packages (from spacy<4->fastai==2.5.3) (1.1.3)\n",
            "Requirement already satisfied: cymem<2.1.0,>=2.0.2 in /usr/local/lib/python3.7/dist-packages (from spacy<4->fastai==2.5.3) (2.0.6)\n",
            "Requirement already satisfied: srsly<1.1.0,>=1.0.2 in /usr/local/lib/python3.7/dist-packages (from spacy<4->fastai==2.5.3) (1.0.5)\n",
            "Requirement already satisfied: setuptools in /usr/local/lib/python3.7/dist-packages (from spacy<4->fastai==2.5.3) (57.4.0)\n",
            "Requirement already satisfied: preshed<3.1.0,>=3.0.2 in /usr/local/lib/python3.7/dist-packages (from spacy<4->fastai==2.5.3) (3.0.6)\n",
            "Requirement already satisfied: thinc==7.4.0 in /usr/local/lib/python3.7/dist-packages (from spacy<4->fastai==2.5.3) (7.4.0)\n",
            "Requirement already satisfied: tqdm<5.0.0,>=4.38.0 in /usr/local/lib/python3.7/dist-packages (from spacy<4->fastai==2.5.3) (4.62.3)\n",
            "Requirement already satisfied: wasabi<1.1.0,>=0.4.0 in /usr/local/lib/python3.7/dist-packages (from spacy<4->fastai==2.5.3) (0.8.2)\n",
            "Requirement already satisfied: catalogue<1.1.0,>=0.0.7 in /usr/local/lib/python3.7/dist-packages (from spacy<4->fastai==2.5.3) (1.0.0)\n",
            "Requirement already satisfied: importlib-metadata>=0.20 in /usr/local/lib/python3.7/dist-packages (from catalogue<1.1.0,>=0.0.7->spacy<4->fastai==2.5.3) (4.8.2)\n",
            "Requirement already satisfied: zipp>=0.5 in /usr/local/lib/python3.7/dist-packages (from importlib-metadata>=0.20->catalogue<1.1.0,>=0.0.7->spacy<4->fastai==2.5.3) (3.6.0)\n",
            "Requirement already satisfied: typing-extensions>=3.6.4 in /usr/local/lib/python3.7/dist-packages (from importlib-metadata>=0.20->catalogue<1.1.0,>=0.0.7->spacy<4->fastai==2.5.3) (3.10.0.2)\n",
            "Requirement already satisfied: urllib3!=1.25.0,!=1.25.1,<1.26,>=1.21.1 in /usr/local/lib/python3.7/dist-packages (from requests->fastai==2.5.3) (1.24.3)\n",
            "Requirement already satisfied: chardet<4,>=3.0.2 in /usr/local/lib/python3.7/dist-packages (from requests->fastai==2.5.3) (3.0.4)\n",
            "Requirement already satisfied: certifi>=2017.4.17 in /usr/local/lib/python3.7/dist-packages (from requests->fastai==2.5.3) (2021.10.8)\n",
            "Requirement already satisfied: idna<3,>=2.5 in /usr/local/lib/python3.7/dist-packages (from requests->fastai==2.5.3) (2.10)\n",
            "Requirement already satisfied: pyparsing!=2.0.4,!=2.1.2,!=2.1.6,>=2.0.1 in /usr/local/lib/python3.7/dist-packages (from matplotlib->fastai==2.5.3) (3.0.6)\n",
            "Requirement already satisfied: python-dateutil>=2.1 in /usr/local/lib/python3.7/dist-packages (from matplotlib->fastai==2.5.3) (2.8.2)\n",
            "Requirement already satisfied: cycler>=0.10 in /usr/local/lib/python3.7/dist-packages (from matplotlib->fastai==2.5.3) (0.11.0)\n",
            "Requirement already satisfied: kiwisolver>=1.0.1 in /usr/local/lib/python3.7/dist-packages (from matplotlib->fastai==2.5.3) (1.3.2)\n",
            "Requirement already satisfied: six>=1.5 in /usr/local/lib/python3.7/dist-packages (from python-dateutil>=2.1->matplotlib->fastai==2.5.3) (1.15.0)\n",
            "Requirement already satisfied: pytz>=2017.2 in /usr/local/lib/python3.7/dist-packages (from pandas->fastai==2.5.3) (2018.9)\n",
            "Requirement already satisfied: threadpoolctl>=2.0.0 in /usr/local/lib/python3.7/dist-packages (from scikit-learn->fastai==2.5.3) (3.0.0)\n",
            "Requirement already satisfied: joblib>=0.11 in /usr/local/lib/python3.7/dist-packages (from scikit-learn->fastai==2.5.3) (1.1.0)\n"
          ]
        }
      ]
    },
    {
      "cell_type": "code",
      "metadata": {
        "id": "MULTGpvdhvrt",
        "colab": {
          "base_uri": "https://localhost:8080/",
          "height": 36
        },
        "outputId": "6ff469a5-627b-4cb0-8be1-380d8740b7a9"
      },
      "source": [
        "from fastai.text.all import *\n",
        "\n",
        "import fastai\n",
        "fastai.__version__"
      ],
      "execution_count": 3,
      "outputs": [
        {
          "output_type": "execute_result",
          "data": {
            "application/vnd.google.colaboratory.intrinsic+json": {
              "type": "string"
            },
            "text/plain": [
              "'2.5.3'"
            ]
          },
          "metadata": {},
          "execution_count": 3
        }
      ]
    },
    {
      "cell_type": "markdown",
      "metadata": {
        "id": "CEVyuS0filOY"
      },
      "source": [
        "# Loading texts\n",
        "\n"
      ]
    },
    {
      "cell_type": "code",
      "metadata": {
        "colab": {
          "base_uri": "https://localhost:8080/",
          "height": 0
        },
        "id": "t4GFaf_uipvz",
        "outputId": "1e7ca467-12f0-476c-875c-be04a410ea11"
      },
      "source": [
        "path = untar_data(URLs.HUMAN_NUMBERS)\n",
        "path.ls()"
      ],
      "execution_count": 4,
      "outputs": [
        {
          "output_type": "display_data",
          "data": {
            "text/html": [
              "\n",
              "    <div>\n",
              "        <style>\n",
              "            /* Turns off some styling */\n",
              "            progress {\n",
              "                /* gets rid of default border in Firefox and Opera. */\n",
              "                border: none;\n",
              "                /* Needs to be in here for Safari polyfill so background images work as expected. */\n",
              "                background-size: auto;\n",
              "            }\n",
              "            .progress-bar-interrupted, .progress-bar-interrupted::-webkit-progress-bar {\n",
              "                background: #F44336;\n",
              "            }\n",
              "        </style>\n",
              "      <progress value='32768' class='' max='30252' style='width:300px; height:20px; vertical-align: middle;'></progress>\n",
              "      108.32% [32768/30252 00:00<00:00]\n",
              "    </div>\n",
              "    "
            ],
            "text/plain": [
              "<IPython.core.display.HTML object>"
            ]
          },
          "metadata": {}
        },
        {
          "output_type": "execute_result",
          "data": {
            "text/plain": [
              "(#2) [Path('/root/.fastai/data/human_numbers/valid.txt'),Path('/root/.fastai/data/human_numbers/train.txt')]"
            ]
          },
          "metadata": {},
          "execution_count": 4
        }
      ]
    },
    {
      "cell_type": "code",
      "metadata": {
        "colab": {
          "base_uri": "https://localhost:8080/"
        },
        "id": "NU1ilQeYiqEb",
        "outputId": "ec9787d8-65f8-4319-ac9d-c981f51e97e1"
      },
      "source": [
        "lines = L()\n",
        "with open(path/'train.txt') as f: \n",
        "  lines+=L(*f.readlines())\n",
        "with open(path/'valid.txt') as f: \n",
        "  lines+=L(*f.readlines())\n",
        "\n",
        "lines[:50]"
      ],
      "execution_count": 5,
      "outputs": [
        {
          "output_type": "execute_result",
          "data": {
            "text/plain": [
              "(#50) ['one \\n','two \\n','three \\n','four \\n','five \\n','six \\n','seven \\n','eight \\n','nine \\n','ten \\n'...]"
            ]
          },
          "metadata": {},
          "execution_count": 5
        }
      ]
    },
    {
      "cell_type": "code",
      "metadata": {
        "colab": {
          "base_uri": "https://localhost:8080/",
          "height": 0
        },
        "id": "f9nrVbVhjNDg",
        "outputId": "45a86744-28e4-422b-f5ee-5006770e30b3"
      },
      "source": [
        "text = ' . '.join([l.strip() for l in lines])\n",
        "text[:100]"
      ],
      "execution_count": 6,
      "outputs": [
        {
          "output_type": "execute_result",
          "data": {
            "application/vnd.google.colaboratory.intrinsic+json": {
              "type": "string"
            },
            "text/plain": [
              "'one . two . three . four . five . six . seven . eight . nine . ten . eleven . twelve . thirteen . fo'"
            ]
          },
          "metadata": {},
          "execution_count": 6
        }
      ]
    },
    {
      "cell_type": "code",
      "metadata": {
        "colab": {
          "base_uri": "https://localhost:8080/"
        },
        "id": "fGKpd4BVjbsI",
        "outputId": "f03ad63a-8b40-48d9-9122-d2397d8e02bd"
      },
      "source": [
        "tokens = text.split(' ')\n",
        "tokens[:10]"
      ],
      "execution_count": 7,
      "outputs": [
        {
          "output_type": "execute_result",
          "data": {
            "text/plain": [
              "['one', '.', 'two', '.', 'three', '.', 'four', '.', 'five', '.']"
            ]
          },
          "metadata": {},
          "execution_count": 7
        }
      ]
    },
    {
      "cell_type": "code",
      "metadata": {
        "colab": {
          "base_uri": "https://localhost:8080/"
        },
        "id": "Hz36E7Lqjn68",
        "outputId": "413a9370-fe43-4f74-ee60-a360a015c9a3"
      },
      "source": [
        "vocab = L(*tokens).unique()\n",
        "vocab"
      ],
      "execution_count": 8,
      "outputs": [
        {
          "output_type": "execute_result",
          "data": {
            "text/plain": [
              "(#30) ['one','.','two','three','four','five','six','seven','eight','nine'...]"
            ]
          },
          "metadata": {},
          "execution_count": 8
        }
      ]
    },
    {
      "cell_type": "code",
      "metadata": {
        "colab": {
          "base_uri": "https://localhost:8080/"
        },
        "id": "oqWUvE_8juo2",
        "outputId": "576f7eea-9c33-4c4e-c902-8d1f919983c3"
      },
      "source": [
        "word2idx = {w:i for i, w in enumerate(vocab)}\n",
        "nums = L(word2idx[i] for i in tokens)\n",
        "nums"
      ],
      "execution_count": 9,
      "outputs": [
        {
          "output_type": "execute_result",
          "data": {
            "text/plain": [
              "(#63095) [0,1,2,1,3,1,4,1,5,1...]"
            ]
          },
          "metadata": {},
          "execution_count": 9
        }
      ]
    },
    {
      "cell_type": "code",
      "metadata": {
        "id": "xdTxOssBkOMX"
      },
      "source": [
        ""
      ],
      "execution_count": 9,
      "outputs": []
    },
    {
      "cell_type": "markdown",
      "metadata": {
        "id": "xz40S8MZkZlS"
      },
      "source": [
        "# Our First Language Model from Scratch"
      ]
    },
    {
      "cell_type": "code",
      "metadata": {
        "colab": {
          "base_uri": "https://localhost:8080/"
        },
        "id": "b79hG5d7kut4",
        "outputId": "6486a795-2efd-4ebf-ff0d-2415ace745ff"
      },
      "source": [
        "L((tokens[i:i+3], tokens[i+3]) for i in range(0,len(tokens)-4,3))"
      ],
      "execution_count": 10,
      "outputs": [
        {
          "output_type": "execute_result",
          "data": {
            "text/plain": [
              "(#21031) [(['one', '.', 'two'], '.'),(['.', 'three', '.'], 'four'),(['four', '.', 'five'], '.'),(['.', 'six', '.'], 'seven'),(['seven', '.', 'eight'], '.'),(['.', 'nine', '.'], 'ten'),(['ten', '.', 'eleven'], '.'),(['.', 'twelve', '.'], 'thirteen'),(['thirteen', '.', 'fourteen'], '.'),(['.', 'fifteen', '.'], 'sixteen')...]"
            ]
          },
          "metadata": {},
          "execution_count": 10
        }
      ]
    },
    {
      "cell_type": "code",
      "metadata": {
        "colab": {
          "base_uri": "https://localhost:8080/"
        },
        "id": "Rik0zBN-lysV",
        "outputId": "35c526a9-a788-4400-a3e5-71344de01912"
      },
      "source": [
        "seqs = L((tensor(nums[i:i+3]), nums[i+3]) for i in range(0,len(nums)-4,3))\n",
        "seqs"
      ],
      "execution_count": 11,
      "outputs": [
        {
          "output_type": "execute_result",
          "data": {
            "text/plain": [
              "(#21031) [(tensor([0, 1, 2]), 1),(tensor([1, 3, 1]), 4),(tensor([4, 1, 5]), 1),(tensor([1, 6, 1]), 7),(tensor([7, 1, 8]), 1),(tensor([1, 9, 1]), 10),(tensor([10,  1, 11]), 1),(tensor([ 1, 12,  1]), 13),(tensor([13,  1, 14]), 1),(tensor([ 1, 15,  1]), 16)...]"
            ]
          },
          "metadata": {},
          "execution_count": 11
        }
      ]
    },
    {
      "cell_type": "code",
      "metadata": {
        "id": "BGPBRTwkmbZd"
      },
      "source": [
        "bs = 64\n",
        "cut = int(len(seqs) * .8)\n",
        "dls = DataLoaders.from_dsets(seqs[:cut], seqs[cut:], bs = 64, shuffle=False)"
      ],
      "execution_count": 12,
      "outputs": []
    },
    {
      "cell_type": "markdown",
      "metadata": {
        "id": "o3bsrbHKpFku"
      },
      "source": [
        "# Our Language Model in PyTorch"
      ]
    },
    {
      "cell_type": "code",
      "metadata": {
        "id": "sfBsCuaZpJ_b"
      },
      "source": [
        "class LMModel1(Module):\n",
        "\n",
        "  def __init__(self, vocab_sz, n_hidden):\n",
        "  \n",
        "    self.i_h = nn.Embedding(vocab_sz, n_hidden)\n",
        "    self.h_h = nn.Linear(n_hidden, n_hidden)\n",
        "    self.h_o = nn.Linear(n_hidden, vocab_sz)\n",
        "\n",
        "  def forward(self, x):\n",
        "    \n",
        "        h = self.i_h(x[:, 0])\n",
        "        h = self.h_h(h)\n",
        "        h = F.relu(h)\n",
        "\n",
        "        h = h + self.i_h(x[:, 1])\n",
        "        h = self.h_h(h)\n",
        "        h = F.relu(h)\n",
        "        \n",
        "        h = h + self.i_h(x[:, 2])\n",
        "        h = self.h_h(h)\n",
        "        h = F.relu(h)\n",
        "\n",
        "        return self.h_o(h)"
      ],
      "execution_count": 13,
      "outputs": []
    },
    {
      "cell_type": "code",
      "metadata": {
        "id": "DpVpwzh5q7GV"
      },
      "source": [
        "learn = Learner(dls, LMModel1(len(vocab), 64), loss_func=F.cross_entropy,\n",
        "                metrics = [accuracy, perplexity])"
      ],
      "execution_count": 14,
      "outputs": []
    },
    {
      "cell_type": "code",
      "metadata": {
        "colab": {
          "base_uri": "https://localhost:8080/",
          "height": 0
        },
        "id": "MtH1hysLq_DB",
        "outputId": "951a9079-32a9-428a-b2ea-e093811a488e"
      },
      "source": [
        "learn.fit_one_cycle(4, 1e-3)"
      ],
      "execution_count": 15,
      "outputs": [
        {
          "output_type": "display_data",
          "data": {
            "text/html": [
              "<table border=\"1\" class=\"dataframe\">\n",
              "  <thead>\n",
              "    <tr style=\"text-align: left;\">\n",
              "      <th>epoch</th>\n",
              "      <th>train_loss</th>\n",
              "      <th>valid_loss</th>\n",
              "      <th>accuracy</th>\n",
              "      <th>perplexity</th>\n",
              "      <th>time</th>\n",
              "    </tr>\n",
              "  </thead>\n",
              "  <tbody>\n",
              "    <tr>\n",
              "      <td>0</td>\n",
              "      <td>1.716415</td>\n",
              "      <td>1.946653</td>\n",
              "      <td>0.463751</td>\n",
              "      <td>7.005205</td>\n",
              "      <td>00:01</td>\n",
              "    </tr>\n",
              "    <tr>\n",
              "      <td>1</td>\n",
              "      <td>1.378367</td>\n",
              "      <td>1.787469</td>\n",
              "      <td>0.466841</td>\n",
              "      <td>5.974314</td>\n",
              "      <td>00:01</td>\n",
              "    </tr>\n",
              "    <tr>\n",
              "      <td>2</td>\n",
              "      <td>1.399801</td>\n",
              "      <td>1.650023</td>\n",
              "      <td>0.488472</td>\n",
              "      <td>5.207101</td>\n",
              "      <td>00:01</td>\n",
              "    </tr>\n",
              "    <tr>\n",
              "      <td>3</td>\n",
              "      <td>1.372525</td>\n",
              "      <td>1.659578</td>\n",
              "      <td>0.477537</td>\n",
              "      <td>5.257091</td>\n",
              "      <td>00:01</td>\n",
              "    </tr>\n",
              "  </tbody>\n",
              "</table>"
            ],
            "text/plain": [
              "<IPython.core.display.HTML object>"
            ]
          },
          "metadata": {}
        }
      ]
    },
    {
      "cell_type": "code",
      "source": [
        "c = Counter(tokens[cut: ])\n",
        "\n",
        "mc = c.most_common(5)\n",
        "mc"
      ],
      "metadata": {
        "colab": {
          "base_uri": "https://localhost:8080/"
        },
        "id": "EL79Hfgh__PS",
        "outputId": "ea95e25d-aecc-45e8-85cc-649a047a85fc"
      },
      "execution_count": 16,
      "outputs": [
        {
          "output_type": "execute_result",
          "data": {
            "text/plain": [
              "[('thousand', 7104),\n",
              " ('.', 7103),\n",
              " ('hundred', 6405),\n",
              " ('nine', 2440),\n",
              " ('eight', 2344)]"
            ]
          },
          "metadata": {},
          "execution_count": 16
        }
      ]
    },
    {
      "cell_type": "markdown",
      "source": [
        "**The most common token has the token thousand. Always predicting this token would give us an accuracy of roughly 15\\%, so we are faring way better!**"
      ],
      "metadata": {
        "id": "v7XBg2kzFcDj"
      }
    },
    {
      "cell_type": "code",
      "source": [
        "mc[0][1]/len(tokens[cut:])\n"
      ],
      "metadata": {
        "colab": {
          "base_uri": "https://localhost:8080/"
        },
        "id": "6UnE17uMAMjv",
        "outputId": "92ad8f2c-5a88-4131-9788-883cea35f87d"
      },
      "execution_count": 17,
      "outputs": [
        {
          "output_type": "execute_result",
          "data": {
            "text/plain": [
              "0.15353028894988222"
            ]
          },
          "metadata": {},
          "execution_count": 17
        }
      ]
    },
    {
      "cell_type": "code",
      "source": [
        ""
      ],
      "metadata": {
        "id": "H8wDe_mUFOzX"
      },
      "execution_count": 17,
      "outputs": []
    },
    {
      "cell_type": "code",
      "metadata": {
        "id": "N52HscXJuLUG"
      },
      "source": [
        ""
      ],
      "execution_count": 17,
      "outputs": []
    },
    {
      "cell_type": "code",
      "metadata": {
        "id": "67rLY8O3A42m"
      },
      "source": [
        ""
      ],
      "execution_count": 17,
      "outputs": []
    },
    {
      "cell_type": "markdown",
      "metadata": {
        "id": "UQooidZ-D9Mk"
      },
      "source": [
        "# First RNN"
      ]
    },
    {
      "cell_type": "code",
      "metadata": {
        "id": "Bs53VZQ2D_LA"
      },
      "source": [
        "class LMModel2(Module):\n",
        "  def __init__(self, vocab_sz, n_hidden):\n",
        "    self.i_h = nn.Embedding(vocab_sz, n_hidden)\n",
        "    self.h_h = nn.Linear(n_hidden, n_hidden)\n",
        "    self.h_o = nn.Linear(n_hidden, vocab_sz)\n",
        "\n",
        "  def forward(self, x):\n",
        "    h = 0\n",
        "    for i in range(3):\n",
        "      h = h + self.i_h(x[:, i])\n",
        "      h = self.h_h(h)\n",
        "      h = F.relu(h)\n",
        "    return self.h_o(h)"
      ],
      "execution_count": 18,
      "outputs": []
    },
    {
      "cell_type": "code",
      "metadata": {
        "colab": {
          "base_uri": "https://localhost:8080/",
          "height": 0
        },
        "id": "FwO_37uZEwwb",
        "outputId": "2ff3da0a-eac5-4679-980f-b8a531eda61e"
      },
      "source": [
        "learn = Learner(dls, LMModel2(len(vocab), 64), loss_func=F.cross_entropy, \n",
        "                metrics=accuracy)\n",
        "learn.fit_one_cycle(4, 1e-3)"
      ],
      "execution_count": 19,
      "outputs": [
        {
          "output_type": "display_data",
          "data": {
            "text/html": [
              "<table border=\"1\" class=\"dataframe\">\n",
              "  <thead>\n",
              "    <tr style=\"text-align: left;\">\n",
              "      <th>epoch</th>\n",
              "      <th>train_loss</th>\n",
              "      <th>valid_loss</th>\n",
              "      <th>accuracy</th>\n",
              "      <th>time</th>\n",
              "    </tr>\n",
              "  </thead>\n",
              "  <tbody>\n",
              "    <tr>\n",
              "      <td>0</td>\n",
              "      <td>1.794524</td>\n",
              "      <td>1.937679</td>\n",
              "      <td>0.472783</td>\n",
              "      <td>00:02</td>\n",
              "    </tr>\n",
              "    <tr>\n",
              "      <td>1</td>\n",
              "      <td>1.398654</td>\n",
              "      <td>1.794277</td>\n",
              "      <td>0.474210</td>\n",
              "      <td>00:03</td>\n",
              "    </tr>\n",
              "    <tr>\n",
              "      <td>2</td>\n",
              "      <td>1.400354</td>\n",
              "      <td>1.728825</td>\n",
              "      <td>0.492750</td>\n",
              "      <td>00:02</td>\n",
              "    </tr>\n",
              "    <tr>\n",
              "      <td>3</td>\n",
              "      <td>1.374792</td>\n",
              "      <td>1.721887</td>\n",
              "      <td>0.488947</td>\n",
              "      <td>00:01</td>\n",
              "    </tr>\n",
              "  </tbody>\n",
              "</table>"
            ],
            "text/plain": [
              "<IPython.core.display.HTML object>"
            ]
          },
          "metadata": {}
        }
      ]
    },
    {
      "cell_type": "markdown",
      "source": [
        "**A neural network that is defined using a loop like this is called a recurrent neural network (RNN). It is important to realize that an RNN is not a complicated new architecture, but simply a refactoring of a multilayer neural network using a for loop.**"
      ],
      "metadata": {
        "id": "Odn8eKD9G4dS"
      }
    },
    {
      "cell_type": "code",
      "metadata": {
        "id": "2-nrv0DCFSxY"
      },
      "source": [
        ""
      ],
      "execution_count": 19,
      "outputs": []
    },
    {
      "cell_type": "markdown",
      "metadata": {
        "id": "eIX4nGh3F8mN"
      },
      "source": [
        "# Improving The RNN"
      ]
    },
    {
      "cell_type": "markdown",
      "metadata": {
        "id": "-5q4PXD3U5aq"
      },
      "source": [
        "## Maintain State"
      ]
    },
    {
      "cell_type": "code",
      "metadata": {
        "id": "U98VE334J0qn"
      },
      "source": [
        "class LMModel3(Module):\n",
        "    def __init__(self, vocab_sz, n_hidden):\n",
        "        self.i_h = nn.Embedding(vocab_sz, n_hidden)  \n",
        "        self.h_h = nn.Linear(n_hidden, n_hidden)     \n",
        "        self.h_o = nn.Linear(n_hidden,vocab_sz)\n",
        "        self.h = 0\n",
        "        \n",
        "    def forward(self, x):\n",
        "        for i in range(3):\n",
        "            self.h = self.h + self.i_h(x[:,i])\n",
        "            self.h = F.relu(self.h_h(self.h))\n",
        "        out = self.h_o(self.h)\n",
        "        self.h = self.h.detach()\n",
        "        return out\n",
        "    \n",
        "    def reset(self): self.h = 0"
      ],
      "execution_count": 20,
      "outputs": []
    },
    {
      "cell_type": "code",
      "metadata": {
        "colab": {
          "base_uri": "https://localhost:8080/"
        },
        "id": "0uN7RNWHF-nB",
        "outputId": "96d5dba8-5890-437e-98be-e47835de6a34"
      },
      "source": [
        "a = torch.rand(4, requires_grad=True)\n",
        "print(a.requires_grad)\n",
        "b = a.detach()\n",
        "b.requires_grad\n",
        "\n",
        "# Detach throw away the gradient."
      ],
      "execution_count": 21,
      "outputs": [
        {
          "output_type": "stream",
          "name": "stdout",
          "text": [
            "True\n"
          ]
        },
        {
          "output_type": "execute_result",
          "data": {
            "text/plain": [
              "False"
            ]
          },
          "metadata": {},
          "execution_count": 21
        }
      ]
    },
    {
      "cell_type": "code",
      "metadata": {
        "colab": {
          "base_uri": "https://localhost:8080/"
        },
        "id": "7jSZEwjmPC8P",
        "outputId": "d8e4c2f1-8f05-4ffb-8496-dd65b9028817"
      },
      "source": [
        "m = len(seqs)//bs\n",
        "m, bs, len(seqs)"
      ],
      "execution_count": 22,
      "outputs": [
        {
          "output_type": "execute_result",
          "data": {
            "text/plain": [
              "(328, 64, 21031)"
            ]
          },
          "metadata": {},
          "execution_count": 22
        }
      ]
    },
    {
      "cell_type": "code",
      "metadata": {
        "id": "xM7cwwmeShii"
      },
      "source": [
        "def group_chunks(ds, bs):\n",
        "  m = len(ds) // bs\n",
        "  new_ds = L()\n",
        "  for i in range(m): new_ds += L(ds[i + m * j] for j in range(bs))\n",
        "  return new_ds"
      ],
      "execution_count": 23,
      "outputs": []
    },
    {
      "cell_type": "code",
      "metadata": {
        "id": "cTR7f1FLS0nm"
      },
      "source": [
        "cut = int(len(seqs) * .8)\n",
        "dls = DataLoaders.from_dsets(\n",
        "    group_chunks(seqs[:cut], bs),\n",
        "    group_chunks(seqs[cut:], bs),\n",
        "    bs = bs, drop_last = True, shuffle = False\n",
        ")"
      ],
      "execution_count": 24,
      "outputs": []
    },
    {
      "cell_type": "code",
      "metadata": {
        "id": "7VsFO-9ATX99"
      },
      "source": [
        "ModelResetter??"
      ],
      "execution_count": 25,
      "outputs": []
    },
    {
      "cell_type": "code",
      "metadata": {
        "colab": {
          "base_uri": "https://localhost:8080/",
          "height": 0
        },
        "id": "uqYkd8XCT-36",
        "outputId": "3749f0b7-f9d9-46dc-bc9c-360500c206fd"
      },
      "source": [
        "learn = Learner(dls, LMModel3(len(vocab), 64), loss_func = F.cross_entropy,\n",
        "                 metrics = accuracy, cbs = ModelResetter)\n",
        "learn.fit_one_cycle(10, 3e-3)"
      ],
      "execution_count": 26,
      "outputs": [
        {
          "output_type": "display_data",
          "data": {
            "text/html": [
              "<table border=\"1\" class=\"dataframe\">\n",
              "  <thead>\n",
              "    <tr style=\"text-align: left;\">\n",
              "      <th>epoch</th>\n",
              "      <th>train_loss</th>\n",
              "      <th>valid_loss</th>\n",
              "      <th>accuracy</th>\n",
              "      <th>time</th>\n",
              "    </tr>\n",
              "  </thead>\n",
              "  <tbody>\n",
              "    <tr>\n",
              "      <td>0</td>\n",
              "      <td>1.695050</td>\n",
              "      <td>1.846175</td>\n",
              "      <td>0.472837</td>\n",
              "      <td>00:01</td>\n",
              "    </tr>\n",
              "    <tr>\n",
              "      <td>1</td>\n",
              "      <td>1.284054</td>\n",
              "      <td>1.817605</td>\n",
              "      <td>0.412981</td>\n",
              "      <td>00:01</td>\n",
              "    </tr>\n",
              "    <tr>\n",
              "      <td>2</td>\n",
              "      <td>1.101135</td>\n",
              "      <td>1.596102</td>\n",
              "      <td>0.492308</td>\n",
              "      <td>00:01</td>\n",
              "    </tr>\n",
              "    <tr>\n",
              "      <td>3</td>\n",
              "      <td>0.976041</td>\n",
              "      <td>1.656006</td>\n",
              "      <td>0.576202</td>\n",
              "      <td>00:01</td>\n",
              "    </tr>\n",
              "    <tr>\n",
              "      <td>4</td>\n",
              "      <td>0.926090</td>\n",
              "      <td>1.534155</td>\n",
              "      <td>0.577404</td>\n",
              "      <td>00:01</td>\n",
              "    </tr>\n",
              "    <tr>\n",
              "      <td>5</td>\n",
              "      <td>0.881310</td>\n",
              "      <td>1.451152</td>\n",
              "      <td>0.595913</td>\n",
              "      <td>00:01</td>\n",
              "    </tr>\n",
              "    <tr>\n",
              "      <td>6</td>\n",
              "      <td>0.841634</td>\n",
              "      <td>1.587065</td>\n",
              "      <td>0.584375</td>\n",
              "      <td>00:01</td>\n",
              "    </tr>\n",
              "    <tr>\n",
              "      <td>7</td>\n",
              "      <td>0.791875</td>\n",
              "      <td>1.540970</td>\n",
              "      <td>0.625721</td>\n",
              "      <td>00:01</td>\n",
              "    </tr>\n",
              "    <tr>\n",
              "      <td>8</td>\n",
              "      <td>0.753398</td>\n",
              "      <td>1.573835</td>\n",
              "      <td>0.626923</td>\n",
              "      <td>00:01</td>\n",
              "    </tr>\n",
              "    <tr>\n",
              "      <td>9</td>\n",
              "      <td>0.733518</td>\n",
              "      <td>1.565479</td>\n",
              "      <td>0.623317</td>\n",
              "      <td>00:01</td>\n",
              "    </tr>\n",
              "  </tbody>\n",
              "</table>"
            ],
            "text/plain": [
              "<IPython.core.display.HTML object>"
            ]
          },
          "metadata": {}
        }
      ]
    },
    {
      "cell_type": "code",
      "metadata": {
        "id": "uGlhchfUUWRc"
      },
      "source": [
        ""
      ],
      "execution_count": 26,
      "outputs": []
    },
    {
      "cell_type": "markdown",
      "metadata": {
        "id": "WJC0zKrjU8bd"
      },
      "source": [
        "## Creating More Signal"
      ]
    },
    {
      "cell_type": "code",
      "metadata": {
        "id": "ROJT32B9VA2O"
      },
      "source": [
        "sl = 16\n",
        "seqs = L((tensor(nums[i:i+sl]), tensor(nums[i+1:i+sl+1]))\n",
        "         for i in range(0,len(nums)-sl-1,sl))\n",
        "cut = int(len(seqs) * 0.8)\n",
        "dls = DataLoaders.from_dsets(group_chunks(seqs[:cut], bs),\n",
        "                             group_chunks(seqs[cut:], bs),\n",
        "                             bs=bs, drop_last=True, shuffle=False)"
      ],
      "execution_count": 27,
      "outputs": []
    },
    {
      "cell_type": "code",
      "metadata": {
        "colab": {
          "base_uri": "https://localhost:8080/"
        },
        "id": "vdUqYEnwVY9C",
        "outputId": "8690de8e-711c-4659-87d3-0061d8f79a88"
      },
      "source": [
        "[L(vocab[o] for o in s) for s in seqs[2]]"
      ],
      "execution_count": 28,
      "outputs": [
        {
          "output_type": "execute_result",
          "data": {
            "text/plain": [
              "[(#16) ['seventeen','.','eighteen','.','nineteen','.','twenty','.','twenty','one'...],\n",
              " (#16) ['.','eighteen','.','nineteen','.','twenty','.','twenty','one','.'...]]"
            ]
          },
          "metadata": {},
          "execution_count": 28
        }
      ]
    },
    {
      "cell_type": "code",
      "metadata": {
        "id": "ZvR2zELXVze_"
      },
      "source": [
        "class LMModel4(Module):\n",
        "  def __init__(self, vocab_sz, n_hidden):\n",
        "    self.i_h = nn.Embedding(vocab_sz, n_hidden)\n",
        "    self.h_h = nn.Linear(n_hidden, n_hidden)\n",
        "    self.h_o = nn.Linear(n_hidden, vocab_sz)\n",
        "    self.h = 0\n",
        "\n",
        "  def forward(self, x):\n",
        "    outs = []\n",
        "    for i in range(sl):\n",
        "      self.h = self.h + self.i_h(x[:, i])\n",
        "      self.h = F.relu(self.h_h(self.h))\n",
        "      outs.append(self.h_o(self.h))\n",
        "    self.h = self.h.detach()\n",
        "    return torch.stack(outs, dim=1)\n",
        "  \n",
        "  def reset(self): self.h = 0\n"
      ],
      "execution_count": 29,
      "outputs": []
    },
    {
      "cell_type": "code",
      "metadata": {
        "id": "ycB1P5KpWC-D"
      },
      "source": [
        "def loss_func(inp, targ):\n",
        "  return F.cross_entropy(inp.view(-1, len(vocab)), targ.view(-1))"
      ],
      "execution_count": 30,
      "outputs": []
    },
    {
      "cell_type": "code",
      "metadata": {
        "colab": {
          "base_uri": "https://localhost:8080/",
          "height": 81
        },
        "id": "FZil8rUkYDOg",
        "outputId": "68697ad4-0b62-4c44-c855-1470a71a8f8d"
      },
      "source": [
        "learn = Learner(dls, LMModel4(len(vocab), 64), loss_func = loss_func,\n",
        "                  metrics = accuracy, cbs = ModelResetter)\n",
        "learn.fit_one_cycle(1, 3e-3)"
      ],
      "execution_count": 31,
      "outputs": [
        {
          "output_type": "display_data",
          "data": {
            "text/html": [
              "<table border=\"1\" class=\"dataframe\">\n",
              "  <thead>\n",
              "    <tr style=\"text-align: left;\">\n",
              "      <th>epoch</th>\n",
              "      <th>train_loss</th>\n",
              "      <th>valid_loss</th>\n",
              "      <th>accuracy</th>\n",
              "      <th>time</th>\n",
              "    </tr>\n",
              "  </thead>\n",
              "  <tbody>\n",
              "    <tr>\n",
              "      <td>0</td>\n",
              "      <td>1.997565</td>\n",
              "      <td>1.906078</td>\n",
              "      <td>0.468913</td>\n",
              "      <td>00:00</td>\n",
              "    </tr>\n",
              "  </tbody>\n",
              "</table>"
            ],
            "text/plain": [
              "<IPython.core.display.HTML object>"
            ]
          },
          "metadata": {}
        }
      ]
    },
    {
      "cell_type": "code",
      "source": [
        ""
      ],
      "metadata": {
        "id": "KZ6BDhzvTu-x"
      },
      "execution_count": 31,
      "outputs": []
    },
    {
      "cell_type": "code",
      "source": [
        ""
      ],
      "metadata": {
        "id": "vxk3zc-tT8He"
      },
      "execution_count": 31,
      "outputs": []
    },
    {
      "cell_type": "markdown",
      "source": [
        "## Multilayer RNN"
      ],
      "metadata": {
        "id": "Lpc0zD20Vymb"
      }
    },
    {
      "cell_type": "markdown",
      "source": [
        ""
      ],
      "metadata": {
        "id": "Q7y6p88NQQu0"
      }
    },
    {
      "cell_type": "code",
      "source": [
        ""
      ],
      "metadata": {
        "id": "9ivcw4tXQQa2"
      },
      "execution_count": 31,
      "outputs": []
    },
    {
      "cell_type": "code",
      "source": [
        "class LMModel5(Module):\n",
        "    def __init__(self, vocab_sz, n_hidden, n_layers):\n",
        "        super(LMModel5, self).__init__()\n",
        "        self.i_h = nn.Embedding(vocab_sz, n_hidden)\n",
        "        self.rnn = nn.RNN(n_hidden, n_hidden, n_layers, batch_first=True)\n",
        "        self.h_o = nn.Linear(n_hidden, vocab_sz)\n",
        "        self.h = torch.zeros(n_layers, bs, n_hidden)\n",
        "        print(self.h.shape)\n",
        "        \n",
        "    def forward(self, x):\n",
        "        res,h = self.rnn(self.i_h(x), self.h)\n",
        "        self.h = h.detach()\n",
        "        return self.h_o(res)\n",
        "    \n",
        "    def reset(self): self.h.zero_()"
      ],
      "metadata": {
        "id": "-KNabPyyV2T5"
      },
      "execution_count": 32,
      "outputs": []
    },
    {
      "cell_type": "code",
      "source": [
        "learn = Learner(dls, LMModel5(len(vocab), 64, 2), \n",
        "                loss_func=CrossEntropyLossFlat(), \n",
        "                metrics=accuracy, cbs=ModelResetter)\n",
        "# learn.fit_one_cycle(15, 3e-3)"
      ],
      "metadata": {
        "id": "ZccSMUsfXXmo",
        "outputId": "c6eefe9a-60a0-4c4a-94d6-ac7874955dfe",
        "colab": {
          "base_uri": "https://localhost:8080/"
        }
      },
      "execution_count": 42,
      "outputs": [
        {
          "output_type": "stream",
          "name": "stdout",
          "text": [
            "torch.Size([2, 64, 64])\n"
          ]
        }
      ]
    },
    {
      "cell_type": "code",
      "source": [
        ""
      ],
      "metadata": {
        "id": "YvL1pRGNgA75"
      },
      "execution_count": null,
      "outputs": []
    },
    {
      "cell_type": "markdown",
      "source": [
        "## Multilayer RNN Implementation"
      ],
      "metadata": {
        "id": "Xt0WLuuvRuNy"
      }
    },
    {
      "cell_type": "markdown",
      "source": [
        "![maxresdefault.jpg](data:image/jpeg;base64,/9j/4AAQSkZJRgABAQAAAQABAAD/2wCEAAMCAgMCAgMDAwMEAwMEBQgFBQQEBQoHBwYIDAoMDAsKCwsNDhIQDQ4RDgsLEBYQERMUFRUVDA8XGBYUGBIUFRQBAwQEBQQFCQUFCRQNCw0UFBQUFBQUFBQUFBQUFBQUFBQUFBQUFBQUFBQUFBQUFBQUFBQUFBQUFBQUFBQUFBQUFP/AABEIAtAFAAMBIgACEQEDEQH/xAAeAAEAAgEFAQEAAAAAAAAAAAAABwgGAQIDBQkECv/EAHcQAAAFAwEEAwYQCAgHCgcNCQABAgMEBQYRBwgSITETQVEJFBkiV2EVGDI3U1hxd4GSlZaz0tPUFiNCUnKRlKEXJDM4YnWx0TRDgpeytLUlNlZjc3R2p8HiJzU5R1Vn4SYoREhlhIWHk6Kk8PEpRVRkg4ajwsP/xAAaAQEAAwEBAQAAAAAAAAAAAAAAAQIEAwUG/8QAPxEBAAEDAQUGBAQDBgYDAQAAAAECAxEhBBIxQVETYXGBkaEiMrHBFNHh8EJTkiMzNFKi0gUkY3Li8UNigrL/2gAMAwEAAhEDEQA/APVMAAAAAAAAAAAAAAAAAAAAAAAAAAAAAAAAAAAAAAAAAAAAAAAAAAAAAAAAAAAAAAAAAAAAAAAAAAAAAAAAAAAAAAAAAAAAAAAAAAAAAAAAAAAAAAAAAAAAAAAAAAAAAAAAAAAAAAAAAAAAAAAAAAAAAAAAAAAAAAAAAAAAAAAAAAAAAAAAAAAAAAAAAAAAAAAAAAAAAAAAAAAAAAAAAAAAAAAAAAAAAAAAAAAAAAAAAAAAAAAAAAAAAAAAAAAAAAAAAAAAAAAAAAAAAAAG01EksmZEXaYDcA4umZ9kR+sg74a9lR8YgHKA4u+GupxHxiHKAAAAAAAAAAAAAAAAAAAAAAAAAAOE5DaTwa05/SIBzAOHvlv89PxiDvlv89PxiAcwDaSt4slgy7SMbgABsW4hGN5RJz2ngbUutrPCVpUfYRkA5QAAABwqkNkfq0Z86iDvhv8APR8YgHMA41OpR6tSU55ZMCeQo8JWlR+YwHIAAAAOFT7aT9WnPnUQd8N/no+MQDmAAAAAAAAAAAAAAAAAAAAAAAAAAAAAAAAAAAAAAAAABtUoklkzIvdAbgGhHnlyGoAAAAAAAAAAAAAAAAAAAAAAAAAAAAAAAAAAAAAAAAAAAAAAAAAAAAAAAAAAAAAAAAAAAAAAAAAAAAAAAADYIpvvaRszTy5X7eqTtQkVZhlLzseDAdf3EqLKcmkscRKwr/rvBTY+qem99UtCG6nJqiaDPLGClR30mRb+OZoMjNPu+Ya9lt27tzcuxMxieE41x4Sw7VXct29+31jjGdHJK2nqrJjKcoukt51I0JNxwpEUopEjtLOTUfmIsiVbNumbXrSYrFaor1qyFJWt2DOeQpbCCM/GUpPAiwWfN1jKDLAxrUW33brsO4aKw50T8+A9GbX2KUgyL95itVVq5immjd78zMr00XbcTVVXvd2IhglgbTVq6i3g3b9Pj1Nlcppx6nzZcY249QQ2fjmyrPjYwfUXIxlup1euug0OO9aFus3HVHZKGlMSJRMNtNnnLhmfZw/WKxVeuQqpst27cUR1NHvbTiQwx3vycYkpcSy4wpPY6njywfwC4tPkqmQ2H3GTYccbStTSjyaDMs7p+chr2q1bsVRXRTpmYxPWPDGkxMM2y3a79M011a4icx3+vCYV0vi4Nfbasuq1+oTbKo0WnxlzHehadecwlOeiLe8UzM8JyJy08uCRdVjUCszWUx5dQgsynWUkZEhS0EZkRHxxxGNbRlLZq+ht8R397cOlPLyg8GRpLfL96SHbaO1B6q6VWjLkr6R9+lRnFqxjJm2WRyu1xd2eK4piJ3saRjktZpm1fm3vTMYzrOeb7L41At/Tajrq1yVaPSoKeCVPK8Zw/wA1CS4qPlwIjMQ85fWpWuRkmxoarCtMzPeuOssEuZJSXsEc/Ulz8ZX7h9mtuldfn39RdRLdhU26J1HiHHO3qunxXC3t7pGFmeEPceBmXUQzHS7XCgaoE/EjJkUq4YaCVOoVRaU1KjnyPKTLxk5/KLhyzjI7UU02rMXbdO/Vzzwp8vvOncrXXXdvTZuVbkcsfxef2jVk1kUCo23bkWn1Wuybjmtb2/UZTSG1uZUZl4qSIuBGRdvAYpphqPVbvvXUSi1OPFaat6pNxorkclEbjS294t/J+q7TLgMh1Jl3fCttSrJp0GpVtbqUJRUnzaZbQecuHjirHDxSxkVZtK0bzha4XhQK/qf+CVfqrcaqE/TYjRMVLKTQZNk51owScFxPiYbNZpv0XbldUROM9/GM6QrtF6qxXbpopmYzjx0nGsz1TprDfF26XV2kXJHiIqun7SFNVuLHZzLjGZluyEnzUkutJF1efhIVp3pQr6pbdRt+rRarCURGTsZwlYz1KLmk/MeDH30eG9CpcSNKlKqD7bSUOynEElTyiLBrMi4FnnguAhnUPQO0KM49eNCq56X1aGSnZNYpiSQytB+qJ5o8IWR/AYzW+xvUxbq+GqNMxGYnpmOPnHo0V9ramblOtM6zEzjHhP5+qeAFZNnG8dVL6u2ROqdXj1nT1hLjTFUfpiYTs9ZepcaQXHdznJnw+HlZgU2ixOz19nVMTPd++Lrs9+Npo7SmJiO9vAAGZpAAAAAAAAAAAAAAAAAAAAAAAAAAAAAAAAAAAAAAAAAAAAAAAGP3tZlH1FtGr2xcEQ5tFq0ZcSZGJ1bXStKLCk76DJScl1kZGMgAB5Xd0c2H9H9D9nhy8LEtyRb9YjVONGUtNTkyEPNOmZKSpLzi+WCMjLHwiPu5b7I+mO0dat8VjUOhvXA5SpseJDY7/kRm2kmhS1H+JWgzMzxzPHDkLed10/mb1H+uoH+moRP3Eb1sNTf63jfQqE081quSe6r3LfZzqENTcSzZtHkfkTINdndK37nSPLT+tJip2tkDXLuZty0q4rWvep6gaRzpJMKp9wuG+lhfPvd3OejNSUnuut7pHg8p6j9YvyREO1jpnF1c2cNQLZktJdXIpL70beLO5IaT0rKi7DJaEik1buqIjM4l9WzhtCWztM6X068rZcUhp78TMgPGRvQpKS8dleOeMkZK5KSZH1iVSPI8PO5Ka4StOto5uzH3zKhXmyqK40o/FRLaQtxhzzHwWj/+oXYPcQXmOisAD4qnVIdFhuTKhLYgxGyy5IkupbbQXaalGREOptzUO1rwfcZoVyUitvNllbdOntSFJLtMkKPAhLIwAAAB0FyX5bVm9H+EFw0qh9L/ACfolOaj7/ub6iyOwo9bp9wwW51LnxalCcLKJMN5LravcUkzIwH3gA2mok+qMiz2mA3APjqNSiUiG5LnSmYURpO85IkOE22gu01GZEQ+C270t+8WXHaBXabXGmjwtdNmNyEoPsM0GeAHdgAAAptrb3OfQWfZt8V9m0JEC4XYk2pFUmKtMNaZO4pzpCQp02/VdW7jjjgLkjENWPWuvH+p5n0CxyufLM9yY4xDwc7n7orbO0HtK0q1LyakzKCqHKlvRWJCmTeNtGUpUpPjEnODPBkfDmPWV/uXmzY+0aC0/daz+UiuVDP73zHmt3Iv+eTSv6nn/RkPdU+Q7K83kTtgaN3v3O+p29fejN/3HCtCdJ7zepM+WclqM/jfJKkKLccbWSVeqTkjLmeSF7dibaoi7V+jzVxuRmqfclPfODWIDJn0bbxFlLiM8dxaTIy7D3i44ycI92SuSBTNmWkUl91BVCo3AwqM0Z8VJabcNxWOwt5JH+kXaMQ7irZlVpOld/3HLaW1SqzUo7EJSiwThsIcJ1Se0supT7qD7BFOuYTXjESuTrpsu6a7SB0o9QLeXWnKUl1MJxuc/GUz0m7v46Jac53EeqzjHDrHiVtN6aVLYf2q3YFm3FKU9SFsVaj1BfB9lDhbyUL6lGXFJ8MKLmXHA/QafIUBvvRy3dfO6Aar2Xc8UpFNqOnkRKXEkXSRnSebNt5s+paT4l+o+BhHFE6RlY3Y/wBqOibVek0W5IO5DrkUyjVmlEveOJJx1dqF4NST7MlzSYnYuQ8DLFunUDuZm1XKg1RpyTEZcJioxUZSxWKcpWUPN56/yknzSojSf5RD3O09v2h6oWXSLqtycmo0Sqx0yYshB+qSfMjLqUR5Iy5kZGXUJ04wc1MtuHudNi6i2ne2olsNzKJqGhp+ruuomOOR6itCN9ba21mZINSUng290iM+RlwEAdzi7nrZWtWli9RtS4surw6hJcYpNKbkux2ibaUaFvLU2pKlGayUkiyRFuGfHPD1L1I46fXL/Vkn6FYr53L7+ZDp3/8APv8AXnxWmcTMeCZ5JG1s2TNL9oVmjNX1bzlWKjMLj09bc+RHNhK93ex0a0ko/ETxVnGPOY8TdoqwKvsM7VkiBZ9xyHJVFdZqdJqSuDyGnEkpLbpclGRZQrqUWeBZwX6Fh563rorbu0Ft762WTcrG/AqFiQOjkJSRuxHiW0bbzZ9Sknx85ZI+BmJjiiZxCzWyTtO0Lao0miXRTEohVVnEer0knN5UKTjiWeZoV6pKusj7SMTaPA7Te9b77mhtVz6bWWXJENpZRarDbM0s1anqPLb7WevHjIPmk95J/lEPdGw73oupFn0m57dmt1GiVWOmTFlNnkloP+wy4kZdRkZdQsjGuFJNujudVkXvZl86j2mibRL8ZafrUndluOxqgpKd91Km1me4o0keDRgiPHAxCPc5u552TrBpOWpGpcaXWWarJdapVKbluxmktNLNCnnFNqStRqWlREWSIiTnjvcPTzVr1qbz/qWZ9AsQX3NL+ZNpn/yEv/XHhWicVTHTC08IWdYjtxmm2my3UISSUl2ERYIc40LkNQABpkh1lbuSlWvBVNrNTh0iGk8HInyEMtl/lKMiAdoA6O3L1t+8WXHaBXaZW2mzwtymzG5CUn2GaDPA7wAAcXfDXsqPjENUuoWeErSo+wjAcgDiOQ2k8G4gj86huQ4hed1RKx2HkBvABjFd1OtC15hxKzddDpEvGegn1FlleP0VKIwGTgPhpVYg16EiZTZseoQ3OKJER1Lray8ykmZGPuAAGmSGiVEoskZGXmAbgGMu6k2kxXCoa7ooqK0at0qaqoslJNXZ0Zq3s/AMmAAGNVfUe07fqbdMqtz0amVJzG5DmVBlp5WeWEKURn+oZGlRKIjIyMj4kZdYDcADbvFnGSz2ANwDprju2h2hFTIrtZp9FjrVupeqMpuOhR9hGsyIzH10mrwa7AanU2ZHqEJ4t5uRFdS62su0lJMyP4AHR6jWHE1Msqq21On1KmRag2Ta5dHlHGltYUSstulxSfDHuGZDx57prs0R9m2TZs6gXpdNYpdwFKZdiV+pKlKacZ6LKkr4ZJROFwMuG6XHs9rR5bd27/3v6Q/85qn9kYVnkmNZX/2aD3tnfTIz5nbdP/1dAk0RjszfzdNMv+jVP/1dAk4da/nmHO38kADHbj1CteznW2q9clIojjhZQioz2o6lF2kS1FkdrS6rDrcJubT5TE6G6WW5EZ1Ljay7SUkzIxRd9oAAAAAAAAAAAAAAAAAAAAAAAAAAAAAAAAAAAAAAAAAAAAAAAAAAAAAAAAAAAAAAAAAAAAAAAPinTWKbCflSnkMRmEG4664e6lCSLJqM+oiIB9QCvx60XvqzIdb0qt1huiN5Sd03Gamozp8ssNEW84XA+J8Pc6421Z1p1T2drptorhr1LuyLUCW69EjU1MVO4lSUmROZMyV43A+rHEsD1bP/AA27er7KJiK/8szr+Uecw8y5/wAQtW6e0mJ3P82NP18lzMkIM2so78WyaDcyGTkRLZrsSqzWkerNhKt1Zp85bxH7mRNcR/vmMy7jd30ErGSPGSzzLgfwDSXFamR3GH2kPMuJNK23EkpKiPmRkfAyGGzc7K5Tc44a79vtrc0dXSU6/rbrUBibCrtOkRH0Ett1EpBkZGXujmrtzMUS2JdaYjyKy1HaN1MemJJ557HU2WfGP4RgkvZX0nnyXJDtj00nHFbyuj320mf6KVERfqGd2lZ1FsKhMUWg09qm0tg1G3GZzupNRmZ8zM+JmYm52ERE25mfGIj3iZRR20/PER4Zn6xCqVyaN3hr/ez93RLcb03jobZX3vV3OlXV3m1kts5DLZkSEkRczyfu9U+U3Uet2xpQu5L+oD1PrEZampFPo6DlqeV0u42bSU5PC8pMiM+GeIk0bxovbZVfppt1x8NPCOkdM9/flws7HFiaq6aviq49Jnrj8lfKjrReFfpEmK/odX5dLmMqbcbfmsoU42osGSk8yMyPkPl2S6tcsWFW7WqVCrFOt6kuJOjv1pk2pCGVmozjq5kvo+RKI+XwELGjaZ5FZ2qiq1VaptxGcc55eMyRstfa03arkzjPKOfhEBkZ9YirWDRlvUFUOtUae5bt70xKjp1Zjcy4fyTpflNq6yPOOPuHK4DLbuVWq4ronVruW6LtO7XGjG7AOvqs+lfhU3GauImCKaURW80bnIzSfnxn4R1uoOktqapwW41y0dmoG1noXzI0Psnw4tuFg08i5DNgCLtUV9pTpPcTbpmncq1jvQUVo6e7K9Mn3UTlWR06CiJZdmPS1yFmeUtttmZkazMuB+7xIdXbuk9a1uqEa7NVUrap6V9LSrLSsyYio/JXJxjpHD4GZHwLl5isE8y27u76Er3D305LOFFyMvON2T8w1RtdcRNX8c/xTxx3dPH6M1WyUVTET8kfw8vPq42GER2UNNoS22giSlCCwSSLkRF2D6QAYW4AAAAAAAAAAAAAAAAAAAAAAAAAAAAAAAAAAAAAAAAAAAAAAAAAAAAAUp7rp/M6qH9dQP8ATUIo7iL62Gpv9bRvoVCV+66fzOaj/XUD/TUIo7iL62Gpv9bRvoVBHMq5PSwuQ+We0iRDfbcTvIW2pKiPrIyH1FyGO6g3ExaFi3DXZCybj0ynSJi1qPBETbalf9g53PllMay/PJstrVStrnTU2VERtXXESky4ljvgiH6BtY9U6PohphcV715Z+htHiqkLbSeFOq4JQ2n+ktZpSXnUPC7uddhyNSdsaxCS10jFMlLrUtWOCEMpNRGfuudGX+UPRvuxlYk0/ZShxWFm23OuGK29g8byUodWRfGSk/gIdKtKIVjW5KJ9lXT6t90dvCvas61yn6lY1MmnDolnx5C2oKXSIlHlKTLeShKkkZn4y1GeTwW6dgNfu5z6cXJZMqdpnRW9OL/pjSpNHq1vOLimb6SyltwknxJWMbxYUnOSPmRwB3POu7Q9M2aKU3ppaFhVW2FT5i0y65UX2ZS3elMl7yEcCIsEReYiFjqjc22ZIgSWmLI0siPOIUhD5VaUo2zMsErBlg8c+ImrTSExrOWM9zT2xqrtFWTVbUvN4nr8tdKCdlqIkrqEUzNKXVFy6RKi3VmXPKT5mY+7ukG2hP2XrFpdEtM2yvq5Sc71kOpJZQI6MEt/cPgazNRJQR8Mkozzu4OJNgbYT1h2btoGReV4OUM6PMpsmJK7wqBuuLW4pC0nu9GWfGR2it3dTalNqG3HCjn0T/edPpjUZl9RpayozXhR9STUo8n2CJ1qiOp1Xj2bO572VHsuHdGsNMLUfUiuspmVSZcLq5RR1LIlEyhKjxlJHg1GRmZ5xgsEIY2xdHJ2wHVqJrZoVMftqiuz0Qq7avTLcp75rIzSfRqM/EVuqSZfkmaTQaRZL8MNsbJbtg6VEX9dS/7hD21Jo5tabUunLVmVeg6d0Gld+NzHl02rPm46pBHupM1oPCcnnh2EE55Ed63Wn16UPam0Ap9dp8ibAo12UpaFqgyTalRFKI23UIdTxS42slpJRdacjyF7o7oO9swanWumjXpcVeplWjqnR265PXIeiuNOJIy38+MRmZGR4LHEem+wBoXeWznoEmyr2XBXUmKnIksFT5JvNpZc3VEWTSnB72+ePOKO9229cDS/+q5n0yAq0qjC0cJWS060Ud296PE1P1nOpfgTOLNr2DFnORozUUvFKXJU0olOOumW8WDLdTjiecFA22xsYI2PabA1s0EqlStNNJkNtVKnty1u9ClaiSh1ClmZqRvYSttZqI94j5EZD0j0XpDFD0csWnxUJQxGocJpCUlgsEwjqEcbeMVqZse6roeLeSmiOuEX9JKkqSf6yITXO7wVojejV9OxdtIMbUGhdKu1TbUWttLVBq8Vs/FbloIt40l1JWSkrIurexxwJ7Hlt3EGpSl0nVmAajOG29Tn0JzwS4pMhKj+Ekp/UPUkWrjE6KwDENWPWuvH+p5n0Cxl4xDVj1rrx/qeZ9AsZ7nyT4LR80PCXudVQv2n7SkJ7TemUWr3R6GSybjXBIWxFNvcLfM1I45IuRD0h1a1v2xtNbZdqr2l9kyYDRb0qfb7kiouwmy4qcOObiFrIiyfi55HnAoj3IzhtlUr+p5/0ZD3VyQ7zwRzeXukOgFid0GuhN739rvUNTp9NSnpLVhU4qN3g0o/5PolKUomzMuK28bxl6ozHpPadqUmxrcp9AoFPYpNFp7RMRYUVG42y2XIiL9/wmPEbVivHsdd0orFXoOabSoNcZlux2fFQqFKbbcfa3S5p3XVkReYj5kPcxl5t9pDrS0uNrSSkqSfMj5GI40xUmdJmG8+QpvZn/lS7/8A+gET6VsXIPkKb2X/AOVKv7/oBE+lbF6fm8p+itfy+cfWGSbfGx7E2q9Lz9Dm2o990NDj9GmLLHS54riuH+avHA/yVER8jPPnx3ODbDm7NWo0nS+/nXoNoVOccdZTcpOiz97dNRkfqUKUW6suoyJXDxs+1fMeYndW9igq1Cl62WVBLv6MgjuWCwnBvNkREUxJFzUksEvtThX5J55RO7Oq8xvPRrUk86e3KZcvQyT9CsV67mB/Mi069yd/r0gVr7nxtsfwiaRV3SC9Kgpd0UyjS/QObJXk58VDC/xBq63Gklw61IL+gebK9y//AJkenXuTv9ekCYjFVXhH3Umc48Z+i1Yplp3/AOVI1R/6EwP9JoXNFMtO/wDypGqP/QmB/pNCafn8p+iK/l84+sO92/tjaJtUaZnIpDTMa/6Glb9KlqLHfKcePFWf5q8Fgz9Soi6jUKC9zY2x5Ozzfz2ld9PuQrRqk1TKVTPE9Bp+9unvEfqW1qIkrL8kyJXDxh7T8x5d91a2Iu/2ZWtlkQS76aTm5qewni6gsEUxJdpFwc7SwrqVmKat2deDpMZei2rh50pvQ/8A5FmfQLEGdzTP/wB5Lpt/yEr/AFx8Vj2Ddtk9UtCbq0kvOcbt3Uq35voPNeVlVRiIjry2ZnzdaSXuqQWeaTM7OdzT/mTabf8AISv9cfE0xiqry+6kzmI81pAABCyFNrPaLp+y7orV73lxynzG1IiU2Ape6UmWvO4kz/NIiUpWOO6g8cRUTY12al7XNIVrptBSJN8zKvIdKh0Oa4pECMwhRoNwmUmScGpKiSj1OE5PeM8l03dvatIatbSilpUZRX5tQkrTnga20MJSfwE6v9YzjZVuDagg7OWnjFmWRpxNtdNHZOBInVSU3IcbPJ7ziU8CWZ5MyLhkwp5yVZ0w+zbA2HbbsCwKrqpokw9ppfdqxzqP/uffXHZmMN+M4hTZHukokkZlgsKxhRKzwmDYI2qVbVui6axVEtM3bSXu8KyyxwQtzdyh9CceKlxPHHIlJURchgOqEXbJ1K0+uC1DtDTSkNVqE7AdmRqrIW6224k0r3SWRpyaTMsmR4yMf7mxsc6mbKlxXw9eyaR6HVqJGSwVOmm+o3WlL9URpLBbriuPnCkRBt99zOo1n2VN1C0iizmfQ81SKzQFSHJO8xzXIYNZmveTzUg1GRpyZY3cH23cdl6T1Kn1VyJT3oesFPZdbmSZE51ZTYDjhKJbLWSQRJMkoV4pqIyI8+OPTtaCcSaVJI0mWDIyyRl1kPEnbv0s9JPtNQLs0luMqDIqkdyqNU2Er8fSN5XRrI04MiYcNRkglf0k48UjExO7p1Wq+ONeKX9cdiWxdoXa1dtDSVuZRCpi3Kjf9xd8uSokV95W+hhlK1H/ABhR75mklEksly3DIXy2aNkuw9lSiVOBZbM1UiqdCdRnVGWp52Spol7nDghJF0i+CUl6rjnBDBu501jT2s7NFEkWAa1PrUpVwqmOE5OXVDwb65CuajUZ7yVcjQacY5C0QjG7ojO9q8ye6n7YF0ad3tRNKrenzrfpkmI1UK5U6U70U19hbikkyy5/i/FQozPrMyLkR5spplsT7N1y6c0WqUvTqm1mm1iC1NaqFX6R+Y+h1BK31urUaiWe9k8GWD5YH07Zlp7OSaRSru16gUtfeBm3T3XnXkSpGPGNltDKiW8nJ5NBkaSzk8ZGEWbtYasav0mEnQ/QVyNaSG0NwrivScmmwlMpLdT0UdBbykYSREaFGRdgin5cIlTHXSnVPuZe15RH9NaxOasyssM1B2hSJButuMG6bb0dwj9XjcM0LPxk5Ljwyfs4hW8glFyMiMh4bd0vZ1Ua1gslzVmVbD9bdpRLjMWsh4mY7PfC/EWp3ipW9nj2D3GiHmMz+iQtHyR4yidKlF+6abORXDpTdeqtOvS5qPWaHAZUulR6goqdJaS4STI2Sxurwsz3iPiZFkhXPueNS1D2gdHJ2jFBrM6zbSps5+dcV2Ql5mLYfIuigxTP1ClqQ8pa+ZJ93B307oN/Mz1V/qr/AP6tiu3cV4rTWz9eUgmyJ524jStZc1EmO1gj9zJ/rEU8yqeCP9rfuU9mae6NV29NOarWirVAjKqEiHVpCJCJbKMG5gyQk0LJJKUXMjxjhzHX7F21HqttFaa0rQmiVeZT7kjuOqqV+PETztPoaSRgkZ9VJNSzaSpXIsHnJZL0h19STmh2oqFcUnblRyX/AM2WPOXuH8JhcrVyWpslSSbpjJOdaUGcozL4TSX6iCjXMJq4RLPtZ+4/2PVLDqs6z7iuNy+m2VyUS61LRKbqDxJyaXfEIyNZkfjEfAz6yHU9x22gq9dVMujSy4Jb89uhMtz6SuUs1OMMmrcdYyfHdSo0GkurKi5cvStaMDx+7kEeNqnUY+v0Ff8A9baCjWqae4q+Xe74enmuuhtM19tNmgVauXBQGGZHfKJNu1A4bxqJCkkS1ER7yPGM90+siHi/SbnuDY128JseJKn6gz7enSqXBZlPqJyeqRHU2wlZmZ48Z5vex1keOoe9I8XK7S2Kx3YlMaShLjX4YsumlRZIzQwhZfvSQmn54P4ZXhonc67S1HiKuTXiRUNR9Q6knpZspdSfjxICj49BEbaWkkto5FnOcZ4ZwKaar0m6+5R7Q9DqFlVqfV9MLkM5CqLOe3kPNoUSX2HOBJ6RBLSaHSIjwos5woj9jy5DzY7trDaXpVptIUn8a3W320q7EqYyZf8A3E/qHOat2YOL0MtG6KbfNrUm4qO+UqlVWK1MivF+W0tJKSf6j5DzW7t9/vc0m/51Uv8AQjC0fc0qjIqWxTpu5KUalNMymEGZ/kIlvJSXwERF8Aq53b3/AHuaTf8AOql/oRha7GJx3rW9de5ffZn/AJummX/Run/6ugVj7pRtn1nQKj0mwbDd6O/7kb3+/G8KXT4xq3CUgjLHSuK3kpM+RJM+eBZzZo/m66ZY/wCDdP8A9XQPIbbrrVXqvdKHURERpk2DVKLFp0aco0xzMm2FoQsy4kg3Fnky/OMXu63cd7nR/d57noNoP3OXTe1bOYmalUVjUfUGpITIrFYuBa5f45RZUhslHgiTnG96o8ZM+RFXXaqsKq9zcvy29VtGZUmBZFXm951uzpElbkFTuDWRJJRmaUrSS8HxUhRcDwe6Vm1XltkZ4WDpV8syxCG1foRtZbWVnUq165Q9PKFS4U3v5SaZVXjW84SDSjeNaTwREpXAuefMK8JiVl89MNQaXqvp/b930Rw3KVWoTc1g1eqSlZZNKv6STyk/ORjLBX7Yb0hu7QfZyoFj3qqIqsUt+SSTgyDea6FbynEESjIvzz4YFgRM8dER3gAAhIAAAAAAAAAAAAAAAAAAAAAAAAAAAAAAAAAAAAAAAAAAAAAAAAAAAAAAAAAAAAAAACENrWpSP4MmbchLNmVdVRjUQnSPG4h1Zb6vipMvhE3iL9oOwJuoWmk2JR8Jr8B5qpUtZnjEllRLSWerJEafhGvZKqaNooqqnSJZNqpqqsV008cM/o1IjUCkQqZCbJqHDZQwy2X5KEkREX6iEHbW2iL+rFoxajTkKmVihdI8xTlKLo5Tat3pUcsksySW6faQzLSXW+39UaU2luUim3CyRNz6HMPo5UZ4i8ZJoPBmWeRkXLHLkM1uS6KRaNLcqNZqMamQWkmpb0lwkFgueM8z8xcRe1Vf2PaIriMVxP79XK7TY2zZ5omc0TCGdjTUs790jjwJjilVagOHT5BOer3CybJqLt3PF/yDFgRUTTHRWdqj6OapwK3UbDrteqTkukrhERpTDLxUdMyeCXv7pqPOOeesSVa9+alWhc0K3L6t07hizFpbi3RbrP4njzOS0Z/ivdLgNW2WKLl6uuzVETxmnhiecRynE9PRn2S/XRaopu0z3T16acY8/VOIAA8d7AAAAAAAAAAAAAAAAAAAAAAAAAAAAAAAAAAAAAAAAAAAAAAAAAAAAAAAAAAAAAAAAAAAAAAANDLI1GPXxaMe+7Qq9uy5c6BGqcZcZyVTZBx5LRKLG824XFKi6jAVI7rq6lrY+mpUokm5WoKUlnio95R4L4CP9QijuJDif4NtTEEojWVWimaSMskRsqwePgP9Riarj7l5pbeTLDFwXTqHXWGVGptqpXIqQlBmWDMiWg8H7g+e2+5V6QWbIckUCu35Q33Ukhx2m3AcdSyI8kRmhsjMgjTPemdYhcZx0mUGpeEJLmalEREXWY84O6ObbFIuK1ZWiGlEo7wuu4llCqb1GzISwzkt6O2aCMnHHMbpknJJTvZ4nwnCo9zW01rjKY9burUSvQM5XBqd1POsueY04L9xkJd0e2W9LNAUqVYll02hy1pNC526p+WpPHgbzhqXjjyzgIhGcID7m1sXSdmayZ1x3W02m/rhbQUiOlRK9DoxHvJj5LhvmfjLxwySS/Jycnbdeg0naL2cLjtWmIS5X2dyo0tCjIt+QyeSRk+W+k1oz2qIWFSNDLiIqjeKdHl13IraJpFq0u4NFbrlJodwtVNyZS40/wDEm+tREh+P42MOJU2R7h8T3jx6kx6dzahHpsR6VMeREjMpNbj76iQhCS4mpSj4ERdpiue0X3PvSTaSqjlbrFLkUK6V+rrlDcJh94y5G6kyNDhlw8Y073Ai3sDAKF3LSyCW2xduoWoF8UVo0GVFqlYNERW6fBKkoIjMvcMvdEzrqjCStIto6q6/a2V6NZMOHO0dt+KcaVdDiV71SqZqIybiHkiU0hJHvKwZGZljgZZpn3Y3Z5qpVqgay0OMt+C1HRTaytosnGUheY7xl+ae+aDPqNKfzh6d2fZ1FsC3YNBt2lxKLRYSOijQYTRNtNJ7CIv1mfMzMzMdhVaTCrtMlU6oxGZ0GU2pp+LJbJxt1Blg0qSfAyMuoxE8lsob2SdpS3dpXSKjV+lVBh6uMx2ma1TScLp4kokkS95PPdUZGaVcjI+fA8ZhrTrhZ+gNly7nvSrtUyAylXQtmoumlOEWSaZRzWs+wvhwQrPd3cntKp10ej9mV26NNZqlGpSLenkTaSPmTe+RqQXmJWPMM30k7nrpnptdEW6azJrmo90xN04tSu+cczvZRHklNt4JJHy4qI8Y4YFpnKsaJN2b7vvvUDS+JcuoFIi29VKs+7Lh0qOlRORYKlZjof3jPLu5g1YxzLgR5Hm/3bb1wNLf6rmfTNj1yMjM8/2DyM7tvw1A0v8A6rmfTIFKuMeP2l0p4SvLsLa3QtWNC6BSJKu8r1teExSq3SJHiSGVtoJLbu6fE23EElaVFwPeMs8DEad1Z11o+nOzfVbMKawq5ruNEOPB38uojJcSt5408yThO4RnzNfDODGU1rYtsPX+wLDuSS/V7SvRi34TDdzWzMOJMU33u2RIcMiMnCIuBZLJFwI8D4dLe5iaW2Ne6LuuWo17U2vsrS4y9dclL7SFJ9SpSCSXSGWOG+ai8wtcpzVMOVufhiXU9yn0AqOjOz49Wa7EXCrd3SU1E47id1bcVKd2OSi6jMjWvHYssi7BHkbCQRGWCxjsG8uQtVO9OUxGGow7V1xLOlN5rcMkNpos01KUeCIugWMuFV7s7nhYd7yKsqr3pqPJjVN1x2RBVc7hxvHUajQTZpMt0jPgR5wREOVWsTC2MTEvNPuSCiLbJpJGZJM6TPIs9Z9HyL/89Q91DznqIUopXcktEqBUGJ9NqF50+cwreakxK0TTjZ9qVJaIyP3BPmiOzdQ9BpNWkUe5btrq6khtDiblrK56W9w1GRtkovFM948454LsHSVY4vKTuxNlv0Hahg102jRFrlDjuJc6lONGptZZ7SIkfrIXHo+169L7nXR7utWtNM6hHFiWxBZIm3n/AEX6RDBJJtZGSjNP43CiPxTyLIbSGy5Y21NaDVCvSI8bkRanYFThLJuTDWZYM0KMjIyPBZSojI8F1kRlDezv3MHSvZ+veLdzUqq3XW4K+kp66ytvoojnU4ltCUkay6jPOOZccGUR8u6tOtWVr4Ru06gx1VSUhT7EdJy5S91tBqSnx1n1JLJGfYQ82dNtrixKx3UO6KmirRm7aqtHTa0GruLJMd+SybaiPfPhuLWlaEqzg/F/OIXV2idle0tp6FSoV3VK4YsKATpFFo1ROK0/0hoM+mRumTmOjLGS4ZPtEBeB30C/Ouv5WR9kETrlXHw7q8SvGIjLiQ+V9huUwtl5tLrLiTQttaSNKknwMjI+ZGXUIr2f9mO2tm6HU4VsVm5KjFnkyRsV6qKmNxyb38EykyIm8755wXHBdglw+BiFonDwz7oHsi1DZL1WYvOyykQbIrEhTtNkRFKSqlyuaoxqI8kXM0H1pyXHdPPpN3MD+ZFp17k//XpAnjVbSy29adP6vZ11wPRCiVNro3m87q0nzStCvyVpMiMj6jIfJono5QNA9NqTY1sKmLolL6Xvc57xOvfjHVOK3lERZ8ZZ44cCFqasUzSirVmcyWzBiuyZDqGI7SDW464okoQkiyZmZ8CLzjzO0h2u7CrXdOb1qaarGZt6u0lu26ZWXXSRHfkMdGZHvHw3XFIWlKjPj4v5xC6G0TspWjtOR6bFuyp3DEhwUuIKHRakcVl8lmkz6VG6ZLMt0sZ5ZPtED+B10D9luv5VR9kI55RxjC8RK3i5YHzy4jE2M7HfaQ/HeQbbjTiSUhaTLBpMj4GRlwwIp2fdmm2tm6n1KBbNXuOpRJ/QkbNeqipiI5NEskkykyImyPfPOC44T2EJgESl4Td0A2SanslarsXXaKnolkVx9blLkRVGlVNfPJrimrmRERmaD60ZL8kx6adzT4bE+mv/ACEv/XHxOGrmk9t64WBVrMuyAU+h1JBJdQR7q0KIyNDjavyVpMiMj/8AaQ4NGdIqFoRppRrHtpUtVFpKXExznOk68e+4pxW8oiIj8ZZ8iITTVEUzCJjMxLPAAASpf3UvZ3quuWgTVUt2IudcFpyF1JuK2WXHoxow+lBdaiIkrIuZ7mC44GK9yg2maBe2h9P0xqFRajXhbButMxHlklcyGa1LQtv87c3zQZFxIkpPrF+hUnW3uZ+kGslzPXNGj1Gx7ndc6ZdQtt8mEuOZz0htGRpJX9JO6ZnxPIRpmOUk64Weua6KRZlDmVmu1KLR6VEQbsibNeS000guZmpR4IQps2a7XNtD1277ni0hin6SIeRCtmbIaW3Oqq0GZPycGeCZM+CSNOTwfHgZFHFqdzG0+iVONMve7b01RaiuE4xTroqynIaVF1qbSRGrq4GeOHEjIW9ptMi0iBHhQY7UOJGbS0zHYQSG2kJLCUpSXAiIuGCDgIa2rNqu0tlnTqVXK5JakV15tSaRQkukl+c9yLBcd1sj4qWZYIu0zIjwbQbZWh1zS66Krq0li7L31NjpkXHJURGhhlREpmHHPjuIZLdwafykkfUnGM3B3J/Re7Ku/U6xU70qc55RqXIl1vpVnx5bymzPBe6Jr0K2X7Y2e7crFCtusXLMgVJCG+jrFUVJ71SlKiImOBE16s+XWRdgjGk9SeMPKu3a3eHcqdrWTSagp6q2JVdw3kkWE1GnKUZIfSXU80e8WO0lFyVkeztnXfSL8tmm1+gVBmqUeosJkRZcZZLQ4hXEjIy6+0uo+AqZcXcpNHbvmJl12t31WZaE7iX6jXzkLJOc7pKW2Z448hIegGwzYWzXcxVezqzdZJJpxo6ZPqxuwT38byzZJKSNfAsK6hMcME4zl5pbQ1cc1V7qDEoWorx/g1BueHR2ocpW6w3BJSDQnHIkub28Z9fSGPbBCGoMdKEIQxHZSRJSkiShCSL9RERf2CvG0rsGaXbUNQRWLjjTaVc7bXQlW6O8TT60l6lLiVEpCyT1ZLJdox6l7AEWTTGaHeGsWpV72qyhLZW/UKz0UV1BcNx3o0ktaMcMbxBGlMUomMzl5vd051mgax7RECqUJK5VpUeP6ERK0hBnHnPNOb8g2XOS0oU4lOSzy7DIe4NDmsVOjQpkV1L8WQw2806g8ktCkkZGXmMjIQ3rXsbaZ646T0zT+p0YqNR6Pxo66IlMddNVjH4osGnBl6olEZK5nxwY6PZq2H7X2a6sVXiXXdN1VNqKqBFVWqiao8SOo0mbbbCcIIjNKeZHjBYwJjSndTOs5cvdCXkMbGmqhrWlBHTCQRqPHE3myIvdMxAHcWVp9LzdySURqK5F5SRlkv4uzzITnrXsGWBr5c1UrF1V+9FoqC23HKVFrikU9tSEJQk22DSaU+pz7pmfWMVsTuY+lemtVZn21cF90h1t5t5aItfNlDxoUSkk4lDZbxcMYPqEU6b3eTGcdywOv7iGNDNRnHFJQhNuVHKlGREX8WX1jzp7h+6jpNXWzWROmVLUlvPEyLvojMi82S/WQutr3sb2ftG11yfdNfu+Oy5FREXS6TWlR4LiEqUojUxumk1ZVxM+eC7BGFvdyp0es+aqVQa3fdElLTuKfp1fOOtSfzTUhsjx5hNM7sz4Iq1iIXGeeS0244syShKTUozPBERdpjx97kDJZPat1AInmz6aiyDbwovHLvto/F7eHHgPRzWfZUtnXSm0SDXrhu6BDpcNUJLNHrS4qZTZkkjOQREZOq8XmfafaIYoncmNFLbqDU+kVO9aXPaz0cqFXCZdR24UlsjIKNJ3vJadad3wXVMjwPCbaFuqqWN3Ta4Lko1Oeq1QpF0Mz0wY5ZcfS022taEl2mhKh7d2NakaxbSpFuxJU6dGpkZEZuTUpBvyXUpLBKccPitR9ZmPHusH/wDtjEf9MmfoUBTGK4RM/BL18061Ft/VezKXdVrVFmrUSpMk9HksqzwMuKVFzSsj4Gk+JGWDHl53WfUf+GvV6wNGbJI7grtOecVKjQsOGUyRuJaYMy5KShJqV2EvjjBi2OpHc37Bu24qlWbTua6tLZNTeN6oRLTqBx4cleOKjZxhJnz8XBebmMu2bNhPS/Zjmrq1vwJNWul5Bocr9acJ+UlJl4xN4Ikt56zSWTzgzMhUzhImz1pW3ofopZ1jIcQ8ui05uO+6gsE496p1ZeY1qUfwigHdv32/QbSWPvp6bp6k50efG3d2MWcdnnHpRe1pxr5tKr29MlTIUWpRlxnJNOfNiS0lRYNTbhcUKLPAy5CqFxdym0eu+YmXX65fdclITuJeqVfOQtKc53SUtszx5hM/Fqmn4VgNmVRK2ddMDSaVF+DVO4pPJH/F0dY82O626H12yNX6DrhQYy3KZLKMzNktoyUOcwZdCpfYS0pQRH2tmWeJC8+jOwzZOg9zUesW1c17rRS+kKPSJ9eW7T8LQpB7zBJJJ+rMy7FYPqE93FbdLu6hzaNWqfGqtKnNGzJhTGydaeQfNKknwMgqq+LfhWNIwj3Zz2grW2jtNKZddtVBh1bzKO/4CXCN6BI3S32nE8ywecGfAywZcBza9bQVn7O1kSLhuqelDxpNMClsnvS6i/8AkMst81KMzIs4wnOTwQrfXu5N6Ypuh2t2RdN4abvOme8xQaj4iSM84QpZGsi8xqMSXoxsDaaaRXTGu2SusX5eUdJJZrl3TTmusGX5TSTIkpPsPBmXUZBOspSXoBWr9uXSyj1fUmmQqLdc8lyHqZAJRJhtKUZtNL3jPLhI3d7z5ElAAAAAAAAAAAAAAAAAAAAAAAAAAAAAAAAAAAAAAAAAAAAAAAAAAAAAAAAAAAAAAAAAAAAAAAACOr60IsLUeYUy47aiT5xFu99lvNPY5ERrQZGfwmMeo2yZppSZjcp2iOVdTZ5abq0t2U01+ihajT+sjEzANNO1bRRTuU3JiOmZZqtlsVVb1VETPhDgYYRHaQ22kkNpIkpQksEki5ERdRDnABmaQAAAAAAAAAAAAAAAAAAAAAAAAAAAAAAAAAAAAAAAAAAAAAAAAAAAAAAAAAAAAAAAAAAAAAAAAAAAAAAAAAAAAAAAAAAAAAAAAdLdlRqdHtmqzaLSPR+rx4zjsSmd8pjd9ukkzS10qiMkbx8N4ywWR5V7auhG1Btj3Xb9Wd0PatOJRYbkVmKVzwJbizWslKUpfSILqIiIk8OPEx61gIxArVsrXlrh3jRLS1L0datCBSqUlg7lZuOLKTIdaSlCEd6t5UneSRnnfMi3fOLJ9KY5MENRaZyjGIxAAAISAAAAAAAAAAAAAAAAAAAAAAAAAAAAAAAAAAAAAAAAAAAAAAAAAAAAAAAAAAAAAAAI71pvK+rItqNNsDT09Sau5KS07SyrLFL6Jo0qM3eleI0ngySW6RZ8bPUPLWfsx7Vs3auPXNOjkVqqFWUVZFJO4ICmS3SJJNGvp8n4pY3sFx446h7HDTBBGk5EaaI3tf8AfNCnytQdOD00qbMnomKf6NMVQn2t0j6XpGSIk8TMt0+PDPWJMGmCGomZAAAQAAAAAAAAAAAAAAAAAAAAAAAAAAAAAAAAAAAAAAAAAAAAAAAAAAAAAAAAAAAAAAAAAAAAAAAAAAAAAAAAAAAAAAAAAAAAAAAAAAAAAAAAAAAAAAAAAAAAAAAAAAAAAAAAAAAAAAAAAAAAAAAAAAAAAAAAAAAAAAAAAAAAAAAAAAAAAAAAAAAAAAAAAAAAAAAAAAAAAAAAAAAAAAAAAAAAAAAAAAAAAAAAAAAAAAAAAAAAAAAAAAAAAAAAAAAAAAAAAAAAAAAAAAAAAAAAAAAAAAAAAAAAAAAAAAAAAAAAAAAAAAAAAAAAAAAAAAAAAAAAAAAAAAAAAAAAAAAAAAAAAAAAAAAAAAAAAAAAAAAAAAAAAAAAAAAAAAAAAAAAAAAAAAAAAAAAAAAAAAAAAAAAAAAAAAAAAAAAAAAAAAAAAAAAAAA6G8bpgWRbNSr9UWbdPp7CpDyklk90i5EXWZ8i90d8IL2sakufYMGyoeFVa8KgzTGEc1JbJxK3nMdiUp4+6Q72Lfa3aaJ4TOvhz9mfaLnZWqq45fXl7pRsS9aZqJaFMuSjuLcptRa6Vo3E7qi4mRkouoyMjI/cGRiA9lVxVqU+6tN5SzOXadVcbZNR8XIjxm6yv4d5QnwNotxZvVUU8OXhPCfQ2e5N21TXVx5+PMAAHBoAAAAAAAAAAAAAAAAAAAAAAAAAAAAAAAAAAAAAAAAAAAAAAAAAAAAAAAAAAAAAAAAAAAAAAAAAAAAAAAAAAAAAAAAAAAAAAAAAAAAAAAAAAAAAAAAAAAAAAAAAAAAAAAAAAAAAAAAAAAAAAAAAAAAAAAAAAAAAAAAAAAAAAAAAAAAAAAAAAAAAAAAAAAAAAAAAAAAAAAAAAAAAAAAAAAAAAAAAAAAAAAAAAAAAAAAAAAAAAAAAAAAAAAAAAAAAAAAAFfdLlt6va2XLf6lE/RKAR0CgkRZQpXOS+k+vJmSSMurIknVey6pqFaS6FTa85byJbqUzZTLe+6uN/jG0Hkt01Fgt7sz2ju7RtSl2PbcChUaOmJTYLZNMtEXIuszPrMzyZn1mZjXbuU2rVUx81WnhHP14eGWK5RVdu0xMfDTr4zy9OKGNVnj0e1ooepamj/BuqRk0Kvut/wDwc98jjyFl+aR+KZ9RCwSFpcQSkmSkqLJGXIyHR3fasC+LXqVBqTROwKjHXHeR/RUXMvOXAy9wdNo7bFbsvTukUK4JzNTqFPQqMUtnOHGkqMmjPP5W5ukfnIRcrpu2qZn5qdPGOXpw8MJooqtXqoiPhq18J5+v5s4AaFyGoytgAAAAAAAAAAAAAAAAAAAAAAAAAAAAAAAAAAAAAAAAAAAAAAAAAAAAAAAAAAAAAAAAAAAAAAAAAAAAAAAAA6G6L1oFltRHa9WoFGRLfRFjHOkoZ6d5aiSltG8fjKMzIsFx4jHtXNdLG0Itxdcvm44dBglno0vLNTz5l+S00kjW4rzJIwGfgMYtG+qVeliUq7oC3GqNUYCKkyuUno1IZWglkay47pkk+JdQ+207wod90SPWbcq8KuUmSW8zNp76Xmll5lJMyA4u6AAAAAAAAAAAAAAAAAAAAAAAAAAAAAAAAAAAAAAAAAAAAAdW/c1JjVJunPVOG1UF+pjLfSTivcTnIDtAAAAAAAAAAAAAAAAAAAAAAAAAAAAAAAAAAAAAAAAAAAAAHQVu97ftqq0umVatQadUqq90FPhyZCEOy3MZ3W0GeVH7hAO/AQlem1jaVq3rWbQp1Guq9bloqW11WBalEdmqgJcQS2+lX4qCNSTIyIlGfmHf6d7Q1iam6YyL/otbbK2IvS9+ypyFRzgqaLLqH0rIjQaOvPUZGWSEZEnAOuotbp9x0xipUqfGqVPkJJbMuG8l1p1PalSTMjL3DHYZISNQAAAAAAAAAAAAAAAAAAAAAAAAAAAAAAAAAAAAAAAAHEt1DKFLWokoSRmpSuBEXaZjp7UvOg31Tnp9vViDXIDT64q5NPkJeaJ1B4WjeSZkZkfAwHegItXtD2Z/DszpA1Ndk3qqmqqjrDDe81GaLBklxefFWZGRknB8DIzxks5kq+LeTdh2uqswU3IUdMv0JVIQUlTJmoicJsz3jTlKuJF1AMgAaEeRqAAAAAAAAAAAAAAAAAAAAADCLx1IiWbdln0N+K6+7ccp2K062ZElk0N7+VZ554FwGbiCNevXi0Q/rmV9ANOz26btzdq6TPpEz9mbaLlVu3vU9Y95iE0VSpRaNTpU6a+iLEjNqeeec9ShCSyaj9whsoVcgXJSYtTpcpqbTpTZOsSWFbyHEnyMjGleozFxUSfS5XGPMYcjulj8laTSf7jEAbFUupUe2btsSpGa3LSrDkJlw+GW1GaiL9ZKP/KE0WYuWK7sTrTjTunTPlOPVWu7NF6i3MaVZ1741+mfRZIAAZWsAAAAAAAAAAAAAAAAAAAAAAAAAAAAAAAAAAAAAAAAAAAAAAAAAAAAAAAAAAAAAAAAAAAAAAABoZ4AajQuQw3VK169edpOUWgV5dsPTHW25VTjo3pLcXP44o58kOqT4qVmRknOcZIhVDYoqlwaZ7SOueiVauKr3FTaK9GrFCfrkxUqQmM8RGoukVxPgtnOMFvEo8FkxEccHCMrwGrhyMhRzUfazve6NcKtpVBrFC0BjxX1RmbjvKOt6bVkEeCcgIWlMbdPJGRrcUfEuHHA7fZ9tmfeO2xrTfFPrFVbsWhuot+LTjqDy4kipdE2cxaWlKNJE2osYIsby+HWLVXrp9bWpNBdo11UKn3BS3vVxKjHS83ntIlFwPzlgxMaxEnOYRDprsZWBaVwx7tr7lR1MvdOHE3Nd8k5zzauJkbDZ/imiLPDcTkuHHgNdsq0aL6XXVy4DpUM68q0pkQ6mbCTkdCltaib6QyyScqM8ZwOmouyTVdI7jgz9IdRazaFvNyG1zLLq6jqlIcY3vxiGCdV0kYzTnBpUZEZFwwJB2gdMbn1j08rtm0e5aZbdNrdPcgS5EqkrmvElfBRtmT7aS8XJcUn2iJ1WpnFUS27LbSXtmPTFC0kpC7agpUk+sjYTkhgV77GNl0Wpy7x08uGoaHV9OX5FTtx9LNOdx1yYTn4haes+Cc9ZiQ9FtO7t0p02pVo1C5KTX26PTWqdT5cekOQ15bTuoU8RyHCVwJOSSSeRmIzpuxWi/ZrNW1yveratTmjJbdGc/3PoUZXMtyEyZEvHAsuGrOOJC9zFVcy50RimIYxs3bW923prA5pnVm6JqZFjtOKc1DsZt9NPYNCTUTctK0G2lxXAvxTiiyZcOPC5A6ygW7TLVpTFMotNiUmmx07rMOCwlllsuxKEkREOzFVgAAAAAAAAAAAAAAAAAAAAAAAAAAAAAAAABpkhqIk2gKxqXEtwoemEKB6NvtuuKqtU4sQ0oRkvE/LUo+BFy48RgeyZtBV7aI2cZNx1NxiiXZBVKgy5DLRKbbfayXS9GfDB4zu8gjXPcLB3LcdNtChTazWJjNPpcJo3pEp9W6hpBczMxW9e1ZdGruY+iFiS6/FURJ/CivpOFTUErkpG947uMciLsHBsWXtfW0HpRdE/VJ2nXDRZlReg0024aGUSoiD3VKWhPPJkOwq+x6/Y8w6notec/TmX4ylUleZdKdzyLoFHhBFx5doDM9JtL78ojtYqt/6gvXHVqqx0RQqewUeFALBl+ITnOeveMVz2o9nDT3T7RwrdoEOZVtVK7LS3Qqg5LcXUnpJukpThq3uCEpzk8ERFgWN0quzVlZ1Sl6hWbAZnwo+/DqtHmJVGqSiyWMK4tKUeOCuBZFcbWhbTlv3jcl3z9GKJcd2T3Vtw6nNuOORQYv5DLLe9hJcjPHE+sRgWMvPSq+Lm07tONQ77lWnd9HYZU5LaaJ6PLdSgiUh9B+qSZkYwRvaD1N0YNLOr9iuVCjIMkHdtoJOUyZc99yP6tsu3BGRYGcXTdmrFt6f2wxRrRhXRfExsk1DppiY0KIoyyajMuZEeCIk9gwmDsq3Zqk4UzWy/wCZcLBpyVtUHMKnNnnPjbvF3hw4iZ+aUR8sJ7091Dt/VO1INy2vUmatRpqd5qSyfDJcDSZcyUR8DI+QycdDZlk0LTy3o1CtymR6PSIxGTMSKjdQjPE+A74PBIAAAAAAAAAAAAAAAAAAAAAAAAAAAAAAACPNY9Pq1qfQI1vQLqm2jSpL/wDuvMpB9HUHYxJP8VHe/wASal7m8vBnukoixnIiZwJDGnMuwUu7nTdlyQ06uaW3XXZlfn2Hcq4kWVUnlPSDiOGvo95asmZZbUZZPhvY5YG7YXtioVnUrWXUlqsVV6yqjX5FJtqnyp7r8Yo7DqidfaStSsJU4W6nGMElRFwDjPlknSPPDG0bUV+696nVXT9u5qLs4txpBxkx68wpy46ijJlvxifSiOklER4NJuKLOSyLC6UbImnulldTcxRJ113ufFy67olrqFRUZ891a+DZcT4ISngYz7UjSWztYKH6D3pbVMuWm8TSzUY5OG2Z/lIVzQfAuKTI/OInsHZfuDRe8KY9Yep9cbsNLpFNsu5D9E2CZxgkxJCz6Vg08MFlRH1hHCBletMjUW0aTIm6QWPbdwXFUd9ya/VZ3ePjpQlLSjSlH8YUZZLxnEbpJLjg+EW7BjFj17RG4KZTWJ8uqLrc5F4wbjjtE8dUcURyUuNIy30Z8CSRZLd8+RmFa0G1GpV+XXcNjawu0GJcjyJEmkV2hoqzENxKCRvRTN5o2iMiyaT3k544HY6VbPStDtLrmotoV1c28a3Ik1WTcddZS6cipvFxfdbRulukZFhBdRcz5itM6Sc4YNeOyLbWlpTbt0tv6ZoK+2fTyiYeQ7QHfO/CfUTRF1ZQaMdXEfJsm7V90az3rWbQrNJpdwxaSwbhag2l0/oLMWSiT0JE8gsO8TPxFrTwPkO5t/Yjotbq0evaxXRWNaLhaUTjaa+smqVGX/xFPbw0kuJ+q3hYyn06LSIEeHBjMQ4jKCbaYjtk222kuRJSXAi8xC4+4AAAAAAAAAAAAAAAAAAAAAAAAAAAAAAAAAAB56ba1F1A0Eq1o66HqLW5cuLdrMaoUaPJWzSGaW4pRNspjlwM9xOFrVk1KWZ8MJDnED0JTzFf9r/aNruzjZtMqlEs5241VCQqM9U3+mKn0dJER9PLNltxzo+J8EkWd0+JcM4D3RCPPu3T6xLRtOozoN7XVckaBRplNmux1stmk1yXVG2pO82lpOT3slxzzwLT23SE27QKZSUyJEtEGK1FKRKWa3XSQgk7y1HxNR4yZ9ZmYiPijPeZVQsDRFrauozNy6la0N6pUFw+NrWRKOBb7Z+xupbV0z5lx/lVJPtSJK1v1LtDYw0K6ahUmlURknUU2h0ppBRoZy3Twg3VFgkNlxcWs/yUq4meM7L+2K9P7nrrlzWwVQ0wvVXErhsuR3g64fP8c0n8U8Rnz30mZ9oknSa3bxti0G6ZfN0x70rTLziU1lmAmEchnP4vpGkmaSWRcD3eB8xM/FoPOu19ZNI9HdqOxrld1JpF0MxLRq0u5LliOk4uoVZ90lrIiLjvK3SS231ISki5C9upugOm20fRqXU7pttuTMNht+BV2jVFqUMlES09G+2ZLQZcD3cmWeox0dzbPtfre1BberMe6qZDiUOluUhFDVRlOKeYdPedM3++C3V73qTJvBFzJXHP26xaL3xq9dEeK3qlU7J0/TFSmXSbZYQxUZr28rfM5p5U03u7pbqCyfHJ8hWn5Y8/rJOcq8an6q3psT1OLAp+q9M1ggurJDFh3Sal3PunjCI8iMhanDPtfbIuHMXWsa45F3WbRK3MpEugS6hDalO0qeRFIiKWklG04RflJzg/cGH6Q7N+nWhkZwrNtiJTZr2e+Ko6RvzpBmeTNyQ5lxWT48Tx5hJqU7osNwAAAAAAAAAAAAAAAAAAAAinXvTeo39bMCVb7zUa6aBNbqlLdd4JW4jm0o+ollw/UJWAdbVyqzXFdPGHK7bi7RNFXCVdGNrByo0soUHT+5ZF7kk23KGUNRNMPlwwt88JJGeO92DF9GrXr2i+ucKFc09MmZf1NfmzTSr8WmoNOKcNtB9ZE2sy/X5hllz1KqbPGoku5JL0+p6b3A6Sqia1qeOjSj4E6RcTJlWcHjgR482eTaaqMJNv2BelOlMSHKZcMN2LJZWlRPNOq3HEoPkrJHnH9Ee3b3ImLVmnFF2OOc640jXhicae7wqprx2l6v47cxpw0zx78wsGA0LkNR8++iAAAAAAAAAAAAAAAAAAAAAAAAAAAAAAAAAAAAAAAAAAAAAAAAAAAAAAAAAAAAAAAAAAAAAAAAAGmCHnxtH1K59JNv2iVmyKW5U7iv6y3qHAax+JRNQ8RJfeP2NpJIcUfYkW01y1auXSuPb67b02repD1SlqjyGKK4hCobZIMydWay3cGrdT4xpLiZ54YPodF9KLhVdVQ1P1KKKrUGpx+84tNhudNFt6n728URlePHcUfjOu48dREReKksonE5/fAnWJhmuiullO0a02pFpU91csoaDVKnPF+NmylqNb8hw+tTjilKP3cdQz0aEWBqJ4oiMAAAhIAAAAAAAAAAAAAAAAAAAAAAAAAAAAAAAAAAAAAAADhNolFg+Q8wtMa1WrQ1B100FoDC0XDc9zmqDu8EQ6e4Rm9I82EZMi84u5rBtP21o/csK2pVMrVYuOoR1PQYVMgrdQ8rOCQbhcEmZn1j4NnzRefbVXuHUS8mYy9QrqUhcs2UERQY6S/FRUmXPdLG8rrMhFPza8MfkmeGnFKOntkU3TizKPbVIZSxT6ZGRGaSRcySWMn5z5jJQATM5nKsRjQAABLTBDUAAAAAAAAAAAAAAAAAAAAAAAAAAAAAAAAAAAAAENa2ayXppvcNv0m0tKK1qMdUZkKclwJTcaPCdTuk0l5xwt1KVmajNRmW6SeBKzgBUO9oV02lt46sWLY7L8aparUCnvFVWk/iqS2n8XKmK480tk9udrjiBfzT+xaTppZVDtWgxiiUajxG4cVkuOEILGTPrM+Zn1mZmI+0H0eqdmyq3eV6zo1a1LuZSF1WbFSZR4bKC/EwIpHxJhoj5nxWo1LPifCZgjSMI5zIAACQAAAAAAAAAAAAAAAAAAAAAAAAAAAAAAAAAAAAAAAAVz7oJZCb/2P9Sqf0ZuPRad6Js4LJkuOtL3D4EGXwiwkqR3rGde6NbvRoNW42WVKwWcEXWYqgiXqdth0uHb906e1PR/Ts1ku4WapMSuoVlKVZKCylBEpthWCNx1REaiM0JLG8oc8ZhMTictuyBBq2tqrc1sumE7CYiW8xQ7Vp8r1bbW4jv2eZdSpDiN1HX0TaT/ACxbVXIh8sGHHpcNiHEYRGix20tNMspJKG0JLCUkRciIiIiIfUodZnMqRGMOQAAQsAAAAAAAAAAAAAAAAAAAAAAAAAAAAAA+KfAjVSG9EmMNSoryDbdZeQS0LSfMlEfAy8wh2i7KVmUC6IVUiuVI6dAlHOh0ByWpVPjSD5OIbPlg+JFnGRJ143pRtP7ek1qvVBun06OnK3XVYz2JSXNSj6iLiYjrS7aJh6jXG7Qp1v1K1Kk7H7+p7NVIknPi5Mukb8/DJp7Bss/iabdVdqZinnhivTs8100XePJMwAAxtoAAAAAAAAAAAAAAAAAAAAAAAAAAAAAAAAAAAAAAAAAAAAAAAAAAAAAAAAAAAAAAAAAAAAAAAAAAAAAAADHr7vqg6a2tMuO5akzSKJD3O+JsgzJDe+tKE5x2qUkvhGQjyb7sntHlOqdE0ao0nLUQ01avdGrJG4ZfxZg/0Umpwy/pt9gtX3M/aOPX7Z0gQ6lJ6e6LT3KTUd5WVuNkn+LvH+khJlnrU2oBbkAAAAAAAAAAAAAAAAAAAAAAAAAAAAAAAAAAAAAAAGmCGoAAAAiTaj10g7OOh1zXzLNC5EJjo4EdZ/4RLX4rLfn8YyM/6KVH1AM5tm+qFeE6vRKNU2KjJoU86ZUW2VZOPJJCFm2rzklxP7y5kYyIeHfczNqufp5tOSafc9SW/SdQ5HQT5EhzBFUVLUph8+rKlrU2f/K5/JHuIAAAAAAAAAAAAAAAAAAAAAAAAAAAAAAAAAAAAAANMENQAAAAAY5d990LT+FCl3DUmKXGmzmKdHdkK3SckPLJDTZeczP9xmeBkY8Y+67bSar11apmmlDln6FWcvviatlfBypLSXZ1tIMk+ZS3C6gHs4Ar3sMbRKNpXZ4oFxyXkruOEn0MrSCPiUtoiI3MdjiTQ5/lmXULCAAAAAAAAAAAAAAAAAAAAAAAAAAAAAAAAAAAAAAAAAAAAAMdtm+KDeE+uw6PU2KhJoc46dUmmVZONJJCVm2rz7q0/wBnUYwfaj1zg7OWiFy3zL6NciEx0cCM4f8AhEtfist/GMjP+ilR9Q8lO5mbVk3TraYlU+6Kmt2k6hPGxOkvq4JqKlmph8/OpalNn/ypH1APcUAAAAAAAAAAAAAAAAAAAAAAAAAAAAAFftRKWzqHtMWZbVSjokUah0p+uLZeTvIefUomm8lyPdxkYZqVaVe1M1zvWNR6gpi4bXg02o2+txe62w8eTcb/AEXSIyPPm7Ba3vds3ul6NPSbu7vY8bHZnsEFXX/7idq206uZG3CuukvUh0y4kqSyfSN73+SeMj2dl2mrOKI1pomI8p3p9YzE9zxtq2enGa5zFVUZ+kek4lIWlGoDuo9poqMqkS6DUmXVRZtPmNmk2X0erJJmXjJ45JRDOhsQecjePIqmJqmaYxD1qImKYiqcyAACq4AAAAAAAAAAAAAAAAAAAAAAAAAAAAAAAAAAAAAAAAAAAAAAAAAAAAAAAAAAAAAAAAAAAAAAAAAAAAPLbug2wHZ1k6W6la1fhLclWu1yaxMWic8ycdSpE1ppRbqWyPdSl0ySWeG6kWk2YNgeztlW8pdyWhc1xyVVCH3pKgVB5pcd5OSUlRkltJ7yTLgefyj7Rs7p/wDzHtRv0qb/ALSiiz0csMNfoJ/sAfUAAAAAAAAAAAAAAAAAAAAAAAAAAAAAAAAAAAAAAAAAAACBdqbZIt3a0o1Dpd0V6t0qm0l9ySiLSXW0IedURJJThKQrJpLeIsfnq7RPQAPJjZ77mdp1qbemr0CfcNywU2bdjlGpzsGQ0lxTSG0LStZm2eV5VzLHIeq9GiOU2lQ4bsp6c5HZQ0qVIMjdeNKSI1rwRFvHjJ46zFZdi71y9pv3xJP0DYtO31gN4AAAAAAAAAAAAAAAAAAAAAAAAAAAAAAAAAAAAAAAAAADieSpxtSUq6NRkZErGceceU+2L3OOxNNKRRLrj3LctVrNy3jApk5+ovsr3ky3ldM4WGy8fPEj5eYx6uiqndE/W00498Wg/TKAd9ss7FNq7JFQr79o3DX50Wsttokwao82trfbMzQ4kkoThREpRecle4LGgAAAAAAAAAAAAAAAAAAAAAAAAAAAAAAAAAAAAAAAAAAAAAgbal2Rrd2tKTQ6VdVerVMplJfXJbi0lxtCXXlFuktzeQrJpTkixjG+rtFENnjuaGnGpt56vQJ9euWEmzLsdo1OdhSWkuG0hCVpWszbPx8q5ljlyHrQKp7F3rk7TnviSfoGwFnKPBXTKVDiOy3pzrDKGly5GOkeNKSI1rwRFvHjJ4IuJjsAAAAAAAAAAAAAAAAAAAAAAAAAAAAAGwRJtIWJUbxsIp1vMrcuygyWqpRzaMiX0yFFlHEyLCk7xGR+YStIkIjNLddWlppBZUpZ4Sku0z6hD9y7UNrU6pqpFuR5991wucK3Ge+CR+m7wQn9ZjXstN6bkV2aczGvd59zJtc2uzmi7OIn96d6VaLKlTaPBkTYpwpjrCHHoxqIzaWacqRkuHA+A7MQGmo663/go0Ch6aU9z/GTFlUZpEfYhOEEfujkLZdTXsLvLUC67qVnKmDm96RjP/k2scPNkX/D26J/tbkR3R8X6e6kX66o/s7cz3zp+vsl6r3fQqAX+6dYgU/HPvmShvH6zIYPVNpzSukL6ORfFINz81l43TL3dwjwPjpWyfpRSlEtNlwZK08SXNW5JPPb+MUYzal6aWpQ20t0+26VDSXImYbaf+wV/wCUjnVPpH5n/NTypj1n8mKQNpzSqqGRMX3RyV+a8/0R/qWRDP6PXqbcUMpVMnRqjGVyeivJcQfwkY6upaa2pVs9+21SJZHz6aC2o/1mQhHV7SWnaLwi1L06pzVDqNCUcmpU+Kakx6hD5OoNvO6RkRmojIi4l7gtTb2e/VFFuZpmeGcTGfbCtVzaLMTVXEVRHTMTj3WWAdZQauzX6LBqcb/BpjCJDRn+atJKL+0dmMPDSW+JiYzAAACQAAAAAAAAAAAAAAAAAAAAAAAAAAAAAAAAAAAAAAAAAAAAAAAAAAAAAAAABoZmXIsisfdJa7Urb2Mb/qVIqMqlVFk6eTcqC+th5G9PjpPdWkyMskZl7hmOvR3O6y1oJX8IuqxZLOPwwe+qAtXk/wA394ZP8394qt4OqzPKPqt88Hvqh4OqzPKPqt88HvqgLU5P8394ZP8AN/eKreDqszyj6rfPB76oeDqszyj6rfPB76oDf3TtKlbEGoxYM/GpvIs4/wB0ootCxvEygjLjul/YKl1vuaGnVyU12nVe9dSqrT3sdLEnXQ4805gyUW8hSDI8GRH7pEOx8HbZflD1U+eD/wDcAtP4weMKreDqsryiaqfO976oeDqsryiaqfO976oC1PjB4wqt4OqyvKJqp873vqh4OqyvKJqp873vqgLU5V2DcXIec22lsoUvQLZru++7X1C1K9HKWqH3uU2633GfxkxlpW8ksGfiuKxxLjgei7f8mn3CAbwAAAAAAAAAAAAAAAAAAAAAAAAABtyfYNuD7DFAtK9n+HtFaxa/T7jvi/Kd6DXrIp0KLRLieiMNs9GleCQWSLio+XDAlQu552Yf/nF1W+eL/wBUBanCvP8AuDCvP+4VW8HfZnlH1W+eL31Q8HfZnlH1W+eL31QFqcK8/wC4MK8/7hVbwd9meUfVb54vfVDwd9meUfVb54vfVAb9i71y9pv3xJP0DYtSRYFRab3NXTqivzXqfeepUB2e8b8tyNdLjapDp8DW4ZJLeV5zyY+/weVmeUXVb54v/VAWsAVS8HfZnlH1W+eL31Q8HfZnlH1W+eL31QFrQFU/B4WZ5RdVfni/9UPB4WZ5RdVfni/9UBawBUTYHp8q263rva7lcrNcgW/ejlOgu1ye5LfQylhGE76z+HgRC3YAAAAAAAAAAAAAAAAAAAAAAAAAAql3RZ2aekFnwYdWqdG9E72pFPkSaTLXFf6F1a0LSS0nkskfuZIuwBao97PIPGFV/B22X5RdVfng/wDVDwdtl+UXVX54P/VAWpyfZ+8Mn2fvFWPB3WZ5RdVPng//AHB4O6zPKLqp88H/AO4BafJ9n7xVXuiRn/Bnpxksf+EWg/TKG/wd1meUXVT54P8A9w66r9zT06uKOyxVL01KqTLLyJDSJd0uOpQ6n1DiSUkyJRdRlxIBbnPmDPmFVvB2WZ5R9Vvng99UaeDsszyj6rfPB76oC1WfMGfMKq+Dsszyj6rfPB76oeDsszyj6rfPB76oC1WfMGfMKq+Dsszyj6rfPB76oinVbZ8ibOmsGgU6275v2onWr3jU+ZGrdxPS2HGdxazSaDwR5NJc88MgPQEAAAAAAAAAAAAAAAAAAAAAAAAAAAAUA0r2fom0XrBr7OuS+L8p/oLe8mnQotDuJ6Iw2z0aFkkkFki4qPljgAv7k+z94ZPs/eKqH3PKzC/84uq3zxf+qHg9LM8ouq3zxf8AqgLV5Ps/eGT7P3iqng9LM8ouq3zxf+qHg9LM8ouq3zxf+qAtXk+z94qtsV+uXtN++LJ+hbAu53WYr/zjarF//eD31R8FO7mnp1SHpr1PvXUqC9NeN+W5FulxtUh0+a3DJPjKxgsnxAW43vMYb3mMVW8HZZnlH1W+eD31Q8HZZnlH1W+eD31QFqd7zGG95jFVvB2WZ5R9Vvng99UPB2WZ5R9Vvng99UBane8xjUjz1GKq+Dsszyj6rfPB76o+DYJp8m26zrra663Wq7At+9nadBerk9ct9DKWG8J31e6Z8MALdAAAAAAAAAAAAAAAACJrm2ntNLVkuw5N0xpdQbUaFQachcp7eL8nDZHg/dwMaLVzUfUxw06f2OdGppFxrl470dJmfscdPjqx2mf6hMNHs2g26849S6NAp7rijWtyNHQhSlHzMzIsnnI70aouWLcfBbzP/wBpz7Rj7sXZXq/nrxHdGPec/ZALGzTKvJ5MrU68apei97e9C45nBpqOPImmzI1ci4mfUJhtezaHZFNRAoNJh0mGnkzDZJtJ+7jmfnMd6Apc2i7djFVWnThHpGjrbsW7c5pjXrxn1lt3R878tmMptLjqG1Oq3EEtREaj7CzzPzCuuoy70ja6USmyL5n0SjV51wqTFpUZk2z6BpK1tPG4Wd9w94iUWS/sFOtRaNV13HCgyrdrlrzlSXCTULiqLjhPLUvKVm4pJJQZYxvJwXWPY2P/AIVG1TETciMxnh49cdOWXk7V/wAV/D5xbzrjj+US9Obivq3rSVHRW63ApK5GehTMkJaNz3CM+I7tlxLqCWhRKSoskpJ5IyFfNMrHs3aG03olzXLSlVas+hSqFLemmZuIU2s0uGXHBL3iMyWXHiO22XK9P9AbisqryXZVRs+prpqXJH8ouLxOOo+3KSMs/wBEedc2eKKK8fNROKo88aef1b7e01V105iN2uNJz56/vknEuZjAdd/WYvj+p5P0ZjPi5mMB139Zi+P6nk/RmM1j++o8Y+rttP8Ac1+E/Ru0M9Zux/6njfRpGejA9DvWYsj+p4v0aRngm9/e1+M/Vax/dUeEAAA4u4AAAAAAAAAAAAAAAAAAADaRcR1dyXFTbSoc+tVqaxTKTAZVIlzZKyQ0w2ksqWoz5ERdY7MQvtpH/wC9M1d/6MzvolCJnCYjM4SFZGpFuakQnJdtVVqqxEJQvp2ULJCkrIzQpKlERKIyIzyWSGUiD7LtisXxshWjQ6Bc8mz6zPtSnNR69FZ6Z2GrvdrK0p3k5PBGXMsZyK13rbNMoGqenFH0D1DuK6NR41aZO6D/AAnkVaKdMSeJTtQS44tlo84IkpJBmZmSU5LhfHxbqI1jK5l3ay2VYVSbgXFcMWjSXHGmUd97yEKW4eG0Esy3d5R8CLORnArB3QlRp0PopFwL8MKD/rzYnDUbVWz9IKEqtXpcdPtqmFkifqD5N758PFQnmtXEuCSMxUZeAqw5tMala0GcfQ/TV8qU5wTfN+pcp1N3T/xjEbHTyC7DIklw4j4tqHUbUHRjZ1tSiuXS3O1HuqtQraVcsKGmMTK5Dpm4801xJJpbI0pzyPCuYC2gCkGp9De2PdYNFaraVx3HJty6a4m2LiplerUipNy1Op/FSi6dauidJW8Z7m6R8CwRZzMOqMrXyx7ynXBZMS39RrOeSgztCWv0OqUU0oIlHHlHltzeMjVh0i54IOWRPwCA9PNs6wbvrrdtXD3/AKa3srh+Dd5RzgPrP/iXFfi3iPHDcUZn2CfAAAAAAAAAAAAAAAAAAVW7qB/Md1G92m/7RjC0jH+Dt/ol/YKt91A/mO6je7Tf9oxhaRj/AAdv9Ev7AHKADBtZ9UIWimltx3xUYUioQqHEOW7FiGknXEkZFhO8ZFnj1gM5AYKzqVEotqs1u9Ew7MQ+6ltpubUG3OkNREaCSosbyj44QWT4D6bc1Pt++oNWctOqQ7hmU0zQ/BYkEh1p3dyltxKuLZq6jURdoDMQEZaP6yp1UqF5U9yhyaFUrVq3oPNYeeQ8hbvQod3m1o5pw4RcSLiRiSlKJKTMzwRcTMwG8B01BumkXTBXNo1Vh1WEh1bK5MJ9LzaVoPC0mpJmWSPgZZ4DZa15UK94cmXb9XhVmJHkLiOyID6Xm0PIxvt7yTMspyWSAd4A6e3bppF301NRoVUh1iApRoKVBfS82ai4GneSZlkj4GXMh3ACqvdQv5j+ov6VN/2jGFpmvUp9wv7BVnuoX8x/UX9Km/7RjC0zXqU+4X9gDkAAAAAAAAAAAAAAAAAAAAAAAAAAFVdiz1ztpv3xJH0DYtO31irGxZ6520374kj6BsWnb6wG8AEVXJrU7StZ4Om9LtiVWavIo3o65K77aYYZjlIJhReMe8pZGecEXEusBKoDAbm11sCzZ8mFWrupNOkxDSUpD0ksRTV6npjLJNZ6t8yHTa564HonYL96Hb71x27EaQ/KkQJjSFoQtaEINCVmXSZNZHwPkAlcBwtr6RJKxzIjHWV256ParUZ2sVWHS25L6IzCpj6WiddWZEhtG8fjKMzIiIuJgO5AYDdOuVgWVU5VNrl2UynVCI300qMt8jcjNmWSW6RZ6NJlxyvBDu5V9W7AgUqdIrtNjwqstDcCU5LbS1LWpJqQlpZnhZqIjMiLmAyMAABVLYq9c/ac98SR9C2LWiqWxV65+0574kj6FsWtAAAAAAAAAAAAAAAAAAAAAAAAAVU7on62mnHvi0H6ZQtWKqd0T9bTTj3xaD9MoBalHWNw2o6xuAAAYDVdZLYpGoiLIW9UJV0HEbnrhQaXJkk1HccNtDrjjbZoQk1JMsmZYxx4CBnwDiW+hC0oUpJLVySZ8T9wYVqVrHbOkcFM+6XZ8GmqU2lU9mmSZMdpS3UtIJxxptSUGa1pIt4y5kJGdAA0yQDUBxKeQ2aSWtKFK4ESjwZ+4OTJANRVLbU9c3Zl98aN9C4LWZIVT21PXN2ZffGjfQuALWgAAAAAAAAAAAAAAAAAAAAAAAAAAKp7FvrlbTnviyfoWxawVT2LfXK2nPfFk/QtgLWAAANqUEXnG00EXWOQRVE1pdq2tVe07pdtSJbtDiwZlRqa5bTbTbcrpNw0IPxlmXRKyXDq7QEpdH5w3BgNV1508olScgT7xo8WQ1ITEeNcpPRsvmeCacc9SheTIt1RkfEdVrLrY5o0VFmzbck1Kh1GpQ6Uc+PKbSpl+S8TKMtq4mkjURmZHy5EYCVgGhHkdRVLpo9DnU6FUKpDgzai70EKPIfShyS5jJpbSZ5WeOOCAdwAx+8b4oGn1KbqdyViHRaet9uKiRNeJtCnXFbqEEZ81KM8EQ56ndNIolTp1NnVOFBn1JS0Qo0l9LbklScGom0meVmRKIzIuIDuRVTYu9c/aa98WR9A2LViqmxZ65+0174kj6BsBasAAAAAAAAAAAAAAAARsvUea3ru1Y6orBU9yhnVCkmZ9KbhO7hp7N3AkkQPfh+ge1VptUF4SxVaVUaVvGfDeSSXSI/dwWBPA03qIppt1Uxxj3zMT9GSxXVVNyKp4T7aAAIVrG05Q4dwz6TRbfuG7FU93veXKocE32GnetG/ksqLrwOdu1cu53Izh1u3rdmM3Jw4tp6g1J23aBd9GiHOqNoVNFVNhszS66wXB5CDLPE08TLHEiEP3fRNXNovTR+bRbjpVXtme+pMemsQ+83X2SWfFxbxcDQZEWE88ZIxcVDvTNIXuqRvJJW6ssKLPUZdo5GWkMtpQ2hKEJLBJSWCL4Bu2fbqtnopimmJqpnSZ+nqw3tii/XVM1TFM8Yj6qm6M6P656O0OVT6RLtd6HLdKQcaoPvO97rxhRINJFz6+fEhKGj2m130TUC67wvKRSfRCtMxo5R6OS+jImiUW8re6zyQmgbBW9t1y/Nc1RETVxmI4r2dgt2t3FU4p4RM6NxczGA68+sxe39USfozGfFzMY3qDTmaxYtwQny3mX6fIaWXmNsxjszu3KZnrH1a71O/bqpjnE/R0+hvrNWR/U8b6NIz0RTssz3ajs+WM88e8tNOS1vdpIUpBfuSQlYX2indv1x3z9VNmnNmie6PoAADO0gAAAAAAAAAAAAAAAACLtoLXu3dnWwHbnr5Py3HHkQ6dSYKd+VUpazw2w0nrM+s+oiM/Mcoii+0+6m6e6H7Ntq1VRegcRibWWmVn4jstKHDQeOsyNhvH/tEYzVEdSeEyyTVDaY1w0J0se1PvnT20E2u30RP27T6xI9FYROq3G991TRsuGSlIJSUkWMngzwMq1yuSrXn3P28bgr0Fil1eq2M9NkwoxqNthbkY17id7jw3iLiIm7pBfkS/penuhNKUcubc1z09usKZV4sRnf3kNLPkS1+rJPMibIz4KLNnNWrVia16KX9YttVeAl+bAk0Dpkr6RqFINvdNDu7kyNO8nKeZBPxUzP7/eqaZxXESxy2LyrWn+x5ZtwW9asq9qvBtilrZoUFe4/KI2mUqJB7quJJNSsYPO7jrFatao9ta61bT57Q7TutW1qbEuGNUZNwFaz9DTSY2TOT32+422h3O8RGhJubxkfaWbk6MW/ctnaf0K27jj0lCqNTYsBmRSpjr5SOibJClqStlvo87pGREauZ8eHGQN/hxF6vnmVI0ohWXuhB/wDgPon/AExoP+vNjKtoPZOt3XuvW/dC6rUrZve3CV6D12n9G73vlW8ZLYdSptxOc8DIj48xxbTOkt4a20KDbVMKhU+kM1im1Y6hLmvnIMoz6XVIJlLJp47uCPpOvkJ6LkK/v2WVZc1O1/0K3ivyzY2sFrNFxuOxUExVEILmt6nLPCz7ehVw7OzqtrGkT9pDZ1tC+dOabNrE+gVyFdMGkPx1x5UpMdxSXWOiWRKJwi3vF6zTgs5IW7MsjURMZx1gUq1DratsLU/RiDa1v3FDt21K4m6Lgqdfo0imtxVtIMmoienQnpXVLUZHubySIs7xiV9UdpypW/es2xNP9OLg1GvOIls5PQpKFSoZuIJSOnmu+KnxVEeEko+rmJ+AWyjCoVf2Ub92lmGC2gLuglb7bqZDdk2bEJqOlRculmukby+rO5uF5+ItlTobVOhsRGE7jDDaWm0ZM8JSWCLJ8+BD6wEJAAVVm6EbTr82Q7G2m4ceOtxSm2VWLDPo0meSTnf44LhnzALVAKn/AMAm1H7aKH8xIX1w/gE2o/bRQ/mJC+uAtgAqh/AJtR+2ihfMOF9cP4ANqP20kT5hQvrgLXjbveNgVS/gA2o/bSRPmFC+uCdAdqLPHaki/MGF9cB3+nO3vpLfuoNbsWVXCta7KVUn6YqBWjJlElbTikZZezuKzu+pMyVx5CyA/NreWll86g7Ql5WzSIdQvy601qY1Jfp8LdVKdS8olvqbR4rSVHk+eCzzHrtsB7OevWilFZLUrUInqB0WGLNVieuMeMF/GlH+Lx7G2ak+cgGV91A/mO6je7Tf9oxhaRj/AAdv9Ev7BVruoXHYc1G92m/7RjCZ9cdUGNFdGLrvl9gpSaFTHJiGDPBOuEnDaM9W8s0lnzhyyJDFf9vb+Z5qr/U6/wDTQK9XJo/bdv7Hdf1o1XW7ceqtRoCq0VwypbiH6bLfRvRI8HCiKOTaltpIkYyZHnJHgs4quk1xtdzMds6HEnXBd1RtZMh1hG89KkzJC0yHefFSt5xXPjwCdM9xTriY4SsvVbYiV+3aDNVR6ZWKxSCROpJVTKW2JRNmknCWSVGg91Si3iSZlkQJs9POtbU+rLd7sFF1VlU+A+pumq3qUqkI30R1R1HhxTm8aicN0iPON0iSJZl2RS9aLftWc7Jua2Z1vykyYb7KHqbJbeJrcUSm3m8OINK1EZKSpJ/AOxtjS6habVS4bszU63ctUaQVRrE4zkzH2WiPo2UNtJJKUJyrDbSCyZmeDM8iZ+aZ8XPjTEeCC9LbguC1qjtX1e1aH+Etxw7qU9ApG/ud9vFAj7refOIr00qNK2ta0VH1w1gqUKv7269pFGYdtlhpXsbhLMnpvPmS8CxOy5RqrFvLW+tz6PUqTT69dnf1NVU4bkVchjvNhHSEhwiURbyVFxIuQkvVPRKxdbaKVMve1qdccVJH0apbX41k+1t0sLbPzpMjEaTEeEfRfr5tkbRKxoFhxrIhW3Dp9oMLJSaPCJTDC8K3sLSgy3yNXFRKySvysiGe5+wYtK0tviFBjNQ4Ua/q6yzHYSSW2kJk4SlJFyIiIiIhLtk6QxtPNOCs2h3LcTMJp1a40+VNTMmxkKXvdEl19C8oTxSRKIzJPDPDI6jRjZ4pOhZVBqgXLccyn1CY/UZMGrSWX2nJTxkbj2ehJZKMyzglEWeoTHOU9yGdfNE9HNFpUq+6ZqG5s8XJKUp5U6iSyRHnucT/ABlNVlEjiZ5JCCM88xl2xprFqZq3SLlVfNF/3Jp7rLdEuo6U9SvR5pW/vu96Omam93dRxLBHv8C4DKNO9kfTXTu5H7nTR3LmvB903nLkuZ9VQnEozyRIW5kmiLqJBJwJrSoiLjzCJwidVWe6g/zH9Rf0qb/tGMLSt56JPDjguAqz3UL+Y/qL+lTf9oxhxo7nVZKkEf8ACJqqWSz/AL73vqiErW58wZ8wqn4OiyfKJqr873vqh4OiyfKJqr873vqgLWZ8wZ8wqn4OiyfKJqr873vqh4OiyfKJqr873vqgLWZ8wZ8wqn4OiyfKJqr873vqh4OiyfKJqr873vqgLWZ8wZ8wqn4OiyfKJqr873vqh4OiyfKJqr873vqgLWZ8wZ8wqn4OiyfKJqr873vqh4OiyfKJqr873vqgLWZ8wZ8wqn4OiyfKJqr873vqh4OiyfKJqr873vqgLWZ8wZ8wqn4OiyfKJqr873vqh4OiyfKJqr873vqgMy2zto+fss6OovmBRmK+bdVjQ3oMh1TRLac3t7dWRHuq4FgzIy8xjotnLugeku0YTEGn1krauhZYVQK6pLD6ldjSs7jv+Se92pIVR7oXsZ0bS3Z6OrW9c1/3NVHKxDiNU2sVx2oNOms1F4rO74y+zHHmIS2cO5K6lamqi1e/nz06oKsLSy6knak6Xmazhr3VnkvzQHoTsWeudtN++JI+gbFp2+sU47nlZ8XT+ubQNtQZU6dFpV8uQ2pFTkG/JcSiO2RKccMi3lHjngd3tO3LWtRtc9OtBaJVZtBptdjyK7dE+nPGzKOmMnupjtuFxR0rhGlSkmRkWO0w54FrxXCX/wCUEie9s5/tIhCdyaK2Tau3Jo1Y2ndOK2adAp8u5rjplMkuJakkzgoLkhs1GS1k9nxlEajzxM+Am25otRt7bTpl1SKHWZVuu2Oqk+iNOpr0tpEpU8lk2s2kqNPiZVkyIiLmYimczTVHf9JhFXOPD6w02pLOr9K0g1CRY9u0JqnVyHIlXRJSrcqMps2tyQths0dG4/0CcJU6siykixwIYHr9NtqodzUdfs05S7VVb1LKlnOz3x3uT0ckE5/TIiweOGc44Caqhs2Uaoqu1j8JbpjUa65Lkqr0ZipkUZ9TiSS6SFGg3WUrSWDS0tBDBtsW1uj2XKxp1Zts1ObJkQo0Sk0uiUx59pttl9kyQa0JNDZEhPDfMs4PmFMYmPGCdfd0+2DrZqVpbLt2DbTB2zZk2MpdY1BTRXa0dHUR4JJRWz4eLhW+sjT5uA5dnzQTRy9pUTUhq83NdbpZcJ1q565UimnDcI8kTUZOG4xkZFhO4SiwXEWkh/yCfcL+whDVxbIWmlZv2nXzTaM5aN3xJSJKqtbLyoC5e6slG3IQ3hDyF7pEreSZmXWQnmrGsQ6zXm6aTp4qq0OzLbh1nVzUVs2WYDbREcom2iZOZOX+TGYbwRqPngkJyah2VlbLVpU3ZztbSO8IES9aPSIbbDpz2fFW8WTNxHHLZka1bpkeSLhkcF27JtFurUyt34xfF925XquyxGknQa0UZvoWiw22lPRmZJIzUrGeJqUfWPqquyra1a0kpOm8ysXM7bcGUuVIUmruNy6ma1uLcRKfRuqcSpTqjUXDPDiKwuqrel6+liuT8HtBNWqlqHVW1klGk02I7caEFvFlCJbZ9JEJJHyWsy7eQv7a1Qn1W2qVNq1P9CKpIitPSoBuE53s6pBGtveL1W6ZmWfMOp050ns7SKhppFmW3Tbcpxf4mnx0tmo+1avVLPzqMzGXi3IVS2KvXP2nPfEkfQti1o88tG9mGha6607RdUqt03lQXod9SIyGrarbkBpaejQreWlJHvK44z2YEx+Dsszyj6rfPB76oC1OfMGfMKq+Dsszyj6rfPB76oeDsszyj6rfPB76oC1WfMGfMKq+Dsszyj6rfPB76oeDsszyj6rfPB76oC1WfMGfMKq+Dsszyj6rfPB76oeDsszyj6rfPB76oC1WfMGfMKq+Dsszyj6rfPB76oeDsszyj6rfPB76oC1WfMGfMKq+Dsszyj6rfPB76oeDsszyj6rfPB76oC1WfMGfMKq+Dsszyj6rfPB76oeDsszyj6rfPB76oC1WfMYGeBVXwdlmeUfVb54PfVDwdlmZ9cfVb54PfVARfY3dZLMjam3LZGpdKdtN2l1eXTmK5DJT8RxDT620qdR6tszJJZMt4s59SM5257ro17aMaX1mgVWHWqVJ1CoKmZsB9LzSy6ZXJSTx/cPLeg7EOp2t+tF6UmyKDOk0GBXZsM7hrrpojklD607zj6i/GrwWT3CUZnxwLW3nsGxdkjS2xKjIu+p3DX5t/UFuSw04pimIy+Z+Kxk99RYwS1ceJ4IsgPVsuv3RuG0uv3RVvaHvu5b810szQez65Ktj0UhO16565TVkmZHprat1LMdeD6Nx1fi7/NJYx1hzwLSEXwCttF490Hukv/V3C/190RcixCsjbn0609su6LnbteLRJFz3BRpldlT2nHUb7MZa1PuLUW8teTQRkk91J7okFq4aTb/dBrgOqVWFTVSrAgR46ZkhDRvOHPewhG8ZbyvMWTEROtM+P0knSJjw+sMb2u9PqJZ2ml/y49mVOu1C4nFS5d61BRSm7c38F06N1RyW2mCTvkhhs8dZ8TMu12skto2E0E1W/wAJWkot5Ka1vEff5FPhl0+Sznf9V8IkG49Gb/uegX1bM3Uth+3Lnekkg3qGSp9NiPluqjMu9OSDIkmokqW0Zlnr4YjjbLp9taZ7H6bBp0yLCKGqhw6XTX5Ke+HWWajET4qTPeWZEnJmRecTHKOswT18Xd7Se1zL0h1Ft/TigUKmv3bXoZy4lTumqoplHYTvGjC3TypxeS/k0cTyXEfXZ2zdety3VRrx1Z1TqF0VCnyETodu22n0NoUdxJkaTNsjNcjB8SU4fHsE43vYFt6kUF6i3TQoFw0p31cSox0vNn58KI8H5y4iE7R2Sn9HrupU/S7UGvWtajUlK51kz1+iVLfYz47bHTGbkYz6lJUeOzAiNB0O1Rp/QrbszUOvFp7Ub5q9wxFLfrMtSJMehJSyTROtpNRvsoaIjeNMZtSjMlHnOMZBStE6ZrJs6abQP4SK9MnUmnxpNNvu3Z640l94mdzp8nnfSrJ5Q5nPXxGU1rTLUKov3lDY1IiHQriU50EabQ+mk0dtbRNrRHdJ9KVFzUXSNngz6y4Dra1s9Vmk6P2dpvptfs3Tyi0ZKIsqoxIrcmfIjJbURobWvg04pR7xuERmXUQfw4OMoa1B2gdU9ixMY9Sa3bOrFqOqJuPJjyWqRcpkZ9URR9HKMuBfi90z58OQyHa8qSKxe+yxPbbcabk39DfS26ndWklR1qIlF1GWeJCUtJ9krTXSKo+jdOoq61da+L1z3E8qoVN0+s+mdyaPcQSS8wh3uhdoxr7r2z5b0uZPgRqlfbMZyTTJBx5LRKYc8ZtwvUqLqPqAXJAVV8HZZnlH1W+eD31Q8HZZnlH1W+eD31RItUAqr4OyzPKPqt88Hvqh4OyzPKPqt88HvqgLVAKq+Dsszyj6rfPB76oeDsszyj6rfPB76oC1QCqvg7LM8o+q3zwe+qHg7LM8o+q3zwe+qAtUAqr4OyzPKPqt88Hvqh4OyzPKPqt88HvqgLVAKq+Dsszyj6rfPB76oeDsszyj6rfPB76oC1QCqvg7LM8o+q3zwe+qHg7LM8o+q3zwe+qAtUKybbO16/sgUmyq2q3kXDSqvUXIU5gn+ifbQTe+S2jwad4uPBRYPtLmPg8HZZnlH1W+eD31RTXukuyExpva+n8azatfl7Vms1Z2I3TKxVXaqZ4Z3stNbuSV2mXVkB6AbP22dpTtKRm02jcbaK1u7ztBqRd7zm+HHDZnhwi/ObNRecYTsVeuZtN++LJ+hbFIdmLuRV7V+ZT7i1NrLliQ2lpeaplKcJdUMyPJZcLKGD5Hkt5XmIxc3YLozVuXbtE0lqTLmtwr+eYTJqEhUiQ6SY7REpxxXFauHEzAW7ABUXV+ZN2g9qmDokufMg2Db9EK4LpagvqjuVVbiyRGhrcQZKJr8tRJMt7OOrg54OWVuhWzTAy9PBrb2nb9ukRf5MsRPYGmVq0Huh529YcX0CtOzLV9EZ9EgSFpgN1SSamkL6De3Uumw5xMiyZYEt2lDqVrbZGpdVqFDrJUi4KRQ4lPqbFNeeiuONFIJ0lOoSaUbvSIyazIuIUzz7pJ5x4fZjO2Vac22tCrrp9PtykwNK31qqN2Lo6yKsOMrdJ2U7HaWgmekMyya1rNRlvGRb2B9e1xKps3Z/04k0dSlUl67LYchKVnJsHLZNszzxzu458RIDuytbUqi1a3plduedaNVnOz5tuSKiSojynHOlcbNW50xNGozM2ycJJ5MsYMyGKbX1Hm1+z7PtK27eq1Rmx7noc8mqfTXlxmIrExCnDN4k9GgkIRndNRHjHAOEecH6sL2uNd9RrD1LiW43PXpdphIiIclalN0F2sKbeUeFMkScoj4LHjuJMuOeoZxs67PWj8Z6NqLb1bXqpdDpGZXxW6r6Ky94yPPRqzuM8FH4qEpMiPBixT7KJDDjbiUuNrI0qQoskoj5kZCG4WyNpvQNT4F/WxSnrNuCO8bslNvSFRIlRIyURokx0/i3C8Yz9SR5weQgVY2z63Nvu3avcdzUC4qVHoNyUqBbFOkUaWltKSqDBSKg46SOjNx4iNtpO9km+GN50yK2t3adWRtP6fsfh7ZL509Dz647FcZVEmw9xakE+hRGTjJrSklkZGR7plnB8B2+t2iVI16tBq2q9U6tT6WiWzNUVJfQytxxpRLa3lKQo8JWSVERY4pLOR8OrmzrbWucChUy8pdYqNFpalLdpjM9cZipKNKSI5RNbpuEWDPdyRZM+GOAjOgp5O1euHRC9o9r6Eal1HaAST6W5Nh1GKurKgNGZkaiq7eCaIuOEumovFE3bFef4TtprPlEkfQNixFl2DbmnVCaotrUKBbtKZ9RDpsdDLZH24SXE/OfEV22KvXN2nPfFk/QtiRasAAAAAAAAAAAAAAAAQRrx68eiH9by/9XITuIG2p1lTGtOq+ZGhulXVEW7ILj0Ta8oUZ+biRGJ5G6/ObFmekTHvM/dhsaXrsd8T7RH2RXtLXbKsrRC6qlAdNmf3sUaM4k8KS46tLZGnzlv5L3B1U60q5o7oAVP07iRlVylx23uhkNG4ctZGSnzMiPi4vxsH7hF1DXazos+taMVFVPiuTHIMqNPcZZLeWppp1KlmkusySRnjzCQ7ZvmiXZakK5abPZdo0tnp0SlKJKST172cYMuOc8sGLRO5s9FURn4pzHhEYifdzqpivaK4mcfDGJ6ZznHsxvTPWWg6i6dx7p78jU9tLReiDUh4k95u53VIXn1PEjxnmWBIbK0uNktCiUhREZKSeSMhUXRPQGyNX491XXVqa7IizbllvQXWZC2mpcdLhGk1IIyJSd4lcy7Rbltsm0ElKSQkuBJLkRCNtt2bN2aLUz3xMcO7v9l9ku3blqKrkR5c3OAAMDe2qHT3Z/vWrH/M3v8AQMdwofPOiNzob8V0stPINtZdqTLB/wBommcTEqVRmJhFOyV/N0sr/mivpViYBB2yFLdb0hOhvHvLt+qzaSSj4GaW3lGkz+BX7hOBchr23/FXf+6fqz7JOdnt+EfRqAAMbWAAAAAAAAAAAAAAAAAIc162WbF2jCoL11M1CPVqG8b1Nq9HmKiTIxnjeJLieozSk+XAyIywJjABXy7th/Su8LCoNqOU+pUyNRaidWi1Gm1F1uoHLMsLeckmaluLWRFlSjM+BYMsFiXbCsCgaYWtDt22qc3S6RFI+jZbM1GajPKlrWozUtajMzUtRmozMzMxkwCInIAACQAAAAAAAAAAAAAAAAAAAAAAAAAAGNWjp5bNhFUPwdoUGjKqElc2aqGwltUl9ajUpxxRcVKMzM8mYyUAAVV7qDx2HdRvdpv+0YwmPXLSmNrnozc1hypaoDVcgnFKWhJKNlfBSF7uSyRKSk8dZEId7qB/Md1G92m/7RjC0jGDZb/RL+wBSi6dizVDVXZ2lWJf+o9JqtUgxI0OgtQqetqnsdCtvD0n8t51TaOj3sESCUoyIzPItTpvR7qpNDV+GFWp9RqjqyUTFJhnHhw0ElKSaa3jNay8XO8s8mZngiLBDL90cglPAAAEIAAAAAAAAAAVW7qB/Mg1E/Spv+0YwtIx/g7f6Jf2CrXdQv5j+ov6VN/2jGFpWP8AB2/0S/sAcoAAAAAAAAAAAAAAAAAAAAAADicZQ7u7yEmaT3kmZZ3T7S8/EchFgagAqlsVeuhtO++JI+hQO1142cL5urXG1NVdMrupVtXNTKa9RZrVbgLlR34ji97JJSZHvJMz4cCPBcSweep2KPXQ2nPfEkfQoFrEnnPABU6nbJ99Whr6q/7bvmmuyKtb6KRXavWqab9RU+T3SLkx0pMmi3iJKEoV4raUkRJURC2KS3UkXYNSLA1ABp8A1AAAAAAAAAAABVTYs9c7ab98SR9C2LViqmxZ6520374kj6FsWrAAAAAAAAAAAAAAAAAAAAAAAAHEyyhhskNoS2guSUFgi+AVZ7oqeNMNOvfEoP0yhasVT7or62GnfviUH6ZQC1RdfuiqOsehuq0HagpWr+k71tS5Emg/g7VIFzuPIaabJ3pEvo6LirGfUljl173C1xdfujcHPIqHaOzrqlp1tI3DfVOn0G4PwnosKDUbkq7rqH477Tm9INuGhO6pKyJKW0E4kkEhGTVg962zjKHd3fQlW6eS3izgcwB3AOFcdtxRKU2hSi4Eo0kZkOYAAAABoRYGoAACqe2p652zJ74sb6FwWsFU9tT1ztmT3xY30LgC1gAAAAAAAAAAAAAAAAAAAAAAAONTaVLSo0kak+pMy4l24HIAAKqbFPrmbTnviyfoWxasVU2KfXM2nPfFk/QtgLVirWoezRqKe0hM1S0yvyl2quv0lqkVxmqUw5ikobMtx6OnJJNZERcF4IjLjvEZkLSgHPIq1pzssXdpNrneVzW5dlMbty6iprk+TPhLlVpa4qDJ1PSGZNn06lLUpwyMy3sJSWCMrSFyGoBywA0wQ1AAAAAAAAAVV2LPXO2m/fEkfQNi1QqrsWeudtN++JI+gbAWqAAAAAAAAAAAAAAAAEda9WJI1I0luK34amkTZLBLjLfVuoS6haVpyfUWU8+od7pxOqNSsaiy6u/Bk1J2KhUh2mudJHUvGDNC/wAovOMifjoktONuJJbbiTQpJ8jIywZCCkbKNJphrYod53db1M3zW1TIFTMmGM8TJBGRmRZ44z1jTarort9ldqxicxpnjx+zHcproudpbpzmMTrjwT1wFNdVbBsGi6iuUa2dNZl4SozXorWqZCqbrMaO2Z8MNb26p1WTMkFjh1dmeXhs/wBGtG2qjWbh1Lvj0Ggsqekb1YNHAi4FkizkzwREXMzIYZobsw2zWtMmbuvFdYh1Gp9JNdU5U3Y/RR94za3zJRZwjB5V2j19j7HZqar3azjhiImMzPnE6PL2ub+0TTZ7KInjmZicRHlKxWkt02zeFh0ufaSWmKITfRNRGmya71NPA2lIL1KknwMv7xm3EUi1C2f7e0urTF1Q6bV7g0ylRkKnHS6q73zCcM/8KIkn+NbNOM9nExK9ubMOl13UaLVqRPqtSpspBLZkx6y8pKy/X+7qGa9s2zUx2tNyd2f/AK5x3TrxabG07RV/ZVURvR3484jE6SsKAg30nlgfnVv5Yf8A7w9J5YH51b+WH/7xm7PZf5lX9Mf7mnf2j/JT/V/4pyHyVGoRqRCemTZDcSKwk3HXnlElCElzMzPkQhb0nNg/nVv5Yf8A7xuRsc6c9I2ciNVZrKVEpUaVVH1tOYPOFJ3vGLzBNGyc7lX9Mf7jf2rlRT/V/wCLh2SVnU7UuyutINNNrVyTZsFSiMjcZNRJJfuHumJ7HwwIMalQmIcOO3GisIJttllBJQhJcCSRFwIiIfcM9+7212q5EcXXZ7XY2qbec4AABxaQAAAAAAAAAAAAAAAAAAAAAAAAAAAAAAAAAAAAAAAAAAAAAAAAAAAAAAAAVW7qB/Md1G92m/7RjC0bOSaQW7+SQwjWzR639fNNKvYlznK9A6r0PfHeT3RPF0byHkbqsHjxm09XLIhDwdll+UbVX54PfVAWqyf5v7wyf5v7xVXwdll+UbVX54PfVDwdll+UbVX54PfVAWqyf5v7wyf5v7xVXwdll+UbVX54PfVDwdll+UbVX54PfVAWqyf5v7wyf5v7x5V7f+nNnbJFg0R6i39qVULurU1KYcOTeL+4mM2pKn3FERZ4pMkEfa5nju4Fg9MtjPTXVjT+37xoeo+qr1JrcJuawr8MHspJRcUK4eqSeUn5yMBdLPmDPmFVvB32V5RNVPng/wD3B4O+yvKJqp88H/7gFqc+YM+YVW8HfZXlE1U+eD/9weDvsryiaqfPB/8AuAa91ASpew5qORJMzzTf9pRRaRj/AAdv9Ev7BUmt9zV06uSmu0+q3pqVU6e6aeliTbqceacwZKLeQpJkeDIjLzkQtwhO4hKeeCwA3gAAAAAAAAAAAAAAAAAAAAAAAAACqWxV66G0774kj6FAtUWSM+ArHcnc/rCuK9bkudq6b8oc+4Jy6lOZolwrhsKeXzMkIT5uvJ+cfL4O6zPKLqp88H/7gFqM+YM+YVV8HbZflF1V+eD/ANUPB22X5RdVfng/9UBarPmDPmFVfB22X5RdVfng/wDVGyR3Pax4zS3XtR9U2mm0mpa13i8SUpLiZmZlwIBa3PmDPmHkNsnw9PNo3aE1DsQr/wBTo9KjLVItWQ1d75KmRmfEe3zMsGpR4dTjGEqMj9Tk7n+Dsszyjaq/PB76oC1OT/N/eGT/ADf3iq3g7LM8o2qvzwe+qHg7LM8o2qvzwe+qAtVnzBnzCqng7LM8ouq3zwe+qHg7LM8ouq3zwe+qA12LPXO2m/fEkfQti1YiXQHZwtnZwpVehW3OrVS9G5/olNk1yb32+49uJQZ7+6RnkklzyeesS0AAAAAAAAAAAAAAAAAAAAAAAAAqn3RX1sNO/fEoP0yhawRpr1oNbm0TZTFr3O9UY8BiezUW3qVJ73fQ81vbhkvB4xvGfu4ASSXDPAa58wqt4O+zfKNqt88X/qh4O+zfKNqt88X/AKoC1OfMGfMKreDvs3yjarfPF/6oeDvs3yjarfPF/wCqAtTnzBnzCq3g77N8o2q3zxf+qKgbeFuWRsnVSxqRTr81NqlXqk1EypxnLxfNTNLQrdc3eHBxZmZIM+HiK4GA9aM+YM+YVEt7YM09uug06tUvU/VOZTKhHblxZDd4vGlxpaSUlReL1kZDsfB1WX5RtVvng99UBarPmDPmFVfB1WX5RtVvng99UPB1WX5RtVvng99UBarPmFVdtT1zdmT3xI30LgeDsszyj6rfPB76o+u2u5+WFbt523c7t1X7Xp9vzm6jBZrlwrlsIeRyM0KT/ZgwFoAAAAAAAAAAAAAAAAAAAAAAAAAAAFU9irjqXtOe+LJ+hbFrBWG5dgCw7ivW5bobum/KDPuGauoT2aHcK4bC3l8zJCE/BxyAszuq7A3Vdgq14O6zPKNqt88H/qh4O6zPKNqt88H/AKoC0u6rsDdV2CrXg7rM8o2q3zwf+qHg7rM8o2q3zwf+qAtMRKLqGvjCpNe2C9P7Yos+r1PU3VKHToDDkqTIcvF8kttoSalKPxeRERmKl7C9vWNtYXLqBRahfWptLm0ycubRmEXe+SnqWpW6jfyXFxBkW8ZYz0ieHAB61eMHjCqng7bJ8o2qnzwe+qHg7bJ8o2qnzwe+qAtX4weMKqeDtsnyjaqfPB76oeDtsnyjaqfPB76oC1fjCrGxZ6520374kj6Bscfg7bJ8o2qnzwe+qJU0B2cLY2c6XXYdtTqzUfRuf6JTZNbnd9vuPbhIMzWaSM8kkueTz1gJaAAAAAAAAAAAAAAAAAAAB0t0WrSLzpK6ZW4DNTgrWhxUaQnKFKQolJMy8xkRjnqtFh1qky6bNYRIgSmlMPMKLxVtqLBp4ebgOzAImYjESjEazhAuzR01FbvvTuc65Nj2tVTiwUyvGV3i8jfZSeeZY3i9wSFYukdsabT6tLtynnTCqa0uPxmnl9AlSc8UNme6jmfIiEf0zFI2wq4xH4NVa2GZMhPUbrTpoSr3d08CdR6G1V1b+YnSuIme/r75efstumaMTGtEzEd37jRvAAHnvRAAAAAAAAAAAAAAAAAAAAAAAAAAAAAAAAAAAAAAAAAAAAAAAAAAAAAAAAAAAAAAAAAAAAAAAAAAaGeBqADwX7oLN1Q1k1vrt6VixrkpFoxHm6NRFzqa820TKVmlviosbzqzUvHPxyLqIXY7kxcOoFp2rX9Lb4tG4aFEp6jqlFl1WnOsM7jivxzBKUki9WZOERfnudnGYO6VF/73ykl23dRS/wDxRC127nmZgNwAAAAAAAAAAAAAAAAAAAAAAAAAAAAAAAAAAAAAAAAAAAKpd0cvS+KFs9Trb0+tutV+v3Uaqa47R4jj5w4mMvrUaCPdNST6Mv0zMvUi1oAPzj6GW3q5pVrFT7otWx7kmV6z6i2ubDjUx9a2jx4zDyUpM09I2ak4PqUY/RBa1ebuq2qXWmo8iG3PjNyUx5jZtvNb6SPcWk+KVFnBl2kKz7IHjbQu1Ovtu6Kn9UYWvIsANQAAAAAAAAAAAAAAAAAAAAAAAAAAAAAAAAAAAAAAAAAAHyzZaIUV6QtKzQ02pw0tpNSjIiyZERcTPzEPz67XsbVfWDW+sX1c1h3LRY9eqJQKNHqFNdbw0Xix46MpIjXupzguajUfWP0J9YqVt78a5s5p7dTqZ/ougMX7lleF8s6NS9PL/tmu0GfarpFTX6xBdYJ+E6ajS2lS0lk21kpOOpKkF1cLvDjWZ7xDekt0gGoAAAAAAAAAAAAAAAAAAAAAAAAAAAAAAAAAAAAAAAAAACkPdS7ov+Xo9F0809tOu3BIuZwzqkukQXH0x4jZpPojUhJ4U4rdLH5qVdo8x9kL+FDRrW+i31btjXNV41DqJ0+tR6fTXnctK8SRHWRJ4LJKs7p8lEk+GB+hRfNPHHEVN7nqW9b+tKsmWdS63xL9NAC1cOU3Nisvt73RuoStO+k0ngyyWSPiR+Yx9I0IsDUAAAAAAAAAAAAAAAAAAAAAAAAAAAAAABA95GVD2sbAqCz3WatRJ9LJRnwNxBpeSR+fGce6J3wQhbaetuozrJgXFQ4zkmvWvUWatGQwW84pCVETqSL8rKDPh14En2rc8S8bbp9bgoeRDnMk82mQ0ppwiPqUkyyRjde+OxauRyzTPlOfeJ9pYbPwXrlHWc+sY+zuwAaYPtGFuagNMH2hg+0BqAAAAAAAAAAAAAAAAAAAAAAAAAAAAAAAAAAAAAAAAAAAAAAAAAAAAAAAAAAAAAAAAIn2jtfYezpYkK5JlBqVxqmVSNSY9PpW507jz5qJBFvmRHxTj3TIRX6dW8vax6rfsDP1wFrAFVPTrXn7WPVb9hZ+uHp1rz9rHqt+ws/XAWrAVU9OteftY9Vv2Fn64enWvP2seq37Cz9cBt7o+W9olayC9U5e9DSXu98i1o88dqLWbUTXqyKFRKZs66l05ynXHTqy6uXBb3VtR3d9aC3VGe8ZcuoTEe2leR//ABZNVv2Fn7QBawBVP06V5e1k1W/YWftA9OleXtZNVv2Fn7QBawBVP06V5e1k1W/YWftA9OleXtZNVv2Fn7QBawBUOpbfFQtubREXNoPqJasCq1SNSW6lVo7LTCHn1khBGe/7p/ALdlyAagAAAAAAAAAAAAAAAAAAAAAAAAAAAqlVtuWYV83jbVtaK37eh2xVXKRNqFDjsusdMgiPgZryWSMjwZcjIa+nUvP2seq37Cz9cBawBVP06l5+1j1W/YWfrh6dS8/ax6rfsLP1wFrAFU/TqXn7WPVb9hZ+uNPTp3n7WPVb9iZ+uA02N0Z1u2onS9Sd7pR8JR05/tFrh54aG6zaiaUXvq5WZ2zpqXMZvO41VqKiPAb3mGjbSgkOZVjeykz4ZLiJi9OpeftY9Vv2Fn64C1oCqXp1Lz9rHqt+ws/XD06l5+1j1W/YWfrgLWgKp+nUvL2seq37Az9cPTqXl7WPVb9gZ+uAtYAibZv2gIG0bYs65INCqVunCqsikyKfVtwn232d3fIyQZkXFWPdIxLIAAAAAAAAAAAAAAAAAAAAAAAAAAhjaR2kYuztT7Vcctas3hPuSqFSYNNoZIU+t40KWRESjLOd3HABM4Cqfp07x9rLqv8AsTP2genTvH2suq/7Ez9oAtYAqj6dO8vay6r/ALE19oHp07y9rLqv+xNfaALXCp+3KXS3ns1NF6pWpkAy+Bt0bvTp3l7WXVf9ia+0EP696y6iavXNpNUoGztqZCZs662LglNyYLe8+02haTQ3hZ+NlRc8EA9CzLeUfmG8VX9OlentZNVf2Jj7QaenSvP2suqv7Ex9oAtSAqp6dC8fayaq/sTH2genQvH2smqv7Ex9oAtWAqp6dC8fayaq/sTH2g20zbmmFfNoW3cmil+2Z+FFUapEKfW2GWmOmXk+Pj5PBEZnjqIBa0AAAAAAAAAAAAAAAAAAAAAAAAAAAAVFp23xUbln1xFsaE6h3TApVTk0pypUqOy4wt5hZoWRHvl2EeOfEgFugFVPTpXn7WTVb9iZ+0Gnp0rz9rJqt+xs/aALWAKp+nSvP2smq37Gz9oHp0rz9rJqt+xs/aALVn1e6Kn9zsL/ANxOrSupWpdd+kQOb06V5+1k1W/YmftBDezBrHqFoZbN302q7O2plQerV11GvtKhwGyS21JWlSEHvLLxi3Tzjh5wHoeAqn6dC8Payar/ALEz9oHp0Lw9rJqv+xM/aALWAKp+nQvD2smq/wCxM/aB6dC8Payar/sTP2gC1gCqfp0bx9rJqv8AsLP2glLZu2gIO0fYs65YVBqVud5VWRSJFPq24T7bzO7vkokmZFg1YxzyRgJaAAAAAAAAAAAAAAAYnqOi5nLGrKLPWw3cymTKAuVjo0uZLieeHLPPhkTEZqinqrVO7Ey3XnqXa+ncQpNy16DRm1eoKU6RKX+in1SvgIRgW1nRKopSrctK7bnhke6mbT6UomXD6t017pn7uB2+nezba9orRVaxGTdV2ul0kut1j+MOqcPnuErggiPlgi4CXUpJBESeCS5EXAiG3Oy25xETX38I9OPvDJEbRcjMzFPv+SDU6+34+W+zolcZtK4pN6bHbXjzpPkfmG8tYNVpxf7n6LSGi/OqFfjtfuwJyNJGNjrqGG1LWokISRqNR8iIg7e1ys0+tX+5HYXv50+lP5IOOua/1YyNi2LRoTfP+OVBx9Z+bxCwNO9tomSW6cuxIXY4TUh393AcjW2HpmuQSF1SbHjKWaEznqa+mOrzkvc5H2iQrE1TtTUuK+/bFci1hDJ4cJlRkpHZlJkRkXnwNFyb1qM1WIpjvpn7s1FNq7OKb8zPdVH2hG52br3JVvOahW3EV+ZHohqT+tR5HKej+qtWSTtU1mkRnfY6VRGGm0/rMzP4RL1euGmWvSn6lV50em09ksuSZLhIbR2ZM+0RkxtX6YTK5TaVBuVE+TUHksNKjx3TbStR4SS1mnCcnwIUt3touRm1bifCiJ+zpctWKNLlc+dc/m6v+AvUHy3V75Mjjjk6LanwWVSKbrPUZM5vxmWajS2DjuK/NXu8cH5hPGAwOP4290p/pp/Jf8FZ7/6qvzQdb+tV0Wrd0C2NT6BHo7tTcJinV6lOG7Aku44NKz4zaz6iPmJzIsCCdsJJfwSNulwcZrNPcbV1pUT6cGXYfETuF6KK7VF6mnGZmJiOGmNfdaxNdNyuzVOcYmJ565/IAAGJuAAAAAAAAAAAAAAAAAAAAAARLtR6uVDQjQW7r9pcGNUahRIyHmosw1E04anUIwrdMj5KzwPqETOEpaARbM1Ua0q0vk3rqjcNIhUlpDTqpdPgPtIbS4SSQ3uG48txZqURFu88lwGJUTbKsmde9BtasUe7LMm3Cs2qJJuihuwo1SXwMkNOHnCjyWCWST4kXMyITzwhP2SGogHXjVy8tH7nsLoCoVUoV03XCt047sN5EmMh4lbzvSk8aVqLcPBdGRcfNxn4I1/f76gA+Cq1aHQ6e/PqMtiBBYTvvSpTqWmmklzNSlGREXnMYfdWt1lWZpp+H9Rr8Y7SW2hxioxcvlK3z3W0spQRm6pZmRJSkjMwGfgIc012nbU1JvN60FU+4LRu1MXv1qi3VS1wJMiNnBvMkrKVpI+B4PJdZCQ6NfNv3DWatSaZWoE6q0hwmqhBjyErfiLMiMicbI95OSURlkuOQGQAAAAAAAAAAAAAAAAAAAAqp3RI8aZ6c+fUWg/TKFp/8YKsd0T9bTTj3xaD9MoWn/xgDkAAAAAAAAAAAAAAAAFVe6Jetjp374lB+nULUlyFVu6Jetjp374lB+nULUlyAagAAAAAAAAAAAAAAAAAAAAAAAAACquxX65u0374sn6BsWkFW9iz1zdpr3xZP0DYtIA5gAAAAAAAAAAAAAAABVTudvraakH26jV76ZItWKq9zt9bTUf3xa99MkWqAAAAAAHzS5jEFlT0h5uO0nmt1RJSXumYiJyPpAdJ+GdB/wDTlO/a2/7x98GpxKkg1xZbEpJdbDiVl+shbE9B9gANvEQNwDTj2DUAAAAAAAAVT21PXL2YvfFjfQuC1gqntq+uZsx++LG+hcAWsABCl+7WFh2RWJNDZkTLouNk9w6Rb8Vct0nM4JCjSW6lWeoz4DpRbruziinKYiZ4JrGL3dqVatgtpXcdw0yhksjUgp0pDSlkRZMyIzyYhJEHXnWjK5c6Jo5bD55TGiJKZWlIx+Us/EaM/NxIZXZuyRpxa7q5s6jfhbXXeL9YuRZzpDqu3x/FT/kkQ79jatf3tevSnX34fVfdiOMumk7a+nUmQqNbzVfvCSR7qU0GkPPJcPzKMkkZefkOH03h+SbUX5F/7wsBDhR6fGRHisNRmGywhplBISkvMRcCH0YIhaLmzxwtz51fpBvR0V5TtoW1TuNw2fe1stn6h2fQnDQrt4ozgZVaW1ZpRe1RYp9LvWAqe+eGo0rfjOLPsInEpyfmEtCONXdCLU1nteVRK5BQx0y0uFPiNNplNqSolZSs0njOMH2kIzssz8VM098Tn2x90Ru51SUNgp7ZOxTdtrVy5JMHU+uW7GJ5JUIoMtcgibIvVSkOYSsz4FukXbxGcWhtAXDYNcgWbrLSDpNQkP8AesK7oqCKk1JX5HHP4pxXDxT4ZPqF7my0z/cV7/lifTn5JmiJ+WcrGHyFVdtP1ztmT3xI/wBC4LVHyFVdtP1ztmT3xI/0LgwOa1YAAAAAAAAAAAAAAAAAAAAAAAAAACqnc7PW01H98WvfTJFqxVTudnraaj++LXvpkgLVgAAADYtZITvGZERczM8Da08h4t5tSVp/OSeSAcoDYtaW0mpSiSkuZmeCIEOIdSSkKJaT60nkgG8AAAAaZIagONPP4RVjudfraake+LXvpki06efwirHc6/W01I98WvfTJAWrAAAAAAAAAAAAAAAAGJHqDSi1FKyzN4qudO9Eyyj8X0W/uY3vzs9XYMqEDa9IKz9TtLb5YMmyaqZ0OavPBUeUnCc+4ssl5zE+DRctxTRRXTzj3icMtm5NVddFXKfaeAADQyyM7UjbWe/GNLLRg1J2jM1WmLqEaHKaUokky04vdNwkmRke6Zlw846a/wDRmprqTtw6dVmNZtxGzh8kQG3Gaiaf5ND2eJJLiXD87zDO9RLGp+pFlVW2amR951Fk2lKT6pB5JSVF50qJJ/AI/wBAbzuaRDXZ930Kqx63QWjYcrLzP8UnpQrdQtDnWpScGfbgzHoWqpps9pb+amdYnXMTw0nSe95tymJvdnXwnh3TD7NMrzja0W7V6LdlvNR63SJCYVapMtsnWOlLxkrRnJKQeMl2fvHVbTtkQ16DXKqlQGYkmmttVJhMRpLeFx1ksuBFxIkkrgMEkaB6vwr9uKrUG96bRYFTrR1M3OjWt51JEZNocLGDQkuG5nBjI7h001vrFAqVOkX9b89iUwtlcZ6jE2h1KiMjSaiPJcD54G2KLNu/Tdt3qYiJicfFp15Mk13Llmu3ctVTOJjOmvTn0TbZ9dTc9q0aroMlJnw2ZOS4F4yCV/2jvBHehdoV+wtL6Hb9xy4s2oU9o2CdiZNHREZ9GWTwZmScFnAkM+Q8a5FNNyqKJzES9i1VVVRTNUYnCCtsQ8aPK/ren/6wgTmIc2uIjcrZ6u9S0b6mGG5CD60KQ8hRK+DAlC2Zap9t0qStW+t6K04au0zQR5/eNdf+Et/91X0pZqP8TX4U/d2wAAwNwAAAAAAAAAAAAAAAAAAKrbX+uN1Ua7LA0c03mJpt+33IWlVYUgnfQino/lpJJPga8Evdzy3FdeBHdAtPuitvdGf5lmqH/MGv9ZZECbbOl0rZv0Vo1Y08vu+GNQqtWI1DXUptySpTlV74StK+kacWbSFcCURtoQaTIsCYduWirtrYDvajOSXZjlPoUOMuRIcNxx00PMJNalHxNRmkzMz5mYieC1PGFhKNR4FcsmiRalCj1CN3rGc6GUyl1G+lKVJVhRGWSURGR9RkQrfcVMTtj6zWfJpLaV6V6cVhVTcr/H/duqtkaUsRD/KYaVnpHeSleKnODMSxqpplXtXdn5yzKBdi7Jl1WnMxnqu3D75cQwaS6VCUdI3g1pyne3uBGYh63dkTWikwbboU3aPees6jyIizoVLs6JTSeYjuJWlgnmXSUhJkgknjOS5kfHPTTtKpnq5RrRHfDINt3hN0F986k/2Oj5drvauubQu5aBbVEoVPpUestbyr9uopHoHTlmo09GvoEKM3OR4UpCeJcT44+rbe4TdBM8M6nUn+x0WYnQY9RiOxZbDcqO8k0OMPIJaFpPmSknwMvdHOnhPj9qV54+X3lVmzNk23tZI8G8NU9RJeu5vYkRmUSUsW60fUbMRhW4vHLKzVnrLI6bbOpsSmX/ss23FiMQba/Dlgu8I7ZNx0G0gugSSCLdIiyeCwM3uPYitqmViRcGk1fq2i9zPK33HrZUSqdJV/x8BZ9Csv0SR7oyDVTZ5ka6aQ2/bt6V4495Ud+NUo100aMlo49SZ9TJaaUZlunxy2fUZ8SwRi+eEnKYRZtatKh7XuyrPhH0dUXWanEUaOCnIyo7fSkZ/mkRnw/pCXNWtkjTrV2tJuKXTZNu3m3g2bstqSqn1Nsy4EZut8HOHDDhKLA6+ytnaslqrS9RdR73Tfdy0SC7AoyIlHRS4cBLuCedJonHTU6siIjUa8EXAkkPj1D2bLo1kvKquXnqdWo+nilpTCs22C9DUuNEkt4pcpB9K7vKz4pGlJFyFadKYjx/f380c0H1baZv7Zu1Fp9indtK2j0SX0x00mmMG1dMFOcZe6BC2HCSR8VOdGo8ccZF9SLAwnTHR2ytG6IVJsi2KdbUDBb6ILBJW6Zdbi+Kln51GZjNxKQBg+ruoc3TCy3q5T7Srd7yW3W2yo9vMpdlrJSsGtKTMiMk8zEGencuv2s2rvyU19oAtWAqn6d26/azau/JTX2genduv2s2rvyU19oAtYAqn6da7/AGsurXyc19oNfTq3h7WXVn5PZ+0AWrHwVSqQqLCVLnymIUNBpJciS4lttJmZJTlRmRFkzIi85kKxenWu/wBrLq18nNfaCENtjaluK/tly/KDO0H1FtSLNjMpXWKzBbREi4kNK3nFEszIjNJJ5c1EA9GwH5/9mruh2sGz8/DpUOpqvG2iUltNArRqfJJciSw5/KNnx4ERmn+iY9t9B9VqlrLp5CuWqWRW7BlSOdMrqUpdxgj3kYPeNB54GpKDPsAQ73RP1tNOPfFoP0yhaf8Axgqx3RP1tNOPfFoP0yhaf/GANx8Bg+t9UmUPRm+6hT5DkOfDoU6RHksnhbTiGFqSpJ9RkZEZe4I3qe1tFn3ZX6JYVh3LqY1bbpsVqqUIozcOI8ksqZQ4+62T7qS5oa3jLlzHxu680HaM2TdSrvtiLPYoR0mrQ47tRaJpb/RxlkpZIyZkneM08eOUnwFJ0plan5ocumM29qds02DXLUhyL3u+4INLkTXLjrjxssm6yg3pRm4pRklGTV0TRFvciIdrbOsdxJ2iJukd0RqZNfXbpXDEq9DJ1gkt9N0KmnmlrWaFb3jJUS+JdRDFqRq2/opsO2Bc0GhzbjqqLapceBTIUd183X1x2yQayaSpZNp4qUZEZ4SZFkzIj6bZUu21SvN9lhdy3jqPczDlQua8ajbk2mxUGzuk3FaOSy3uMJ6Q0tNIzwQZq4mOk/NLnTOaYll+htQqMHaM1utNys1apUKjM0JynxqnPdlnGN+O8t7dW6pSvGUSTPj1EO51X2v9NtJ6oVBeqb9z3i4e61atrsHUaktXYbbeSb91w0kMQ0+pLdxbUG0xSXnXmGp9Lt+Mt2OvdcQlcGQkzSrqUWckfaMF0+0F1V2L4siPprQrZ1WtBxRrkRXGGqNcaizxzKSXRSTL/jN1R4wWOYrppHdCY5p+051Pvav2FWLnu7TSoWrIbfP0NtyPLam1GQxhO6pwkmlDbijM/ENXikXEx1mz1rhXdYq3qRAr1rt2pKtOtppBQillKcUXQId31uJ8TJ75cE5Iu0+Y7rSrXumal2XVK/JoVfs5yjvqjVOmXHT1R5MVxKSUfilnfThRYUjJGIa2T75pcnWHXJBoqEf8IbtKbSlzKZJjomsJiNNqcbWtsiMiU0vr6iPrIMZ0SyS5Nrafo/dlUgasae1q1bXRLWin3tS0nU6U9Hz4jkg2k9JGUZc0qSZEfXgTjZd+27qNQ2aza9cp9wUp31MymyEvNn5spM8H5jEF3TtGX/edy1S1dI9KptaXBkOQZd1Xeo6bRGlpMyV0ZYN2UWSx+LIi488Dbsy7JD2id9XHf1drsGddtxRUxplPtulN0ujx0ksl/i2UcVryX8os948nw4icDre6Jetjp374lB+nULUlyFRu6XVJ2j6L2VPYhP1N6LfdFfbhRSy9IUlxaibQXWpWMF5zH2K21b0I/wCbHqt+xNfXAWuAVR9OtentY9Vv2Jr64enWvT2seq37E19cBa4BVH0616e1j1W/Ymvrh6da9Pax6rfsTX1wFrgFUfTrXp7WPVb9ia+uHp1r09rHqt+xNfXAWuAVR9OtentY9Vv2Jr64enWvT2seq37E19cBa4BVH0616e1j1W/Ymvrh6da9Pax6rfsTX1wFrgFUfTrXp7WPVb9ia+uHp1r09rHqt+xNfXAWuAVR9OneftY9V/2Jn64enTvP2seq/wCxM/XAWdnViDTJEOPMmx4siY4bUZt11KFvrIt40oIzyo8EZ4Ljgh96Vbw8i+6c7Qlyan6VWjGn6T3tpv3jXiks1O4WUMtuL6B0ibbUhRnv8TV7iTEcbKPdONZ7Eq9MtaqQ5WrVKdWlpmC6Sl1NJcsNPJI1L9xwle6QD0S2LPXL2nPfEk/Qti0oqJsB1t+5Lm2h6rIpU2iSJl+vPrptRSlMiMao7R7jhJMyJRcjwZi3YDmAV0uPaCvG9tW67p3o/b9Jq8q2koK4bluOS61TYL6yyiK2lojW87gsqwZEjryfAfTs0a/3RrVdOotHuG2KfQfwLnt0N+TAmLktzJqd831NmpKTS2SeiNJGRqLfPJiOIwzZNjVmZoTdV1URlmr6guVivxob9cmvqZeU3UH0stuq3j3Wy3Up8UuBFwGQ1vU7UTS3VnSG1bgrFGuty93ZEWoQIFOVFdgKaY6VUlg+kUamUq8U+kLPjEec8B0myDccm0Nlm563Do824JkC4LjkM0unJ3pExxNRkGlpBfnKPBDFdA7vuFF/xbpuvSm/6tqldcpmDU61VKN3lSrdp5nvHGjLNasMtYLJ4JTy/GUZcCKRn9SgItnbptOLTHJEWLVbQq06bGRJdNmQ+mVGJLimzUad4iUoiPHDJjKdVtsDTrSysKt1M6Xd16qylq1LUjKqNRWrsUhvg37rikjoLu/n86df9Bqx/rUUdDJ2S7v0eue4Ls0JvZijSq5NcqVTti6oaZlOnPrUalGl9BE+zkzPkpRceQmPljz+snOf3yhnumd6azXpHuGs3HYlIseB3ir8HqNNqJyKg5JwrCpi2y6NpB4R4qcqLJ55DCr11Q1T0bqekJXHUqDcNSvGuMUSq27TKepnvfpGzU49Ed3zWtLGPGNZYNPHxOQzfS3WO/qu1X4GoGlNUtWu0OGcsnKZIRPgVUi3vFhuJwZuHul+KWRGW8XEQNpVf9zStQfw9vPR/UOram1WQ3ToLMmjHHpFtU9x5KVNsvmpXEm8uOvbm84ad3CU4FeZOkTKbdVtUNWNK70kToemydQdODaaPpbclEVbhLIvxhqjOeK+jPEibMlER8RkWkO09pzrg45Ete4GlVxgj76t+oIVEqcUy9UTkZwiWWOsyIy7DMY9qtqrqqi9HbO0w00RU5TbTa5F3XNK71o0bfLJJSSMuyFlwylGMH1irdubPV77RW0U/cFz37Mqa7TU7TJ1w0yC3TGWHloNLsOA2kjcMiSo0m86ozxxwWSz2tWZuTMzOKY4z++Mr4Zzsca2WRpHpbqEu7Lih0hx3USvdFGUo3H3fxyfUtoI1n7uBL3pzbdq5blq2fel3Ol6r0PojiUJ91S90hUfZP1DRpgV6qh6AXdqNU4F11OCxc9IgMvk2w27uoYJxaiPeSXEzIuO9xMxZQttC8vay6q/sTH2g752ejTdmqe+ce0fmQyROtOsl0J3bb0Tdpaf/wCJuqsNRkp7MtII1H8AIs/aHuvB1O/bYs1o8/iqHSTmuJLs33jIurmWBjnp0Lz9rJqt+xMfaDX06N5+1l1W/YmPtBH4iI+S3THln/8AqZRvdzIi2ZrwqH/jfXW9ZJflIhdDFQf6kn/aOaLsT6bPO98XAmt3nL59PX6u++ee0iSpJfAMX9OleftZdVf2Jj7QPTpXn7WXVX9iY+0D8Xf5VY8MR9E79XVnHpK9F/8AgFA/+2f+uPklbEejr5ZYtVdNcLk5BqMlpRe5+Mx+4Yj6dO8/ayaq/sLH2genTvP2smqv7Cx9oH4zaf5lXrJv1dWSHsWWjBUblDuK8reknwU/Brz2VF2GSskfX+saFsxXVSj3aDrfelPaP1TU1TU0vdLeIjIY76dO8/ay6q/sTH2genTvP2suqv7Ex9oJ/GbRzqz4xE/WDfq6si/gz1/t4iRR9WKNXY6S4IuChElfuGto8n7odFtMR/EJ3TuR/wAbuSkbx+4Mc9OneftZdVf2Jj7QPTp3n7WTVX9hY+0Efias/FTTP/5j7YTv9zJFXXtIUo+hdsWzq+fVKg1dcdJl50uFn9QfwgbRPkotz5xJ/uGNenSvMv8A4smq37Ez9oNfTp3n7WTVX9hY+0Dt6edqn/V/uRvd0Mm/hD2ifJTbnzhT/cH8IW0T5KLc+cSf7hjPp07z9rJqr+wsfaB6dO8/ayaq/sLH2gnt7f8AKp/1f7je7nBVdo7W+l0Y6mzo7Ar9OW2l1moUCslNZWkzMvFJsjNfL8nkIy1o1Av2/NVdnCJeGnjtouNXnFqbUkpyJDTze6aTRgiI0LTvpM0q44MeXuju1bqbs73HIm2PckulRnJC3X6NKPpoTuTM8LZV4ueON4sK7DIXC1k2zLx2htMtKazU9PalZ82Lc+W60kzTS56ijuY6FS8L3iMiMy8Yix6rPAtFu5YvVRbqtRTnnG995XiqJ0xC/e0zeVVqVTtTSq06kun3JdknMuXGdJDsGnNeM+5nmk1ERpSfXgyEnaZaU21pJbrNFtmnIgxEF47p+M8+rrW64fFajMz4n8GBEOyXR37spVX1kuPoHLkvBw1oNBkpECE0ZttspMz4F4pmr3CzxIbHttml1FqvVm1bBuq8bCoC3UVS8aY3HRDR0WemUwl11DklKMHk2knyPGRx2mYtf8vRPy8e+eflHCFatPhhlW2bdNXsfZc1HrtAqEikViDSlvRZsRe46yveT4yVdR8THZVZu87Oti2afYFK/CKVUZqCqFSuasPPppzCmjUt9W+o3HeKSSTSFJ4qzwLIiHaQ1Tp+tnc+NQL1o8OXCpNWokhyGmckkuuMpe3EuGkjPBLJO8Rc8GWRIG0VrRUNFdIKfOodJk1W4ampmnQFN06RMYhrWgt6VIQwha+ibSRqNKSyoyJJc8l5+ePk59HJp9qzWru1d1E0nuiLD9EKDT4k5FYoDr0dDzEpKyJJoNRrYeSaTMsOHkjIyMsDq9litVWXeeuFEn1mpVan0C7u8KaVUmOSlx2O82F9GS3DNRlvLUfEz5jqdkq4bNhz6tb1ttXPcVwTGPRu5b1uGhS6cupTFLJBJPvhpCjwRnuNoLcbQnBcc5x/SrT+LqvUNrG0J82ZTYlbuxcJ2VAWSH2kqp8Yt5BmRln3SFuvh+SOLPtSNtDT6yK45bNDcn6jXsWUlbdmxzqElKuBfjVJ/FslkyzvqIy7B31NvrVasaa0yqL03g0i759RTHXQpdaQ43TIilmRSX3kF+MUlJEo22yye9gj4GYhKw9P9YtjCjehVsWdbmrNhs8/QCK1RLgQkj9U42RdDKURdeSWoS8/tG29W9KqVdMy1bsZotWqPoNNgP0d5M2nGZrQtclhGVpaSacGpOfVEZcBMzomZNPtZrin6/3RpXcEGm1FykUaNWU16iJcbYR0qzQUZ9palm274u+nCz3k8cEI1vbaQoi6fOsjaQ02qNh0ua4plutqI6hQpJb2G3EzGSywv1JkSySaTPmPv0Jt1y39pO5T06iS4ejUqhokzkyGHW4i64b3q4nS+MZmyX4w05Tnd6xurGvWp2tvftF0m0p6KiuGuM9duoyTh05ZZNKjahll2Qk8Hg/FI+vgYRMxiY4oziW7QLUgtO70Tp1VLoO6bTrKSlWPcy5SZLctki8eGp5OSU4jhjJ8S+Ahs20uOp2zJ74kf6BwYHL2JI+imiWole/CEp95PPs3Mh+nwG6bT4MuJvqSUWM1km0qStaVGZmavFM+Q49sLUqXJt7ZZvqNQ5tdmuXZCqJUalpJUmStUVajbaIzwZmeSLJjXfiLlNN+OM6T49fNeeGV6wFVPTqXn7WTVb9hZ+0D06l5+1k1W/YWftBjVWrAVU9OpeftZNVv2Fn7QPTqXn7WTVb9hZ+0AWrAVU9OpeftZNVv2Fn7QPTqXn7WTVb9hZ+0AWrAVU9OpeftZNVv2Fn7QPTqXn7WTVb9hZ+0AWrAVU9OpeftZNVv2Fn7QPTqXn7WTVb9hZ+0AWrAVU9OpeftZNVv2Fn7QPTqXn7WTVb9hZ+0AWrAVU9OpeftZNVv2Fn7QPTqXn7WTVb9hZ+0AWrHwyqrDhTokSRMjsSJZqTHYcdSlbxpLKiQk+KjIuJ45EKxenUvP2smq37Cz9oKV9072hLk1KsixCl6W3rpm7Tas5Jj1KvNJYJxzosElpSFGZKLgfVyAev4qp3Oz1tNR/fFr30yRQHZH7pzrLbtepVn1qkTdX4UhxLLEZpCl1hJf8W4kjN3HPDhH+kRC+Xc2Zyqno/fM1cR+C5Jv2tPKiyiInWDU6gzQsiMyJRZweDPiQC22SGo6e6rnptl25U69WZbcGk02M5LlyXTwlppCTUpR/AQqxJ2p9VpOlVT1mg2BQIGlkGKupMU2sVJ5uu1CCj/AB6dxCmmTUXjJQreyWOJZIxAzDugKSd2WbkbUSVIXUKQhSVFklEdTi5Iy6xINz6e19CrYplhVanWFbDEh12sN02nM98OtmnKERiUg2mzNfFSjSfDlxEEbSF61TUbYFh3TWqazSKnW/QKoOQWFmtLBOVKKtCN4+JmSTTk+3Ik7ark6nSbMpVC02t6p1T0XldBWqjRp0SNNgQCLLne5yXW09M5ncSvJ7hbysZ3Q4ZieU/aCOU9XT6A3tWdSr71ls+uzmr7se3KnHp9Orc2Gz/GlrZ35cR3o0JadNhe6k1EgvVYPJlkY/so3Bb2mVj63VOqzINt23StRK0a3nTSxGiNEpoiLhgkpzgiIu3BDP8AZyRXqRTXLYPSR7SizaNCYbpbEuoxZT8p5SnOmNXe7rhYLDajUs95alqM8iONnbTy3tV7C15tO66air0CqajVlqVEcWpBLIltKLCkmRkZGkjIyMjIyDnPh94J4R4/aXYu7WV3auOKh6EabTrpin4v4ZXSS6VREf0m98umkly4ISXPmJO/DGtaM6MMVXUmqRrjulrLbhUSL0KZ8t10yYixWjyZqM1IbTnieDUeCziL0aEay6GISvSPUX8L7fa9TZmoZqkEhBckx6gj8a3guBJWSk8uIk2nWWWudsWhX9RLTqFoXXSXX32qXErrpKgSD3mjWl6MtCXN5BGaVGR4S4eMGZhOsYGF7Jeol/ajx9WY19z4i61RLqkUphqCygmILZMNLJlBkRG4SFOGW8vJqwZ5wZEXTN6za4aF/iNUbATqJbjJ4/DHTxs1PoR+dIpqj3yPB8TaM0ljkOv2WtEatZl+aoXLdFp16myXrjl1S3XKnXSmE9FfZQ0ZqQiS4RvGTREa3C3sGkiVzHYIt3aQ14L/AHerMDQS1XD/APF1BWip19xHLC5Rl0LBnzy2kzLkJ6eEfQTZpNrbZWuNCcrFk16PXIjK+hkJbJTb0ZzGejeaWRLbV5lEQhDudfraake+LXvpkiYdFtALS0FpVQi2y1OdlVR8pVTqlVmuTJtQfIsdI86szMzx2YLzCHu51+tpqR74te+mSAtWAAAAAAAAAAAAAAAAIW2uKYqdoLcclsv4zTOhqLKvzFNPIUZ/FJQla36o3XaFTak2WG5kZuQnjngtJKL+0YlruSVaLXulREpPoRJyR/8AJmOTQxSl6OWSpRmpR0eLkz/5MhtnXZKe6qfeI/JijTapjrTHtP6s7I8jr2atDkyXI7MuO7IQXjNNupUouPWRcSEI6yLmao6r27pdHmyqZRThrrVceiPdE5IYI9xphJlxwavVY6vcHUamaQM6HWY7c2kFpRU3XDw2t9fSSnu9lfyhpStR7yuCc9eM4FqNmoqimKqsVVcOndmc6eiK9pqpmqaac008evfiMa+qyYCJtHtoS2tULThTl1GHS6ypO7MpcmQhDzLieCvFM87p4yR9hkJVYfbktJcaWlxtRZStCiMjLtIyGS7ars1zRcjEw0W7tF+mK7c5hzgADm7AAADB9ZrfO69JrvpCC3nJlLkNILtVuHj9+B8Gz/X03TovZtRL1TlMZbWR8yWgtxRfApJiQnEk42aVFkjIyMu0hCGx+8pjSFdIX6ui1ioU4yP+g+pX/wDuNtOuy1Z5VR7xP5QxTGNqpnrTPtMfmnMuQ1ABibQAAAAAAAAAAAAAAAAB597St4Q9n/uhunuqF6tTI9gyraepDdWjxHJLcWT+NySktpNWT308CIzMlZIjwePQQbOj84jGsT0TnSY6vNTax1VmXRrVs+X7d1LqtvaLRa+5Ihpl011Ul9xtKFNyXmEpNxHSKMktNmnf3UrUZeNgrzURMLX7S9xN42U5BolY3iVQa8lK3HoxOZZW82XqFKJKF9GfFOSI+JCQtzzjkSndLAnGIwjGJy6G0rIoliQnIdDglAjuKJSmkuLWWSLBY3jPHAuRDv8ABDUAGCVzReyrkuaLcFWt2JU6vElNzo8mVvOdDIQWEOoSZ7qVJLkZFkZ2AAAAAAAAAAAAAAI4111WPRuw1XGmnlU8TosQ2FPdERE66lBq3sHyIzMWopquVxRTxk4pHABtz5xUaDFT1NtQryK1Cr8Bdy9Et46Wl8jfShCSUo1J/JwSiPjjgYy0VZ0SplPs/as1io1WYaXXawpir0+a+lPSPw1ke+2k8EeEqMiMi7OPIhotWu0prq/yxn3iPutTGcpzm363Msqo160mo95vMIV3vEps1vElwv8AFk4fipP3RX+9KrL2prIuzQq9aa/phelUhtPkeEzY78VL7a1OMKJSd/G6ZGWSwfHjgxj9sVKLpdtqVK3LIsuox7fnwmY9RjU9pTULvk1E4qZuqLcJKCVumZYyecc+OX+lhv8Akas2velU1UOqLo0x19DTlNShaGVqPMdCkq9SpBkkyPPXguI9D8PZt5iurGacxM8e6MRmHXEO/wBnfYZ0n2ammJFuW+io3EgsKuGr4kTDPr3Dxutf5BJ8+RYQiIuQZIMkPHcFU+6J+tlpx74tB+mUJz1qrNRtvSO+KrSCUdVg0WZJikgsq6VDKlJMvPkiEHd0T9bTTj3xaD9MoWlcSS8pURGkywZGWSMhSunepmFqZxMS899GdfbQ0c7ndS02nU4lfvdy3Z1SdpsOQlcluUfSLkyZWDM20tqVxUvG9upSWTURCctl3T2hObHdvaXFVo/f0m1EFVEQ3ULfjHUGnHDcMuODM3FmWee6JYtvQHTa0ItfjUSxqDSmK+laKq3EgNtlMSrO8lwiLik8n4vLifAd3YWmlraXUMqPaVv023KWlRrKLTIyWUGZ8zPHM/OYvOue9WNMdzrNINPZmltk0u2Hq+5XoNKiMQYTj8RthxtlpskJJW5wUZkRZPBDN3UKW2okK3FGRkSsZwfUY3DeInXVERjRF2mejC7Dv29bwnXFJr9aupEJuWbkVuO00mK2ttvcSguslnnJnyLkJRABKWmCAyyNQAAAAFVu6I+tppx74tB+mULUiq3dEfW00498Wg/TKFqQAAAAAAAAAAAAAAGh8hhVraq0W7b4uu04hSWqxba2Uy25De4S0uo3krbP8pPVntGWTpjFNhvSpTyI8ZlBuOvOqJKG0kWTUZnyIsC00zTOKoHJIeTHaU4tSUITxUpR4Ii7TMfLArEGqko4M2PMJGN447qVknPLOD4DDNWJEat6P3DJiUiLesJ6nLfRTOnwzUGyTvbpOJzwMuJGXMQvbdoxYmjMDUHZ/i0Wz3KhF7/nRZ8ZUjvttslGcY1qV+LNKyWnJFxPsHe3ZiqnMzjXHd5zxj0lbCTNRtqCwtKbpKg3NMnQJJIQ45IKnvOR20qzg1OJSZdQkqgV+nXTRotWpE1mo0yW2TrEqMvebcSfWRkIptrUira77P0a4LQh0Q63UmSS9Tqys34rayXuvNOEnjyIzIj6jTnmN2y/pTcWjtgzaHcMqE8pyqSJkWNTd42IrLh7xNpNREfqt48HnGeYvctU0255V0ziYzx6+GB0+13sl07a7tu17eq9dfodKpNV9EpCobJLefT0S0dGg1HhGd/O8ZK5chlGh+zFpvs6UdMGx7Zi0x1SSS9UnS6WbI863leMfuFguwiEsgMaqqexb65W0574sn6FsWpb6xVbYt9crac98WT9C2LUt9YDz12OdY/4NXdT9NXLfqtQ1qnXpUp6qYqA8TLqHTT0Up+SaejbYIkmeTURmRFuko1EMz7mheNMk6ZVGnPypNSvqr12rVu4lNQXUIiPnINtKH1qLdbWtKEqS2Z5xnhwyLtDTJB+WCdfXKONKNF6bo9HmQqHWqu9SJEqTO9DJy2XGWnpDynnVpUTSXOKlqwRrMiI+QkfJGBlkaiJjIjdnRanFq3G1EmVmsVOuRIMinQ2ZK2SjRo7ziHFoSlDSTPi2nBrUoyxzEkAAkAAAGhlkVvqumuoWi96V+6NMkxLnt6tyjqFUtCoOdC6Ug/VuRXj4EavzVcPd4CxwHzL3R2t3areYjWJ4xPBaKsKR7AGq1qUS072oVdr1NoVxzrzq1TKlTZSW3EtuuJwnKsEakqSpJkXEjTx6hddhaH20rbUlaFFlK0Hkj+EUv2KNKrQ1M0t1CZum26dXCRqJXyQqbHJa0fjk8lcy/WJRd2Mbcpi1naN1XhZLKsmUSkVhzoEq6jJDm9j9Y6zTs9z+KafLMfafZbETxlYTo/OHR+cV7PRfWeitkVI1wVNQn1LVaoDDp/C4R7x/qG0lbTVLL1Gn1b6PhuEqTHU8Xb1kkxH4Wmflu0z6x9Yg3I5SsN0fnDo/OK+/wAIO0T5KLc+cSfqjX+EPaJ8lFufOJP9wv8AhK/81P8AVT+ZuT1WB6PzhuZ6xX3+EPaJ8lFu/OJP9w2eim0xU/xjdCsChI6mH5kiQs/dUksfq7RH4WqONVP9UI3JWF6Pzh0fnFe97ab7dPP1yQ3tpvt08/XJE/hv+pT6p3J6x6rCdH5w6Pzive9tN9unn65Ib20326efrkh+G/6lPqbk9Y9VhOj84dH5xXve2m+3Tz9ckN7ab7dPP1yQ/Df9Sn1NyeseqwnR+cNzKTLPMhXkrY2kq6fSSbzsu3NzxUs0+luSiX/SUpw+HuF5wPR7XGvLJFZ1rRTo6C8UqFQ2W1rP+kpXV7nb5g/D0c7tPv8AaEbsdUcaB9zA0n0YllXbmZLUC5OkN3vqsNkiGwozz+LjZNPDtWavNgR33SbUOy7ohaeW9R6vTqrIodbXLmwILpGTDRRnEJLKfFI8qIiSR5LngWOjbFFkTFqk3XUrkvae6e9IfrNYew6f6DZpIi8xCHtr3Q+xqLU9ne0aTbkOlUOoX21GkNQ2yQtxKmHcma+KlHxzlRmOlmuxYu03MzViemP37EYjV9Vdpdz6OdzZvpzovQ6suUuZMZajOks4zElzJeMXDJNuGZ4GHaua42lp73PKLaWnM+BXqm7aMOE83TZKFpp7MgmmXX5CiPCFGt5SSSrClLUfDgrEtUW/a7sz0lFi6q0x+6bDbh97026qbAclIcZ4pOPMZ8bBkkyLPIy7eJjP9NLK0DumwajbVjUWzptr1kidn0inMNE3J4ZI3WyLOSwWN4spxwwOW127lVyu9VGaapzmOH714LVfNFfo2MaN2xf2zM/oqxW0pgwqLHt6oP0p5t12ItLTZmRlxIl8CPBlyUJYs+j1Gg0VEOpVk62+2eEyTioj4QRERJ3U8Orn5xraln0OwqDGolt0eFQqRGLdZhQGEstILzJSREO9R6ghjmdZnq44fNPafkwX2o0nvSSts0tyOjJfRqMuCt0+B454MR9pDoy3pXUL0qC61IrlRuqq+i8595hDKUu9C21uoSjknDZHxyeTPiJMAIlIAAA0LkG6NR88iQ3EZceeWlpltJrWtZ4JKSLJmZ9REAhfa1vNVA0nk29AaKXcd3OFQKVDM+K3XvFUs/6KEmZmfudoiHaQtcrIqWyNb5Pd8ehl7QIZu7u7vmiMtJqx1ZwM00hI9ftbKlqy6wZWlRmV0a1TdSf8YPP4+Ykj6jPKUnjkR9g6zbTP/wAJ2zN740b6BY23o7KimxzjWfGeXlHvl0nSMLWFyGoAMTmAAAAAAAAAAAAAAAAAAAACve1xsiUra6p9n0qu16XRqRRKg5NkIgtJU/KJTe4TaVq4N9u9uq9zrKwgAIw0U2btOdnmi+h1i2xEoxqQSH5u70kuTjrceVlavczguoiES9zu9bLUX3xK99OkWpFVu53etlqL74le+nSA+/ujFHr9c2ONQ4duRn5k02I63WIxGpxcZMhtT+CLifiEozLsIxXfad2haZrPscpgabRqhE0/JdKpler8unvRmI0dTzaVRmd9JGvc3cuOJI0JSkk5M1lj0hMiUWDGiW0p5EHKY8DnlFMGi2HtBaSKoPofKqNiqU1GYS4l+GmQmOptbTrKyNCzbJaEmlacErc4ZLnIdvUBi26Y3BjPzZLSDMycnzHZTx5PPFx1SlH8JjtQEzrKI0jD4KrTG6zTn4Tzshlp5BoU5FfWw6RH+a4gyUk/ORkYx3T3S+3dLqdUoVuRHozVSnu1SYuTLelOPyncdI6pbq1KM1bpZ44GYgISAAAAAADYfqy9wxVfudnraake+LXvpki1B+rL3DFVu52etnqR74te+mSAtYAAAAAAAAAAAAAAAAMX1JpbdasC5YDueik06Q0rHVlsyGKbMNSeq2gVjyH8dIVNQyeOvcM0EfwkkhIlVglUqXKhqUaESGltGouON4sZ/eIH2YL8pdv2FTrErM6PBuKj1KVQ0RHF4cfW2pThKSnzoPJduBttUzc2WuKYzMVRPliWCuqKNqpmrTMTHvDu9XbEuiBe9I1Hsdhmp1yBGXAnUaQ4TZT4qjzhCz4JcSfEs8D/AHH1cnaPuSqx0QaDpRdKrheMkNs1Rgo8RlfWbj2cbpcfdFgAEU7RTNMU3aIqxw4x5TjitVs9UVTVar3c8eE/+kAacbKVqQ7Dgwr2t+k12vqedlSpiGj9W4s1bqVlhRpIjIuPYJntu3KbaVEiUikREQadDR0bEdvO6hPYWR3ADne2i7fnNyqZ593k6WdmtWIxbpxy7wBpkhp/lDNlpbgABI2CCNHCVZWuOp9mL4xJjrNyQfMl4t14vgWkhO4gi7d2Btd2K5HMkPT6BPYlbp8XG0GS0EZeZWeI27NG9Fy3POmfbX7MG0fDNuvpVHvonoAAYm8AAAAAAAAAAAAAAAAAAAAAAAAAAAAAAAAAAAAAAAAEUbT9pSL30CvikREJcmOU9TzCFflONGTqS8xmaMEYlcaHw4i1FU266blPGFqZxOUf6Q3u1fuj9s3HTUnK77pjbhNKX4xupRuqQaj5GS0mRmYh93azqU/SW39RIFuMvUSNUlwrvidMbkikoSrcNaCIi3sGZKPJcjL3S+KNWpOyJqBdMeZQqtO0srrpVSBJpEU5CaZMV/LMKSk8pQoyI08P+0xhmgmy7KurS2JdNPueq2FWq+cw57TCCdbmRHHV9Gh5hzxckkz49hj2rdjZ6aartz5ZmN2deE5zGnOPPExHJ2iIxMyunSqpErdOi1CA+3KhSm0vMPtHlLiFFlKiPsMhHusGiEHVhVKqLNXn2xc9IUpVOr1LMifj7xYWgyPgpCi5pP8AcK5bRNhXdoNsv0C07RrVVqtIjT3E1OdGQZSUsrNS220pb4pa3z3TwfZx4iWdn3VvU/UEqM1cump2zSfQ43Xqw7K3emc4dH0bCi3yIy4mSjyQy/h6rdH4mzcjGZjpOndPXpq57mm8lfTazZNhWbBokyvVC5pMfeNyp1Ne8+8alGfHsIs4IuoiGUkWOBEQjbaNrNct3Q+86rbMnvOuQqeuRHkFjKN0yNRlnhndJQybTy5EXlY1v11BmZVGnsSvGLB5WgjPPwjFMTNHbTzlSGLIuvUCRqsqlN2TGaspkyQuvyKmknnD6MlbzbBEfDePdwZlyyMdvuuX3qXEYqOjF6W83T4Ry2Z3fEcpKnpbZkSWSM+COJKIzPGMkfEfPqlq/dGjGoyalW6M7VdLZcRts51Jim9Kp0sjPJupI95SFFjiRcMDEKKquaIX3et5023KhcGm12d71aNGpEc3Z7UxxBb/AOIM0mhB+MpWS5mkhuot/Dv4jONOcT1jXm7YRjtJatp1h2ddM6m/GOn12DqXRKdWKernGmNPKJxJF+bniXmPzC+ZF448ydW7fvnWK77od0w00r8hhy4KHc0yjVtDVLxKiqWbhE46okfjEqSfAzPjndPAsce0TtLmfDZQPHvg0/7MZtptxaubtPOInwzy8nKYwtSN4qn6YnaX9qer/ODT/sw9MTtL+1PV/nBp/wBmMqq1I3GeBVT0xO0v7U8/84NP+yAtoraY9qcZ/wD1hU/7ISLVmeAM8CluoW2rrXpPSIdUu7ZqZolPlzmaaw+/qDBMlyHVbraODRmWePHkREZmZEMoXtFbS5ctk4z/APrCp/2QgWq3i7Q3i7RVX0xO0x7U4/8AOFT/ALMbfTFbTHtTv+sKn/ZALWbxdobxdoqn6YraY9qd/wBYVP8Asg9MVtMe1O/6wqf9kA5O6I+tppx74tB+mULUihmtUvaK2iIdmUCo7O52fT6bddLrUmqFecCbuNMPZWXRESDPgoz4GZ8OR5F8wAAAAAAAAAAAAABW69SRprtf2bcBEUWmXtTXaDNfV6lUtr8ZHIz6lKLxS7RYCr0mJXqVLps9hEqDLaUw+w4WUuIUWFJP3SMYbrhpTF1ksKVQHZSqdNS43Lp9QbLK4kltW824n9RkfmMxXlvTXXDWLUONUboqj+nEy1IHQ0+pUtaJEWfMNZ773Q5wba0EW8k+XLzD0aaKdpoprqrimaYxOfbHPu7sOnzMs0vQ5s561uaYuvSTsa5G1TLUN9ZuJhvoLMiGSj4kn8pJf3jKrP2fGbC1DlybcvOfTbVkrclybI3G3IilOJNKzTnxkIM+OCLn19Q6y39Bb9rGolsXNqPfkS5GbaU6/T4VNpiYZG84jcNbiiPxiIur/wDJw9qnqvUtFtr64JVJoBXDXq5FpMKHAPf6WRHPfN4mTLgSsoLifDgfAatyraaqotVZq3cz0mYnHOI5a5WxnguBY1gW9ptQU0e2KRGotMJxTve0ZJpTvqPKlHnJmZ+cfJVtSaXRtQqBZsgpHorWosiXGUlGWySzu75KPqPxuHDqHDpTqdT9WrUTW6fDqNNInVRn4VUjKYfYeT6tBkfPGeZGZCLtoVSrW1s0Su9vKWiqr9ClL5l0cpvdTw/STz6h5lNuqu5NFzjr6xDmsQXIajQuQ1GdVVTYr9cvab98WT9C2LToURZFHrPTr7oHqnrK7b2gx35Q7qut+twqp+FsGn/ilISlJdEslq/Jzx3T44wM39MJtLe1QV/nBp/2YC0r6OkaUneUjeIy3kHgy4cy84gF3ZPmNrVIp2sGoEKaR5bdcqaXkoPPWhScGXmGMemE2lvaoK/zg0/7MPTC7THtUT/zgU/7Mdbd2u1ncninOGUI0R1hpZmdO15lyVH/AIuqW/GdSfw5yQ4/Q/aWoJKS1VbEupBcEuyI70J3Hn3cpzx6uAxv0wu0x7VE/wDOBT/sw9MJtLe1QV/nBp/2Y7/iq5+ammf/AMx9sL78smVe+0dEwl7Te0pqvz4ldUhP6llkbv4RNobyUW584U/3CLLM22NbNQqvc9LtvZoZqc+2px02rMN6gQCOLIxncPLRZ6+KclkjLOSMZZ6YXaZ9qf8A9YVO+zDt7fO1T7/mje7mT/wibQ3kot35wp/uGZaX3VqhXKpKbvmzKTbVOQzvtSYNVKSpa8+pNOOBY45z1efhE3phdpn2p/8A1hU77MPTC7TPtT/+sKnfZilV2iqMRbpjwz+ZNUdFqskNckZljtFU/TCbTHtT/wDrBp32Y1TtDbTJGWdk/Je+FTvsxmVO52+tpqL74te+mSLWit2wvpxeWnOltxs31b/4L1ur3XUq0VM78Zl9E1IWlSS6RozSfWXUfDkWRZEENMENQAAAAAaZIagAAAAAAAAAAAAAAA0wQqrto+ufsy++LH+gcFqxWHbUsa/7kmaRXFp/aB3tULRututSaWVSYgb7SGVpx0rxkRZUZFwJR8eQCzJllODLJGeDI+shD127I+lN4PqlSLRiU+eZ7xTaSpUJ4jznOWzLj8Ajr0xG0v7U0/8AOFTvsw9MVtL+1NP/ADh077MdKLlduc0VTHhIyJGylWKMkitvWO+aOReKTUmUiY0SOpO6suouGcjnPTDXqnkTETWWlzWEepfn220Txl/S3VY+EYt6YjaX9qar/OFTvsxoe0TtLZ47Jqv84dO+zHedsuzxxPjTTP2WzLI2om03AQTCZ+n1TS34pSn2ZLS3f6Skp4EfmIFztpqCXSqpmn1VJJkZxmJMlhaizxwpRGRfCIoTt36rtagR7Nl7PCG688Rn3nCvaPPcbxz3yjsLJv8AyzSOe+9uvU6wK5btGqegCmKpX5iYFNjybtaj98Pq9ShK1xyQRn51FzLtIa8Xtzfqs0448Ij2zl2zOPlhKLmuOr1qYcunRWTNhHzeteptTHGy87R4M/1kBbaVp09xTVetq8bck8DQzPobuXE/nFuZ/eMZLaH2ly5bJqy/+sOnfUGvpiNpn2pyv84VO+oMna2KvmtekzH1y571POGRPbatqT8Rrbty7bnq7meip8OjOoUrhzNSyIiLz+cdW/YOrO0Phm+Vt6dWK+pZu0ClSOkqcpvJbrUh4i3SSfHJJ6uB+b4PTD7TPtTVf5wqd9Qa+mK2mvamq/zhU76gv+Jot62aMT1nWfLSI9jfx8sLMW5btOtGhQaNSIjcCmQWksxozJYS2guREKz7anrm7M3vixvoHA9MTtNe1NP/ADg076gwW8P4ftfdU9G3bi0FVYVFtS62K3Nqh3bBqBdElKkqLo0bquG9nhvHw5DFOc5lyyvOAAISAAAAAAAAAAAAAAAAAAAAAAAAqt3O71stRffEr306RakUL0WmbRuztEvK3qXs7HeNOqN1VOtRqod6QIO+1IeyguiUSzLxUkfE8+NxIsAL6AKpemH2m/aml/nDp32YemH2m/aml/nDp32YC1oCqXph9pv2ppf5w6d9mHph9pv2ppf5w6d9mAtaAql6Yfab9qaX+cOnfZjE9OttrW7Vqm1KfaOzUxW4lOqD1LlOM6gwE9FJaPDiDJTZHwyWDLgZGRkZlxAXZAVT9MPtN+1P/wCsOnfUD0w+037U/wD6w6d9QBawBVP0w+037U//AKw6d9QPTD7TftT/APrDp31AFqz5kKqdzq9bPUj3xa99MkC2htpvJGeycXwah077Md1sKadXjpzpVcrV9W8drVysXXUq0VMOYzK6JqQpCkl0jSjSrrLqPhyIBZIAAAAAAAAAAAAAAAAddVqvDoNNkVCoSmYUKMg3HpD6yQhtJdZmfIhGVLtvSe5rxhalwnKVKrLrWWKiiTupVwNPSbmSI14yW8ZZwJLrVEg3JSpVMqcVqdT5TZtPx3iyhxJ9RkIx9KXpH/wIgf8A2jv1xqsVWqKZ3qqqZnTTpzzrDHfpuVTG5TTMd/X0lkdf1v0+tZBnVLzo0My5pVMQpXxSMzGEy9sDT9bnQURdXuqUfBLFFpb7pmf6RpIvhyM0oehWnttbp02zKNGWn8vvNC1/GURmM2jxWYjRNx2m2W0lgkNpJJF8BDpnZY03ap84j7T9VcbVV/FTHlM/eEJI1q1KuElHQtGqg2x+S/XKozEyXabeDP8AeIde2mtX6rCOqx6dbtEtn0YRRVVZaHJLTbpng1lxI1NkfA14xk/1TrtIXtNoVoxbat9ZfhZdb5UqnJSrCmiV/KvduEIzx6jMhhO0lZMWxNlmPaFKcUxBakQIBuJLClkb6d5Z+c1eMfnHqbLVYq3N6zTE1ziOM6c51n083l7VF749y7V8EZnhx5RpEefkyVGmGsdTL+P6vsQSPmim2+z+5SlZIbfS31uon/utq9ekv+hHfbjIz5iSk/7R92z/AKi1Cox59k3Y8RXtbTne8nPA5scv5OUgutKixky6/dEzpHn3r9+zXNE4jwpp16TGjdZsWL1MV6z41T6cUFelXLymX38q/wDdG5WyRbU3jVLlvCsn1lLrju7nt3SwQnUBy/G7Ryrw7/gtn50ZQR6TbT/86u/LL/1hlWnWgFn6XVZ+q0WLKcqTrPe/fU+Y5IWhvOTSk1me6RmRZx2CTQFatr2iumaaq5mJXp2WxRMVU0RE+AAAMjUAAAAAAAAAAAAAAAAAAAAAAAAAAAAAAAAAAAAAAAAAAANDLI1AAAacewagA6+s0mNXqTOpkxsnokxhcd5tXJSFJNKi/UYqHoFtO2fotppT7FvmpSIddt6dLpTyURnHuiabePcccNJYQjCiIs/mi5IqNqJs3agTb61DYtVdATQ9QSQdSrdRbNUintJTuqjttfl7x+NvZLq5GRGPR2ObNcVW784icTHLWP0mZ78L0cJhbCHPjzmycjvNvIMkrJSFEZYUWUn8JGR/CPpFMJOyrq9Yx1Glae3pT4tDl1CPUjnTXXmqgs2myQllxSckbfilwLAs9pexd8ezoyb6k02ZcinHVPOUlCkRySaz3CLPE8JwWfMOd6zbtxvW7kVR7pmmI4SzPBDUAGJzAAAAAGxRbxYzjzl1APFbuuW0b/CRrNE07pMgl0KzSUmT0Z+K7UVkXSe70ad1BdhmsegXc5NpJO0Vs7Us6hJJ667aJFJqxKPK3N1P4l8/+UQXE/zkrFa9t7YB0l0u07bvOkxay7XKhc0BibKm1Jb3SokySJ4zI/yj3j49pi4+gWxjpls0V6o1ew4NSp0qoxyjSUSKi6+24klbyTNCzMt4jzg+Zbyu0wE7gAAAAAAAAAAAAAAAAAAAAAAA0wQ1ABpgh0cqzqJULgiVyTSYb9ZiJNEee6wk32kmXEkrxkuZ/rMd6Aa8ht90Q/tT2DOvvR+plRGHHbmpDjVVpBs56QpLKyWRI7TNJKLHXnAmIaHzIXorm3XFcchBukeol6xDtGg6gU+bNr1xxH6h37EpZsRqdu7h97PnvcHCyfUQnMbBvCucznGEyAACiAAAAEM7XGvUTZu0Gua9nTQqoMM97Uthf+OmueKynHWRHlZ/0UKEzCH9ofZcsbahplGp19N1GTApLzkhiPBmqjoU4tJJ3l7vqjIiMi7N5XaA8b+527UcjRLaZZmXBUFLoN4u94VyQ+vk64s1NSVH2pdVxP8ANcWPe3o/OPL3Z27npoxqFqxrpbtco9SkwrRuBmn0tCKm62pthbO/hRpMt4854mPTC3aGxbNBp1IiuPuxoMduM05JdNx1SEJJKTUs+KjwRZM+JgO1AAAAAAAAAAAAAAAAAAAAAAAAAAAAAAAAAAAAAAABofIQntQ6g1m1bSpVuWnJONed2VBuk0txBEa2SMyN58s/mIyeeozITYfIV51ELpdsLSJtwzWhukVdxCT5JXuEW8RduOA1bLTE3YmqM4iZ9IyvRxSFo7ovbmitsIpFDjkt5WVTKm8ku+pzhmZm46suJnkz9weOHdBdpiFfm1NXTodPiyqVb5tUxuWRmhx6THUe++laTyRkszSky6kEfWPcOpQyqVOkxFOOsk+0to3WF7jiN5JlvJPqUWeBjzH2pu57aOaVVnR1qh02qk3c97Q6LUyk1Nxw3YzqVmsiM/UqykvGLiKU7TXFybu9rPHnn1VzKbtj/bql6qWxa7d6U7oWqrJXSYtysrI23ZzaSPveQgv5J1STSaT5KyR4Lji7ArHRO5/6W2Fp1d9rWhGqNKZuBDKzXInuSEsSmd42JCCWZ7q0mo+JYyR47BIey9qJUdTtF6FVa0RejbHS0+esuTjzCzbU4X6W6SvdMx0u7lyjtqIxriY5ZnWMeOvonllLgAAyKgAAAAAAAAAAAAAAAAAAAAAAAAAAAAAAAAAAAAAAAKz90E2iS2dNnWtVOFINq56yR0mjEk/GS84k990v+TQSlZ7d0usebHcotpU9JtdXLLrUs0W7e6kRukdX4rM9OegWZn+fvG2faakZ5D1M2h9jvTvahqNFl36zVJhUhpxqIxDnqjtI3zI1q3U81HupLPYkhS7Y52ANHtUYGoc2u0uqOTLdvqp0anvR6q6ypuPHWnos7pllRZ9VzMB6hkeRqPnjM97MNtb63NxJJ33DypWC5mfWY+gAAAAAAAAAAAAAAAAAAAAAAAAAAAAAABhsnTSkTNSIl7P9M7WIkFVPYSpeWmkKVlSkp6lnyz2DBtr6H3xoDcj5fysFUeY2fYpD7Z/2ZE1YIRztCW+dy6J3tTyM99ylvLQZcyUhO+n96Rs2W7MbRaqq5THpli2i1EWLkUxxifXDp9SdKW9UqfRbmok78Hb0gIQ/TawhG8ZEoiPonS/LbPPEur9ZHmWnSbwTb5Fep0pVZJxXjUYlkypHUZkvjvc/NyHyaO1z8J9KLQq5+ql0uM6rj19GWf3jNi5GKXa64ibNXCmZ8Y7vBazbozF2njMR5/q3AADM1gAAAAAAAAAAAAAAAAAAAAAAAAAAAAAAAAAAAAAAAAAAAAAAAAAAAAAAAADTBDUAAAAAAbFLJBZUZEXaY298M+yo+MQDlAcXfDPsqPjEHfDPsqPjEA5QHF3wz7Kj4xB3wz7Kj4xAKrd0tPc2bozh+pbuijKP3O+0C1wqZ3TR9v0rUhxLict1+kLLB5/+GNi1puY/LSA5gHF3w17Kj4xB3w17Kj4xAOUBxd8Neyo+MQd8Neyo+MQDlAcPfLfsiPjEOYAAAAAAAAAAAAAAAAAAAAAAAAAAAABxG+2kzI3EkZdRqIO+GvZUfGIBygOLvhr2VHxiDvhr2VHxiAcoDi74a9lR8Yg74a9lR8YgFU9kVW5tJbVTXZdEFeP0op/3C2IqbsoKS1tSbVje8R/7v0pefMqGoxa7pkfnkA5AHF07XsiPjEHfDXsqPjEA5QHF3w17Kj4xB3w17Kj4xAOUBsQ4led1RKx2HkbwAAAAAAAAAAAAAAAAAAAAAAAAABsUtKCyoySXaZgN4Di74a9lR8Yg74a9lR8YgHIfIVy2iFvafau6W6kuIRIo0OS5QJyD8VTJTMJQ8R8jIlFxLh7vEWJ74a9lR8Yhiuo9iUTVKzalbFdSl6mT2ujc3VES0KIyNK0H1KSZEZGO9iuLdyKquHCfCdJXonEsqxgiFTtvs+jk7Prv5mplK49mScHZMahXtswux6dqA4q9dOd5LEa8Yqf43T0meEJmNFneSWSLpC/efARntqa3WJflvaP1O3LngVhqkagUyoTExlmbjEZvpOldU3jeJKS8w7Tst2MTRG9E8JjWP33Tqbsr3HzFfdh/xtC0rLihys1FSFdSk98rwZdpDGLq1Yr21DGXZ+mESoUa1ppG3Vr2qLK4qUsZ8ZuIlWFOLWRGW91EZ8uYsNY1pUbT21KZblDZRDpNOZJhhklZwRdZn1mZmZmfWZmJrpmxZm1X81UxOOmM8fHPBMxinEslAcXfCPZEfrDvhHsiP1jC5uUBxd8N+yI+MHfDZmRdIjJ8vGIBygAAAAAAAAAAAAAAAAAAAAAAAAAAADjN5tJ4NaSMuozAcgDi74a9lR8Yg74a9lR8YgHKA4u+GvZUfGIO+GvZUfGIBydYqV3PrxYuubfUjU2scOzJoFse+GvZUfGIVL2BXW25u0A0Sy3UanVTHwpbAW5AcXfDXsqPjEHfDXsqPjEA5QHF3w17Kj4xB3w17Kj4xAOUBxd8Neyo+MQ3IcSvO6ZKIusjyA3gAAAAAAAAAAAAAAAAA+SZMZp8Z2TIdQxHaQa3HXFElKEkWTMzPkREOkh6hWzU4KJkS4KY9FVkyfRLbNBkR4PjkTuzOsQrNVMTiZZLkhqI5rGv+nFvKNE+9qKysuaCmJWr4CTkzHT+mw0k/wCHMD4rn1Rpp2TaK4zTbq9JcZ2mxTOJrj1hLY+Sp09qq06XCfLLElpTLhFzNKiMj/cYi/02Wkv/AA4p/wAVz6oemy0l/wCHFP8AiufVFvwe0/y6vSVPxezfzI9YdZsk1F5Gmcm2JRkuValTk0VThcnEtrM0H8VRF8Am8jwKt0rWTQq1tSq1eVLumV6J1dlLUmFEiSVRnVkZZd3Cax0h4LKs9vaYzD04lgH/ACbdekKP1KWqLIM1e54o17Tsm03btVym1VrrwnjPFi2barNu1Fuu5T8OnHly9k6Y84YIQUnaXqlYTm29Kbxq6epyTGTCR+tw8/uGv8Omoi+CNEK3vn6kl1SOks+c8cBk/BX+eI8aqY+stP4yxyzPhTVP2TpggwQg1eoutsvxo2lFMiI/Ml3C0pf/AN1OBwfwu6t0damano6ua84WWnKVWmVNF5lmouB5/cLfgrv+an+qn8z8Za6T/TV+SewFc5mtmounVTptU1JtWm0i0J73eq36XJVJdpyzxuLfUXimhRnjhy/tsM2snEEtJkpJlklEeSMhwvWa7OJq4Tzicx6w7WtoovZ3cxMcpjEuYAAcGkAAAAAAAAAAAAAAAAAAG01EksmeC7TAbgHE3Iafz0biHMc91RHgcoAA4TktJc6M3UEv8zeLP6hzAAAAAAAAAAAAAAAAAAAAAAAAAAAAqt3UAjPYe1Gwo08ady/rGMONvuYuzYaEq/g8X4xEo/8Ad2o8/wBoHL3T/wDmO6je7Tv9oxhaGN/Io/RIBWDwYmzZ5PF/LtR+8B4MTZs8ni/l2o/eBaYaGeAFWPBhbNh/+b1fy5UfvAeDC2a/J6v5dqP3gTXq5qdH0st2PPXAdqsyZLagwqewskKkPrPCUEo+CeBGeT7BiVnXbq7dN2wXqpZVNtO0jSs30S55SJ2MHjBI4EeccMfCNNOz11UdppEd8xHpHGfJnqv0U17msz3QwBXcwNmleM6dKP8A+naj94GngvNmfydK+Xaj94E6amajsaZUCPUHqTVKyqRJTFai0qMbzqlqyZcOouB8TEdemwpkF+IVYsu7aBCffbj9/VGnbjLalnup3j3uWTILezXr1O9bpzCtzabNqrdrqwxDwXmzP5OlfLtR+8B4LzZo8nKvl2o/eBaoRpK1jgL1XiWHTYT1WnkyqRUpMdaeipyceKTmealfmlxHKi3XczuRnEZ8nequmjG9PHREHgvNmjycq+Xaj94DwXmzR5OVfLtR+8CwOoN3/gDZdXuE6fIqiadHVIVEiY6Rwi54z2Fx9wjHNZl50m/LbhVyjS25lPltktDjaiVjJcUqxyUXIy6hXdr3YrxpwN+ne3M6vPvbt2EtENE9li87ys2yzpFx004RRZnorNf6PpJrDa/EceUk8oWouJHzHpFG/wAHa/RL+wVa7qF/Me1G/Spv+0YwtLG/wdr9Ev7BVdygAAAAAAAAAAAAAAAAAAAAAAAAADzy0a2RNKNojWbaLq+oFrqr9Rg33JiR3/RGVG6Nro0L3cMuoI+Kj4mRmJf8GHs2eTxfy5UPtxybF/rl7TXviSPoGhaIBVnwYezZ5PF/LlQ+3DwYezZ5PF/LlQ+3FpyTkRJqfrZUbDvej2tS7Om3TUanFclNlEkttYJCsKI94uosHnhzHW1arvV7luMz4xHDxcbt2izTvV8EZ+DD2bPJ4v5cqH2418GHs1+T1fy5UftxnFM1W1QqlyUppWkztNoUqQTL8mTU2lPMo/KcNKeRccl24GTana303SipQ2atRK5IpzzfSPVaDCU9FjFvbuHFJ4kfXjHIdfwt2K4oiImZ6TE/RxjarU0zXmYiOsTH1hEngvtmrydH8t1D7wHgvtmrydH8t1D7wLBWTqDbuo9JOo23V41Whke6pcdWTQfYpJ4NJ+YyGOaqa10jS04sFbL9buWocKfQYBb0iUecZ5YSn+kfn54HKmzcqudlFPxdHWq9bpt9pM6Ig8F9s1eTo/luofeA8F9s1eTo/luofeBZSnVY5UGCuYx6HTZLRL7ydcSa0KwRqRwPCjTnjgc1VqsSh09+dPksw4bCTW6/IWSG209ZqUfAiHPE5w670YyrL4L7Zq8nR/LdQ+8B4L3Zp8nSvgrlR+8CxtuXnQrwYU9Q6vCqrSTwaoT6XSL3cHwHehVE0ziYKaoqjMKc9z6smjac3BtBWxbsQ6fRKTfbsSJF6ZbvRNJjtklO8szUfumZn5xcNvrFWNjD1z9pr3xH/oGxadvrELN4AAAAAAAAAAAAAAAAAAAAAAAKi90uo0S4dF7MpFQaN+n1C+qNEktb6k77S3FpWnKTIyyRnxI8i3Qqn3RX1sNO/fEoP0ygG7wX2zRk/wDwcq9z0cqP3ga+C+2aPJyr5cqP3gWpABVQu5fbNGfW5V8uVH7wNfBgbNPk5P5cqP3gWqFbdoY9TJFNuqfHnooNk0aEcpLdIfL0RqmEka0m4afxKS8YuBGfDz8NOz2e3rijeiPFnv3vw9ua92Z8P3wYNN7n/sjU2uMUaTa8GNWHlEhuCu5pyXlqPkRI75zkxlbfc29ntqMcdNkSiYPgbf4QVLB//iBnukejWnNJtmh1+jW3FORIYant1CfmRKJSkkreU6vjvFnmWOPUQz69qfXqtbMuNbNVYotYWRdBOkx++EI4lnxMlnJZLPV2C9cxRXuWqpiOs6e0ZLVdc0zVVEd2P3CvfgxNmvydufL1S+8DcXcwtmvydufL1S+8D5dT7UvjRWiwL2PVCs1+pNVKLFchy2UIhusuuEhSDaLryed7n1ecWfrVYhW/SpdTqMhESDDaU+++4fitoSWVKP3CFb2zxbimqmreicxpnjGOvira2jtKqqa6d2Yxxxwnw8FafBhbNnk8c+Xql94GngxNmvydufL1S+8CU9HNR7l1Ph1G4pVBZotsSCSdES+6ZypKSNRG451ISrBbpYzx6+Z4G5rXqK7fjFg1C14Vv3FVojj0GdCllUEwySR4efb4fizMscyP3eQtGyXZrqo0zTx1jz8cc8KztduKYq1xPDT98eTqPBibNfk7c+Xql94EN6y7JGlOzzrTs6VWwLYXQajPvuPFkPHUpUnfaJta93dedWRcSLiREYsTJ1D1Z0oSuTeNuQ71oDSfxlTtr8XJYIj4rcjq9VwMvU4IsGI/2n7vpN9XXss1yhzETqbL1AjqbdR/yDhGRl1GR8DI+Rjlcs1W4zmJjrE5/fm6W79N3TWJjlOkriAADg0AAAAAAAAAAAAAAAAAAAAAAAAPPLRjZG0p2i9Zdoyr6hWudwVGDfkmJGe9EZcbo2ujQrdwy6gj4qPiZGY9DRVTYq4am7TZf+sWSf8A/hbAa+C+2afJ2r5dqP3gPBf7NXk7V8u1H7wLVAAqr4L7Zq8navlyo/eA8F9s1eTtXy5UfvAsNct925ZiU+jlcgUneLeSmZJS2ai6zIjPJiKp+13arxPM2zSLgvCaWeiapdMd6N3HWTiiIt3+kNFvZ713W3RMx++bNXtNm1OK6oiWHeC+2afJ2r5dqP3gaeC+2aC5acqL/wCnal94FoosjvqO04ba2VLQlRtrLikzLOD85CMl7T2lrdWOnLvSnNyyeNg0OGtJEsjwZbxpxz684HOi3cufJTM+DrXdt28b9URnqivwX2zT5O1fLtR+8B4L7Zq8navlyo/eBaVtxLqErQolJUWSUk8kZdpDFHNS6A3qCzZJSlO3E7EVN72baUokNF1rWRbqTPqIzLIrFNVXyxnH0WqqinGZ4oF8F/s1eTtXy7UfvAeC+2avJ2r5cqP3gWZpdUh1iN3zBlMzGN5SOlYWS07yT3VFkuGSMjI/OQwS89fbKsC526DcVSdpcpbaXCkPxXe9yJWd0jdJO6R8O0TTbrrq3aIzPurVcoojeqnEIh8GBs0+Ttfy5UfvA6Lue1m0fTuu7QdsW9D9D6JSb9fiQ4nSrc6JpLDZJTvLM1H7pmZi29Jq8Ku09idTpbM2G+nfafYWS0LLtIy5ismxT65e03740r6FsU7pdNJ1hasAAAAAAAAAAAAAAAAddVqZErVNkwJzCJUKU2pl5lwvFWhRYNJ+YyEIU/QbQudd9TtuNaVOXWaWyzJlRzJ78WhzO4eTVg+R8POQn0QTSTOg7YddZX47detqPLbM/wAhbDhtmXwkov3jbstdyIr3K5p0zpOM4x9ssW000ZomqmJ1xrGf3qkKjaNWJbyCKnWdRomORogt5L4TLI778D6F/wCh4H7Mj+4dv4vYHi9gyzcrqnNVUz5tEWqKdIpj0dN+CNC/9DQP2ZH9w1/A+hf+hoH7Mj+4dzghXi4bk1JuzW65rUtS5abb9Po0CJI/jdNKSpxTpHniZ5LiO9m1VfmfjxERmZmZ6xHLPVxvVUWsfBmZnGmE+xYceIgksR245fmtpIi/cPp3hDdp6X6k0u56ZV65qm7WGULUc2lopTTUd1BpMiSjB5TxwefMM3unUKl2lcVsUecl45VwSHI0U2kZSSkN75ms88Cxw+EUqtYq3aKt/wAM/eE0Xfh3q6dzxx9mW7wbwhGoXprY3UJbcLTiiPREOqS06quJI1oI/FMy3eGSwePOMi0f1Xf1GRWqfVaI7b1x0GQmLUYDjhOoStRGpKkLL1STIs5FqtluU25uaTEdJifomnaaKq9zExPfEwk3BBghqAzNLDdWbci3bpnc9ImERsS6e8hRmWd090zSrHaRkR/AMf2a61JuHQmy50xXSSVU9CFr/O3DNBHx68JIZzeH+9Os/wDMnv8AQMRvsnfzebI/5or6RY3U/wCEq7qo94n8mCYxtdM9aZ9pj80wFyGoAMLeAAAAAAAAAAAAAAAMevG8aJp/bU+4LiqcejUWA2bsmdMcJDbSfOfu4IiLiZngg4DvhCO2z/NH1c4mX/ubmcv+TMY25t76bQKO3cFYpt40CzZH+CXZVbblM0yUZkZoJDm6avHwe7vISRjn2nbxg6g7CuoNzUxEhFOq9oPzYyZTXRu9G4zvJ3k9R4MuArMaSUfNDKNG6NFsXZ9tqpWraUSTVpFvwJC4VMbYhrqD/eyMb7h4TnKjPeWZ4yfMRxohrHqlcm1tftg36qhRKfSKBEqMOmUElONsqeWXq33EpW4skngzIkp7EicNEFpb0U0/NSiSX4P0/mf/APLNitul9yUp/ulerbTVUhPOfglTWibRISZ76DQa08+aSURmXVkh043Z83L+CPJ3e33adETZVn10qPAKtKvmgNKqRRW++VI77SW70uN7GOGM9QtXLlsQYzj8h1DDDaTU466okoQkuZmZ8CIVp7oBx0psz/p7QP8AW0jTbB2WLl1/m27VqNcsVyPRcm7ZNwdOdEq6t7eI3+gcQolFyIzJRcC4FxzWOHn9oden75y+66Nt61pNckW3pZRKtrPdLStxyLaqCODGV1dPOX+JbLgfI1e4OPXjX69NH9A7eqc6h0qFqlc9RiUKDS0vKkQYs6Q4ZJNS+BuJbRkzxjJljkOgtHaipWgNNgWpqnpdJ0Thx8Mx6nSIpTLbWfAiNEhhH4rJmXiuIIyzxPrHTbfkiPdGj+muplvPouC2rUu2m3JLlUw++EKgJMyW+k0Z3kp3iMzLOCz2GI5xnhmPqfr9Ha1u/tTNm3WvS2i3lfP8JFoX3Lcozz8qkxoMimVDdJTS2e90pJTSzPdNK95SSIz3jGdanbQF56M3vP8AR/S6rV7Tg+jVFue01lOkRyNCek76hcHEkS97C0bxYxwzkRLtD3hbu0frXs82xYVbgXWqBcJXXUpNHkJkIhQmG8kp1aDMmzcNW6lKsGZicNXNq/TzRutFQalUZFbvJ1CTYtS34y59UeyRmn8S2XiEZHnKzSWBMfKTxwyvSjXOxNb6MqpWPdFPuFhBF0zcZ3D0c+x1pREts/MpJDPhQa8NnLUDapvKBdpWPR9ncmH0vouVl43LskJI/wAooykNN7xcDS6pZlkXvhsnGitNLcU8ttCUKdXjeWZFjJ46zAfUADiN5sjxvpz7pAOUBxdOj89PxiDp0fnp+MQDlAcXTo/PT8Yg6dH56fjEA5QHF06Pz0/GIOnR+en4xAOUB51Xh3VFWie0zfent+256I2pTKocaHV6Nwlxm9xJ4caUe66RGZ8SNJ+ZQulo/rzYWvNvlWLEuaFcETBdK2wo0vxzPkTrSsLbP9Iiz1ZAQ13T/wDmO6je7Tv9oxhaGN/Io/RIVe7p/wDzHdRvdp3+0YwtDG/kUfokA5xoZZGBasasUzSi32J0xh6ozZj6YlPpkTByJj6jwSEEfu8T6hgMDaIq1s1uFB1PtBViRajvHCqvfqJUUjIs9G8pJfi1Y7eGRqt7Leu079FOY958I4z5MtzabVqrcrnX2jxnk+zbCpy5OhtWmtoJZ0p+NUTSfM0tvINWD6jxniJgpFQbrNKizmuLMplDyOOfFUklF/aMLp90WVrtaVYplKrMWu0yUyuJLTFc8ZCVFjiR4MvMeBGdu07XXTqjMWnTKXb9ywYSCj0+vTZimFJYLggnmsZNSS4eL5ufMd4tzdsxZqmKaqZmcTppMR16Y8ddGea4t3ZvUxvU1REaa8M/m7vTerS6RtE6nW1MlOPpmsw6xCJxavFb3OjWSEnkiIlY4l5uA27Yx9Fos9IUSjajVSC+6rBmSEJfTlR+YZRA0tVVLrtq96/IOHeMCEqHMRSHlJhyUHk9xSVcTSRnkvOMI1I0J1EvOLcTLGpCH6dVFOoRQ59MQcVEdXqUb5HvkpPDCi7B3s12Z2m3dmqI3d3PHjGmmInxcLlu7Ts9dqKZnOccOfXOOqUdT3q+/prXV2YtB3EuEpVPUeMGvHAyzwzjOM9eBCWgWp1g6cQmbWqsaqWZdcxaXpjlzsKbeqclWd5zpuKVeMZkRGZebrE36U27VrS04t2i12W3UKrAiIjvyGzPdWaeBYzz4YLI+y+7Fo+ottTaFXIqJUGU2aFEZFvIMy9Ugz9SouZGM1F21RTVYrjNMzxicT+sdzRXauXJpv0TiqI4TGn6I4hXXUaTtQ1W3qtLkHRq5RWX6NGUe8xvs73TkRciUecn2kRDB9etJtONNKLNuSA5VLWuSa4ZU6Pbs1xlcqYfJKGSM08TMt7BYIhPUPTqhMt22p+EmfMt5roqdNlHvvtZQSFHvdpkXEYcrTSp1naEXeNa73fodKpqI1EaIyNTbyzy84pPUosERH2H5h1s36aa4riqaYiNcab2OEeemfOXK7YqqtzRNO9Mzpzxnj6cvJX/AG4WrkY7mrcyLudN65Cj0vv1ajLe3/RGNwVjhvEWM+cXUi/yKP0S/sIVe7qF/Me1G/Spv+0YwtFGcSTDfEvUl1+Yh51VW9VNWMZnk9SincpinOcPoAcXfDXsqPjEHfDXsqPjEKLOUBxd8Neyo+MQd8Neyo+MQDlAcXfDXsqPjEHfDXsqPjEA5QHF3w17Kj4xB3w17Kj4xAOUBxd8Neyo+MQd8Neyo+MQDlAcXfDXsqPjEHfDXsqPjEA5QHF3w17Kj4xB3w17Kj4xAOUBXDbt2ha/s06Gt3vbDMCbOYrESM5GnoNbTrKzVvp8UyNJnu8FEfAR9s4d1J0o1vOLS7gf/g7uh3Ce9Ku8Rw3lf8XKwSfgWSD7MgMn2LfXO2mvfEkfQNi05EWC4CquxU4l7UnaYUhRKSrUOQojSeSMjYbwZGLVlyACLAghzDu2UyS0kvobSV0Z44py/wAcdmRPAiLV3S2r12uUu8rMqjdIvSktqYbOQnejTmFGWWHi6k5yZKLiRn7mNey1UxXNNU43omM9MsO10VVU01UxndmJx4JMrTj7VImLiJ35aGHFMpLrWST3S/XgR7s4XjOv7Rq3qvVpZz6u4hxqa4pBIPpUOKSpKkkRERljqIY9TtVdWJE6HS5Okve8s3kolTjq7Rwib/KWlWN4+HIu3gOx0b01ufS2v3FTFzYE2x5Ep2dTEJJRS463V7ym1cMGkuPHOf14HabUW7NVNyY3sxMaxPDMTGmesKxdm7dpqoicaxOkx0mOPgw7WW0KXpjqZp5eluQ2qTUahXUUypIi5aRNaeSZeOlJ7pmWM5xxPGeQ4qfd1HsHaivKVfk1mkS6lCiMW9NlHuR1xSI+kbSo+BL38ZyY7qRsowKld0G5p93V6bVmKsVTcN90jZd3VbyGia9SgklwI09WRMF1WbRL1o7tMrtLjVWC6k0qakoJRER88HzI/OXEaatos00U25mavhmJnhMa5jGeP3jTRkp2W7NdVcRFOuYjjE6Y8mM6k6R2vrDToT9VJffMMukgVeBINt6PnBmttaTxx3S55IRXo/PkVTUq67CO43NS7DjU9C3ptUSh/vd9SsHGU6RYdIyyeOOMeYTNb+l1vW1YS7NgxnkUBTLrBx3H1rUSHM7xEsz3i9UfI+Aja29kmjWfKa9AruuukQWnyfTT4tQJDOSPODIk8S6uPHA52r1uLVdquucfw6e/WJ8Ha9auTcouUUR36+3SXaXHsqWNU5PohQo0iy64k95FTt5447hHy4p4pMuHLA6rZ1vK5avdF627Uq+m8aLQHmo0W4DjJZW68ZGbjR7vBe7wLeHf69al1G1abTratmN6IXlcri4VOZMzJDBY/GSFmRHhLZGR/CXYYybSDTuPpVp1RrZYdKQcJr8dIJG6bzpmalrP3TM/gwKzdrnZp7ed6avlzrMY4z17vXoim1RG0/2MYiPmxwnpGOHeg7Yt9c7aa98SR9A2LUiqexeskam7TZqMiL+ESRzPH+IbFp+nR+en4xDy3rOUBxd8Neyo+MQd8Neyo+MQDlAcXfDXsqPjEHfDXsqPjEA5QHF3w17Kj4xB3w17Kj4xAOUBxd8Neyo+MQd8Neyo+MQDlAcXfDXsqPjEHfDXsqPjEA5QHF3w17Kj4xB3w17Kj4xAOUBxd8Neyo+MQdO2ZkRLQZn/AEgHKKp90V9bDTv3xKD9MoV9s/uu0ezdV7ss7VO380qm1yZAi16hpM1oZbfcQjpo5me9gkpypCs/0TEpbY2rlm6zaIab1yybigXJSz1EoJG9Bd3jbM3l4StB4UhXD1KiIwF2+sajTrHG46hhtS1qJKEkalKUeCIi5mZgOUdFeFtsXhalWoclam2KjEcirWjmklpNOS9zI1t276HdzDztEq8KrNsr6N1cJ9LpIV2GaT4DvBbWirpMKfDcp6xKslhvXlPsqq6OVy2psGVDpcims3S2kkwXWtzdYWR9alEZZIuWPdxmmhEq/wCkwIdq3baMekQ6LTmo7dWYqCZCZak4SkkpxkuBGZ5PhwEyDdyIaru1xciqNyNdefHnMePTgx29km3VTVvzppy4coVN2u9bbUnW9Os5qXIOs0+qwVyf4qvoW911CzI3Mbud0+0TNr3bs2/9EbnpFCQmXOqEH+LISoiJ7xkrwRnw8Yix8IzGVaNDmM1FD9JhPN1EyVNS5HSopJkRERuZLxsERc+wdu22lpCUpSlKUlgiSWCIuwiFp2mimm1FqmYmmc6znM6d0dERs1VU3JuT88Y06a/mgGy9pSC+xTaG1ZlzMTKdAW5VGnYBt94IZaz1+rNRkRJJPE8kMBpWoVXqu0NR7vtmx7obiV2O1S6wir042m22iMjbfbc47pFzUR4I8ecW+Gx7fNpXR46TB7u8fDPVnA607VatzVNFrjExxnn+9PCFJ2W7Xu71zhOeHRgWs2p7GlNplP70cqVTmPpg02nseqkyV53EeYuGTMVO1L07l6YN7KFFqZoOrHqIiVN6NWUE8626tSU44YLJFw4cBYazdFKzUrvYvTUistXBXYajOm0yGk0U6mkfJTaD4qXj8pX/AGEYwHbO9c7ZnP8A9YrH0Dg43KqLdvsaJzzmfpEeGZ9Xa1TVXc7auMcoj6zPitYA4u+GvZUfGIO+GvZUfGIYm1ygOLvhr2VHxiDvhr2VHxiAcoDi74a9lR8Yg74a9lR8YgHKA4u+GvZUfGIO+GvZUfGIBygOLvhr2VHxiDvhr2VHxiAcoDi74a9lR8Yg74a9lR8YgHKA4u+GvZUfGIO+GvZUfGIBygOLvhr2VHxiFTtvza5uDZJoVh3BQqbT63EqVTdiVCnzTUk3Wia3i3HEn4iiPrwovMAtsKp7FvrnbTfviP8A0LY59nLuiuke0T3tT2Kr+Cd0u4L0Drq0tKcV2Mu+od5ciMlf0RwbFvrnbTfviP8A0LYC1gAPm77Z6cmDdQT6k76WzUW8ae3HYAw+vaNWRdNyfhBWLap9TrBtJZOVLa6Q9wuRYPh8OBHGglXdsO8bq0vrC3G5saY7VKL0qy3X4DqjUSW/0D3sp6uPYJ94dowfUjR21tVkQTuCCt56Cs3I0qO8th5oz5kS0GR4PrIbbV/NM2r1U7s+eMcMMd2z8UXLURvR754vksjVJm7L4va23IqITluymI6VKeI1SEuN729u4LHHJdeR8WvVq0V/R+9XXqRCccKlyHN82E728SDUSs4zkjIjz5h9de0Gsu5r0pd1zqUZ1ynm2bclp9aOk6P+T6QiPC93qM+I+rWOw6nqXYM+gUqvLt9+UndXISwl1LqDIyU2oj/JUR8y4iaa7UXqKrczTGme7H1c66bs2a6a43p1x358eHTixq13rg9K5SHLaJDtxFbbPeKXeRu9CW78PZ58Dqdk2k2ozp0iqURt524H19FX5dQJXfqpif5RDm8ZmWDPgRcMGXWJWsK2VWbZVDoS3ykrp0JqKp1Kd0lmhJFki6s4HTUfSSg29qFVLypqHolRqjBMzGGnDKO8ojz0po9k4Yz/ANp5Fqr9E0XbfDenMY590/ZWnZ66a7VzjiMTE8u+P3qr7qrSr32cqbfT9lxn5Vl1qOuYl9p1O/QZalfjXEpPiaDIzMsFwPHZxm/SGVUb70ugldlATGS60htDE99ExUtgkJ3XneGMr4ngZxclBiXPQqjSJzfSRJ8dcZ5JHjKFJwf9owk2JmiOjkWDSYNRvKbSIzcWKwgi6aSre3U73Ykslk+oiF6tojaLNNE0x2mY166YVpsfh7k1ZncxOnTXPBCuottNaD33Qo2lVZlwq9XpiUuWaRd8xHWDXlx7cUf4hKSNXjF7hYwY+vYp4ambTfviyfoWxJuiWk0qzkT7nulTdQv2uLN6oS0maijoM8pjNGfJCCwXDmZe4Ix2KfXK2nPfGlfQtjntl2K92iJ3pjjVzn9I5ZdNktTRmvGInhT0/wDfNa0AAYHoAAAAAAAAAAAAAAIJ1HT6B7TullWWZEzUodRpKj7FbiXEEfunwE6mWRBO1Hikp04uM+B0m6omT7EO7zasn2cSG7Ytb271iqPWJiPdi2zS1vdJifSYTuACu0+p3Zr3fFw0WhXA9Z9l29K9Dpk+AkjnVCSREpaG1mX4tCeWS55/Vnt2+0zMziI4y63r3ZYiIzVPCOqwwrtMuWBpRtRV6bdD7dJo900mM3T6nIWSWDdj5JbSlHwSrxsln/tHWaU6mVq1NealpTWLpaumBGY6SPUKkjoJqHdxK+gzyePCs54H1+YrD1+2qTdUE4NYpkSqQzPJsS2UuJz1Hg+sbNydirmi5rTXTy6TrE698Mu/+MoiqjSqmfHWNJj3fNb970C7EKXRKzAqyCzk4UlDuMc84Ph/7RDm1ZUGrRd05vWQpbcSg3AhUpxLZrShh1BpcUeCM+oscOZjM4+ztZFMvSk3RSKQ3QapTlqUSqYXQofI0GjdcSXAyweeGOIkiVFZmMqZkNIfZWWFNuJJST90jHO3XasXaa7eZjnE6cdMc+XN0rt3L9qaLmInlMa8NUVXNtPWBa7kBqRVH5cibEbnNRoUF55wmHCyhaiSnxSMuo+IwvQy64t/bQGo1w0hia3RpdPp6UrlRXI++6hKknklFxPBfqFiW4rLK99DKEr3STvEkiPBciz2EPpEU3rVFuqiiic1RjOe+J4Y7uqZtXa7lNVdcYpnOMd0xxyAADE2umvH/enWf+ZPf6BiONkz+bzZH/NFfSLEj3j/AL06z/zJ7/QMRxsmfzebI/5or6RY3U/4Ov8A7qfpUxVf4qn/ALavrSmAAAYW0AAAAAAAAAAAAABRvbFe/he2t9BdE5xqXash165axDM/EmEwlamW1l1py04Rl/T8xC8gq9tMbL116kas2JqrptdMC1r8tdDsQlVeMt+JKjObxGlSU8clvuFy4kvmWCMRrmOhPCWB91Ar0Wp6TWhpNEcSVdvu44MCLFaxvJYbdQa3N3qIlG0XZ4wnjaJ04qFy7L972NasLvuoybddpdNgk4holK6LcbRvKMkp5EWTMiEK6q7FF83pMsi84WoUKZqzQaymqSKxWKcZU9xCSw3GZjoM+iaa4mlOTNRrWpSsqyVm9L7JqNiWomBWLjm3bWX33Jk+qzvF6V9w8qJtovFZaLgSW08EkXWeTOuPhnqmOMTydJo1FmydKaHbdzWpMpLlOpESmyotW72eakmlhKHCT0TrhKRlJl42M5LgO0RoZpsSiUnT61SMuRlRY2f9AZ0r1J+4OJHMxeeOURCuW19at2aoUO27atu0KnUXIV1UerPVLp4jUQmGZCVunlb5OZSnPDc49WRZIjyNo3iIS+WbCj1CI9FlMNyo7qTQ4y8gloWk+ZGR8DLzGPioNsUm16ExRqPTYtMpEdBtswYjKW2W0mZmaUoIsEWTPhjrHbgJQ6K27Jt+zUSEUGhUyiIkL6R5NNhtxydV2q3CLePzmNKfZtDpFeqVbhUeDGrVSNBzag1HSmRJ3UEhPSOY3lYSkiIjPBYHfAAAAAArNdPc6dCLzuaq16q2nNkVSpynJkp5NcnNkt1at5aiSl4iLJmfAiIhZkAFVPBhbO3/AANn/OCofbh4MLZ2/wCBs/5wVD7cWrABVM+5g7Op87NnmXYdwVDH04eC92cP+A0r5fqH24tYACqfgvdnD/gNK+X6h9uHgvdnD/gNK+X6h9uLWAA8Pb47nFfupW07flv6c2uu3tP6bUzjx6xWnnExGmiSjJIccNTj2DM/U73nMhfzZO7mpYWzVVIVzTKhOuu92C8WpOLVGjMmZYUTbCFcS58XDV7hC4w0wQCrHdP/AOY7qN7tO/2jGFoY38ij9EhV7un/APMd1G92nf7RjC0Mb+RR+iQCCanEarO2RSW5qOnRSrYXJhoXxS06t7dUsi/OxwyODa1bjpi2FJrZdLZbNfZKtsmeEmhRGTSl/wBBK+ZecbdYnpek+sFI1Rejrm2yuD6CVY2EKU5AbNe+mTgs5SSuB8B3OomvWlr9nSGajVoF1Q6i30CKNTzKU/MNRcEJbTxz5zxge5Rv79m7bpmqIjGnXXPhMZz7vCq3JovW66opmZzrzjSY8Y5S6G96HSLJ2jNLKzQIceG5XkTabNRDSSEyWUspU2oyLgZJMufYZCxYo1p7Qr30RrFJvq67UqdWtKJGdjQI3f5PzLcjOL4m43u5cPdwR45F2chayx9ZbL1Gl9623cUKryjY75NmOs+kS3kiypJkRp4nyPiOe32aqYomid+mmMb0a85nXpjOPpo67Fepmaoq+GapzFPlH1wzkAAeO9gAAAAAAFVO6iHjYc1F/Spv+0Yw2sdzC2a1MNn/AAeLIzSRn/u7UeP/AOIG7uov8xzUX9Km/wC0YwtLG/wVn9Av7AFXfBf7NXk7X8u1H7wHgv8AZq8na/l2o/eBagAFV/Bf7NXk7X8u1H7wHgv9mrydr+Xaj94FqAAVX8F/s1eTtfy7UfvAeC/2avJ2v5dqP3gWoABVfwX+zV5O1/LtR+8B4L/Zq8na/l2o/eBagAFV/Bf7NXk7X8u1H7wHgv8AZq8na/l2o/eBagAFV/Bf7NXk7X8u1H7wHgv9mrydr+Xaj94FqAAVX8F/s1eTtfy7UfvAeC/2avJ2v5dqP3gWoAB5k7ePc+9NbD0Lam6S6dVBd6v1mJEjogzZ011aF7++km1urTjgWVY4Y5kI62cu453DcKItY1fq/wCDcE8KO36UtD0xZfmuPcUN+4nfP3DHr2ACm3c87LpOnNc2grZoMdUWj0m+3ocVhbqnDQ0hhskkalGZmfnMxK+0PXKvUKlZVgUSoPUmRdct1uVNj8HmobTe+9uH1KMjIs9XEYNsV+uXtN++LJ+hbGU65TE2FrHpxf1RbV+DUUpVKnyk8oipCUpacX/QzwM+rh2jbscf20TjWInHjice7DtkzFmdcRpnwzq6aZQqlsq19Vcpz1XrmmL0VaqpDfld8O099PqHW98yMyWZkRkXX8AmfS7U+kas2wmt0RT6WicUw9HlN9G8w4nmhaeo+JH7hkPj1BqNj3PY1Vptw1unFQZUc0yXO/UIwjmSiUR8DIyIyx2CsOz1cF0aWM3JV6RbVZvjT2qVRZsVRj/DlEhO6T5MqwakK4EauHqfgG+LUbbYquV/3lONZ0ir7Z95YJuTse0U26JzbnOnHH6fRd4Bimnl4v31a7NXk0Sdby3nHElBqSNx4kpUZEoy6skWRlY8SaJomaZ4vbpqiqIqjmAACFgAABwKaQp1DhpSpxJGSVGXEiPng/gL9Q5wAB556M7I2lO0RrLtF1fUG1fR+pQL9kxY75VCVG6Nro0K3cMuoI+KjPJkZiZfBhbNXk7X8u1L7wNuxb65e0174sj6BoWpAVY8GFs1eTtfy7UvvAeDC2avJ2v5dqX3gWnABVjwYWzV5O1/LtS+8B4MLZq8na/l2pfeBacAFWPBhbNXk7X8u1L7wHgwtmrydr+Xal94FpwAVY8GFs1eTtfy7UvvAeDC2avJ2v5dqX3gWnABVjwYWzV5O1/LtS+8B4MLZq8na/l2pfeBacAFWPBhbNXk7X8u1L7wHgwtmrydr+Xal94FpwAVY8GFs1eTtfy7UvvA08GDs0koj/g6Wf8A9O1L7wLUAA8JbT7mvqbrLq5dkagUIrQsOJXJsWLWK1voa73Q+tKOhQr8Y94qSwfI+tQstq7sFWFsm6Y2DVKTJn1265N+UKPJrMx020qQb6jNCGEnuJTnHqt5XD1Q9RBVTuifDS/Tv3w6D9MoBaouZivuqcipay6nK0tp896lW5BiIm3JLi8HXiXxaiJV+SSiIzUfZ++wXWIEuHSrUC3dSLhuTT+uUiMxcqGTqLVcYU6cd1pO6lxrd5lu58UzwWf1btkmmK5mZiJxpnhnr5RmY72LaoqmmIiJmM6444RzV6lH2V9oJpmiwl/gRXqaUmdRaTFN5yIbRdGT+CyZJzxM+vKuGcCxti6t2jqUyS7crsWpukjpFxkL3X2yzjxm1YUnj2kOg0q0a/AWrVS463XJN1XfVG0NSqrJbJskNpzhplsuCEZ6uvBDNqdZdBpFYlVaDRoMSpyi3ZExiOhDrpdilEWTHXa71m9ERrNcREb3XHWMeWWfZbN21nhFMzM7vTwn7O9MsjUAHmPVAAAAAAAFNO6EWZR9RLg2e7ZuGEU+h1W/WYsyIbi2+laUy4Sk7yDJRZLrIyMXLFUNtT1z9mT3xo/0KwHL4L3Zq8ni/lyo/eA8F7s1eTxfy5UfvAtUACqvgvdmryeL+XKj94DwXuzV5PF/LlR+8C1QAKq+C92avJ4v5cqP3gPBe7NXk8X8uVH7wLVAAqr4L3Zq8ni/lyo/eA8F7s1eTxfy5UfvAtUACqvgvdmryeL+XKj94DwXuzV5PF/LlR+8C1QAKq+C92avJ4v5cqP3gPBe7NXk8X8uVH7wLVAAqr4L3Zq8ni/lyo/eA8F7s1eTxfy5UfvAtUACqvgvdmryeL+XKj94FTu6A9z9tm06DYNN0N05nOXHVqo8xIbhS5Us1NJZ3iNRvOqQ2kj4mo933R6tgA8qtnDuNGTi1jWat5xhf4M0J3/7r0n+0my9xYsvsGW7T7Ru/aLo1KjnHp0G/XY8dk3FOGhtLDRJLeUZqPBdZmZi3wqpsXeudtNe+I/9A2AlLXLUmq2dGotEteI3PvK4ZColMaeVhtnCcuPuF1pQXH4RhZbLlNg09y5a1cdZrF/RS79VcHfpsn0iCNXRISXipZyWN3HLsGU6u6aXPWrztm87MnU5iu0ZuRHONVkKOO806REfFPEjLH/6YGPVLTPV7U+M7Srzuuk29b7yTblR7ZYUciUg+aTdc9QWOHDzj2LNcUWqeyuRTn5us6zpw4Y5c+bxb1G/dq7S3NX+XpHfx4u22b9ck6laVNVy4ajTo9TjylRJpoWlpKVGvDWUmfimojSRF19Qm8QHfGx7Zd1u0Z+mk7bMmnmwhblOLhKaaMjSh1JngzLdLxufuieRj2uNnrq7SxPHOmOHTxbNl7emncvxwxrni3gADG3AAAAAAA0LkKp7FfrlbTfvjSvoWxawuQqnsVeuXtOe+LK+hbAWtAAAAAAAAAAAAAAAAGh8hCO2PHN3QC4JCP5SG9ElJPsNMlvj+ozE3iLdpqiv3BoNe0KKnffOnqcSn87cMlmX6kmNex1RTtNuqesfVk2ymatnuRHSfokiJJTLiMvo9Q6gnE+4ZZIQlsfpN3TGpzHD3pM6vVGQ+o+ZrN4yP+whJumVdjXLp7blUhqJUaXAYdRg84yguHwcvgESTrRvbRW8azWLDozV0WhWXTmTaAqWTD8aUZn0jrBqIyMlczSfWQ62oiqi5YmcVTMYzpwzp7uNyZiu3fiMxETw14419mF7ZOkaylo1Gp0NySbEUo1ROHkpMU0qI2ZjRlxM0K4KLrT+spy0JvKVqDpHatenbpz5kQjkKT+U4kzQpXw7ufhEfV2vaw6qUWRRKdZMawYE9tcd+r1aookPNtmWD6NlsiMlYzjJ4Hzw9n27dHWG5GlVykcdLCCk2/XSN2NKdTjK21Zy0pfHOOvrwN9dVNzZaNmv1xv0z8OudOkzGYj95wxW961tNV+zRM0TGumNesROqxxdY3DpbXl1Sdb8F+twGaZVVtkcmGw/06GV9aSXgt4vgHdDwMTTpL3YnMZAAASAAAPmlRkSozjDiSU24k0qI+sj5iFtjx1f8CMGIajU1BqE2IzvcTJtL68EZ/CJx6yFf9kyfHbpV82+w+l5qi3NNbaJJke604s1p4lwMs736jG23GdkuUx1pn6x92C5inarc9Yqj6T9lgQABibwAAAAAAAAAAAABoZZEDL2r6e9MmR6fYt5VQ4jy47y41KPdQtKjLHE/Nn4RPQDtbqtU57Sne88OF2i5Vjs693yygn003/qxvv5K/7w2emflyPxcPSq+pMg/Utqp5Nl8KjVghPHEajv2uz8rXvLh2W0fzfaEDnrzfx8tEa/8NRjgnXbUFP/AJka98oxxPAC/wCIs/yKfWr/AHHYXv50+lP5II/h51B8iNe+UY40/h6v9JZXolcG717tQjmf6hPACPxFn+TT61f7jsL386fSn8kEHtKVqNxm6PXxHT1qbitOl+5Y09NKfkwvz5J/7wnc+Q6evXTSbXKD6K1BiB39JRDjdOrd6V5XqUF5zwYpF6zVOIs+kz+qJtX4/wDm9YhD3ppv/VhfnyV/3hqW1Px9bC/PkovrCdcJG74Q7az/ACv9Urdlf/m/6YQUe0vUppblL0mvabKPkh+GiOgvdWpWCEu2vV5tbt+DPqFKfokx9vfdp8haVuMK/NM08D+AduZZ6xrnzjlcrt1RiijHnMulu3cpnNdefKIbgABwaQAAAAAAAAAAAABVfun/APMd1G92nf7RjC0Mb+RR+iQq93T/APmO6je7Tv8AaMYWejyGyZb8dPqC/KIBufZbktLadQlxtaTSpCiI0qI+BkZdZDGaHpbZ9tT0zqTbFKps1BGSZEWIhtaSPngyLJDKe+G/ZEfGIO+G/ZEfGIXiuqNIlSaKatZjOG80kZYMskOjo9nUK350ubTKRBp8yXjp34sdLa3cct4yLjzHc98N+yI+MQd8N+yI+MQpmeUrTETrLlAcPfLXsifjEHfLXsifjECXMA4e+WvZE/GIO+WvZE/GIBzAOHvlr2RPxiDvlr2RPxiAVa7qL/Mc1F/Spv8AtGMLSxv8FZ/QL+wVY7qC425sPaikTqPVU3r/APlGMLTxv8FZ/QL+wBzAAAAAAAAAAAAAAAAAAAAAAAAAACqmxT65e0374sn6FsWYrVEg3HSpFNqcNmdAkoNt6NIQS0OJPqMjFZtixaUal7TZqMkl/CLJ5n/xLYtOT7eC/GI+MQd8E4mMSimFsr6TwJLb7VjUw3Gz3k9IS3Ekf6KlGQlKPHbisIYZbSy0gt1LbaSSlJFyIiLkQ5Omb9kT8YOnR7In4xDrcu3LuO0qmcdZc6LVu1/d0xHhDcN44u+GvZUfGIO+GvZUfGIcnRygOLvhr2VHxiDvhr2VHxiAcoDi74a9lR8Yg74a9lR8YgHKA4u+GvZUfGIO+GvZUfGIBVvYt9cvaa98WR9A0LUiq2xb65e0174sj6BoWpAAAAAAAAAAAAAAAAAAAAAAAAAVU7on62OnPviUH6ZQtWKqd0T9bHTn3xKD9MoBarrGo4jfaJRkbiCPlg1EHfDPsqPjEA+CfXqbSlJTOqEWGpZZSmQ+hBqLtLJkMGuLaO0wtSSuNVb7ocWQ3wWz36layPs3U5PI5dQ9DNPdV6jGn3bb8KtTYzXQNPPLUlSUZM93xVFwyZ/rMbra0L02s6Mlmj2dQoaU8ld6NrXntNSsmf6xooixFOa5nPSMfX9HSN3GrGPTm6K/8Pqf/wDZPfUHJG2w9F5ThITqDSkGfW90jaf1qSRCSCtK2S//AHNSv2Zr+4cUiybUmNm09QaO8g+aHIjSiP4MDpvbL/lq9Y/JGaXW0DWiw7qloi0i8aHUJC/UMsT21LV7ic5P4Bmp8BE9zbMmk12QXI0uzKMxvq3yegspjPNq/OQtvBpPh1CT4/QRWG2UOFuISSS3l5PBFjmY43Oy07OZ80Tjk+wBxd8M+yo+MQd8M+yo+MQ4quUVQ21PXP2ZPfGj/QrFqu+GfZUfGIVU20lJPU7ZjNKiUX8IsfiR/wDErAWwAAAAAAAAAAAAAAAAAAAAAAAAAAAVW2L/AFzdpr3xH/oGhakVT2MFEnU7abNSiSX8Ij/M/wDiGwFrAHF3w17Kj4xB3w17Kj4xAOUBxd8Neyo+MQd8Neyo+MQDlAcXfDXsqPjEHfDXsqPjEA5QHF3w17Kj4xB3w17Kj4xAOUBxd8Neyo+MQd8Neyo+MQDlFU9in1zNpz3xpP0LYtP3w17Kj4xCrGxT65m05740n6FsBawAAAAAAAAAAAAAAAAB88iO1LYcYdQTjTiTQtCuSiMsGR/APoHwVOmtVmmSoMrf6CS0plzo1mhW6ojI8KLBkeD5kCJQzsiLeg6azrekktL1u1mbTNxXEkJS6akkk+ssLE55MQWWxxp6nO6ddTk8nisSOJ/GD0nNgfnV35ZkfWHqX52S9cqub8xnX5f/ACeZZjarNum3uROIx836JzNJZ5DdghBfpTKDH4wLuvWnn1dDXnTSXwKyIm1L04qVOvCk2LZd/wB5VO75pd8SVS6sZxqbFLm69guZ8N1Ocn8JCtvZbF2rdou+scO/jKbm03rMZqtf6v0XMx5huFItJbKm3VqPd9g3HqTdzVw0J3eZfgVRSGpjB48YkKzuqTlOSyfqvMJlPZaPyn358q/90WvbJasVbldzpPCeE6x7ItbXcvU71FvTxjjCeBpzEEelZPynX58q/wDdBOyNbUs96rXLeFbX2zK26RF7hJwQz9js0cbv+mfzd+12if8A4/8AV+kpxedQyneWtKElxM1GRcBgV269WBY0xmLXbqgU+Q6jpENqUazNOcZ8UjGJtbHumhrI5dOqFSxyTNqkhZfq3yHZx9lbSqGh9LFlwEKfaU0pajWtSSMsGaTUo91X9IuItTTsUT8ddU+ERH1mVaqtrmPgppjxmZ+0PvoG0hpjcssolOvWlOyOptx7ojV7m+RZ+ARtse0Wm0GqarxIZml9u5FpU1vbxJZwZtGR9ZGSlcciU16DWC7bUOgPWnTJNMiNEyy2+wS1oT275+NnrznOR21i6X2tplGkx7Yo7NHalLJx5LJqPfURYIzNRmfWOk3rFFq5btb0b2OOOU/vk4xZ2iq7Rcu7vw54Z5wy4AAea9UAAAAAAAAAAAAAAAAAAABoZ4DJCI9Q9puwtMqrJpdVqbz9Sit9I/FgxlvqZIy4EtRFuoM+wzL4Bn9m3XT76tanV6ku9NT6gyl9lfXg+ZGXUZHkjLtIx2qs3aKIuV0TFM8JmHGm9arqmimqJmEcbSGrdf0htqnT6HSGpyZUnoJNRl75xqcgyLDrpILO7kx1dj6Q125avRrvvLUV+7FR1d9RIVGIo1OS5yJRbh5cIsflfCJsnQY9SiPRJTDcmK8g0OMPIJaFpPmRkfAyx1CDJmh9zaXVV+p6Q1aLT4UlfSSbTq+8unuL61MqLKmTPsLh/YNti7R2PZRimvrMce7P8PlpPNhv26u17WqJqp6dJ645/ZlOvuq87S63aaVCp5Vi5qtNRDp1ONKj6ZWcr5csJ6z4cSGLRL2tLaPpM6wLspc23LnS30rtHnoNuQy4nk9Hcxhe6fElF1dWMjrZUe4tfKdClohyrB1Fsmob5ImsdPEW4tHjbhnwcQpOMGXLPXzHZWzpJfNyam0S8NSKpRnF2+04mmwKEytJG4tJpUtxavGMsck8v3570W7Ni3FNUxTXTmcxOueWOUxOnNwruXb1fwxmieUxpjnnnExrycEKRrVpIluNKhRdV6C0lKUyY7iYdSbSWS8ZKsk4fLJ8z4iSNKtWaZqtS5rsSNMplRpz5xahS6i10ciI7+asuXEuJGQw3UDW+ZUK+/Y+mcVq4bwwpMmWs8QqTw9W8vGFKLqQXWXHsGW6M6VRtJrU9D+nOoVWW6qXUqmsvHlyFHlSj8xciLs+EcL0R2O/doimueGNJnvmOGOnDLtZzF7ctVTNEcc647onjPfrKRAAB5j1QAAAAAAAAAAAAAAAAYjqhpdbWs1jVKz7wpvovbtR6PvqH07jPSbjiXEeO2pKiwpCT4GXIQH4LzZo8nJ/LdR+8C1QAKp+C82aPJyr5cqH3gPBebNHk5V8uVD7wLWAAqn4LzZo8nKvlyofeA8F5s0eTlXy5UPvAtYADyZ7o9s/7PGyzpVAYtOxm4t/V+UlFPWusTne92GzJTzxoU+ZH+SgslzcyXqRPez/ALE2yxr5o5at9UnTwyYq0NLjrJV6ombD6fFeaP8AjHNC0qT58EfWKSd0W051xv8A1ZuXUq6rGqVIsmG+3S6U6+8yptmN0nRs8ErMyU4tW+fDm5g+Qtl3KyzNY9EkXTYmoNkVmh21KxVKZMlpSbLEksIebyRnjfTuKLqy2faAmzwYOzX5O1fLlR+8B4MHZr8navlyo/eBagAFV/Bg7Nfk7V8uVH7wHgwdmvydq+XKj94FqAAVY8GDs1cM6dKPB541yo/eBaYiwQ1AAAAAAAAAAAAAAAAAAAAAAAAAAAAFb737nnoHqLd9Xui4LGXPrlWkqlzZRVme10rqvVK3UPkkvcIiIdN4L3Zp8njny9UvvAtSACq3gvdmnyeOfL1S+8B4L3Zp8njny9UvvAtSACq3gvdmnyeOfL1S+8Drbi7m/stWnQajWqtYnedMp8dyVKku1+pElppCTUpR/wAY6iIxbsU57pZSNW7+0fiWHpZak+uprb5nWpcR1tvoozeDSz460mfSK546kGX5QCl+wTYezxtL6u6iWpcGnyWEuPLqdrxjrU9BtwUmSFxzMnyNayLo3Mnk/Gc6kkQvh4MXZq8nKvl6pfeR5M7NWiuvNi6vRbxsqwKvU6pZNb70qLEY0eI8jg/FWe9+U2pSTxkvGH6AKZN9EadElmw7F6dpDvQSU7jre8RHurT1KLODLtAVj8GDs0+Thfy9UvvIH3L/AGaT/wDN0v5eqX3gWoABVXwX2zT5OV/L1S+8B4L7Zp8nK/l6pfeBaoAEa6J7PFgbOlFqFI09oPoDT6hJ77ktHMfk9I7ukney8tZlwSRYLBCSgAAAAAAAAAAAAAAAAAAAAAAAAABgesOidna+Wh+C980g61RO+G5XexSXY/41Gd1W80pKuG8fDOOIzwAFVvBfbNHk5V8uVH7wHgvtmjycq+XKj94FqQAVW8F9s0eTlXy5UfvAeC+2aPJyr5cqP3gWpABVY+5f7NBf+blXy5UfvAoft5WJs67NOr2n9pW7p6T5NyG6ldTSazPWpUFR7qY6TN/xVqTvuZIyMt1vjhRj2FuCpv0ehz5sWA9U5Mdhx1qCwZE5IWlJmltJnwI1GREWeHEeAW0Ds+7QN06u+j192PUY1z31VnEQY6nWV9O9jeJlvdWeEoQREWcERJIB6s0Lubmy7ctGg1amWMqZTZzDcqNIauCpGh1paSUhRfxjkZGRj7/Bf7Nfk9d+X6l94Hw9zXjal2poOqyNTbVqduz7bkdDTH6gRYkwnMrQlJkZ5NtW+nHUk2yFtwFVfBfbNfk9d+X6l94DwX2zX5PXfl+pfeBaoAFVfBfbNfk9d+X6l94HdWR3PTQPTq7qRc9AsZcGuUmSiXCkqrM93onU8Uq3Vvmk8dhkZCyAAAAAAAAAAAAAAAAAAAAAAAAAAAAACt979z00D1FvCsXRX7GVPrlXkqlzZKaxOaJ11XFStxD5JTnsIiIWQABVfwYOzX5PF/LtR+8B4MHZr8ni/l2o/eBagAFV/Bg7Nfk8X8u1H7wHgwdmvyeL+Xaj94FqAAVGuHucOy5alCqFZqti95Uynx3JUqS7X6iSWmkJNSlH/GORERikWwfYGzvtOav6iWxcWn3ehOvKqdrRvRme2bcBJ7imDNL5bykluLyeTPeX1JIXQ7pbR9Wr/wBHoVhaWWrPrxV19Xo1LiOtt9DGb3TSye+pOekUZGeOpsyP1Q8udmvRTXixdXY15WVYNXqtSsiuHEqTMU0eI63wfir8b8ptRpPGfVAPWLwYGzV5Ol/L1S+8h4MDZq8nS/l6pfeRZ2lzvRKnxZRsOxVPtIdNh9O640aizurLqUXIy7SH2gKq+DA2avJ0v5eqX3kPBgbNXk6X8vVL7yLVAAqr4MDZq8nS/l6pfeRL+iGzvYGzpRKlSdP6Gqg0+oySlyWVTH5O+6SCRvZeWsy4JLgR4ElgAAAAAAAAAAAAAAAAAAAAAAAAMF1hvibp5YFSrNMpjtYqaNxmJEaQat55xZIRvY5JI1EZn2DpND9I1ab0aXNq76apeNZeOZWKnu8XHTMzJpJ+xozgi+ESqNMccjvF2YtTapjjx7+keX74OE2s3e0meHDu71QLe0iTq3eGrFx0upO0G66fcimKPWGFKLoTbaQSkrIj8ZCsYUR/3kc6aU3beVWdq1Hve3kUuq0w292owFGuDPQsjwtoz4kZbvFJ8skMU2USKXb171P8ifddRcR2Gkl7uS/UYnUiyPQ22/VNc2a4zFOIjrGIiPtw4PP2KxEUReonGczPfnLcAAPIeuAAAAAAAAAAAAAAAAAAAAAAAAAAAIu2jL5f0/0fr9ShdIVSdbKFDW0rdNDzyibQre6sGrOfMJQM8DFtS7FhamWLWLZnrU3HqLBtdK2WVNKyRpWXnSoiP4B2szRTdpm5wiYy4X4qqt1RRxxOGN6U6L0XT+wPQJ2K1OlVBrNakSDN5U55ScOmtSuKiyZkRHyIV/0p1OVs7XdeFn1CDKk6bUirGyzWm0m4qmLdLfSl4i49Gecb2OB57eEiwEbQtv05mgNxLSq5ttJZauF6Q4jdSksbzrPNSjIi5cBnGlGjxWHR6wdcqB3NXrgd75rMx9sibkL3d3cS3yJBFwIv/YRev2kWoufiKor38aRPfx7sRnGXlxbquTb7CmaN3PGO7h396QqZU4lZpzE6BJalw5CCcZfaUSkOJPkZGXMh9n5JiBpWzVKtSc9N0yvCo2SbhqcVSVpKZTlLzksNLPxC5+p7fMJgtButt21TkXI5FerpMkUxyCRkypzrNBHxIh5V2i3T8VuvMek/l6S9K1cuTO7cox38Y/P2d4Oiu+hyLltmpUuJU5FEky2FNIqEUiN1gz/KTnhkd6A4RMxOYd6oiqMSw3TfTai6W2vFoVDj9HHb8Zx5fF2Q4fqnHFflKP8A9nIhmQAJqqqrqmqqczJTTTRTFNMYiAAAVWAAAAAAAAAAAAAAAAAAAAAAAAAABVDumx52W5DXPpbgpCMdv8cbP/sFrxVDuk5b+gdDa63bxoqMdv8AGSFrwAAAAAAAAAAAAAAAAAAAAAAAAAAAAAAAAAAAAAAAAAAAAABp1gKlbAX4ydtBSOfS6mVTxu3BNkLbCpfc8Eb1tayyOZO6mVvj24WghbQAAAAAAAAAAAAAAAAAAAAAAAAAAAAAAAAAAAAAAAAAAAABU/a7Pf2kNlVntuma5j9GKX94tgKnbU7nS7XOyhHxk/RetO4/RhJAWxAAAAAAAAAAAAAAAAAAAAAAAAAAAAAAAAAAAAAAAAAAAAAAAVJ2BV98TtoN/qd1NqhZzzwTZC2wqV3PFO9butEjmT2ptb4+44ggFtQAAAAAAAAAAAAAAAAAAAAAAAAAAAAAAAAAaH1jUaGWQEEbHDiVaRLSSiNSavPykj4l/GF8xOyREulOz5SdIrvues0mdIcYrRpMoLxEaI2FKUZJVzMsrPGeXnEtkWBt22u3d2iq5anMTr+/Bi2Oiu3YpouRiYC5DUAGJtAAAAAAAAAAAAAAAAAAAAAAAAAAAAAABoZZGoAAAAAAAAAAAAAAAAAAAAAAAAAAAAAAAAAAAAAAAAAIS2q9FavrtY1v0Sjy4cF6n3JTqw65ONRINmO7vLSW6k/GMj4dXnITYR5GDVTWyxqPqDSbGk3PTk3hVVKTForbvSSlbqFLUakJyaCJKVHlWC4DAdojbG092bqbJVXpkirVlgkGdFozPfEhG+ZE2bx+oYJWSwbik5/JJXIO4TwAx68b3o2n1pVG5rhmJplEpzHfMuUtKlpZbLGVGSSM8FnqILLv23NRaGzWbYrsC4KU76iZTpCH2z82UmeD8x8QGQgAAAAAAAAAAAAAAAAAAAAAAAAAAAAAAAAAAAAAAADTrGo6S6Luolj0R+sXDVoVDpMdO89NqEhDDTZedSjIgEWbLGidX0Oti8KfWpkKa/W7sqdfaVBUo0oZkLSaEK3kl4xEnjjhx5mJuEOXVtRWNbul1Ev6G/PueiV2ainUduhQlvyKlIWtaENtIPd5qbVxVguHPiWeht/a0YLVi39O71sK5NPK/cbTjtEXVlRZEed0aTUtBOR3nCSsix4qsHxLOMlmM8hYEBgSNbrEXqPMsBV002PecZtt1dFkvE0+tK0kpJtkrHScDL1GcdYz0I11AAASAAAAAAAAAAAAAAAAAAAAAAAAAAAAAAAAAAAAACEtWdEqrqBr/orfcOdDYpdkPVV2dGe3umf75jJab6LBY4GRmeTLhyyJtGBw9a7FqGo34Aw7ops68SYckuUeI70zzLaMEo3N3JN43i4KMjPPAgGeAK3VfbEcX+FUq09KbzvOhWtLkQatWISIsdpDrBn0xMIeeS5I3cHno0mM3pm07p1UtFKXqy7X0U2xagTZJqUxpaehWt3oSQ6REe4ZOeKZnwIy544hGvAS0A6q3blpV30ePVqHU4dXpkhO8zMgPpeZcLtStJmRjtMkA1AAAAAAAAAAAAAAAAAAAAAAAAAAAAAAAAAAAAAAABp1iE9lnRSr6HWxeNPrEyJMfrV21Ovsqhmo0pZkLSpCVbxF4xEnjjh5zEm3pfluadUJ+s3RXYFv0posrmVGQllsvNlRlk/MXEb7MvKjahWtTLkt6aipUSpsJkw5aEqSl5tXJREoiMiPzkA70BCmlO1Laesurt92FbiJMp20Us99VTxe9ZK1KUlSWTzlRIWhSTVgiMyPGS4jLKTrhYlc1Aq9jRLop6rxpbhNyqI670UpJmhLhGlCsGtO6oj3kZL4QGfgNMkNQAAAAAAAAAAAAAAAAAAAAAAAAAAAAAYFqVq9b+k3oQ7cjkiLDqUhUdM1DClssKJOcuqL1JHyL/8AUXooquVRRRGZUrrpt071U4hnoD44E+NVYTMuG+3JjPoJbTzSiUhxJ8SMjLmQjnV3WRGn64NEo0E7gvWrHuU2jNqwai63XT/IbTxyZ9numU27dd2rcojVW5cptU79U6JSAdJaqqyu34CrhTDTWzaI5aaeajYJzrJBq4490d2Oc6TMOkTmMgAAJAAAAAAAAAAAAAAAAAAAAAAAAAAAAAAAAAAAAAAAAAAAAAAAAAAAAAAAAAAAAAAAABi+olqzr2sup0Gn16XbMiegmTqkBJHIZbNRdJ0Zn6lZo3kkvmk1bxcSIeedFot1bLW15f8Ao/pFDkG1f1HiVGhHU5a5EWjvFlMia6p1SlL3CJ5WOKlq6NJ8OSNZwTwmXpa+4pDazQjfWlJmSc43jxyyPPJ/XC7tXb7lWhrjf9Q2a4TshbMW16bEVDdqbRYLPo04RtmR5xhrdzkWb2b9lCi7OM66apCuOuXTWrm71XU6jXXyddcdaJe8tJkWSJanFHumZ44FngJeuuzKDflFeo9yUaBXaU+W67CqMZD7Sy86VEZBzGEaM7P2m2i9O37HtqnwFyU7zlVQffMuUR8d5clZqWvPPieBCHdPadGibHd5vMx2mXpNSpbj7jaCSp1RTGEkajL1RkkiLJ9REJDsLZJpWj2oECs6eXVX7WtgnFqn2T3ycukSSUhRF0bbpmqOolGSsoPHDGCIfZtJ7N0jaTteTa1Tvao0G1pK2HXYFOhsKcWtpW+kzdWlSsbxJPBY9TzwEyhMzbKJERLbiErbUkiUhSSMlFjkZGKp68aAaL6WG/fsa8j2fbhcM1ejlvTkw25as53XIR5akczykkZPPMTmqw7uc08qtAPUKUVblR+giXCimMIfhngiNZNlhCldfEuBjCtNNjPTuwK2i46lHnX/AHtwU5c94yTqMze4nlvf8RosmeCQksfABTpEMO2OtbtUNUqnXIN2Uk6zZ0JlK6RqCdIdox1dW8RYOG6eeRqVvpwnhy4i1Y0xxyNQSAAAAAAAAAAAAAAAAAAAAAAAAAAAAAAAAAACivdDdnh+oaY3jq8zcNWk3ta7kap2+bUhxlikRWVI6ZttpKt1SlZccU6ot7JJIsEXHno+jNV2+qbQtRtQqrV7WspKYkq2LVp76E9MSFIW7MmcDJRvGlSUILG43g85MKfijMEpG2yNadUdKI1AbsW2t6gzzUVYvL0OdqvoGnJES+8mjJa+Bme8eUl1kMX0J0K0c1xcZvatahubRVfjmS++q7KJcWAs+pFMLDcfOPUrQZlj3RcAz4ly3S6scRCOqOyBpvqhWSuI6bItS80GambqtWSqm1JC/wA43G8E57i0qFc40TxS3UZ1Is6gPzZjsWj0amxzdddcNLLEZlBZMz5ElKSL3OArdY1qzNqDWe3NZa1AdpNjWoiQmyqdJQpuVUVvESXKm8k8G22pKSJpsyyZFvnjJEMp1M2Yajq7oRS9Nrj1Lr7psPodnV2OwwiVUktrNTaHiNJpwXiZMiLeNsjPmZDHbZ2MKpTLytit17W/UC8otAqDdTYo9ZkNriOPIJRINSSQXLePHYJjjlWeGEtat6C6fa2Ucod9WvTq42yn8TJfR0ciP/SafRhxv/JUQphVtXa/oNebVr6DakVHXxTbqUPafVGI5V1wUHzUmrtYJlJYPCXVKIschaDU/ZUga23xIqF83hcdWs3o20R7GiSzhUzKUkSlP9EZLfNSsqwpREWcYMhKdlafW3ptQ2qNa1Dp9v0pr1ESmxksNl5zJJcT85iKYxOqXaUqRJl0yG/Mjd5y3WULejEsl9Es0kakbxcDweSz14HYDQiwNRZAAACQAAAAAAAAAAAAAAAAAAAAAAAAAAAAYPqvp65qfah24dbnUKnSZDfoiqnKNt+VFI8uRkukZKaJzgk1oPeJOSLGckGcDprpn1CmW3U5lIpvoxVY8Vx2JA6Umu+nUpM0Nb58E7xkRbx8CzkecWj1IvzS/WfWTZk01ek0mFLqTFWp9elum6m3qS83vSHG98zUt499ltsvzsrUfAxc/Zt2ZLb2ZaBXaVbtRq1WRWKidSfk1l8nnzcNtKDI1klO96kzyZZ8Yw70Z1wqfbepNS2irsXa+vWqdR0bmLcMi0ygRXKCclGTxv1J3JyUqx6lpRZ+EXZ0q0PsPRSkeh1jWrTbdjKx0i4rOXnscjcdVlbh+dSjHa35ptauqdBXR7vt6nXHTF8Ti1KMl5JH2pyWUn5ywYjXSPZgi6GXgqVaF53IxZTjC21WTUpRzoDDh43Fx1uZcZ3cH4pKMjz1YDlhLq9qGma1122Z0XS2VbSKG5CWU9ElbrVVfIzUTjcV7dWy0o0cCWtJmR5PsHPsY1qwdQNlez/wKoCqZZ3erkL0FqOH1tLQ4tL6HTMsOGa99Rqx429nBZwXVMbHL1DO4oNqat3vadsXBNkT6hRIa4bqelfUanugedYU6wSjM/UKLt58RnCtAY1t6GxdMtOK7O03gQ0IYj1OmIS9Kab6Xfe3VOZ/GOZXlw+JGszIRTpCUF656OaQbO7j9321qa7s7V+QfSE1RXkuw6gvjwVSVbyXuXJtKTEh7H2r+p+rlDrr2oFq+hcKE823SLhOE7TvRto9/ed7zdM1tY3Uczwe/wAC4GMi0o2R9NtIqouuQaQ7Xrud4vXTcj6qjU3FcOPTO53OX5BJLgJsEzorxAAASAAAAAAAAAAAAAAAAAAAAAAAAAAAAAAANMkKC90N0Gl0GwqxrpBuKrz76tarRKlS3CkLaj02ATjbaozTKVbmMq31OGW8rjk8cA05mvJfgzwKq7YeuOqGlNYosG1aMqjWZNYNyrahFSHa0dIVvGWO82jI+BER76sp8blwMY1SNCartpTqBqvqJUqvblAYlxKpaFnwXkE0zGQtLhPzSwZOPP4zgj/FoNJZzkXSCYwjezwVF0I2fdF9VVMX7MvQ9oS4Env+jVwzUzGoqs+pbhFhqPyLCTRksDJ9sPVSXp/adBtCjN1ikruqQcGTcFFo8mb6CwEEnvh1KY7azJ40mSGix6pW9yQY7nUrY006v6uKuSmxpthXsRmpu6LOkHTppK55c3PEdLJFklpPPwiWrIodTtu0qVS6xXHrmqcSOlmRV5DKWXJay4dIpCfFIz68CJ14pefmhmtdhacbWOobFpUS4ZdDfotuUOjUuJb81p1BJPolqdS60k2Up3zcNbu6S/GMjUZi6Ws2z5pvrPA6S+bbhVFcZBraqqj73lwyTx3m5KDStGOfqscB09nbPD1o6/3XqmV5VGdKuSO1Fm0h2IwmMTTKcMEg0p3yNHHjk97J56sdRfuyPS9YtQJ9a1Du24brthTiFwLJ75OJSIxJSkvxjbRkp8zURqys8eNjBkJ5Qc5lWuNrZdmkl+xbR0O1AnbSUFuQTMq2qlEVMcpjecGfo03hsiLHJ3exuj0QaUpSSNRbpn1dg6e0rNoNh0Rij23RoFBpMdO61Cp0dDDSC8yUkRfCO8AAAAAAAAAAAAAAAAAAAAAAAAAAAAHw1GnRqvCfhzWG5UR9BtusPIJSHEnzIyPmQ+4AFZr0sKpbNNLqN3WBWmodtRi6edalZdWuIoskX8XcPKm1nngnkZ/qHy7KdxUa6bjumu1582tT6q+bsqnz21NvxYePxLTJK5t7uDynnwyRcBkWq0QtUteLRsKYnFBpcY7jnNK9TLWle4w2ZdhK8YxnOqWi9v6qRGVz2lQq1E8aDWoR9HKiL6jSouJl/RPh7g9uq9R2MUX5+KuMzVHGIzpE9c8Z54w8CmzX2s12PlonG7yzzx06RySKgsfCN4r5TNVrw0dqdIomqbEWdR5rqYcO8aevCFO48VMlrGUKV+cXD9+LBjy7tmq1jOsTwmOE/v1evZv03s40mOMTxgAAHBoAAAAAAAAAAAAAAAAAAAAAAAAAAAAAAAAAAAAAAAAAAAAAAAAAAAAAAAAAAAAAAAEJbSe0JWdCGLXTRNOq3qJOrst2GiJRskphSW8oUtW4pJJUs0Jyo04I1K47uDqTqzp3qRopqxo/tCXHDq953WdQkx7wgW2yuW3ToT7e4zFjNJ/xbSVOFvfluGZmfEh6RgI55O5hGlV016+bURXK9b7trOzH3HIdLkqzJbiZ/EnITyQ6pPjKQRnu7xFnJGM3ABZERgAAEJaYIagAAAAAAAAAAAAAAAAAAAAAAAAAAAAAAAAAAADjdcS0hSlZwRZPBZHIACkMOv35t90yXQ6lZ1a0t0tZafbqZVJ1bMyuyfGJhhvxULTGSe644eCNR4RyIxwbAmpGoVLsC19Iqvp3W6fUrSkSodbrlYjqjQWYaFrNkmFn/LOqNSEklJbpJSpRnjAvINN4RHcTLcAAJAAAAAAAAAAAAAAAAAAAAAAAAAAAAAAAAAAAAAAAAGhlkV92jNoi7NKLpt607L0yq1/164Ij6o0iKakQ4T6TSlvvle7upbPK1KPeIyJH9LJWDAB5x3BZd5bIm1DYWqlVp1zamndVGlU28ajQIa5jhz1K32yZZI8NtJw0htPiluNn1i+mndXr9cs+mVC56O3QK3KbN5+mNPdN3qRqPcQpXWsk7u9jhvZxkuIygaY45AagAAAAADTBDUAAAAAAAAAAAAAAAAAAAAAAAAAAAAAAAAAAAHxVKcmm0+TLWhTiI7a3VJQWVKJJGeCLrPgKSOuah90Gsiowq1aNZ0o08bpzxKptQdU1MrtT3FE0kz3UmmIyskrPKS6RRJI+BGQvQOJSd7mZiswtCmmwRqpf1R05s3Tisad1yizLTjv0+v1musKisIQ0akxkRsll9xXi73JKSQZ5PKc3O3gVzGg6cXPg3gACqwAAAAAAAAAAAAAAAAAAAAAAAAAAAAAAAAAAAAOv9CIfomVQ71Z9ECa6Dvnoy6To853N7nu544HYAADrarRoFeilHqERibHJaXCakNktO8k8pVg+sjLJGOyAA7kY1yAAAkAAAAAAAAAAAAAAAAAAAAAAAAAAAAAAAAAAAAAAAAAAAAAAAAAAAAAAAAAAAAAAAAAAAAAAAAAAAAAAAAAAAAAAAAAAAAAAAAAAAAAAAAAAAAAAAAAAAAAAAAAAAAAAAAAAAAAAAAAAAAAAAAAAAAAAAAAAAAAAAAAAAAAAAAAAAAAAAAAAAAAAAAAAAAAAAAAAAAAAAAAAAAAAAAAAAAAAAAAAAAAaZIagAAAAAAAAAAAAAAAAAAAAAAAAAAAAAAAAAAAAAAAAAAAAAAAAAAAAAAAAAAAAAAAAAAAAAAAAAAAAAAAAAAAAAAAAAAAAAAAAAAAAAAAAAAAAAAAAAAAAAAAAAAAAAAAAAAAAAAAAAAAAAAAAAAAAAAAAAAAAAAAx+TfFvw7ij0CRXKezXJBZZprklBSHCxngjOT4ceQmImeAyAAAQAAAAADENTtPoGqdk1K2ajKmw4s1JEcinvmy82ZGSkmlReci4HwMTGMxFXAZHPqUSmMdNLksRG8kW++4SE57MmN8OYzPjofjPNyGFllLjSyUlXuGQoVpRsk2xfNZvuwb2nVly5LWqLTjNRYnqxIhPINTKybUakkZkR54cOAuvYFh0TTS1INuW7CTT6VDSZNMkZqMzM8qUoz4mozMzM+0xs2q1ZsTu0VzVPhjTjGuZdKqYpnETlk4+CoViBSEJVOmxoaVnhJyHktko/NkxB+qt/ajaL3S9dUtqJdOlyjSiXEgxTRUKS3giN/OT6ZBHk1dhdnMZbeOj+nm0DFoFertNbuKK3FUuA8bziG1NPElW9upUWeCUmWeQ5dlFO7XXPwzzjXy5I3ecpOacQ8gloUlaFcSUk8kY1FVtI7HLRnalm2PQq1V3bTets6m3S58xT7Ud0393CCPkREXu8eYtYF+1FqqIpnMTET04oqjdAABnVAAAAAAAAAAAAAAAAAAAAAAAAAAAAAAAAAAAGPVK+7eo9WiUudXadFqMtfRR4b0lCXXV/mpSZ5M+JBiZ0iBkIANDPADUB1ce4KXLl96s1GI7K4l0Db6FLyXMt0jzwHaAAAOHvhvpiZNaSdMt7o94t7HbjsAcwAND5CBqAAJAAGmSAagAAAAAAADiceQ1u760p3lbqcnjJ9RF5wHKAAAhW8trnSuyamumSbnRUao2s21wqQw5MdSouZH0ZGRYxyzkZlpdqbTNWLdXXKRDqUSAUhbDZ1SIqMt3dxlaUq47vHBGfYYhvWe0qFamt2hh0ikQaSuXcE1184UdDXSrOPxUrdIsn5z7RZZxJmk0oMkqMjwZlki+Abr1Fqi1RNETmqM6z3zHDHc6TiIjDlLgQiK+9qfTTTmtyqLV7iJVciqSlylwozsiQRqIjIt1CT6jzzGN2Bqbe1mast6danPwao9V2nJdAuGns97tSdwsuRlt/kuJLiXHiXbkhOpUqGU05vejBTTLdOSTaekMuzexkcpopsVR2sZiYzGJ/SVcY4sM0p1ptbWaBOl2zKeeTAeKPJZlR1x3WVmWS3kLIjwZcSMZVcVLdrlCqNPjzn6W/KjuMtzY2OlYUpJkS05/KLOSEFbLayl6ha5zJSjbqzl1m0/ENOOiaQ2SWT8+8nJ5Fifyg2m3Fq7NNHDT3iJKtJVx0QuSvaU6mTdIb1rsq4DfY9ErZr0/wDlZzBfyzCz63Gz447M+YWQEMbT+msy+9Pk1Wgfir0th4qxQ5CfVE83xU37i0kaTLrPAzLSHUiDq3pxQrpgGSW6gwSnWi5svF4rjZ+dKyUXwC9/F2iL8cZ0q8evn9ck6zlmoAAxqgAAAAAAAAAAAAAAAAAAAAAAAAAAAAAAAAAAAAAAAAAAAAAAAAAAAAAAAAAAAAAAAAAAAAAAAAAAAAAAAAAAAAAAAAAAAAAAAAAAAAAAAAAAAAAAAAAAAADYtZNpNSjIiLiZmeBvEHbZ7BPbNF8Ga3W1NRUOpNpw0HknUc8cy48SPgY62qO1uU2+s4TEZnDbfO19p9ZlYVSIsmddtXSaSXCtqKqaaDM8YUtPiEfmzkTVHfKRHbd3FN76SVuLLCk5LODLqMYbpHY9v2JY1Ki2/RoVHZfisvOphsk30qzQWVKMuKj4nxPtGH3LrjWLB1fp9uXNaqoVp1p9EOkXJEf6ZLkpRFht9GCNvJ5IufLPLOOs0UXfgsU6xnOZ4+EfbVOI4QkW6dQbYshcZu4bgptFck56FM+Uho3Mc90lHxxkh3cGdHqUVuTEkMyo7hZQ8w4S0KLzGXAxiN16OWRf1YRU7item1uc3HOKh+ewTppazndLPAuJn5xCduWVT9nrajt6g2s05TbQvGjyyVSumcUwzLjYc32yUZ4M0mZYLHP3BNu3buUzFMzvREz3Tj9DGVohwrktNuNtqWhLjmdxBqIlKxxPBdeBCOqOvVap9/t6a6fW+mv3uuOiW+9Pc6KBT2Ff4x1RcVfop7S9wcGn2z/XJ1/RtQtUK8mv3jDUfobCphraptMbNJpNLaD4rUecmav38w7CKaN+7OMxmI5z5cvGfdO7plPpchsccS0k1KMiSXMzPBEQr/rlZ1zUNm4L2c1mrVpW5DY74XT4dOYdSwlKSLdRnBqNR8s9ah1OhEq5do/Qmv0fUmFJOlVDMSDVySmLIqMU+KXlNpMyQsjIuPI/15n8P/ZdvvRu5iJ46Z8YjPlJuaZWaAVuiaZa+2HGbiW5qPRrop0XDcePc9M3H1N44Et5o8qUntPmO0sjaErtPv8Ap1g6n2sm2LoqaTVS5dNfOVBqBJI94iVjLZljkrt6hE7NMxNVqqKsdOPpMZRNPRPoAAyKgAAAAAAAAAAAACPtdNSC0l0muW60tpefp0bMdpfJb6lEhpJ+Y1qSIftPY+pVQs+g1au1CSnUhdSj3FULkJCVyVSSPfNgt4jImyI9zdLsz5h3O2Qnv6gae0Z48wKneNOYlNeyNko1bvuZSQsKPRpuV2LFNVucTVM58I4R9XSJ3Y0bwAaFyHnObUBCuz9ftbuuv6pUmvzDlyqBcz0SMW4lBNxVISppJYLiWM8TE1Dpcom3Vuz++aZjGgAwaytZrK1FqtQplt3LAq9QgKUmTFZWfSN4Vume6ZEZkR8MlkvOM5FJpqpnFUYlCvFkqTB20tSY75kh2bb1OkR0mfFxCDNKjL3FcBYUjwIt1e0GpOq79OqqZ863Lspf/i+v0tzckMkZ5NCupaD4+KfafLJjA6hsuXdc0c6fcmt91VSjO/4RDjMtRFOl2dInJkX9o9CqbN+Ka6q92YiImMTPCMaY/R00q1y+fas1GXV3oejNDlswLiu1n+M1GU+llmDB3vxisqPxlrSlSSSXHiYlqw7msam26zQrcuGkyINBZagqQzObcNgklupJZ54Ge7188GPnuDQawrwoVNpNwW5Erkenxm4kd6eRuSEtoxul0ud/qzz55GPVHZC0hqiYDTlkQG48JKktsMGtpC97HFwkqLfMscDVkyyfaK7+z1WqbczMY6RGs9eMcuR8MRhhmqVdhWTtI6a31FqMV+k1hp61ao6lwlNtGr8awo1kZkk98jLjgWXFebo2EdILhp6o0Wgv0Az/AMbSpjqDz1GaVKUk8ecusxO9CpZUOjQaf3w/MKIwhjviUvfdd3UkW8tXWo8ZMxz2iqzVTRFuZmYjGsY745yVTExGHZCtGtmo+tukkG4rsbp9n1KzaasnERt99MxTClJSRqPlvFvZPHnxkWXEG7akhEfZkvg1njfjNNp86lPtpIv1mJ2TE36aKoiYqmI18U29aoh0UC7No27GY0qFatmW3DW0l0lz6g7KN4lERlgmy8Xh29osPG6Xvdvpt3pt0t/cLBb3XgddbMVyJbVIjup3XWobLai7DJBEY7McrlcV6RTFPh+5VqqzycpchqADgoDrqw7NYo81ymx25dRQws40d5e4hx0knupUrjgjPBGY7EAFQbd1G2hb8v8AuOxDfs61atR2Y8mTLRGdlEhp5O8jo8qwo+o8kJlpmsdFs+5KHp9eVyMLvuRFbUb5QXIsWa4eeDajyjewXqd7+3Ai24L8o+g+1ddVevR9VHt66KFDKBVVtrWybsfKXGT3SPC+JHjsx2jXbCv+1rs2VkVxtvvtuuOx00OTIZNpTL6lkaXsqIjbwlKz3uHD3R7tdvt67cdniiuIxNMc5jrrnE8nerNUxolPVSrastVeFCsChUB6E63vSKtWZqiJlRH6joUlk8l1kZjotGNVL0qepF0WFqHCpEavUyHHqUaRRjX0L7DmSV6vjlKiIv1jPtM78t29aMbFDuCDcL1KQ1GmvQXyeSh3oyPioueeYgaz9SrcvbbaTLo88pDblryKYaFNqbcRIYk5cbUhREojIuJZLBlxIZbdE10XLc2/ljOcTnz8YVjWJhMev2q6NGdL6rciGmZVSb3GKdCdUZd9SlqJLbZY4nnJnguojGyNqVMsrRyDdupUYqPUGozblUYpzLkgmHFKxgkpJR8MlnmRYPjwGE7V9BqyHrCvaDRlXHTLNqqqlUqS1xdcaNBJJ1tPJSm+KsCRdPNZLJ1YgpXbVwQasa2CeXDSsifbQfA99o/GLB8DyQ5dnTFimuKc5mcz07u7rmY59yMaZh2loX9b+p9veilrVuNVoDhGSZMNZKNCurJGWUqLsUQhNrWC9dn2U5TdWY0i5LXyRw74o8IzS2nJ+LMaT6hRcPGSWD84iXRnWrTWka+XzfNRqdJ08p8lv0Jj0Fsl9JLWh09+U+lCN1JmaSIiLtPPad4pUmEqluSJTjJ0/ozccceNPRdHjJmoz4buOPEdb1qNkr3K6M0ziddJ8p7vTuRMbk4l11o3rQb8pDdUt6rw6zT3CymRDeJxPHqPHI/MfEZCKC6g0O0tUbqda2fbSqbN1ofUT130OS5TKQyrB75Gv1DnuJSWc8DMXds+HVKfadHjVqWifWWYjTcyW2WEvPEgiWsuXM8mOW0bNTYppmJ48p0mP35eBVGIh3oDQjyNRhUAAAFYNtSnVWpx9PIUS5KlR6TV7gYpVQhwF9F3wh087xrLCiNJJMsZwe9xLgM6s7ZN0rsasQKvTbVYXWIS+kZqE51yQ90n5+VqMt7sPHDqG/ae02qupWmhM28hC7lpU6PVqYlbnR7zzK97cJeS3TUneLJ8M4yOgoO2rpw7EU1dc92xrhjrNmbQ6yy4T8dwuZZSkyUnsUXPsIerTXtFzZqaNnmdM5iO/rj0dczjEJ4kk6cdzoTSTxpPc3843scM+bIq7p/ZFM2tLRp9d1BlVZFx0J2VRKjTqdNXDjJkNunvOdGjHE0mnjnkLEWVfND1Et5mt25UmatSHzUluUxndUaTMlFgyIywZYED6fTT0p2ltU6Eon2bPmwk3Y9MfZUlmHIMvx5EvGDSZFvcOwy6jzxsb1NFyKdK41zz6THuinmxjaR2Y9N9MNELjum1Le9AbhozCJUOpQpbyXm3CcQnO8azzwMxaq2JDsy2aTIfWbrr0Rlxaz61GgjM/wBYhW9te9H9WtN7poTV80V9mbT3o6m3nyaUZqQe6ZJcIs8cfCQ7rZIu07z2d7KmOSUypLMIoUhZGZn0jKjbMj8+El+sdb0Xq9niq9nNNXPvj9Fqt7d1fXtC6s1HTa36VAtuGipXpcU1FNosV3PR9KeDW4vH5CE8T+AfNo3s/p07r027bgr8+7L+qjJsz6tIcNLJINRK6Jln1KEEaSx7nVnA2bSOnNbuyl23clpJaeu+0qkmp0+K+5uIlJxuusGZ8CNaeWeshwaebTlOuy541qV217hs+7nVKQdOqMFa2iwk1EopCE7hpMi58CyOcRXVs39hHXe6/nj2zxV5aOs1J0GpzD9du2rar3nb1NJS5kgmqv0caKnsSW7wSXIi+AYds4UbVPUbSmvzJ1/VWmUqrPJO2ajMjMu1NqMhZkbjmS3TJxJEWOfDJHxIdhtlXrRLlteoaZph3HMuSQmPPYTRqO5LQncc3yNZ8EqT4nEs9ZDO9l+79QrwsR2TqFbbNuy2XiYhdG0cdUllKSLfUwZn0fHgRcPcIapquU7Hv1YmcxjMRw5Y65+y+at1irpa56JPLf6ZrWe2ybNbjaktwKrHMuJ7uCNLpY6ufAuQk7SjXC19Y4El2gyXW58MyROpU5lTEuGvj4rjaiyXI+JZIdBtGat1TTuk0Wi2qxHmXrc01NMpLMhXiMqMsqfWnB5SgsGfukPq0O0LgaQ0+VKdmO128KsZPVq4JRmbs13JnyzhKCz4qS6sZGavcrs9pcjFU8MaZ65jhj01VnExmeLF6nsb2vclcmVO4bmu+vOvLUppuVWnEojkpRmaUEjGC4ljswQjLaN2WbK0w0Uuq6KBIuCPV6dHQ5HdcrclZJUbqE5wauwzFziPIh/a5o8iubNmoESKnfeKmKeJPaTakuGX6kGL7Ltl/t7cTcnGY56cURXOUj2k8t+16Q44o1uKhsmpSjyZmbaTMz/WO6GKaYViPcWnFsVOKrejy6ZGeQfmNpPAZWPLmJiqYlzAAYxaN+0K+Xq2zRpffTtFnuUyck0KQbT6CI1JwZFkuJcS4GGJxkZOIJ2xqO/K0NqdcguKZqtryGLghuJ6lx1ko8+Y0GsTsMevy12r1sqvUB4i6OpwXoh56t9BpI/gM8jrZr7O7TX0lMaTEvrtusouK3qXVm07jc+K1KSnOcEtBKx+8dsIT2O7leuXZ5tI5We/aa05SpBH+fHcU1n4SSkxNgi7R2Vyq30nBMYnCNtbtIIustoopq5rtHq8GQifSqvHTl2FKQfirIusuZGWeJGOk0srGsyK2VIv226EumstLJVx0udg5Cy9QZRzLJb3XxLAmEbxeL0xb7OYiY5Z5eH7wZ0wrXrTp9qXqFrlYTkWmUtWn1v1Jip9+Nyiamm4RGThGZ8d0vzUl43DJ9llBoRYGopXem5TTTiI3YxoTOVS6zqFRtLtsBl2kVOJWYt8ttUmsUunSEuSYU9nxWn1tlxJO4e6fHtPHAW0GI27pdadp1uo1ikW7AgVWe8t+VOaYLpnVq4qM1nx4n1FwGWkWB2v3aLu7uxrEYmeuP008lqpy2nxFcdGUJ0m2hr804SXQ0atoTdVFb5JbNZ7kppJcuC8GLH8RXXasYfsSr2Jq5DbUsrSnmxVEoLiunScNumfD8kzI/hFtm+KarP+aMefGPfTzTTrosYA+aJKZqMVmTHcS9HeQlxtxB5StJlkjI+wyMh9IxuYAAAAAAAAAAAAAAAAAAAAAAAAAAAAAAAAAAAAAAAAAAAAAAAAAAAAAAAAAAAAAAAAAAAAAAAAAAAAAAAAAAAAAAAAAAAAAAAAAAAAAAAAAAAAAAAAAANDPgIQvDaqti3bmmW/SKPcF61eAZJnN23TzktxVfmLcySd7+iRnjj1kOtu1XdnFuMrRTNXBOAhjbBivzNmq/247Kn3PQ/f3EkZnupcQpR48xEZ/AOhjbZ1rQpLSLrtu67FiPHut1GvUlbcY1fmmtO9g/dLAnNh6FcFKQ80tqdT5bO8haTJbbza08+wyMj/AHjrTbubJcpuXKeE58cLbs0TmYdBYtyUuZprQ60zPYVSTpbD3fhrImiQTZZUaj4ERYPPZgQXtqXMw5bOnkU2nX6DUK9HnSazAYXJVFZZw4SmyQR+MvOCMj5ZHdu7EdjLeciNVS5YlrOu9M7arNWcKmrPOTTuHx3TPiacifadT49JgR4MRlEeLHbS0yy0kkobQksJSRFyIiIiHWiuzYu03bczVjPd4ddUxVFNWYRLZm1Haeo1QlU224dbnVdqI7KaiSKY7GJ/cTncJxwiQSjPBFvGXMQNrdtDWzeNsUG8Y7x2vqJYFaTKkWxVXSamE2aiakspLk4SkGR5LsF3RjFyaY2jeMpuRXLapVYkoLCXpsNt1ZF2ZMsibN+xauRXuTjx9eXCYViqInOGG6jaGWvraVFuByTUqFXIzO/BrlFknGmNtrIj3DVx3k8eRlw44xkR/Mk61bPkZ2VJkMatWPBMlurWg2661H/KPCS3XjRz7TLsFlkMpaQlKCJKElgkkXAi6iIcw5UbRVTG5VEVU9J+08Y8kxXyQfrPqyzHtGiR2dN67qHSrpiq34kOLhCG1JSaUvEr1Jq3i4HywZ9QhPTLRXUWDqdRrgtK0XNHrabkEup02ZXzmpms5LLfe5ZSgzIj4559Yu4A62trmxbm3bpjXjnM+3D2RFeIxCJNaddI+mD9KodJpj10XvWVGml0CIskrcIubriuSGi61H/eZdLoroXOotff1B1BlIr+pM/JG+kzOPSmTIyKNGLOCIiPBqxk+PnzMR0KnnV01XvKP6KJZOOU02k9MTWc7hLxndzxxyH3m1nrHCL25a7O3GJnjPOe7uj6m9iMQ3kWBqADMoAMM1LpF31m3ksWXX4du1cnUqOXOhFKQbfWncyWDPhx49Yipenu0OlCjRqnba1kRmlP4PJLJ9mc8B3t26a4zNcU+OfylMRlYgBiWmX4VHYNG/DbvX8KuhxPOFjojcyfFOOHLHLhkZaOMxiZjogAcL76I7SnHFJQ2kjUpazwlJFzMz6hXle0bd2odWqDeklitXbQ6e6cd6v1KeUOI+6WN5LGSy4RdauXL4e1qxXezu8I5zMRHrOiYjKxgCN9CdUXNYtOotxyKWdHmKffiyIfSm4lLjTikK3VGRZIzT1l5uoSOXIc66KrdU0VcYQrztmGdOtOybgcLMCh3ZTpsxX5jO+aDWfmI1ELB7xLIjI8kfIy6xi2p1jRNSrBr9qzSLvaqw3IxqP8hRl4qv8AJVun8Aj7ZS1Ak3dpk3Qq2Zt3daTh0SsR1n45ONeKhz3FoIjI+viNM/Hs0Y/hmfSeHv8AZ040x3JuGh8hqAxuauemajsnaz1St51Jk3csGFcENxX5RoT0LyfgUefcFikqyQr1qi2mi7XGjdTd3UNT6fVaX0hcDNZNpcSk+0jPkXaJ1lVeDT5cOLJlsMSJi1IjMuOElbykp3jJBH6oyIjPh1ENm0/FuV9aY9vh+zpXylCWsWzRTqgiTeGnsVi2NTITqqhDqUMujKW7ukSmXy9SpDhFg8lzPPbnONDNW4uslgRK0hk4NSbUqLU6cvguHLRwcbUXPnxLzGQkcVl1MoidDddrSvqgK71p951RFDuOmpPDUhxxJ9DKJPU4kyPJlzz5zzeiqdpo7Kuc1Rw/L8v1TE78bsrMHzGp8hofMfOibHclOx0vtqkNESlspWRrQR8jMuZZGBxfUAACQAAAFeNuTxtCHGvyHqzTm1l+ck5COB/qIWGPkIu2lbAe1L0VuajRSUVRKN33CUj1RSWTJxrHuqTj4Rp2WqKL9uqrhEwvR88JNPhjs7BoI90H1Piaw6XUK4477bkt2Ohucyky3mJKSInUKL8k97PDsMhIQy3KKrdU0VRrCnBzCBNdb+umq3tQdKrBlJpdw1eOufUa4pG/6FQUnumtBGWFOLPKU9nw5KexWrXJ6do1rPQtX1xV1O1lU/0ArqWUmbsBpTpKRKIi9UglcFF1F7o2bLEVXeGZxOO+eTpRxYxULIhbJuo1qXZIu+tLs+oIdp1dfrE9ySuVOWX8XcNvGC/LM1Fgkkn9duULJaSUkyUk+JGXWK36/wCqOlWqehd00pN+W+pMqCp+KrvpC1E6j8Y3hHqsmaSLGM8TGO7HGutWXQaFYGobTtKuJ2ntzKDJm5SdUgmXikRnzcRyMuZlg+eRuvWru0bP29cfHTpOdJmOMT341z3YXqpmqneWon0uHVGybmRWJbZHvEh9tKyI+3BkOOo0KnVemrp8+DHmwFp3VRpDSVtmXZumWMD794N4eNq4Oltez6HZdPVBoFIhUaIpRuKYgsJaQaj6zJJFk/OMeToxZzepjd/tUZmPdaGlsqnMGaOlJZEkzWkjwpWCxvGWRnmc9Q254H7ovFyuJmYqnXj3jXCRjdF09tm3axLq1KoFNp1TmEZSJkWKht13J5PeUkiM+PH3Rkm8G8K5mOEpy6d20qG88p5yjU9bqlbxrVFQajPtzjORvuSgQrqoFRo1SZ6enz4640hrJlvIWk0qLJcS4H1Dtd4N4MznI6W0rWplj25TqDRYqIVLp7KWI7COSUkX7zPmZnxMzMx3eCGoCJmZnMoAHUUS56TcyJC6TVIlSTGdUw8cR9LnRuEeDSrB8DLsMduGsaSI61a1ut3R6JTzq3fU2o1J3oYFJprJvzJa+skNl1F1mfAhxaR68WtrGzMRRXJUWq08yTPpNSjqYlxDyZYWhXnI+JGYjbRmnxLl2n9Zq7VEpnVqjyYdNpzrp5VDimyZqS2n8klHzMuJ8e0w2mUvaFWzfGrdprbbuyotwIb/AH9hxgm23CRlDZ4ysyURc+rPUPTjZ7c107PGd+YpxPLNWNMefF23YnFMcVkvyh1k63aVU3umm0yHMeIt3pH46Fqx2ZMuQ6nTS8mtQbAt+5GSbJNThNSTS0slJQpSS3kkZdh5L4BlCeY8yYmiqaZ4uU6Th88SGxAjoYjMNxmUcEtNIJKS9wi4EOZbaXEmlRZSfAyPkZDkGh8hCGGVnR2xbidbcqln0Oe42RpQt6ntKMi7PUjvbetql2nSmqbR6fFpdPaMzbjQ2iabSZnk8JLhxMduAvNVUxuzOgDThzGoCoAACMDDKnpVblZ1FpF7zYapFw0qM5EhvLdUaGULPxjJGd3e4n42M8RmA3gLTNU4zPAbB1tzUZFxW7VKU5wbnRHoqvcWg0n/AGjtQFe8QVsX1Zyo7Otrxn/8IpRPUpwyPJH0Dq0EZf5JJE6FyFeNkoioEzVWzUcGKFdclUdPY1IInU/Bk1CxA27ZERtFeOEzn11dLnzSjLVy67/oD1Lj2JZTF0uyOlOS/NnpiMxySRbpceJqUZ8MfmisEK5dZ9K9dZhos23qJK1IcJTMOfVjdhFMYb8dZOILJLWk/UH6oz4ea9Ihba5sp+7dFarNpkd124qApus0lcYsvNyGVErxO0zTvFjryOuybRRTPZVURirSZ18ufKcLUTETiX3abHrT+Ep/h0Vo+gBtK/8AExv98Jc/Jxv8MduRLnIiHSWhWHLjtSjVV1tTDs2GzJW2tBoUlS0EoyNJ8SwZnwHdfkkMVyrfqziI8HOdZV42RXCt7+E2xlFhVt3VK6JJ8+95B9K2fucVfqFiS5Cq+smzxe9062Lqto1dFFtS6I0WNdL0aSbMokx1nxbxx3lowjJdnEfBd2nJbLt+ae1mzK3WvQOtVtujVai1CouSWHydSokOES87qknk8l2EPUuWrW01RXTc+OqM4xzxrmeUzOcadF5je4LcAIu1Z18tzSSVAp0xqoVq4KgSlRKFRYxyZbyU+qXul6lJdpmXmyM+o1UTWKbFldC9GW+w2+cWSnceZJRZJK0/kqLkZdpGPKm3XTTFdUYiVMS7MAAUVAAAAdFeVsxrztOsUGYlK4lTiOxHCUWSwtJpzjzZz8A70aHyCMxOYEIbG9ffrOgVBhTTV6JUJb1ElpWeTJyO4pBF8TcE4Cu+zQ2VN1W14pTBbkFm5m5LbXUlbzBKcx7plkWIGraoxeqmOevrr91quIAAMqoAAAAAAAAAAAAAAAAAAAAAAAAAAAAAAAAAAAAAAAAAAAAAAAAAAAAAAAAAAAAAAAAAAAAAAAAAAAAAAAAAAAAAAAAAAAAAAAAAAAAAAAAAAAAACDtpu+K9R6Xbdm2nITCue9agdKjz1EZ95MkneffLHWlHLsM89QznSrS6haOWdEtyhRuijteO/IXxdlPGXjuuK5qUo/7i4EIm1zqUe19pbRiv115uJbyEVKCiY8eGmZjzSUoJSuSd4uBGf/YLHqTvFga72bdi3RHCdZ75zMe0LTwhQ+8KBdq9bNa63R6o7NqtCKPKdtOoqN2FWKO5H/GtbmcEfi+KZcj4cxYvZKo8SjaB2umnVdys0yS2uXDcdSaTYZcWpSWOJn/J5NHukYwrajjPaQ3BTtaqLMgtzILBUyr0ee8TaaxDUrg23n/GpMzMiwefgwe7YOuakzNEYtMYqkM6g3OmuqpSXk9PDbU+tSUKb5pwR55Y4j0r9VV7YouRwiaY4dIxP5x49zRV8VGfBZoBpkhqPCZQAAAAAAAAAAAAAAAAaHyEQXjtV6WWSqQ1NvCBMqDCjQdOpq++pK1keNxKEZ8bPDjj3RMAxGj6XWdb9YdqtNtekQak6o1rmR4TaHTUZ5M94izkzPI62uyzm7Ez4Yj7StGObqdIL7uLUSkzarW7Ok2dCW8RU1ic+lUp9jH8o62RfijzySZnw/fIZchooalyFKpiapmmMKzOZV6216y9B0mp9JKUqmU6v1uFSqjPJW6mPEWvLpqV+SRknGfP5xMduRKBatrRItGKHAt+AwSWCjrSmO00kue9nGOsz+Ex9tyW5TbuokukViExUaZMbNqREko323En1GQhdexBpH30lbdBmRou8Sl09mqSSiu46lN7+DLzDXRcs12Yt3JmMTM6RnOcd8fd0iYniwOpa7Uy/drLTigWZc8lVuxCnIqBwMpgy5XRKWTW9gkuGWOJlnG8WOORbjBitG07aUDTazbDuy3aS1T4Ni16PNXGp7JIQ1DX+LfPdSXLdMjMWMplQj1enxp0R9EmHJbS8y82eUuIUWSUXmMjITtMUVW7dVuMRiY84nP0mEVRGj7DLIr1rbp1XrOvBrVzTmKqTcURsmq5Qm+Ca3CIuJY9mQRZSfXgi4mWDsMNgzW7k2qt6POOsdFYnDDdMNUaDq9ace4LdlnIiu+I40st12O6XqmnE80qLrL9QzIQPc+iNUtjWih3/p2zDgqnvnGuunuuG2zNjqx/GCSXDpUGWcljP68zw31ib0W6Zibc6Ty5x3T++HomcckObTOnFXvizYFXtdJHeNqz26zSEGeCecR6tkz7FoMy93Huivl81m/dqG+qHX7FotRtuVYEUp5Ra6yccnqotxPSRSNWCMibQot7kZdmRekBpsbXNmmPhzMZxPTPHx5+qYqwrk1tjQqD/Fb2sC8LTq+7lMX0OOWh9XWTTjeSVx5ZxzHxUmmXftF6iW3cdyWxKsywrZfOfT6ZU1F39Upe6aW3XUF/JpRzIjPJ5688LNAKxfoozNujEzzznHh+5TvRHCEMbWV/1XTnQ6tVGiPnDq8lxinxpm9jvZTziUdLnH5JGZ+7gQvqXsvy9IKVRNQrFkS6pdNuurqtcly57yplabSkjW0RllOD8bgaeXbyFrb4sukah2rUrcrsQp1JqDXQvsqMyyXMjIy4kojIjI+oyIxAjmzlqrGtxyzYes7qLPU2cYlSKShypNxz4dET+8Rn4vDe58Rq2O/TboiIrinXXOfiieWkTw19V6Ksc01aUaiwdWdPqJdtPaWxFqccniZcMjU2rJpUgzLnhSTLIzIjIiFXy2ebr0BNqqaMVV6bASku/wCz69JNcWXhODcZXzadM+PYZ/qE86d3LNvGyqPWalRZNuTpsdLz1Kl8XYyutBngs8uwuBlwGK/boj47M5pnh1jxhzqiI1hlAAAyqA0MsjUAEGXrsrUOsXPJum1q3WNPrnlGapM63n9xuUfa6yeUKPtMiIz49Zj5afoHqRDqEWQ7rrcEppp1K1sLpkfDiSMjNJ8+B4wJ9Aao2q9EYmYnxiJ+sStvSD53WkvtqQtKVoURkpKiyRl2GQ+gBmQj49BdOO+e+CsW3en3+kNfoa1ne7fUjl1K0goOqVPpMaqtOMuUiczPgS4iibfjONqI/EVjgkyLdMusvcIZ4Av2tzMVb05hO9LQiwNQAc1QAAAAAAAAAAfNKlMw47j77qGWW0mtbjiiSlKS5mZnyIfSIv1i0Xa1n9CYFUr1RhWzHcNyo0SGZIbqhcDSh1ZeMSSMuRHxz1cDF6IpqqiK5xB4ol2dKJAvXXm/dS7Tp8ei2QtB0eN3ok0Jq8lKyU9L3SwWM8CPrznnkWqHW0Kh0+2qTGplKhs0+nRUE2xFjoJDbaS5EREOyHW/d7avejhGkeELVTmUOakbMtr6hXIVysS6rat0KSTT1Yt6YcV6QjBFuu44LwRFgzLI6aibH9ss1uDUbluG5L7TAX00WDclQORFbc/PNvBEo/0sl5hPI3iadqvxTuRXotvVRGIlA7WyLatGuP0Utis3JZ7C5CZL1LodTU1DdWSiP+SMjIiPrIsFgxO5cgwQ1HO5dru435ypMzPEAAHJAAAAAAAAAAAAAA4VOoS6hs1JJaiM0pMyyZFzwXwkDryWG1LcUSG0kalKUeCSRczMxGOr+hMXVGo0asxbhrFqXHR0uohVWkPElaUubu8hSVEZKSe6XDh7owOdso1662FQbx1ju24KKsjJ2nRybhJeI+ZLUjJqIyyWPONVFuzVTvVXMd2J9uXvC2I5y5NlWUi6Ly1ivCnkblv1q4Et0+UfApBMN9Gtae1O9yPrFjB0ltW3TbPoUKjUeE1TaVDbJmPFYThDaC6i/tyfEzMd0XIUv3O1uTVEaaR6RgqnMtQABwVAAAGIan21VrvsKs0ahVp23KvMYNqNVGSPejryR5LBkfHGOHaIotzZ4uyt3dQ7h1O1BXdiqDIRKplKgw0RIiHkpNJOulxNa+PmFgxvHei9Xapmmnn3Rn15LRVhXnUHSPUOl6yztRNPJ1Afm1KnNU6TDuJtw+gS2eSNlaORK608OPEYvTNA9bmbyqt8/wAJFBplzVeO3FmRWKOp6I003/JkjfXxNOVccFzPjxFqxvHanbLtNMRiOGMzETOOi/aTEOupDMuPSobVRkNzJ6GUJkSWm+jQ64RFvKJOT3SM8njPAdiADC5AAAkaHxIYTqrqjQ9ILOm3HXpBMxmC3GmSP8ZJdMvEabLmalHw/f1DGtYdcHdO50Wg0O1axd121Bk3YUGDHUUYi3t3eefMt1tJHz5n7mcjGtP9AKxWrphX3q3V03LdUYzcgUmN4tLo5n1NN/luF7If/YRjZbs00xF2/OKenOrw/OfdeKecu22W7EqltWLNuK5WVNXdd81dcqjaywbJufyTOOrcQSSx1GZiaBvAZ7tc3a5rnmiZzOQAAc1QAAAAAAAAAAAAAAAAAAAAAAAAAAAAAAAAAAAAAAAAAAAAAAAAAAAAAAAAAAAAAAAAAAAAAAAAAAAAAAAAAAAAAAAAAAAAAAAAAAAAAAAAAAAAAGN3zYtE1Itadb1xQG6lSpiN11hwse4pJlxSoj4kZcSEMR9l+76C13nbmt12Uyjt8I8OU0zLUynqSTi8GZF5xYsB3t37lqMUzp4RP1WiZjggizNlmm0+6Grovi4KjqTccYy7ylVsiJiGRcujYSe4SuvePPHlgd7qDsw6bal1JVUq9uoZrJnvHVKc6uJJUfnW2Zb3w5EsmWQMsiZ2i9vb8VzE92n0Tv1ZzlEem+zRZulVxFW6GusnOJpTRd+1V99vdVzyhSsHy6+QlwuQ1Acq667k71c5lWZmeIAAKIAAAAAAAAAAAAAAAAAABhWp+n7mpFtlSmbjrNruk8l9M+hyCZfI058UzMjynjxLzEJjGYiZxAzUaHyFcHLG1/sBrpaDflKv2DEURoplep6Y0mU31oVIQfqi44UfZxH0ntYSrQX0Wo+mtz2Vg8KnR2iqUEu0+ma5F590a/wtdX91MVeHH0nE+zpuTy1TtV6TFr1Kl02c0UiFLaWw80rktCiMlEfwGIJ2Sa49b9NuXSuqyekq1j1BcSP0md92nrPejOecsHu/AQy6i7VGklwRzfh6gUTcIsmmRI6BafdS5umX6hF9j3fS9UNsFy47FdTWaDDto6dWaw0kyjdMbu8yhteC31cDzjq6x1t2rsW7lFymYjGeHCY4esZhMROJiYWpAAHnOQAAAAAAAAAAAAAAAAAAAAAAAAAAAAAAAAAAAAAAAAAAAAAAAAAAAAAAAAAAAAAAAAAAAAAAAAAAAAAAAAAAAAAAAAAAAAAAAAAAAAAAA2mnPmG4AAAAAAAAAAAAAAAAAAAAAAAAAAAAAAAAAAAAAAAAAAAAAAAAAAAAAAAAAAAAAAAAAAAAAAAAAAAAAAAAAAAAAAAAAAAAAAAAAAAAAAAAAAAAAAAAAAAAAAAAAAAAAAAAAAAAAAAAAAAAAAAAAAAAAAAABofEsDUAGG1rSGyLheN6p2jRJzpnk3H6e0pRn2me7kxkVJo0Cgw0Q6ZBjU+Ij1LEVlLTafcSkiIdgAtNVUxiZAAAVAAAAAAAAAAAAAAAAAAAAAAAAAAAAAAAAAAAAAAAAAAAAAAAAAAAAAAAAAAAAAAAAAAAAAAAAAAAAAAAAAAAAAAAAAAAAAAAAAAAAAAAAAAAAAAAAAAAAAAAAAAAAAAAAAAAAAAAAAAAAAAAAAAAAAAAAAAAAAAAAAAAAAAAAAAAAAAAAAAAAAAAAAAAAAAAAAAAAAAAAAAAAAAAAAAAAAAAAAAAAAAAAAAAAAAAAAAAAAAAAAAAAAAAAAAAAAAAAAAAAAAAAAAAAAAAAAAAAAAAAAAAAAAAAAAAAAAAAAAAAAAAAAAAAAAAAAAAAAAAAAAAAAAAAAAAAAAAAAAAAAAAAAAAAAAAAAAAAAAAAAAAAAAAAAAABpkhqAAAAAAAAAAAAAAAAAAAAAAAAAAAAAAAAAAAAAAAAAAAAAAAAAAAAAAAAAAAAAAAAAAAAAAAAAAAAAAAAAAAAAAAAAAAAAAAAAAAAAAAAAAAAAAAAAAAAAAAAAAAAAAAAAAAAAAAAAAAAAAAAAAAAAAAAAAAAAAAAAAAAAAAAAAAAAAAAAAAAAAAAAAAAAAAAAAAAAAAAAAAAAAAAAAAAAAAAAAAAAAAAAAAAAAAAAAAAAAAAAAAAAAAAAAAAAAAAMK1g1GhaRaXXPedRx3rRYDs1STPG+pKfER7qlbqfhETOIymIzOFWL620bttvae9C40CmO6M0u4INn1mpraUchFTlMrXvJcJWCQ2ro0KI09vbwt/eN5UOwLdmV+46pFotGiEk5E6Y4TbTRKUSU7yj5ZUoi+EeY9DfuG59iuu6eVPRDU2o3ZdS5FwyLgjUdBx3ao8/wB8NSEqNwlbhYaTkizul5xKutWr38OfcpKzdjyyOpvUqLFqSeOUzGZbLTxGR8sqQZ+4ogn4KfDHuiNZ8VvC2g9NDv5Njlflvndqlk0VG9EG++TcMskjcz6rH5PPzDI70vm39O7fkVy5q1AoFHj46WdUZCWWk55FvK4ZPqLmYpJtn6A6f6ZbBdQnW1a8ClVigN02fArDTKSnpknKZJTy5GOkWtXSLyaj4mfmId/rhT4uqu2Ps6WldzDdQtf0Gn15NOlpJceZPQ0W7voPgvcIiVgy6z7TCZxVu9+PbJGsZd9fe0JGvLaR2cWdPL4Yq1oV6XXGamijTEux5amYjakIeIutCjNREeD45E+3Xrzp3YzldRcF60WiuUM46akidMQ0qKp8jUwlRGfNZJUZEXEyI+wVc1h0lsmwdvTZvrNs0CDQapWXK03PRTW0sNvpZhfilqaThJKLfUW9gjMiwecFjksTSm1tRO6La5VG5qRHry6JS6J3jGntk9HbW9F3VuG0ojSpZJRhKjLgSlY5hT8sef1TPXwWpufWmxLMtCDdVdu6i0i3Z6EOQ6nMnNtsSUrLKDbUZ+PkjI/FzwMa21rJY952fMuyhXTSavbcJDjsipwpSXWWEoIzWa1F6nBEZnnqFKdTafddxbfsyjWzY9pXe1aNnRTolEuaScSFBQ64XSPsNpbWk158T1JYSRY5CRdC9A9SKdtD3beF2WhaFk2hctuehdUodsT1PszZSV+LIUg2kESjbW4kz7O0zMTGsRPVC0CdSrWVYZXsmvwDtE4ff/o106e9e9yLJu7/AC3cdY3TNR7XhWP+Gb9dgs2p3omf6MreIo3e6iIyc3+W6ZGXHzkPNeh1Caez3J2WH5TiKyWpabMUW9+N9B1PHNU8R45dEhRZ7DGjVwTbk2eLT2XH5K1V5Oorllz0nwcOlRX++zdPH5PRG0WS6khx4fvh+Zw4/vj+T1CpdSi1qnRZ8F9EqFKaQ+w+2eUuNqIlJUR9ZGRkYpBF23bvt/bGuGyLqg01rSpqut2zFq7LJpehz3WEuxyeWa8GlZktPIv3Hm8kSI1CjNR2UE2y0gm20J5JSRYIi+AUQs/Ral7QN47Y1kVU+hTULignGlpLxoslEXeZeT50rIj85ZLrCOORP2umsdf081o0PtallDVS7xq0yFU++GTW4TbUcnEdGojLdPePngxn2pGuGn+kCYn4bXhR7XOXnvdFSmIaU7jmaUmeTIu3GBQW29ZKrqdqfsv2/d2WtRrJuyqUG42FeqU83Ew2/wAiyl1Cd7PWZKGX1+/LSsnbh1mrV4WTV9RYPoXSafEn0egqrCKMvoDU5CcQST6NTvBeS4HyMyyHgc5XG0215071ikzY9kXlR7ofgoS5JbpkpLqmkqMySaiLkRmR/qEgCrWwHplVNPdM7pnVS112Y1cVyzqtS6DJaSiVAgOKLoWXSLig+BmSDPxd7zi0oAAAAAAAAAAAAAAAAAAAAAAAAAAAAAAAAAAAAAAAAAAAAAAAAAAAAAAAAAAAAAAAAAAAAAAAAAAAAAAAAAAAAAAAAAAAAAAAAAAAAAAAAAAAAAAAAAAAAAAAAAAAAAAAAAAAAAAAAAAAAAAAAAAAAAAAAAAAAAAAAAAAAAAAAAAAAAAAAAAAAAAAAAAAAAAAAAAAAAAAAAAAAAAAAAAAAAAAAAAAAAAAAAAAAAAAAAAAAANDLIjDaE0Npu0RYCbOrNUnU2juTo0uYiBu5loaWS+gWaiPxFGSc448CEoAA+ZhhEZKGmkEhpCSSlJFwSRFgiLzCuMvYetl7SvVHT1q4qxGty/KsdYcZT0Z+hrqnUOLSxlPqVKbTwVkWXARjmjCLNb9B6ZrlolVNNKpUplOps9mOy5MhkjpiJp1txJkSiNPE2yzw6zHT63bL1u630S2GpdTqtu3Ba7iXqJclEkdBOgrJKUq3VYMjSoklkjLqITWAY1zKY00VmtDYct62NTrR1Gn3hdN2XxQn33XazXpiZDs1txhTKWDLdJLbaCWpSUoIvGMzMzEl2jobTLP1pvvUqNUZj9Su6NBjSobpI6FkoqDQg0GRb3Ej45MxJwCRCOt+y7RdZLmot2RK/W7GvmjsrjQ7ltyQTMgmFHlTLiVEaXEGeeBlwyfaOz0d0OqmmFUqVUrOpt36gT5rSWN24JLZxo6SPOWmW0JSlR9auIlsAEA+k6tEtqotdimTSuEo3QnTiJHepu9AbHT8t7f6M93mNtJ2OLRo+1LUdcm5c5VwTIymvQ5W53q08plDK30cN4lqQjB8ceMYn/BBggjTgTrltEbaaaI0zTK/dRrpg1GXLlXrUGahLYkEncjrba6Mkt4LODLjxyJLwQEWAlEQr5dWxlZl0bTdua3lJnU26KQRE9GibhR56ktqbQt0jIz3iSrGSMsklORU2+H9MabtT6xVHW6v3TpNMmyY0ehu2+9Np8WqQ2md0pSno6TJ548kRkrgkiIsGecemuRxqLPHBGYrTGZyvComwhVLlqVZ1IVErV1XDo83KiptCp3mThznz6MzkmhTqUuKZ390kmov35FvUqAamWBeVcP/9k=)"
      ],
      "metadata": {
        "id": "lg1tKHTU5Jyy"
      }
    },
    {
      "cell_type": "code",
      "source": [
        "print([L(vocab[o] for o in s) for s in seqs[0]])\n",
        "\n",
        "print(dls.train_ds[0])"
      ],
      "metadata": {
        "id": "66ZZeILi2Opn",
        "outputId": "ed9f2916-3638-4660-bb65-081619ce4a0a",
        "colab": {
          "base_uri": "https://localhost:8080/"
        }
      },
      "execution_count": 34,
      "outputs": [
        {
          "output_type": "stream",
          "name": "stdout",
          "text": [
            "[['one', '.', 'two', '.', 'three', '.', 'four', '.', 'five', '.', 'six', '.', 'seven', '.', 'eight', '.'], ['.', 'two', '.', 'three', '.', 'four', '.', 'five', '.', 'six', '.', 'seven', '.', 'eight', '.', 'nine']]\n",
            "(tensor([0, 1, 2, 1, 3, 1, 4, 1, 5, 1, 6, 1, 7, 1, 8, 1]), tensor([1, 2, 1, 3, 1, 4, 1, 5, 1, 6, 1, 7, 1, 8, 1, 9]))\n"
          ]
        }
      ]
    },
    {
      "cell_type": "code",
      "source": [
        "print(dls.bs)"
      ],
      "metadata": {
        "id": "Ub2HfeiU9nmL",
        "outputId": "f2994ad8-bad3-4211-8c5e-6212e3ec24b5",
        "colab": {
          "base_uri": "https://localhost:8080/"
        }
      },
      "execution_count": 35,
      "outputs": [
        {
          "output_type": "stream",
          "name": "stdout",
          "text": [
            "64\n"
          ]
        }
      ]
    },
    {
      "cell_type": "code",
      "source": [
        "sample = [torch.rand(64, 30, 3) for _ in range(4)]\n",
        "print(sample[0].shape)\n",
        "\n",
        "stack = torch.stack(sample, dim = 1)\n",
        "print(stack.shape)"
      ],
      "metadata": {
        "id": "M49KlTLA-oOH",
        "outputId": "2ac1b2f4-2dcd-4414-cb56-5f9a8610dee3",
        "colab": {
          "base_uri": "https://localhost:8080/"
        }
      },
      "execution_count": 36,
      "outputs": [
        {
          "output_type": "stream",
          "name": "stdout",
          "text": [
            "torch.Size([64, 30, 3])\n",
            "torch.Size([64, 4, 30, 3])\n"
          ]
        }
      ]
    },
    {
      "cell_type": "code",
      "source": [
        "a = tensor([1,2,3])\n",
        "b = tensor([4,4,4])\n",
        "print(a.shape)\n",
        "s = torch.stack([a, b], dim=1)\n",
        "print()\n",
        "print(s.shape)\n",
        "print(s)"
      ],
      "metadata": {
        "id": "2GdQ2BizFNTP",
        "outputId": "31011a00-72b0-4c23-d072-77ad706f11b7",
        "colab": {
          "base_uri": "https://localhost:8080/"
        }
      },
      "execution_count": 37,
      "outputs": [
        {
          "output_type": "stream",
          "name": "stdout",
          "text": [
            "torch.Size([3])\n",
            "\n",
            "torch.Size([3, 2])\n",
            "tensor([[1, 4],\n",
            "        [2, 4],\n",
            "        [3, 4]])\n"
          ]
        }
      ]
    },
    {
      "cell_type": "code",
      "source": [
        ""
      ],
      "metadata": {
        "id": "wNPc5PIdFvwc"
      },
      "execution_count": 37,
      "outputs": []
    },
    {
      "cell_type": "code",
      "source": [
        "class RNN(Module):\n",
        "\n",
        "  def __init__(self, vocab_sz, sl):\n",
        "    # length vocab 30\n",
        "    self.input_hidden = nn.Embedding(vocab_sz, 500)\n",
        "    self.rnn_1 = nn.Linear(500, 500)\n",
        "    self.rnn_2 = nn.Linear(500, 500)\n",
        "    self.hidden_out = nn.Linear(500, vocab_sz)\n",
        "    self.activation = 0.\n",
        "    self.sl = sl # length 16\n",
        "\n",
        "  \n",
        "  def forward(self, x):\n",
        "    outs = [] # final outs[0] shape (64, 30), length = 16\n",
        "    \n",
        "    for i in range(sl):\n",
        "      self.activation = self.activation + self.input_hidden(x[:, i])\n",
        "      self.activation = self.rnn_1(self.activation)\n",
        "      self.activation = F.relu(self.activation)\n",
        "      outs.append(self.hidden_out(self.activation))\n",
        "\n",
        "    self.activation = self.activation.detach()\n",
        "\n",
        "    return torch.stack(outs, dim=1) # shape (64, 16, 30)\n",
        "    \n",
        "  def reset(self):\n",
        "    self.activation = 0"
      ],
      "metadata": {
        "id": "stOoMX1zRu7e"
      },
      "execution_count": 40,
      "outputs": []
    },
    {
      "cell_type": "code",
      "source": [
        ""
      ],
      "metadata": {
        "id": "udDp8h-71P4g"
      },
      "execution_count": 40,
      "outputs": []
    },
    {
      "cell_type": "code",
      "source": [
        "learn = Learner(dls, RNN(len(vocab), 16), \n",
        "                loss_func=CrossEntropyLossFlat(), \n",
        "                metrics=accuracy, cbs=ModelResetter)\n",
        "\n",
        "learn.fit_one_cycle(1, 3e-3)"
      ],
      "metadata": {
        "id": "OJI2WQALSkfz",
        "outputId": "98f15e84-e452-4465-abf2-beab477d16cd",
        "colab": {
          "base_uri": "https://localhost:8080/",
          "height": 81
        }
      },
      "execution_count": 41,
      "outputs": [
        {
          "output_type": "display_data",
          "data": {
            "text/html": [
              "<table border=\"1\" class=\"dataframe\">\n",
              "  <thead>\n",
              "    <tr style=\"text-align: left;\">\n",
              "      <th>epoch</th>\n",
              "      <th>train_loss</th>\n",
              "      <th>valid_loss</th>\n",
              "      <th>accuracy</th>\n",
              "      <th>time</th>\n",
              "    </tr>\n",
              "  </thead>\n",
              "  <tbody>\n",
              "    <tr>\n",
              "      <td>0</td>\n",
              "      <td>1.609066</td>\n",
              "      <td>2.160034</td>\n",
              "      <td>0.321859</td>\n",
              "      <td>00:03</td>\n",
              "    </tr>\n",
              "  </tbody>\n",
              "</table>"
            ],
            "text/plain": [
              "<IPython.core.display.HTML object>"
            ]
          },
          "metadata": {}
        }
      ]
    },
    {
      "cell_type": "code",
      "source": [
        ""
      ],
      "metadata": {
        "id": "ue5gKpQaSk9J"
      },
      "execution_count": null,
      "outputs": []
    },
    {
      "cell_type": "code",
      "source": [
        "img1 = torch.randn(200, 500, 3)\n",
        "img2 = torch.randn(200, 500, 3)\n",
        "\n",
        "torch.cat([img1, img2], dim = 1).shape"
      ],
      "metadata": {
        "id": "b7dPai6fAOz0"
      },
      "execution_count": null,
      "outputs": []
    },
    {
      "cell_type": "code",
      "source": [
        "import numpy as np\n",
        "\n",
        "\n",
        "s = [np.random.randn(3, 5) for _ in range(4)]\n",
        "\n",
        "\n",
        "np.stack(s, axis = 0).shape"
      ],
      "metadata": {
        "id": "ajLgPCkLASqD"
      },
      "execution_count": null,
      "outputs": []
    },
    {
      "cell_type": "code",
      "source": [
        ""
      ],
      "metadata": {
        "id": "GZtHCgGwA_SE"
      },
      "execution_count": null,
      "outputs": []
    },
    {
      "cell_type": "code",
      "source": [
        "import torch\n",
        "t1 = torch.tensor([1,1,1])\n",
        "print(t1.shape)\n",
        "print(t1.unsqueeze(dim=0).shape)\n",
        "print(t1.unsqueeze(dim=1).shae)"
      ],
      "metadata": {
        "id": "nMDU0iNCCjhm"
      },
      "execution_count": null,
      "outputs": []
    },
    {
      "cell_type": "code",
      "source": [
        ""
      ],
      "metadata": {
        "id": "1DQah3buCjel"
      },
      "execution_count": null,
      "outputs": []
    },
    {
      "cell_type": "code",
      "source": [
        ""
      ],
      "metadata": {
        "id": "DvSYioOFCx-5"
      },
      "execution_count": null,
      "outputs": []
    },
    {
      "cell_type": "code",
      "source": [
        "a  = torch.randn(4,4,4)\n",
        "a.shape"
      ],
      "metadata": {
        "id": "Wq133mJxoStW",
        "outputId": "d4df3569-c097-4507-c80b-4df6c5da41de",
        "colab": {
          "base_uri": "https://localhost:8080/"
        }
      },
      "execution_count": 84,
      "outputs": [
        {
          "output_type": "execute_result",
          "data": {
            "text/plain": [
              "torch.Size([4, 4, 4])"
            ]
          },
          "metadata": {},
          "execution_count": 84
        }
      ]
    },
    {
      "cell_type": "code",
      "source": [
        "data = [tensor([1, 11, 22]),\n",
        "        tensor([2, 12, 23])]"
      ],
      "metadata": {
        "id": "tAL6KzoXoSqc"
      },
      "execution_count": 59,
      "outputs": []
    },
    {
      "cell_type": "code",
      "source": [
        "torch.stack(data)"
      ],
      "metadata": {
        "id": "ZxwttNwHoazE",
        "outputId": "67eee9d5-a783-4396-de3d-efe0feebb521",
        "colab": {
          "base_uri": "https://localhost:8080/"
        }
      },
      "execution_count": 61,
      "outputs": [
        {
          "output_type": "execute_result",
          "data": {
            "text/plain": [
              "tensor([[ 1, 11, 22],\n",
              "        [ 2, 12, 23]])"
            ]
          },
          "metadata": {},
          "execution_count": 61
        }
      ]
    },
    {
      "cell_type": "code",
      "source": [
        "torch.stack(data, dim = 0)"
      ],
      "metadata": {
        "id": "tqHf5vDmpxE1",
        "outputId": "11b1d495-856c-4b94-b92a-6cfeac7994a2",
        "colab": {
          "base_uri": "https://localhost:8080/"
        }
      },
      "execution_count": 65,
      "outputs": [
        {
          "output_type": "execute_result",
          "data": {
            "text/plain": [
              "tensor([[ 1, 11, 22],\n",
              "        [ 2, 12, 23]])"
            ]
          },
          "metadata": {},
          "execution_count": 65
        }
      ]
    },
    {
      "cell_type": "code",
      "source": [
        "torch.stack(data, dim=1)"
      ],
      "metadata": {
        "id": "ggtQmjpqpe2K",
        "outputId": "db464a28-df1d-4f6c-e052-ae83ba1ceb7a",
        "colab": {
          "base_uri": "https://localhost:8080/"
        }
      },
      "execution_count": 64,
      "outputs": [
        {
          "output_type": "execute_result",
          "data": {
            "text/plain": [
              "tensor([[ 1,  2],\n",
              "        [11, 12],\n",
              "        [22, 23]])"
            ]
          },
          "metadata": {},
          "execution_count": 64
        }
      ]
    },
    {
      "cell_type": "code",
      "source": [
        "torch.stack(data, dim = 2)"
      ],
      "metadata": {
        "id": "2-Aq_8dnppPi",
        "outputId": "5d5049d9-9086-443a-e665-c0c8e412719f",
        "colab": {
          "base_uri": "https://localhost:8080/",
          "height": 166
        }
      },
      "execution_count": 66,
      "outputs": [
        {
          "output_type": "error",
          "ename": "IndexError",
          "evalue": "ignored",
          "traceback": [
            "\u001b[0;31m---------------------------------------------------------------------------\u001b[0m",
            "\u001b[0;31mIndexError\u001b[0m                                Traceback (most recent call last)",
            "\u001b[0;32m<ipython-input-66-f1c63c1429b4>\u001b[0m in \u001b[0;36m<module>\u001b[0;34m()\u001b[0m\n\u001b[0;32m----> 1\u001b[0;31m \u001b[0mtorch\u001b[0m\u001b[0;34m.\u001b[0m\u001b[0mstack\u001b[0m\u001b[0;34m(\u001b[0m\u001b[0mdata\u001b[0m\u001b[0;34m,\u001b[0m \u001b[0mdim\u001b[0m \u001b[0;34m=\u001b[0m \u001b[0;36m2\u001b[0m\u001b[0;34m)\u001b[0m\u001b[0;34m\u001b[0m\u001b[0;34m\u001b[0m\u001b[0m\n\u001b[0m",
            "\u001b[0;31mIndexError\u001b[0m: Dimension out of range (expected to be in range of [-2, 1], but got 2)"
          ]
        }
      ]
    },
    {
      "cell_type": "code",
      "source": [
        ""
      ],
      "metadata": {
        "id": "rFoWjxQIp47j"
      },
      "execution_count": null,
      "outputs": []
    }
  ]
}